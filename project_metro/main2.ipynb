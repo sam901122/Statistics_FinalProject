{
 "cells": [
  {
   "cell_type": "markdown",
   "metadata": {},
   "source": [
    "## Import library"
   ]
  },
  {
   "cell_type": "code",
   "execution_count": 1,
   "metadata": {},
   "outputs": [],
   "source": [
    "import numpy as np \n",
    "import pandas as pd \n",
    "from datetime import datetime\n",
    "import copy as cp\n",
    "import calendar\n",
    "from datetime import timedelta"
   ]
  },
  {
   "cell_type": "code",
   "execution_count": 2,
   "metadata": {},
   "outputs": [],
   "source": [
    "# 載入所需函示庫\n",
    "import pandas as pd\n",
    "import numpy as np\n",
    "import scipy.stats as stats\n",
    "import statsmodels.api as sm\n",
    "import statsmodels.stats.api as sms\n",
    "import statsmodels.formula.api as smf\n",
    "import statsmodels.stats.multicomp as smm\n",
    "import statsmodels\n",
    "import statsmodels.stats.libqsturng\n",
    "from matplotlib import pyplot as plt\n",
    "%matplotlib inline\n",
    "# 設定圖形大小; DPI越大圖越大\n",
    "plt.rcParams[\"figure.dpi\"] = 150"
   ]
  },
  {
   "cell_type": "code",
   "execution_count": 3,
   "metadata": {},
   "outputs": [],
   "source": [
    "def strtoint(s):\n",
    "   #print(s)\n",
    "    if type(s) != str :\n",
    "        return s\n",
    "    ss = s.split(',')\n",
    "    #print(ss[0])\n",
    "    temp = 0\n",
    "    for i in range(len(ss)):\n",
    "        temp = temp * 1000 + int(ss[i])\n",
    "#     temp = float(temp / 1000000)\n",
    "    return temp"
   ]
  },
  {
   "cell_type": "markdown",
   "metadata": {},
   "source": [
    "## Build a library"
   ]
  },
  {
   "cell_type": "code",
   "execution_count": 4,
   "metadata": {},
   "outputs": [],
   "source": [
    "transportCnt = dict()"
   ]
  },
  {
   "cell_type": "code",
   "execution_count": 5,
   "metadata": {},
   "outputs": [],
   "source": [
    "year = ['2015', '2016', '2017', '2018', '2019', '2020', '2021', '2022']\n",
    "month = ['01','02','03','04','05','06','07','08','09','10','11','12']"
   ]
  },
  {
   "cell_type": "code",
   "execution_count": 6,
   "metadata": {},
   "outputs": [],
   "source": [
    "for i in year:\n",
    "    for j in month:\n",
    "        if i == '2022' and j == '04':\n",
    "            break\n",
    "        dt_name = '+OÑ_¦¦¦BÑ¦¿t¦+«+¦B¦q¦+¡p_' + i + j+'.csv'\n",
    "        df = pd.read_csv(dt_name,encoding='big5')\n",
    "        for k in range(df.shape[0]):\n",
    "            tmp = df['營運日'][k]\n",
    "            if(tmp != tmp):\n",
    "                continue\n",
    "            tmp = df['營運日'][k].split('/')\n",
    "            date = datetime(int(tmp[0]) + 1911, int(tmp[1]), int(tmp[2]))\n",
    "            transport = strtoint(df['總運量'][k])\n",
    "            transportCnt.setdefault(date,transport)"
   ]
  },
  {
   "cell_type": "markdown",
   "metadata": {},
   "source": [
    "## Functions"
   ]
  },
  {
   "cell_type": "code",
   "execution_count": 7,
   "metadata": {},
   "outputs": [],
   "source": [
    "def getHoliday(year, Holiday, df):\n",
    "    name = []\n",
    "    y = year\n",
    "    i = year - 2005\n",
    "    if(type(df[Holiday][i]) == datetime):\n",
    "        name.append(df[Holiday][i])\n",
    "    else:\n",
    "        start, end = df[Holiday][i].split('-')\n",
    "        start = start.split('/')\n",
    "        start = [int(s) for s in start]\n",
    "        end = end.split('/')\n",
    "        end = [int(s) for s in end]\n",
    "\n",
    "        if(start[0] == end[0]):\n",
    "            name += [datetime(y, start[0], x) for x in np.arange(start[1], end[1] + 1, 1)]\n",
    "        else:\n",
    "            lastday = calendar.monthrange(y, start[0])[1]\n",
    "            if(start[0] == 12):\n",
    "                name += [datetime(y - 1, start[0], x) for x in np.arange(start[1], lastday + 1, 1)]\n",
    "            else:\n",
    "                name += [datetime(y, start[0], x) for x in np.arange(start[1], lastday + 1, 1)]\n",
    "            name += [datetime(y, end[0], x) for x in np.arange(1, end[1] + 1, 1)]\n",
    "    return name"
   ]
  },
  {
   "cell_type": "code",
   "execution_count": 8,
   "metadata": {},
   "outputs": [],
   "source": [
    "def getHolidayLength(date):\n",
    "    holiday, column, i = isHoliday([date.year], h_columns, date)\n",
    "    if(holiday):\n",
    "        return df[column][i]\n",
    "    elif(date.isoweekday() == 6 or date.isoweekday() == 7):\n",
    "        return 2\n",
    "    else:\n",
    "        return 0"
   ]
  },
  {
   "cell_type": "code",
   "execution_count": 9,
   "metadata": {},
   "outputs": [],
   "source": [
    "def isHoliday(years, columns, date):\n",
    "    for column in columns:\n",
    "        for year in years:\n",
    "            if(date in holiday_rec[column][year - 2005]):\n",
    "                return True, column, year - 2005\n",
    "    return False, -1, -1"
   ]
  },
  {
   "cell_type": "code",
   "execution_count": 10,
   "metadata": {},
   "outputs": [],
   "source": [
    "def holiday_type(date):\n",
    "    y = date.year\n",
    "    m = date.month\n",
    "    d = date.day\n",
    "    traditional = ['春節', '端午', '中秋']\n",
    "    national = ['雙十', '二二八', '元旦', '清明', '勞動']\n",
    "    years = np.arange(2015, 2023, 1)\n",
    "    if(isTyphoon(date) or ((m == 12) and (d == 31)) or isHoliday(years, ['除夕'], date)[0]):\n",
    "        return\n",
    "    elif(isHoliday(years, traditional, date)[0]):\n",
    "        return 'Traditional'\n",
    "    elif(isHoliday(years, national, date)[0]):\n",
    "        return 'National'\n",
    "    elif((m == 12 and d == 25) or (m == 2 and d == 14) or (m == 10 and d == 31)):\n",
    "        return 'Western'\n",
    "#     elif((m == 8 and d == 8) or (m == 5 and d <= 14 and d >= 8 and date.isoweekday() == 7)):\n",
    "#         return 'Fother'\n",
    "    elif(date.isoweekday() >= 5):\n",
    "        return 'Weekend'\n",
    "    else:\n",
    "        return 'Weekday'"
   ]
  },
  {
   "cell_type": "code",
   "execution_count": 11,
   "metadata": {},
   "outputs": [],
   "source": [
    "def FBE(holidays_to_check, date):\n",
    "#     traditional = ['春節', '端午', '中秋']\n",
    "    years = np.arange(2015, 2020, 1)\n",
    "    ish, col, i = isHoliday(years, holidays_to_check, date)\n",
    "    if(ish):\n",
    "        length = getHolidayLength(date)\n",
    "        df_h = holiday_rec[col][i]\n",
    "        firstday = df_h[0]\n",
    "        lastday = df_h[len(df_h) - 1]\n",
    "        if(date == firstday or date == firstday - timedelta(days = 1)):\n",
    "            return '1'\n",
    "        elif(date == lastday):\n",
    "            return '3'\n",
    "        else:\n",
    "            return '2'\n",
    "    if(holiday_type(date) == 'Weekend'):\n",
    "        if(date.isoweekday() == 5):\n",
    "            return '1'\n",
    "        elif(date.isoweekday() == 6):\n",
    "            return '2'\n",
    "        elif(date.isoweekday() == 7):\n",
    "            return '3'"
   ]
  },
  {
   "cell_type": "code",
   "execution_count": 12,
   "metadata": {},
   "outputs": [],
   "source": [
    "def season(date):\n",
    "    s = []\n",
    "    start = 3\n",
    "    for i in range( 4 ) : \n",
    "        s.append( [])\n",
    "        for j in range( 3 ) :\n",
    "            s[i].append( start ) \n",
    "            start = ( start % 12 ) + 1\n",
    "    m = date.month\n",
    "    if(m in s[0]):\n",
    "        return 'Spring'\n",
    "    elif(m in s[1]):\n",
    "        return 'Summer'\n",
    "    elif(m in s[2]):\n",
    "        return 'Fall'\n",
    "    else:\n",
    "        return 'Winter'"
   ]
  },
  {
   "cell_type": "code",
   "execution_count": 13,
   "metadata": {},
   "outputs": [],
   "source": [
    "def new_holiday_type(date):\n",
    "    holidays = [['除夕'], ['春節'],['端午'],['中秋'], ['雙十'],['二二八'],['元旦'],['清明']]\n",
    "    y = date.year\n",
    "    m = date.month\n",
    "    d = date.day\n",
    "    years = np.arange(2015, 2023, 1)\n",
    "    if(((m == 12) and (d == 31))):\n",
    "        return \n",
    "    elif(isTyphoon(date)):\n",
    "        return\n",
    "    for i, h in enumerate(holidays):\n",
    "        if(isHoliday(years, h, date)[0]):\n",
    "            return \n",
    "    if((m == 12 and d == 25) or (m == 2 and d == 14) or (m == 10 and d == 31)):\n",
    "        return '西洋'\n",
    "#     elif((m == 8 and d == 8) or (m == 5 and d <= 14 and d >= 8 and date.isoweekday() == 7)):\n",
    "#         return 'Fother'\n",
    "    if(date.isoweekday() >= 5):\n",
    "        return '假日'\n",
    "    return '平日'\n"
   ]
  },
  {
   "cell_type": "code",
   "execution_count": 14,
   "metadata": {},
   "outputs": [],
   "source": [
    "def isTyphoon(date):\n",
    "    if(date in list(df_typhoon['日期'])):\n",
    "        return True\n",
    "    return False"
   ]
  },
  {
   "cell_type": "markdown",
   "metadata": {},
   "source": [
    "## Global"
   ]
  },
  {
   "cell_type": "code",
   "execution_count": 15,
   "metadata": {},
   "outputs": [],
   "source": [
    "df = pd.read_excel('../歷年連假天數.xlsx')\n",
    "df = df.drop(index = 18)\n",
    "df_typhoon = pd.read_excel('../Typhoon_date.xlsx')\n",
    "columns = ['除夕', '春節.1', '端午.1', '中秋.1', '雙十.1', '二二八.1', '元旦.1', '清明.1', '勞動.1']\n",
    "years = np.arange(2005, 2023, 1)\n",
    "holiday_rec = []\n",
    "for column in columns:\n",
    "    tmp = []\n",
    "    for year in years:\n",
    "        tmp.append(getHoliday(year, column, df))\n",
    "    holiday_rec.append(tmp)\n",
    "holiday_rec = pd.DataFrame(holiday_rec).T\n",
    "h_columns = ['除夕','春節', '端午', '中秋', '雙十', '二二八', '元旦', '清明', '勞動']\n",
    "holiday_rec.columns = h_columns"
   ]
  },
  {
   "cell_type": "markdown",
   "metadata": {},
   "source": [
    "------"
   ]
  },
  {
   "cell_type": "code",
   "execution_count": 16,
   "metadata": {},
   "outputs": [
    {
     "data": {
      "text/html": [
       "<div>\n",
       "<style scoped>\n",
       "    .dataframe tbody tr th:only-of-type {\n",
       "        vertical-align: middle;\n",
       "    }\n",
       "\n",
       "    .dataframe tbody tr th {\n",
       "        vertical-align: top;\n",
       "    }\n",
       "\n",
       "    .dataframe thead th {\n",
       "        text-align: right;\n",
       "    }\n",
       "</style>\n",
       "<table border=\"1\" class=\"dataframe\">\n",
       "  <thead>\n",
       "    <tr style=\"text-align: right;\">\n",
       "      <th></th>\n",
       "      <th>Date</th>\n",
       "      <th>TPcnt</th>\n",
       "      <th>Year</th>\n",
       "      <th>Month</th>\n",
       "      <th>Day</th>\n",
       "      <th>Holiday_Type</th>\n",
       "      <th>Typhoon</th>\n",
       "    </tr>\n",
       "  </thead>\n",
       "  <tbody>\n",
       "    <tr>\n",
       "      <th>0</th>\n",
       "      <td>2015-01-01</td>\n",
       "      <td>1796950</td>\n",
       "      <td>2015</td>\n",
       "      <td>1</td>\n",
       "      <td>4</td>\n",
       "      <td>None</td>\n",
       "      <td>False</td>\n",
       "    </tr>\n",
       "    <tr>\n",
       "      <th>1</th>\n",
       "      <td>2015-01-02</td>\n",
       "      <td>1830184</td>\n",
       "      <td>2015</td>\n",
       "      <td>1</td>\n",
       "      <td>5</td>\n",
       "      <td>None</td>\n",
       "      <td>False</td>\n",
       "    </tr>\n",
       "    <tr>\n",
       "      <th>2</th>\n",
       "      <td>2015-01-03</td>\n",
       "      <td>1802037</td>\n",
       "      <td>2015</td>\n",
       "      <td>1</td>\n",
       "      <td>6</td>\n",
       "      <td>None</td>\n",
       "      <td>False</td>\n",
       "    </tr>\n",
       "    <tr>\n",
       "      <th>3</th>\n",
       "      <td>2015-01-04</td>\n",
       "      <td>1585463</td>\n",
       "      <td>2015</td>\n",
       "      <td>1</td>\n",
       "      <td>7</td>\n",
       "      <td>None</td>\n",
       "      <td>False</td>\n",
       "    </tr>\n",
       "    <tr>\n",
       "      <th>4</th>\n",
       "      <td>2015-01-05</td>\n",
       "      <td>1915326</td>\n",
       "      <td>2015</td>\n",
       "      <td>1</td>\n",
       "      <td>1</td>\n",
       "      <td>平日</td>\n",
       "      <td>False</td>\n",
       "    </tr>\n",
       "    <tr>\n",
       "      <th>...</th>\n",
       "      <td>...</td>\n",
       "      <td>...</td>\n",
       "      <td>...</td>\n",
       "      <td>...</td>\n",
       "      <td>...</td>\n",
       "      <td>...</td>\n",
       "      <td>...</td>\n",
       "    </tr>\n",
       "    <tr>\n",
       "      <th>1821</th>\n",
       "      <td>2019-12-27</td>\n",
       "      <td>2658619</td>\n",
       "      <td>2019</td>\n",
       "      <td>12</td>\n",
       "      <td>5</td>\n",
       "      <td>假日</td>\n",
       "      <td>False</td>\n",
       "    </tr>\n",
       "    <tr>\n",
       "      <th>1822</th>\n",
       "      <td>2019-12-28</td>\n",
       "      <td>2298630</td>\n",
       "      <td>2019</td>\n",
       "      <td>12</td>\n",
       "      <td>6</td>\n",
       "      <td>假日</td>\n",
       "      <td>False</td>\n",
       "    </tr>\n",
       "    <tr>\n",
       "      <th>1823</th>\n",
       "      <td>2019-12-29</td>\n",
       "      <td>1777124</td>\n",
       "      <td>2019</td>\n",
       "      <td>12</td>\n",
       "      <td>7</td>\n",
       "      <td>假日</td>\n",
       "      <td>False</td>\n",
       "    </tr>\n",
       "    <tr>\n",
       "      <th>1824</th>\n",
       "      <td>2019-12-30</td>\n",
       "      <td>2469682</td>\n",
       "      <td>2019</td>\n",
       "      <td>12</td>\n",
       "      <td>1</td>\n",
       "      <td>平日</td>\n",
       "      <td>False</td>\n",
       "    </tr>\n",
       "    <tr>\n",
       "      <th>1825</th>\n",
       "      <td>2019-12-31</td>\n",
       "      <td>3206078</td>\n",
       "      <td>2019</td>\n",
       "      <td>12</td>\n",
       "      <td>2</td>\n",
       "      <td>None</td>\n",
       "      <td>False</td>\n",
       "    </tr>\n",
       "  </tbody>\n",
       "</table>\n",
       "<p>1760 rows × 7 columns</p>\n",
       "</div>"
      ],
      "text/plain": [
       "           Date    TPcnt  Year  Month  Day Holiday_Type  Typhoon\n",
       "0    2015-01-01  1796950  2015      1    4         None    False\n",
       "1    2015-01-02  1830184  2015      1    5         None    False\n",
       "2    2015-01-03  1802037  2015      1    6         None    False\n",
       "3    2015-01-04  1585463  2015      1    7         None    False\n",
       "4    2015-01-05  1915326  2015      1    1           平日    False\n",
       "...         ...      ...   ...    ...  ...          ...      ...\n",
       "1821 2019-12-27  2658619  2019     12    5           假日    False\n",
       "1822 2019-12-28  2298630  2019     12    6           假日    False\n",
       "1823 2019-12-29  1777124  2019     12    7           假日    False\n",
       "1824 2019-12-30  2469682  2019     12    1           平日    False\n",
       "1825 2019-12-31  3206078  2019     12    2         None    False\n",
       "\n",
       "[1760 rows x 7 columns]"
      ]
     },
     "execution_count": 16,
     "metadata": {},
     "output_type": "execute_result"
    }
   ],
   "source": [
    "df2 = pd.DataFrame(list(transportCnt.items()), columns=['Date', 'TPcnt'])\n",
    "df2['Year'] = [day.year for day in df2['Date']]\n",
    "df2['Month'] = [day.month for day in df2['Date']]\n",
    "df2['Day'] = [day.isoweekday() for day in df2['Date']]\n",
    "df2['Holiday_Type'] = [new_holiday_type(day) for day in df2['Date']]\n",
    "df2['Typhoon'] = [isTyphoon(day) for day in df2['Date']]\n",
    "df2 = df2.drop(df2[df2['Holiday_Type'] == '除夕'].index)\n",
    "df2 = df2.drop(df2[df2['Holiday_Type'] == '跨年'].index)\n",
    "df2 = df2.drop(df2[df2['Typhoon'] == True].index)\n",
    "df2 = df2.drop(df2[df2['Year'] >= 2020].index)\n",
    "df2"
   ]
  },
  {
   "cell_type": "code",
   "execution_count": 17,
   "metadata": {},
   "outputs": [
    {
     "data": {
      "text/html": [
       "<div>\n",
       "<style scoped>\n",
       "    .dataframe tbody tr th:only-of-type {\n",
       "        vertical-align: middle;\n",
       "    }\n",
       "\n",
       "    .dataframe tbody tr th {\n",
       "        vertical-align: top;\n",
       "    }\n",
       "\n",
       "    .dataframe thead th {\n",
       "        text-align: right;\n",
       "    }\n",
       "</style>\n",
       "<table border=\"1\" class=\"dataframe\">\n",
       "  <thead>\n",
       "    <tr style=\"text-align: right;\">\n",
       "      <th></th>\n",
       "      <th>Date</th>\n",
       "      <th>TPcnt</th>\n",
       "      <th>Year</th>\n",
       "      <th>Month</th>\n",
       "      <th>Day</th>\n",
       "      <th>Holiday_Type</th>\n",
       "      <th>Typhoon</th>\n",
       "      <th>Western</th>\n",
       "      <th>Holiday</th>\n",
       "      <th>Mix</th>\n",
       "    </tr>\n",
       "  </thead>\n",
       "  <tbody>\n",
       "    <tr>\n",
       "      <th>0</th>\n",
       "      <td>2015-01-05</td>\n",
       "      <td>1915326</td>\n",
       "      <td>2015</td>\n",
       "      <td>1</td>\n",
       "      <td>1</td>\n",
       "      <td>平日</td>\n",
       "      <td>False</td>\n",
       "      <td>False</td>\n",
       "      <td>False</td>\n",
       "      <td>False_False</td>\n",
       "    </tr>\n",
       "    <tr>\n",
       "      <th>1</th>\n",
       "      <td>2015-01-06</td>\n",
       "      <td>1945591</td>\n",
       "      <td>2015</td>\n",
       "      <td>1</td>\n",
       "      <td>2</td>\n",
       "      <td>平日</td>\n",
       "      <td>False</td>\n",
       "      <td>False</td>\n",
       "      <td>False</td>\n",
       "      <td>False_False</td>\n",
       "    </tr>\n",
       "    <tr>\n",
       "      <th>2</th>\n",
       "      <td>2015-01-07</td>\n",
       "      <td>1965860</td>\n",
       "      <td>2015</td>\n",
       "      <td>1</td>\n",
       "      <td>3</td>\n",
       "      <td>平日</td>\n",
       "      <td>False</td>\n",
       "      <td>False</td>\n",
       "      <td>False</td>\n",
       "      <td>False_False</td>\n",
       "    </tr>\n",
       "    <tr>\n",
       "      <th>3</th>\n",
       "      <td>2015-01-08</td>\n",
       "      <td>1987913</td>\n",
       "      <td>2015</td>\n",
       "      <td>1</td>\n",
       "      <td>4</td>\n",
       "      <td>平日</td>\n",
       "      <td>False</td>\n",
       "      <td>False</td>\n",
       "      <td>False</td>\n",
       "      <td>False_False</td>\n",
       "    </tr>\n",
       "    <tr>\n",
       "      <th>4</th>\n",
       "      <td>2015-01-09</td>\n",
       "      <td>2163929</td>\n",
       "      <td>2015</td>\n",
       "      <td>1</td>\n",
       "      <td>5</td>\n",
       "      <td>假日</td>\n",
       "      <td>False</td>\n",
       "      <td>False</td>\n",
       "      <td>True</td>\n",
       "      <td>False_True</td>\n",
       "    </tr>\n",
       "    <tr>\n",
       "      <th>...</th>\n",
       "      <td>...</td>\n",
       "      <td>...</td>\n",
       "      <td>...</td>\n",
       "      <td>...</td>\n",
       "      <td>...</td>\n",
       "      <td>...</td>\n",
       "      <td>...</td>\n",
       "      <td>...</td>\n",
       "      <td>...</td>\n",
       "      <td>...</td>\n",
       "    </tr>\n",
       "    <tr>\n",
       "      <th>1624</th>\n",
       "      <td>2019-12-26</td>\n",
       "      <td>2466352</td>\n",
       "      <td>2019</td>\n",
       "      <td>12</td>\n",
       "      <td>4</td>\n",
       "      <td>平日</td>\n",
       "      <td>False</td>\n",
       "      <td>False</td>\n",
       "      <td>False</td>\n",
       "      <td>False_False</td>\n",
       "    </tr>\n",
       "    <tr>\n",
       "      <th>1625</th>\n",
       "      <td>2019-12-27</td>\n",
       "      <td>2658619</td>\n",
       "      <td>2019</td>\n",
       "      <td>12</td>\n",
       "      <td>5</td>\n",
       "      <td>假日</td>\n",
       "      <td>False</td>\n",
       "      <td>False</td>\n",
       "      <td>True</td>\n",
       "      <td>False_True</td>\n",
       "    </tr>\n",
       "    <tr>\n",
       "      <th>1626</th>\n",
       "      <td>2019-12-28</td>\n",
       "      <td>2298630</td>\n",
       "      <td>2019</td>\n",
       "      <td>12</td>\n",
       "      <td>6</td>\n",
       "      <td>假日</td>\n",
       "      <td>False</td>\n",
       "      <td>False</td>\n",
       "      <td>True</td>\n",
       "      <td>False_True</td>\n",
       "    </tr>\n",
       "    <tr>\n",
       "      <th>1627</th>\n",
       "      <td>2019-12-29</td>\n",
       "      <td>1777124</td>\n",
       "      <td>2019</td>\n",
       "      <td>12</td>\n",
       "      <td>7</td>\n",
       "      <td>假日</td>\n",
       "      <td>False</td>\n",
       "      <td>False</td>\n",
       "      <td>True</td>\n",
       "      <td>False_True</td>\n",
       "    </tr>\n",
       "    <tr>\n",
       "      <th>1628</th>\n",
       "      <td>2019-12-30</td>\n",
       "      <td>2469682</td>\n",
       "      <td>2019</td>\n",
       "      <td>12</td>\n",
       "      <td>1</td>\n",
       "      <td>平日</td>\n",
       "      <td>False</td>\n",
       "      <td>False</td>\n",
       "      <td>False</td>\n",
       "      <td>False_False</td>\n",
       "    </tr>\n",
       "  </tbody>\n",
       "</table>\n",
       "<p>1629 rows × 10 columns</p>\n",
       "</div>"
      ],
      "text/plain": [
       "           Date    TPcnt  Year  Month  Day Holiday_Type  Typhoon  Western  \\\n",
       "0    2015-01-05  1915326  2015      1    1           平日    False    False   \n",
       "1    2015-01-06  1945591  2015      1    2           平日    False    False   \n",
       "2    2015-01-07  1965860  2015      1    3           平日    False    False   \n",
       "3    2015-01-08  1987913  2015      1    4           平日    False    False   \n",
       "4    2015-01-09  2163929  2015      1    5           假日    False    False   \n",
       "...         ...      ...   ...    ...  ...          ...      ...      ...   \n",
       "1624 2019-12-26  2466352  2019     12    4           平日    False    False   \n",
       "1625 2019-12-27  2658619  2019     12    5           假日    False    False   \n",
       "1626 2019-12-28  2298630  2019     12    6           假日    False    False   \n",
       "1627 2019-12-29  1777124  2019     12    7           假日    False    False   \n",
       "1628 2019-12-30  2469682  2019     12    1           平日    False    False   \n",
       "\n",
       "      Holiday          Mix  \n",
       "0       False  False_False  \n",
       "1       False  False_False  \n",
       "2       False  False_False  \n",
       "3       False  False_False  \n",
       "4        True   False_True  \n",
       "...       ...          ...  \n",
       "1624    False  False_False  \n",
       "1625     True   False_True  \n",
       "1626     True   False_True  \n",
       "1627     True   False_True  \n",
       "1628    False  False_False  \n",
       "\n",
       "[1629 rows x 10 columns]"
      ]
     },
     "execution_count": 17,
     "metadata": {},
     "output_type": "execute_result"
    }
   ],
   "source": [
    "df3 = df2.copy()\n",
    "df3 = df3.dropna().reset_index(drop = True)\n",
    "df3['Western'] = df3['Holiday_Type'] == '西洋'\n",
    "df3['Holiday'] = df3['Day'] >= 5\n",
    "# df3 = df3.drop(df3[df3['Month'] == 12].index)\n",
    "df3['Mix'] = [str(df3['Western'][i]) + \"_\" + str(df3['Holiday'][i]) for i in range(df3.shape[0])]\n",
    "df3"
   ]
  },
  {
   "cell_type": "code",
   "execution_count": 18,
   "metadata": {},
   "outputs": [],
   "source": [
    "a = df3['Day'] == 5\n",
    "b = df3['Day'] == 6\n",
    "c = a | b"
   ]
  },
  {
   "cell_type": "code",
   "execution_count": 19,
   "metadata": {},
   "outputs": [
    {
     "data": {
      "text/html": [
       "<div>\n",
       "<style scoped>\n",
       "    .dataframe tbody tr th:only-of-type {\n",
       "        vertical-align: middle;\n",
       "    }\n",
       "\n",
       "    .dataframe tbody tr th {\n",
       "        vertical-align: top;\n",
       "    }\n",
       "\n",
       "    .dataframe thead th {\n",
       "        text-align: right;\n",
       "    }\n",
       "</style>\n",
       "<table border=\"1\" class=\"dataframe\">\n",
       "  <thead>\n",
       "    <tr style=\"text-align: right;\">\n",
       "      <th></th>\n",
       "      <th>sum_sq</th>\n",
       "      <th>df</th>\n",
       "      <th>F</th>\n",
       "      <th>PR(&gt;F)</th>\n",
       "    </tr>\n",
       "  </thead>\n",
       "  <tbody>\n",
       "    <tr>\n",
       "      <th>C(Holiday)</th>\n",
       "      <td>3.119757e+12</td>\n",
       "      <td>1.0</td>\n",
       "      <td>77.895743</td>\n",
       "      <td>2.747539e-18</td>\n",
       "    </tr>\n",
       "    <tr>\n",
       "      <th>C(Western)</th>\n",
       "      <td>1.004909e+11</td>\n",
       "      <td>1.0</td>\n",
       "      <td>2.509110</td>\n",
       "      <td>1.133844e-01</td>\n",
       "    </tr>\n",
       "    <tr>\n",
       "      <th>C(Holiday):C(Western)</th>\n",
       "      <td>3.794839e+08</td>\n",
       "      <td>1.0</td>\n",
       "      <td>0.009475</td>\n",
       "      <td>9.224681e-01</td>\n",
       "    </tr>\n",
       "    <tr>\n",
       "      <th>Residual</th>\n",
       "      <td>6.508192e+13</td>\n",
       "      <td>1625.0</td>\n",
       "      <td>NaN</td>\n",
       "      <td>NaN</td>\n",
       "    </tr>\n",
       "  </tbody>\n",
       "</table>\n",
       "</div>"
      ],
      "text/plain": [
       "                             sum_sq      df          F        PR(>F)\n",
       "C(Holiday)             3.119757e+12     1.0  77.895743  2.747539e-18\n",
       "C(Western)             1.004909e+11     1.0   2.509110  1.133844e-01\n",
       "C(Holiday):C(Western)  3.794839e+08     1.0   0.009475  9.224681e-01\n",
       "Residual               6.508192e+13  1625.0        NaN           NaN"
      ]
     },
     "execution_count": 19,
     "metadata": {},
     "output_type": "execute_result"
    }
   ],
   "source": [
    "results = smf.ols('TPcnt ~ C(Holiday) + C(Western) + C(Holiday):C(Western)', data=df3).fit()\n",
    "# results.summary()\n",
    "aov = sms.anova_lm(results, typ=2)\n",
    "aov"
   ]
  },
  {
   "cell_type": "code",
   "execution_count": 20,
   "metadata": {},
   "outputs": [
    {
     "name": "stdout",
     "output_type": "stream",
     "text": [
      "Statistics=0.9860, p=0.0000\n"
     ]
    }
   ],
   "source": [
    "stat, p = stats.shapiro(results.resid)\n",
    "print('Statistics=%.4f, p=%.4f' % (stat, p))"
   ]
  },
  {
   "cell_type": "code",
   "execution_count": 21,
   "metadata": {},
   "outputs": [
    {
     "data": {
      "image/png": "[encoded data removed]",
      "text/plain": [
       "<Figure size 900x600 with 1 Axes>"
      ]
     },
     "metadata": {
      "needs_background": "light"
     },
     "output_type": "display_data"
    }
   ],
   "source": [
    "plt.rcParams['font.sans-serif'] = ['Taipei Sans TC Beta']\n",
    "\n",
    "_ = plt.hist(results.resid, bins = \"auto\")\n",
    "plt.title('PART3 MRT')\n",
    "plt.savefig( 'images/MRT_PART3_ANOVA_hist.jpg' )\n",
    "plt.show()"
   ]
  },
  {
   "cell_type": "code",
   "execution_count": 22,
   "metadata": {},
   "outputs": [
    {
     "data": {
      "image/png": "[encoded data removed]",
      "text/plain": [
       "<Figure size 900x600 with 1 Axes>"
      ]
     },
     "metadata": {
      "needs_background": "light"
     },
     "output_type": "display_data"
    }
   ],
   "source": [
    "fig = sm.qqplot(results.resid, stats.norm, fit=True, line='45')\n",
    "plt.title('PART3 MRT')\n",
    "plt.ylabel('Sample Quantiles')\n",
    "plt.xlabel('Theoretical Quantiles')\n",
    "plt.savefig( 'images/MRT_PART3_ANOVA_qqplot.jpg')\n",
    "plt.show()"
   ]
  },
  {
   "cell_type": "code",
   "execution_count": 23,
   "metadata": {},
   "outputs": [],
   "source": [
    "trCnt = [[]for i in range(4)]\n",
    "trCnt[0] = df3[df3['Mix'] == 'True_True']['TPcnt']\n",
    "trCnt[1] = df3[df3['Mix'] == 'False_True']['TPcnt']\n",
    "trCnt[2] = df3[df3['Mix'] == 'True_False']['TPcnt']\n",
    "trCnt[3] = df3[df3['Mix'] == 'False_False']['TPcnt']"
   ]
  },
  {
   "cell_type": "code",
   "execution_count": 24,
   "metadata": {},
   "outputs": [
    {
     "data": {
      "image/png": "[encoded data removed]",
      "text/plain": [
       "<Figure size 2100x1200 with 1 Axes>"
      ]
     },
     "metadata": {
      "needs_background": "light"
     },
     "output_type": "display_data"
    }
   ],
   "source": [
    "fig, ax = plt.subplots( figsize = ( 14, 8 ) )\n",
    "\n",
    "# for i in range(4):\n",
    "plt.boxplot(trCnt )\n",
    "plt.xticks( range( 1, 5 ), ['西洋節日假日', '一般假日', '西洋節日非假日', '一般非假日'], fontsize = 15 )\n",
    "plt.title( '西洋節日的捷運運量', fontsize = 20 )\n",
    "plt.ylabel( '人次', fontsize = 15 ) \n",
    "ax.ticklabel_format(style='sci', scilimits=(-1,100), axis='y')\n",
    "plt.savefig( 'images/MRT_PART3_compare.jpg' )\n",
    "plt.show()"
   ]
  },
  {
   "cell_type": "code",
   "execution_count": 25,
   "metadata": {},
   "outputs": [
    {
     "data": {
      "text/html": [
       "<div>\n",
       "<style scoped>\n",
       "    .dataframe tbody tr th:only-of-type {\n",
       "        vertical-align: middle;\n",
       "    }\n",
       "\n",
       "    .dataframe tbody tr th {\n",
       "        vertical-align: top;\n",
       "    }\n",
       "\n",
       "    .dataframe thead th {\n",
       "        text-align: right;\n",
       "    }\n",
       "</style>\n",
       "<table border=\"1\" class=\"dataframe\">\n",
       "  <thead>\n",
       "    <tr style=\"text-align: right;\">\n",
       "      <th></th>\n",
       "      <th>sum_sq</th>\n",
       "      <th>df</th>\n",
       "      <th>F</th>\n",
       "      <th>PR(&gt;F)</th>\n",
       "    </tr>\n",
       "  </thead>\n",
       "  <tbody>\n",
       "    <tr>\n",
       "      <th>C(Mix)</th>\n",
       "      <td>3.249495e+12</td>\n",
       "      <td>3.0</td>\n",
       "      <td>27.045035</td>\n",
       "      <td>4.559023e-17</td>\n",
       "    </tr>\n",
       "    <tr>\n",
       "      <th>Residual</th>\n",
       "      <td>6.508192e+13</td>\n",
       "      <td>1625.0</td>\n",
       "      <td>NaN</td>\n",
       "      <td>NaN</td>\n",
       "    </tr>\n",
       "  </tbody>\n",
       "</table>\n",
       "</div>"
      ],
      "text/plain": [
       "                sum_sq      df          F        PR(>F)\n",
       "C(Mix)    3.249495e+12     3.0  27.045035  4.559023e-17\n",
       "Residual  6.508192e+13  1625.0        NaN           NaN"
      ]
     },
     "execution_count": 25,
     "metadata": {},
     "output_type": "execute_result"
    }
   ],
   "source": [
    "results = smf.ols('TPcnt ~ C(Mix)', data=df3).fit()\n",
    "# results.summary()\n",
    "aov = sms.anova_lm(results, typ=2)\n",
    "aov"
   ]
  },
  {
   "cell_type": "code",
   "execution_count": 26,
   "metadata": {},
   "outputs": [
    {
     "name": "stdout",
     "output_type": "stream",
     "text": [
      "Statistics=0.9860, p=0.0000\n"
     ]
    }
   ],
   "source": [
    "stat, p = stats.shapiro(results.resid)\n",
    "print('Statistics=%.4f, p=%.4f' % (stat, p))"
   ]
  },
  {
   "cell_type": "code",
   "execution_count": 27,
   "metadata": {},
   "outputs": [
    {
     "data": {
      "image/png": "[encoded data removed]",
      "text/plain": [
       "<Figure size 900x600 with 1 Axes>"
      ]
     },
     "metadata": {
      "needs_background": "light"
     },
     "output_type": "display_data"
    }
   ],
   "source": [
    "_ = plt.hist(results.resid, bins = \"auto\")"
   ]
  },
  {
   "cell_type": "code",
   "execution_count": 28,
   "metadata": {},
   "outputs": [
    {
     "name": "stdout",
     "output_type": "stream",
     "text": [
      "           Multiple Comparison of Means - Tukey HSD, FWER=0.05           \n",
      "=========================================================================\n",
      "   group1     group2     meandiff  p-adj     lower        upper    reject\n",
      "-------------------------------------------------------------------------\n",
      "False_False False_True -88985.5161  0.001 -114984.2066 -62986.8255   True\n",
      "False_False True_False  81798.2237 0.5636  -81810.7861 245407.2335  False\n",
      "False_False  True_True   4379.3737    0.9 -253496.1228 262254.8701  False\n",
      " False_True True_False 170783.7398 0.0375    6820.8112 334746.6683   True\n",
      " False_True  True_True  93364.8898 0.7631 -164735.2953 351465.0748  False\n",
      " True_False  True_True   -77418.85    0.9 -381898.2117 227060.5117  False\n",
      "-------------------------------------------------------------------------\n"
     ]
    }
   ],
   "source": [
    "mc = smm.MultiComparison(df3['TPcnt'], df3['Mix'])\n",
    "print(mc.tukeyhsd().summary())"
   ]
  },
  {
   "cell_type": "code",
   "execution_count": 29,
   "metadata": {},
   "outputs": [
    {
     "name": "stderr",
     "output_type": "stream",
     "text": [
      "D:\\New folder\\lib\\site-packages\\statsmodels\\sandbox\\stats\\multicomp.py:775: UserWarning: FixedFormatter should only be used together with FixedLocator\n",
      "  ax1.set_yticklabels(np.insert(self.groupsunique.astype(str), 0, ''))\n"
     ]
    },
    {
     "data": {
      "image/png": "[encoded data removed]",
      "text/plain": [
       "<Figure size 1500x900 with 1 Axes>"
      ]
     },
     "metadata": {
      "needs_background": "light"
     },
     "output_type": "display_data"
    }
   ],
   "source": [
    "_ = mc.tukeyhsd().plot_simultaneous()"
   ]
  },
  {
   "cell_type": "code",
   "execution_count": 30,
   "metadata": {},
   "outputs": [
    {
     "data": {
      "text/html": [
       "<div>\n",
       "<style scoped>\n",
       "    .dataframe tbody tr th:only-of-type {\n",
       "        vertical-align: middle;\n",
       "    }\n",
       "\n",
       "    .dataframe tbody tr th {\n",
       "        vertical-align: top;\n",
       "    }\n",
       "\n",
       "    .dataframe thead th {\n",
       "        text-align: right;\n",
       "    }\n",
       "</style>\n",
       "<table border=\"1\" class=\"dataframe\">\n",
       "  <thead>\n",
       "    <tr style=\"text-align: right;\">\n",
       "      <th></th>\n",
       "      <th>value</th>\n",
       "      <th>rank</th>\n",
       "    </tr>\n",
       "  </thead>\n",
       "  <tbody>\n",
       "    <tr>\n",
       "      <th>0</th>\n",
       "      <td>1452237.0</td>\n",
       "      <td>1.0</td>\n",
       "    </tr>\n",
       "    <tr>\n",
       "      <th>1</th>\n",
       "      <td>1481143.0</td>\n",
       "      <td>2.0</td>\n",
       "    </tr>\n",
       "    <tr>\n",
       "      <th>2</th>\n",
       "      <td>1489059.0</td>\n",
       "      <td>3.0</td>\n",
       "    </tr>\n",
       "    <tr>\n",
       "      <th>3</th>\n",
       "      <td>1494354.0</td>\n",
       "      <td>4.0</td>\n",
       "    </tr>\n",
       "    <tr>\n",
       "      <th>4</th>\n",
       "      <td>1504619.0</td>\n",
       "      <td>5.0</td>\n",
       "    </tr>\n",
       "    <tr>\n",
       "      <th>...</th>\n",
       "      <td>...</td>\n",
       "      <td>...</td>\n",
       "    </tr>\n",
       "    <tr>\n",
       "      <th>1623</th>\n",
       "      <td>2612924.0</td>\n",
       "      <td>1625.0</td>\n",
       "    </tr>\n",
       "    <tr>\n",
       "      <th>1624</th>\n",
       "      <td>2616701.0</td>\n",
       "      <td>1626.0</td>\n",
       "    </tr>\n",
       "    <tr>\n",
       "      <th>1625</th>\n",
       "      <td>2655283.0</td>\n",
       "      <td>1627.0</td>\n",
       "    </tr>\n",
       "    <tr>\n",
       "      <th>1626</th>\n",
       "      <td>2658619.0</td>\n",
       "      <td>1628.0</td>\n",
       "    </tr>\n",
       "    <tr>\n",
       "      <th>1627</th>\n",
       "      <td>2668231.0</td>\n",
       "      <td>1629.0</td>\n",
       "    </tr>\n",
       "  </tbody>\n",
       "</table>\n",
       "<p>1628 rows × 2 columns</p>\n",
       "</div>"
      ],
      "text/plain": [
       "          value    rank\n",
       "0     1452237.0     1.0\n",
       "1     1481143.0     2.0\n",
       "2     1489059.0     3.0\n",
       "3     1494354.0     4.0\n",
       "4     1504619.0     5.0\n",
       "...         ...     ...\n",
       "1623  2612924.0  1625.0\n",
       "1624  2616701.0  1626.0\n",
       "1625  2655283.0  1627.0\n",
       "1626  2658619.0  1628.0\n",
       "1627  2668231.0  1629.0\n",
       "\n",
       "[1628 rows x 2 columns]"
      ]
     },
     "execution_count": 30,
     "metadata": {},
     "output_type": "execute_result"
    }
   ],
   "source": [
    "alldata = np.array([])\n",
    "for day in trCnt:\n",
    "    alldata = np.concatenate([alldata, day])\n",
    "alldata.sort()\n",
    "tmpdf = pd.DataFrame(({'value': alldata}))\n",
    "tmpdf['rank'] = tmpdf.index + 1\n",
    "value2rank = tmpdf.groupby('value').mean().reset_index()\n",
    "value2rank"
   ]
  },
  {
   "cell_type": "code",
   "execution_count": 37,
   "metadata": {},
   "outputs": [
    {
     "name": "stdout",
     "output_type": "stream",
     "text": [
      "T0 = 3168.0\n",
      "T1 = 487880.0\n",
      "T2 = 10932.0\n",
      "T3 = 825655.0\n"
     ]
    }
   ],
   "source": [
    "T = []\n",
    "for i, day in enumerate(trCnt):\n",
    "    samp = pd.DataFrame({'value': day})\n",
    "    samp = pd.merge(samp, value2rank)\n",
    "    T.append(samp['rank'].sum())\n",
    "    print(f\"T%s = {T[i]}\"%(i))"
   ]
  },
  {
   "cell_type": "code",
   "execution_count": 32,
   "metadata": {},
   "outputs": [
    {
     "name": "stdout",
     "output_type": "stream",
     "text": [
      "T0 = 825655.0\n",
      "T1 = 487880.0\n",
      "T2 = 10932.0\n",
      "T3 = 3168.0\n"
     ]
    }
   ],
   "source": [
    "# labels = set(df3[\"Mix\"])\n",
    "# T = []\n",
    "# n = []\n",
    "# for i, label in enumerate(labels):\n",
    "#     day = df3[df3['Mix'] == label]['TPcnt'].reset_index(drop = True)\n",
    "#     samp = pd.DataFrame({'value': day})\n",
    "#     samp = pd.merge(samp, value2rank)\n",
    "#     n.append(samp.shape[0])\n",
    "# #     T.append(samp['rank'].sum())\n",
    "#     print(f\"T%s = {T[i]}\"%(i))"
   ]
  },
  {
   "cell_type": "code",
   "execution_count": 33,
   "metadata": {},
   "outputs": [
    {
     "data": {
      "text/plain": [
       "[946, 669, 10, 4]"
      ]
     },
     "execution_count": 33,
     "metadata": {},
     "output_type": "execute_result"
    }
   ],
   "source": [
    "n"
   ]
  },
  {
   "cell_type": "code",
   "execution_count": 39,
   "metadata": {},
   "outputs": [
    {
     "name": "stdout",
     "output_type": "stream",
     "text": [
      "H = -2338.036589820497\n",
      "p-value = 0.0\n"
     ]
    }
   ],
   "source": [
    "# n = []\n",
    "columns = ['西洋節日假日', '一般假日', '西洋節日非假日', '一般非假日']\n",
    "# for column in columns:\n",
    "#     n.append(df1[column].dropna().shape[0])\n",
    "# print(n)\n",
    "T = np.array(T)\n",
    "n = np.array(n)\n",
    "x = T ** 2 / n\n",
    "k = 4\n",
    "n = n.sum()\n",
    "H = 12 / (n * (n + 1)) * (x.sum()) - 3 * (n + 1)\n",
    "pvalue = stats.chi2.cdf(H, k - 1)\n",
    "\n",
    "print(f\"H = {H}\")\n",
    "print(f\"p-value = {pvalue}\")"
   ]
  }
 ],
 "metadata": {
  "kernelspec": {
   "display_name": "Python 3",
   "language": "python",
   "name": "python3"
  },
  "language_info": {
   "codemirror_mode": {
    "name": "ipython",
    "version": 3
   },
   "file_extension": ".py",
   "mimetype": "text/x-python",
   "name": "python",
   "nbconvert_exporter": "python",
   "pygments_lexer": "ipython3",
   "version": "3.8.5"
  }
 },
 "nbformat": 4,
 "nbformat_minor": 4
}
