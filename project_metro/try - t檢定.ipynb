{
 "cells": [
  {
   "cell_type": "markdown",
   "metadata": {},
   "source": [
    "## Import library"
   ]
  },
  {
   "cell_type": "code",
   "execution_count": 1,
   "metadata": {},
   "outputs": [],
   "source": [
    "import numpy as np \n",
    "import pandas as pd \n",
    "from datetime import datetime\n",
    "import copy as cp\n",
    "import calendar\n",
    "from datetime import timedelta"
   ]
  },
  {
   "cell_type": "code",
   "execution_count": 2,
   "metadata": {},
   "outputs": [],
   "source": [
    "# 載入所需函示庫\n",
    "import pandas as pd\n",
    "import numpy as np\n",
    "import scipy.stats as stats\n",
    "import statsmodels.api as sm\n",
    "import statsmodels.stats.api as sms\n",
    "import statsmodels.formula.api as smf\n",
    "import statsmodels.stats.multicomp as smm\n",
    "import statsmodels\n",
    "import statsmodels.stats.libqsturng\n",
    "from matplotlib import pyplot as plt\n",
    "%matplotlib inline\n",
    "# 設定圖形大小; DPI越大圖越大\n",
    "plt.rcParams[\"figure.dpi\"] = 150"
   ]
  },
  {
   "cell_type": "code",
   "execution_count": 3,
   "metadata": {},
   "outputs": [],
   "source": [
    "def strtoint(s):\n",
    "   #print(s)\n",
    "    if type(s) != str :\n",
    "        return s\n",
    "    ss = s.split(',')\n",
    "    #print(ss[0])\n",
    "    temp = 0\n",
    "    for i in range(len(ss)):\n",
    "        temp = temp * 1000 + int(ss[i])\n",
    "#     temp = float(temp / 1000000)\n",
    "    return temp"
   ]
  },
  {
   "cell_type": "markdown",
   "metadata": {},
   "source": [
    "## Build a library"
   ]
  },
  {
   "cell_type": "code",
   "execution_count": 4,
   "metadata": {},
   "outputs": [],
   "source": [
    "transportCnt = dict()"
   ]
  },
  {
   "cell_type": "code",
   "execution_count": 5,
   "metadata": {},
   "outputs": [],
   "source": [
    "year = ['2015', '2016', '2017', '2018', '2019', '2020', '2021', '2022']\n",
    "month = ['01','02','03','04','05','06','07','08','09','10','11','12']"
   ]
  },
  {
   "cell_type": "code",
   "execution_count": 6,
   "metadata": {},
   "outputs": [],
   "source": [
    "for i in year:\n",
    "    for j in month:\n",
    "        if i == '2022' and j == '04':\n",
    "            break\n",
    "        dt_name = '+OÑ_¦¦¦BÑ¦¿t¦+«+¦B¦q¦+¡p_' + i + j+'.csv'\n",
    "        df = pd.read_csv(dt_name,encoding='big5')\n",
    "        for k in range(df.shape[0]):\n",
    "            tmp = df['營運日'][k]\n",
    "            if(tmp != tmp):\n",
    "                continue\n",
    "            tmp = df['營運日'][k].split('/')\n",
    "            date = datetime(int(tmp[0]) + 1911, int(tmp[1]), int(tmp[2]))\n",
    "            transport = strtoint(df['總運量'][k])\n",
    "            transportCnt.setdefault(date,transport)"
   ]
  },
  {
   "cell_type": "markdown",
   "metadata": {},
   "source": [
    "## Functions"
   ]
  },
  {
   "cell_type": "code",
   "execution_count": 7,
   "metadata": {},
   "outputs": [],
   "source": [
    "def getHoliday(year, Holiday, df):\n",
    "    name = []\n",
    "    y = year\n",
    "    i = year - 2005\n",
    "    if(type(df[Holiday][i]) == datetime):\n",
    "        name.append(df[Holiday][i])\n",
    "    else:\n",
    "        start, end = df[Holiday][i].split('-')\n",
    "        start = start.split('/')\n",
    "        start = [int(s) for s in start]\n",
    "        end = end.split('/')\n",
    "        end = [int(s) for s in end]\n",
    "\n",
    "        if(start[0] == end[0]):\n",
    "            name += [datetime(y, start[0], x) for x in np.arange(start[1], end[1] + 1, 1)]\n",
    "        else:\n",
    "            lastday = calendar.monthrange(y, start[0])[1]\n",
    "            if(start[0] == 12):\n",
    "                name += [datetime(y - 1, start[0], x) for x in np.arange(start[1], lastday + 1, 1)]\n",
    "            else:\n",
    "                name += [datetime(y, start[0], x) for x in np.arange(start[1], lastday + 1, 1)]\n",
    "            name += [datetime(y, end[0], x) for x in np.arange(1, end[1] + 1, 1)]\n",
    "    return name"
   ]
  },
  {
   "cell_type": "code",
   "execution_count": 8,
   "metadata": {},
   "outputs": [],
   "source": [
    "def getHolidayLength(date):\n",
    "    holiday, column, i = isHoliday([date.year], h_columns, date)\n",
    "    if(holiday):\n",
    "        return df[column][i]\n",
    "    elif(date.isoweekday() == 6 or date.isoweekday() == 7):\n",
    "        return 2\n",
    "    else:\n",
    "        return 0"
   ]
  },
  {
   "cell_type": "code",
   "execution_count": 9,
   "metadata": {},
   "outputs": [],
   "source": [
    "def isHoliday(years, columns, date):\n",
    "    for column in columns:\n",
    "        for year in years:\n",
    "            if(date in holiday_rec[column][year - 2005]):\n",
    "                return True, column, year - 2005\n",
    "    return False, -1, -1"
   ]
  },
  {
   "cell_type": "code",
   "execution_count": 10,
   "metadata": {},
   "outputs": [],
   "source": [
    "def holiday_type(date):\n",
    "    y = date.year\n",
    "    m = date.month\n",
    "    d = date.day\n",
    "    traditional = ['春節', '端午', '中秋']\n",
    "    national = ['雙十', '二二八', '元旦', '清明', '勞動']\n",
    "    years = np.arange(2015, 2023, 1)\n",
    "    if(isTyphoon(date) or ((m == 12) and (d == 31))):\n",
    "        return float('nan')\n",
    "    elif(isHoliday(years, traditional, date)[0]):\n",
    "        return 'Traditional'\n",
    "    elif(isHoliday(years, national, date)[0]):\n",
    "        return 'National'\n",
    "    elif((m == 12 and d == 25) or (m == 2 and d == 14) or (m == 10 and d == 31)):\n",
    "        return 'Western'\n",
    "    elif((m == 8 and d == 8) or (m == 5 and d <= 14 and d >= 8 and date.isoweekday() == 7)):\n",
    "        return 'Fother'\n",
    "    elif(date.isoweekday() == 6 or date.isoweekday() == 7):\n",
    "        return 'Weekend'\n",
    "    else:\n",
    "        return 'Weekday'"
   ]
  },
  {
   "cell_type": "code",
   "execution_count": 11,
   "metadata": {},
   "outputs": [],
   "source": [
    "def season(date):\n",
    "    s = []\n",
    "    start = 3\n",
    "    for i in range( 4 ) : \n",
    "        s.append( [])\n",
    "        for j in range( 3 ) :\n",
    "            s[i].append( start ) \n",
    "            start = ( start % 12 ) + 1\n",
    "    m = date.month\n",
    "    if(m in s[0]):\n",
    "        return 'Spring'\n",
    "    elif(m in s[1]):\n",
    "        return 'Summer'\n",
    "    elif(m in s[2]):\n",
    "        return 'Fall'\n",
    "    else:\n",
    "        return 'Winter'"
   ]
  },
  {
   "cell_type": "code",
   "execution_count": 40,
   "metadata": {},
   "outputs": [],
   "source": [
    "def new_holiday_type1(date):\n",
    "    holidays = [['除夕'], ['春節', '端午', '中秋', '清明'], ['雙十', '二二八', '元旦']]\n",
    "    name = ['除夕', '三大', '國定']\n",
    "    y = date.year\n",
    "    m = date.month\n",
    "    d = date.day\n",
    "    years = np.arange(2015, 2023, 1)\n",
    "    if(isTyphoon(date) or ((m == 12) and (d == 31))):\n",
    "        return\n",
    "    for i, h in enumerate(holidays):\n",
    "        if(isHoliday(years, h, date)[0]):\n",
    "            return name[i]\n",
    "#     if((m == 12 and d == 25) or (m == 2 and d == 14) or (m == 10 and d == 31)):\n",
    "#         return 'Western'\n",
    "#     if(date.isoweekday() == 6 or date.isoweekday() == 7):\n",
    "#         return '假日'\n",
    "#     return '平日'\n"
   ]
  },
  {
   "cell_type": "code",
   "execution_count": 13,
   "metadata": {},
   "outputs": [],
   "source": [
    "def isTyphoon(date):\n",
    "    if(date in list(df_typhoon['日期'])):\n",
    "        return True\n",
    "    return False"
   ]
  },
  {
   "cell_type": "markdown",
   "metadata": {},
   "source": [
    "## Global"
   ]
  },
  {
   "cell_type": "code",
   "execution_count": 14,
   "metadata": {},
   "outputs": [],
   "source": [
    "df = pd.read_excel('../歷年連假天數.xlsx')\n",
    "df = df.drop(index = 18)\n",
    "df_typhoon = pd.read_excel('../Typhoon_date.xlsx')\n",
    "columns = ['除夕', '春節.1', '端午.1', '中秋.1', '雙十.1', '二二八.1', '元旦.1', '清明.1', '勞動.1']\n",
    "years = np.arange(2005, 2023, 1)\n",
    "# type(df['除夕'][0]) == datetime\n",
    "holiday_rec = []\n",
    "for column in columns:\n",
    "    tmp = []\n",
    "    for year in years:\n",
    "        tmp.append(getHoliday(year, column, df))\n",
    "    holiday_rec.append(tmp)\n",
    "holiday_rec = pd.DataFrame(holiday_rec).T\n",
    "h_columns = ['除夕','春節', '端午', '中秋', '雙十', '二二八', '元旦', '清明', '勞動']\n",
    "holiday_rec.columns = h_columns"
   ]
  },
  {
   "cell_type": "markdown",
   "metadata": {},
   "source": [
    "--------"
   ]
  },
  {
   "cell_type": "markdown",
   "metadata": {},
   "source": [
    "## T 檢定"
   ]
  },
  {
   "cell_type": "code",
   "execution_count": 59,
   "metadata": {},
   "outputs": [],
   "source": [
    "days = [[]for i in range(2)]\n"
   ]
  },
  {
   "cell_type": "code",
   "execution_count": 60,
   "metadata": {},
   "outputs": [],
   "source": [
    "year = np.arange(2015, 2020, 1)\n",
    "month = np.arange(1, 13, 1)\n",
    "for y in year:\n",
    "    for m in month:\n",
    "        for d in np.arange(1, calendar.monthrange(y,m)[1] + 1, 1):\n",
    "            today = datetime(y,m,d)\n",
    "            if(new_holiday_type1(today) == '三大'):\n",
    "                days[0].append(transportCnt[today])\n",
    "            elif(new_holiday_type1(today) == '國定'):\n",
    "                days[1].append(transportCnt[today])"
   ]
  },
  {
   "cell_type": "code",
   "execution_count": 61,
   "metadata": {},
   "outputs": [
    {
     "data": {
      "text/html": [
       "<div>\n",
       "<style scoped>\n",
       "    .dataframe tbody tr th:only-of-type {\n",
       "        vertical-align: middle;\n",
       "    }\n",
       "\n",
       "    .dataframe tbody tr th {\n",
       "        vertical-align: top;\n",
       "    }\n",
       "\n",
       "    .dataframe thead th {\n",
       "        text-align: right;\n",
       "    }\n",
       "</style>\n",
       "<table border=\"1\" class=\"dataframe\">\n",
       "  <thead>\n",
       "    <tr style=\"text-align: right;\">\n",
       "      <th></th>\n",
       "      <th>三大</th>\n",
       "      <th>國定</th>\n",
       "    </tr>\n",
       "  </thead>\n",
       "  <tbody>\n",
       "    <tr>\n",
       "      <th>0</th>\n",
       "      <td>1342552.0</td>\n",
       "      <td>1796950.0</td>\n",
       "    </tr>\n",
       "    <tr>\n",
       "      <th>1</th>\n",
       "      <td>1356261.0</td>\n",
       "      <td>1830184.0</td>\n",
       "    </tr>\n",
       "    <tr>\n",
       "      <th>2</th>\n",
       "      <td>1678593.0</td>\n",
       "      <td>1802037.0</td>\n",
       "    </tr>\n",
       "    <tr>\n",
       "      <th>3</th>\n",
       "      <td>1653840.0</td>\n",
       "      <td>1585463.0</td>\n",
       "    </tr>\n",
       "    <tr>\n",
       "      <th>4</th>\n",
       "      <td>1578871.0</td>\n",
       "      <td>2031991.0</td>\n",
       "    </tr>\n",
       "    <tr>\n",
       "      <th>...</th>\n",
       "      <td>...</td>\n",
       "      <td>...</td>\n",
       "    </tr>\n",
       "    <tr>\n",
       "      <th>72</th>\n",
       "      <td>1802883.0</td>\n",
       "      <td>NaN</td>\n",
       "    </tr>\n",
       "    <tr>\n",
       "      <th>73</th>\n",
       "      <td>1666067.0</td>\n",
       "      <td>NaN</td>\n",
       "    </tr>\n",
       "    <tr>\n",
       "      <th>74</th>\n",
       "      <td>1546868.0</td>\n",
       "      <td>NaN</td>\n",
       "    </tr>\n",
       "    <tr>\n",
       "      <th>75</th>\n",
       "      <td>1683910.0</td>\n",
       "      <td>NaN</td>\n",
       "    </tr>\n",
       "    <tr>\n",
       "      <th>76</th>\n",
       "      <td>1512205.0</td>\n",
       "      <td>NaN</td>\n",
       "    </tr>\n",
       "  </tbody>\n",
       "</table>\n",
       "<p>77 rows × 2 columns</p>\n",
       "</div>"
      ],
      "text/plain": [
       "           三大         國定\n",
       "0   1342552.0  1796950.0\n",
       "1   1356261.0  1830184.0\n",
       "2   1678593.0  1802037.0\n",
       "3   1653840.0  1585463.0\n",
       "4   1578871.0  2031991.0\n",
       "..        ...        ...\n",
       "72  1802883.0        NaN\n",
       "73  1666067.0        NaN\n",
       "74  1546868.0        NaN\n",
       "75  1683910.0        NaN\n",
       "76  1512205.0        NaN\n",
       "\n",
       "[77 rows x 2 columns]"
      ]
     },
     "execution_count": 61,
     "metadata": {},
     "output_type": "execute_result"
    }
   ],
   "source": [
    "df1 = pd.DataFrame(days).T\n",
    "columns = ['三大', '國定']\n",
    "df1.columns = columns\n",
    "df1"
   ]
  },
  {
   "cell_type": "code",
   "execution_count": 62,
   "metadata": {},
   "outputs": [
    {
     "name": "stdout",
     "output_type": "stream",
     "text": [
      "F-value = 0.7493944483373323\n",
      "p-value = 0.21085700386156722\n"
     ]
    }
   ],
   "source": [
    "df_num = len(df1['三大']) - 1\n",
    "df_den = len(df1['國定']) - 1\n",
    "alpha = 0.05\n",
    "s1 = np.var(df1['三大'], ddof = 1)\n",
    "s2 = np.var(df1['國定'], ddof = 1)\n",
    "f_value = s1 / s2\n",
    "print(f\"F-value = {f_value}\")\n",
    "p_value = stats.f.cdf(f_value, df_num, df_den) * 2\n",
    "print(f\"p-value = {p_value}\")"
   ]
  },
  {
   "cell_type": "markdown",
   "metadata": {},
   "source": [
    "Since the p-value(0.2108) is greater than alpha(0.05), we cannot reject our null hypothesis. Therefore, we assume the two populations have similar variance and we may apply equal-variance t-test."
   ]
  },
  {
   "cell_type": "code",
   "execution_count": 66,
   "metadata": {},
   "outputs": [
    {
     "data": {
      "text/html": [
       "<table class=\"simpletable\">\n",
       "<caption>Test for equality of means</caption>\n",
       "<tr>\n",
       "      <td></td>         <th>coef</th>     <th>std err</th>      <th>t</th>      <th>P>|t|</th>  <th>[0.025</th>    <th>0.975]</th>  \n",
       "</tr>\n",
       "<tr>\n",
       "  <th>subset #1</th> <td>-2.142e+05</td> <td>  3.2e+04</td> <td>   -6.703</td> <td> 0.000</td> <td>-2.78e+05</td> <td>-1.51e+05</td>\n",
       "</tr>\n",
       "</table>"
      ],
      "text/plain": [
       "<class 'statsmodels.iolib.table.SimpleTable'>"
      ]
     },
     "execution_count": 66,
     "metadata": {},
     "output_type": "execute_result"
    }
   ],
   "source": [
    "# t-test using sms.CompareMeans\n",
    "cm = sms.CompareMeans(sms.DescrStatsW(df1['三大']), sms.DescrStatsW(df1['國定'].dropna()))\n",
    "# usevarstr, ‘pooled’ or ‘unequal’\n",
    "cm.summary(usevar='pooled', alpha=0.05)"
   ]
  }
 ],
 "metadata": {
  "kernelspec": {
   "display_name": "Python 3",
   "language": "python",
   "name": "python3"
  },
  "language_info": {
   "codemirror_mode": {
    "name": "ipython",
    "version": 3
   },
   "file_extension": ".py",
   "mimetype": "text/x-python",
   "name": "python",
   "nbconvert_exporter": "python",
   "pygments_lexer": "ipython3",
   "version": "3.8.5"
  }
 },
 "nbformat": 4,
 "nbformat_minor": 4
}
