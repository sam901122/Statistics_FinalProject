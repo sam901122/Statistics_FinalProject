{
 "cells": [
  {
   "cell_type": "markdown",
   "metadata": {},
   "source": [
    "## Import library"
   ]
  },
  {
   "cell_type": "code",
   "execution_count": 1,
   "metadata": {},
   "outputs": [],
   "source": [
    "import numpy as np \n",
    "import pandas as pd \n",
    "from datetime import datetime\n",
    "import copy as cp\n",
    "import calendar\n",
    "from datetime import timedelta"
   ]
  },
  {
   "cell_type": "code",
   "execution_count": null,
   "metadata": {},
   "outputs": [],
   "source": [
    "# 載入所需函示庫\n",
    "import pandas as pd\n",
    "import numpy as np\n",
    "import scipy.stats as stats\n",
    "import statsmodels.api as sm\n",
    "import statsmodels.stats.api as sms\n",
    "import statsmodels.formula.api as smf\n",
    "import statsmodels.stats.multicomp as smm\n",
    "import statsmodels\n",
    "import statsmodels.stats.libqsturng\n",
    "from matplotlib import pyplot as plt\n",
    "%matplotlib inline\n",
    "# 設定圖形大小; DPI越大圖越大\n",
    "plt.rcParams[\"figure.dpi\"] = 150"
   ]
  },
  {
   "cell_type": "code",
   "execution_count": null,
   "metadata": {},
   "outputs": [],
   "source": [
    "def strtoint(s):\n",
    "   #print(s)\n",
    "    if type(s) != str :\n",
    "        return s\n",
    "    ss = s.split(',')\n",
    "    #print(ss[0])\n",
    "    temp = 0\n",
    "    for i in range(len(ss)):\n",
    "        temp = temp * 1000 + int(ss[i])\n",
    "#     temp = float(temp / 1000000)\n",
    "    return temp"
   ]
  },
  {
   "cell_type": "markdown",
   "metadata": {},
   "source": [
    "## Build a library"
   ]
  },
  {
   "cell_type": "code",
   "execution_count": null,
   "metadata": {},
   "outputs": [],
   "source": [
    "transportCnt = dict()"
   ]
  },
  {
   "cell_type": "code",
   "execution_count": null,
   "metadata": {},
   "outputs": [],
   "source": [
    "year = ['2015', '2016', '2017', '2018', '2019', '2020', '2021', '2022']\n",
    "month = ['01','02','03','04','05','06','07','08','09','10','11','12']"
   ]
  },
  {
   "cell_type": "code",
   "execution_count": null,
   "metadata": {},
   "outputs": [],
   "source": [
    "for i in year:\n",
    "    for j in month:\n",
    "        if i == '2022' and j == '04':\n",
    "            break\n",
    "        dt_name = '+OÑ_¦¦¦BÑ¦¿t¦+«+¦B¦q¦+¡p_' + i + j+'.csv'\n",
    "        df = pd.read_csv(dt_name,encoding='big5')\n",
    "        for k in range(df.shape[0]):\n",
    "            tmp = df['營運日'][k]\n",
    "            if(tmp != tmp):\n",
    "                continue\n",
    "            tmp = df['營運日'][k].split('/')\n",
    "            date = datetime(int(tmp[0]) + 1911, int(tmp[1]), int(tmp[2]))\n",
    "            transport = strtoint(df['總運量'][k])\n",
    "            transportCnt.setdefault(date,transport)"
   ]
  },
  {
   "cell_type": "markdown",
   "metadata": {},
   "source": [
    "## Functions"
   ]
  },
  {
   "cell_type": "code",
   "execution_count": null,
   "metadata": {},
   "outputs": [],
   "source": [
    "def getHoliday(year, Holiday, df):\n",
    "    name = []\n",
    "    y = year\n",
    "    i = year - 2005\n",
    "    if(type(df[Holiday][i]) == datetime):\n",
    "        name.append(df[Holiday][i])\n",
    "    else:\n",
    "        start, end = df[Holiday][i].split('-')\n",
    "        start = start.split('/')\n",
    "        start = [int(s) for s in start]\n",
    "        end = end.split('/')\n",
    "        end = [int(s) for s in end]\n",
    "\n",
    "        if(start[0] == end[0]):\n",
    "            name += [datetime(y, start[0], x) for x in np.arange(start[1], end[1] + 1, 1)]\n",
    "        else:\n",
    "            lastday = calendar.monthrange(y, start[0])[1]\n",
    "            if(start[0] == 12):\n",
    "                name += [datetime(y - 1, start[0], x) for x in np.arange(start[1], lastday + 1, 1)]\n",
    "            else:\n",
    "                name += [datetime(y, start[0], x) for x in np.arange(start[1], lastday + 1, 1)]\n",
    "            name += [datetime(y, end[0], x) for x in np.arange(1, end[1] + 1, 1)]\n",
    "    return name"
   ]
  },
  {
   "cell_type": "code",
   "execution_count": null,
   "metadata": {},
   "outputs": [],
   "source": [
    "def getHolidayLength(date):\n",
    "    holiday, column, i = isHoliday([date.year], h_columns, date)\n",
    "    if(holiday):\n",
    "        return df[column][i]\n",
    "    elif(date.isoweekday() == 6 or date.isoweekday() == 7):\n",
    "        return 2\n",
    "    else:\n",
    "        return 0"
   ]
  },
  {
   "cell_type": "code",
   "execution_count": null,
   "metadata": {},
   "outputs": [],
   "source": [
    "def isHoliday(years, columns, date):\n",
    "    for column in columns:\n",
    "        for year in years:\n",
    "            if(date in holiday_rec[column][year - 2005]):\n",
    "                return True, column, year - 2005\n",
    "    return False, -1, -1"
   ]
  },
  {
   "cell_type": "code",
   "execution_count": null,
   "metadata": {},
   "outputs": [],
   "source": [
    "def holiday_type(date):\n",
    "    y = date.year\n",
    "    m = date.month\n",
    "    d = date.day\n",
    "    traditional = ['春節', '端午', '中秋']\n",
    "    national = ['雙十', '二二八', '元旦', '清明', '勞動']\n",
    "    years = np.arange(2015, 2023, 1)\n",
    "    if(isTyphoon(date) or ((m == 12) and (d == 31))):\n",
    "        return float('nan')\n",
    "    elif(isHoliday(years, traditional, date)[0]):\n",
    "        return 'Traditional'\n",
    "    elif(isHoliday(years, national, date)[0]):\n",
    "        return 'National'\n",
    "    elif((m == 12 and d == 25) or (m == 2 and d == 14) or (m == 10 and d == 31)):\n",
    "        return 'Western'\n",
    "    elif((m == 8 and d == 8) or (m == 5 and d <= 14 and d >= 8 and date.isoweekday() == 7)):\n",
    "        return 'Fother'\n",
    "    elif(date.isoweekday() == 6 or date.isoweekday() == 7):\n",
    "        return 'Weekend'\n",
    "    else:\n",
    "        return 'Weekday'"
   ]
  },
  {
   "cell_type": "code",
   "execution_count": null,
   "metadata": {},
   "outputs": [],
   "source": [
    "def season(date):\n",
    "    s = []\n",
    "    start = 3\n",
    "    for i in range( 4 ) : \n",
    "        s.append( [])\n",
    "        for j in range( 3 ) :\n",
    "            s[i].append( start ) \n",
    "            start = ( start % 12 ) + 1\n",
    "    m = date.month\n",
    "    if(m in s[0]):\n",
    "        return 'Spring'\n",
    "    elif(m in s[1]):\n",
    "        return 'Summer'\n",
    "    elif(m in s[2]):\n",
    "        return 'Fall'\n",
    "    else:\n",
    "        return 'Winter'"
   ]
  },
  {
   "cell_type": "code",
   "execution_count": null,
   "metadata": {},
   "outputs": [],
   "source": [
    "def new_holiday_type4(date):\n",
    "    holidays = [['除夕'], ['春節', '端午', '中秋'], ['雙十', '二二八', '元旦', '清明']]\n",
    "    name = ['除夕', '三大', '國定']\n",
    "    y = date.year\n",
    "    m = date.month\n",
    "    d = date.day\n",
    "    years = np.arange(2015, 2023, 1)\n",
    "    if(((m == 12) and (d == 31))):\n",
    "        return '跨年'\n",
    "    if(isTyphoon(date)):\n",
    "        return\n",
    "    for i, h in enumerate(holidays):\n",
    "        if(isHoliday(years, h, date)[0]):\n",
    "            return name[i]\n",
    "    if((m == 12 and d == 25) or (m == 2 and d == 14) or (m == 10 and d == 31)):\n",
    "        return '西洋'\n",
    "#     if(date.isoweekday() == 6 or date.isoweekday() == 7):\n",
    "#         return '假日'\n",
    "#     return '平日'\n"
   ]
  },
  {
   "cell_type": "code",
   "execution_count": null,
   "metadata": {},
   "outputs": [],
   "source": [
    "def isTyphoon(date):\n",
    "    if(date in list(df_typhoon['日期'])):\n",
    "        return True\n",
    "    return False"
   ]
  },
  {
   "cell_type": "markdown",
   "metadata": {},
   "source": [
    "## Global"
   ]
  },
  {
   "cell_type": "code",
   "execution_count": null,
   "metadata": {},
   "outputs": [],
   "source": [
    "df = pd.read_excel('../歷年連假天數.xlsx')\n",
    "df = df.drop(index = 18)\n",
    "df_typhoon = pd.read_excel('../Typhoon_date.xlsx')\n",
    "columns = ['除夕', '春節.1', '端午.1', '中秋.1', '雙十.1', '二二八.1', '元旦.1', '清明.1', '勞動.1']\n",
    "years = np.arange(2005, 2023, 1)\n",
    "# type(df['除夕'][0]) == datetime\n",
    "holiday_rec = []\n",
    "for column in columns:\n",
    "    tmp = []\n",
    "    for year in years:\n",
    "        tmp.append(getHoliday(year, column, df))\n",
    "    holiday_rec.append(tmp)\n",
    "holiday_rec = pd.DataFrame(holiday_rec).T\n",
    "h_columns = ['除夕','春節', '端午', '中秋', '雙十', '二二八', '元旦', '清明', '勞動']\n",
    "holiday_rec.columns = h_columns"
   ]
  },
  {
   "cell_type": "markdown",
   "metadata": {},
   "source": [
    "--------"
   ]
  },
  {
   "cell_type": "code",
   "execution_count": null,
   "metadata": {},
   "outputs": [],
   "source": [
    "df2 = pd.DataFrame(list(transportCnt.items()), columns=['Date', 'TPcnt'])\n",
    "df2['Holiday_Type'] = [new_holiday_type4(day) for day in df2['Date']]\n",
    "df2['Year'] = [day.year for day in df2['Date']]\n",
    "df2['Season'] = [season(day) for day in df2['Date']]\n",
    "df2['Month'] = [day.month for day in df2['Date']]\n",
    "df2 = df2.drop(df2[df2['Year'] >= 2020].index)\n",
    "df2 = df2.drop(df2[df2['Holiday_Type'] == '跨年'].index)\n",
    "df2 = df2.drop(df2[df2['Holiday_Type'] == '除夕'].index)\n",
    "df2 = df2.dropna().reset_index(drop = True)\n",
    "df2.head()"
   ]
  },
  {
   "cell_type": "code",
   "execution_count": null,
   "metadata": {},
   "outputs": [],
   "source": [
    "results = smf.ols('TPcnt ~ C(Holiday_Type)', data=df2).fit()\n",
    "# results.summary()\n",
    "aov_table = sms.anova_lm(results, typ=2)\n",
    "aov_table"
   ]
  },
  {
   "cell_type": "code",
   "execution_count": null,
   "metadata": {},
   "outputs": [],
   "source": [
    "results = smf.ols('TPcnt ~ C(Holiday_Type) + C(Year) + C(Holiday_Type):C(Year)', data=df2).fit()\n",
    "# results.summary()\n",
    "aov = sms.anova_lm(results, typ=2)\n",
    "aov"
   ]
  },
  {
   "cell_type": "code",
   "execution_count": null,
   "metadata": {},
   "outputs": [],
   "source": [
    "stat, p = stats.shapiro(results.resid)\n",
    "print('Statistics=%.4f, p=%.4f' % (stat, p))"
   ]
  },
  {
   "cell_type": "code",
   "execution_count": null,
   "metadata": {},
   "outputs": [],
   "source": [
    "_ = plt.hist(results.resid, bins = \"auto\")"
   ]
  },
  {
   "cell_type": "code",
   "execution_count": null,
   "metadata": {},
   "outputs": [],
   "source": [
    "fig = sm.qqplot(results.resid, stats.norm, fit=True, line='45')\n",
    "plt.title('One Way Anova (Holiday)')\n",
    "plt.show()"
   ]
  },
  {
   "cell_type": "code",
   "execution_count": null,
   "metadata": {},
   "outputs": [],
   "source": [
    "plt.plot(df2['Date'], results.resid)\n",
    "plt.xticks(rotation = 90)\n",
    "plt.title('One Way Anova (Holiday)')\n",
    "plt.show()"
   ]
  },
  {
   "cell_type": "code",
   "execution_count": null,
   "metadata": {},
   "outputs": [],
   "source": [
    "import statsmodels.stats.outliers_influence as sso\n",
    "st1, data1, ss3 = sso.summary_table(results, alpha=0.05)\n",
    "SD = data1[:, 10]\n",
    "df1_c = pd.DataFrame([(SD), df2['Date']]).T\n",
    "df1_c.columns = ['SD', 'Date']\n",
    "filte = ((df1_c['SD'] < -2) | (df1_c['SD'] > 2))\n",
    "print(\"Outliers by SD = \\n\")\n",
    "display(df1_c[filte].head(30))"
   ]
  },
  {
   "cell_type": "code",
   "execution_count": null,
   "metadata": {},
   "outputs": [],
   "source": [
    "mc = smm.MultiComparison(df2['TPcnt'], df2['Holiday_Type'])\n",
    "print(mc.tukeyhsd().summary())"
   ]
  },
  {
   "cell_type": "code",
   "execution_count": null,
   "metadata": {},
   "outputs": [],
   "source": [
    "plt.rcParams['font.sans-serif'] = ['Noto Serif TC']\n",
    "\n",
    "_ = mc.tukeyhsd().plot_simultaneous()"
   ]
  }
 ],
 "metadata": {
  "kernelspec": {
   "display_name": "Python 3",
   "language": "python",
   "name": "python3"
  },
  "language_info": {
   "codemirror_mode": {
    "name": "ipython",
    "version": 3
   },
   "file_extension": ".py",
   "mimetype": "text/x-python",
   "name": "python",
   "nbconvert_exporter": "python",
   "pygments_lexer": "ipython3",
   "version": "3.8.5"
  }
 },
 "nbformat": 4,
 "nbformat_minor": 4
}
