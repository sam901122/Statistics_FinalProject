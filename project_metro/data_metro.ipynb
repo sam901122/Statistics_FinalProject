{
 "cells": [
  {
   "cell_type": "markdown",
   "metadata": {},
   "source": [
    "## Import library"
   ]
  },
  {
   "cell_type": "code",
   "execution_count": 1,
   "metadata": {},
   "outputs": [],
   "source": [
    "import numpy as np \n",
    "import pandas as pd \n",
    "from datetime import datetime\n",
    "import copy as cp\n",
    "import calendar"
   ]
  },
  {
   "cell_type": "code",
   "execution_count": 2,
   "metadata": {},
   "outputs": [],
   "source": [
    "# 載入所需函示庫\n",
    "import pandas as pd\n",
    "import numpy as np\n",
    "import scipy.stats as stats\n",
    "import statsmodels.api as sm\n",
    "import statsmodels.stats.api as sms\n",
    "import statsmodels.formula.api as smf\n",
    "import statsmodels.stats.multicomp as smm\n",
    "import statsmodels\n",
    "import statsmodels.stats.libqsturng\n",
    "from matplotlib import pyplot as plt\n",
    "%matplotlib inline\n",
    "# 設定圖形大小; DPI越大圖越大\n",
    "plt.rcParams[\"figure.dpi\"] = 100"
   ]
  },
  {
   "cell_type": "code",
   "execution_count": 3,
   "metadata": {},
   "outputs": [],
   "source": [
    "def strtoint(s):\n",
    "   #print(s)\n",
    "    if type(s) != str :\n",
    "        return s\n",
    "    ss = s.split(',')\n",
    "    #print(ss[0])\n",
    "    temp = 0\n",
    "    for i in range(len(ss)):\n",
    "        temp = temp * 1000 + int(ss[i])\n",
    "#     temp = float(temp / 1000000)\n",
    "    return temp"
   ]
  },
  {
   "cell_type": "markdown",
   "metadata": {},
   "source": [
    "## Build a library"
   ]
  },
  {
   "cell_type": "code",
   "execution_count": 4,
   "metadata": {},
   "outputs": [],
   "source": [
    "transportCnt = dict()"
   ]
  },
  {
   "cell_type": "code",
   "execution_count": 5,
   "metadata": {},
   "outputs": [],
   "source": [
    "year = ['2015', '2016', '2017', '2018', '2019', '2020', '2021', '2022']\n",
    "month = ['01','02','03','04','05','06','07','08','09','10','11','12']"
   ]
  },
  {
   "cell_type": "code",
   "execution_count": 6,
   "metadata": {},
   "outputs": [],
   "source": [
    "for i in year:\n",
    "    for j in month:\n",
    "        if i == '2022' and j == '04':\n",
    "            break\n",
    "        dt_name = '+OÑ_¦¦¦BÑ¦¿t¦+«+¦B¦q¦+¡p_' + i + j+'.csv'\n",
    "        df = pd.read_csv(dt_name,encoding='big5')\n",
    "        for k in range(df.shape[0]):\n",
    "            tmp = df['營運日'][k]\n",
    "            if(tmp != tmp):\n",
    "                continue\n",
    "            tmp = df['營運日'][k].split('/')\n",
    "            date = datetime(int(tmp[0]) + 1911, int(tmp[1]), int(tmp[2]))\n",
    "            transport = strtoint(df['總運量'][k])\n",
    "            transportCnt.setdefault(date,transport)"
   ]
  },
  {
   "cell_type": "markdown",
   "metadata": {},
   "source": [
    "## Functions"
   ]
  },
  {
   "cell_type": "code",
   "execution_count": 7,
   "metadata": {},
   "outputs": [],
   "source": [
    "def getHoliday(year, Holiday, df):\n",
    "    name = []\n",
    "    y = year\n",
    "    i = year - 2005\n",
    "    if(type(df[Holiday][i]) == datetime):\n",
    "        name.append(df[Holiday][i])\n",
    "    else:\n",
    "        start, end = df[Holiday][i].split('-')\n",
    "        start = start.split('/')\n",
    "        start = [int(s) for s in start]\n",
    "        end = end.split('/')\n",
    "        end = [int(s) for s in end]\n",
    "\n",
    "        if(start[0] == end[0]):\n",
    "            name += [datetime(y, start[0], x) for x in np.arange(start[1], end[1] + 1, 1)]\n",
    "        else:\n",
    "            lastday = calendar.monthrange(y, start[0])[1]\n",
    "            if(start[0] == 12):\n",
    "                name += [datetime(y - 1, start[0], x) for x in np.arange(start[1], lastday + 1, 1)]\n",
    "                name += [datetime(y, end[0], x) for x in np.arange(1, end[1] + 1, 1)]\n",
    "            else:\n",
    "                name += [datetime(y, start[0], x) for x in np.arange(start[1], lastday + 1, 1)]\n",
    "    return name"
   ]
  },
  {
   "cell_type": "code",
   "execution_count": 8,
   "metadata": {},
   "outputs": [],
   "source": [
    "def getHolidayLength(date):\n",
    "    holiday, column, i = isHoliday([date.year], h_columns, date)\n",
    "    if(holiday):\n",
    "        return int(df[column][i])\n",
    "    elif(date.isoweekday() == 6 or date.isoweekday() == 7):\n",
    "        return 2\n",
    "    else:\n",
    "        return 0"
   ]
  },
  {
   "cell_type": "code",
   "execution_count": 9,
   "metadata": {},
   "outputs": [],
   "source": [
    "def isHoliday(years, columns, date):\n",
    "    for column in columns:\n",
    "        for year in years:\n",
    "            if(date in holiday_rec[column][year - 2005]):\n",
    "                return True, column, year - 2005\n",
    "    return False, -1, -1"
   ]
  },
  {
   "cell_type": "code",
   "execution_count": 10,
   "metadata": {},
   "outputs": [],
   "source": [
    "def holiday_type(date):\n",
    "    y = date.year\n",
    "    m = date.month\n",
    "    d = date.day\n",
    "    traditional = ['春節', '端午', '中秋']\n",
    "    national = ['雙十', '二二八', '元旦', '清明', '勞動']\n",
    "    years = np.arange(2015, 2023, 1)\n",
    "    if(isHoliday(years, traditional, date)[0]):\n",
    "        return 'Traditional'\n",
    "    elif(isHoliday(years, national, date)[0]):\n",
    "        return 'National'\n",
    "    elif((m == 12 and d == 25) or (m == 2 and d == 14) or (m == 10 and d == 31)):\n",
    "        return 'Western'\n",
    "    elif((m == 8 and d == 8) or (m == 5 and d <= 14 and d >= 8 and date.isoweekday() == 7)):\n",
    "        return 'Fother'\n",
    "    elif(date.isoweekday() == 6 or date.isoweekday() == 7):\n",
    "        return 'Weekend'\n",
    "    else:\n",
    "        return 'Weekday'"
   ]
  },
  {
   "cell_type": "markdown",
   "metadata": {},
   "source": [
    "## Global"
   ]
  },
  {
   "cell_type": "code",
   "execution_count": 11,
   "metadata": {},
   "outputs": [],
   "source": [
    "df = pd.read_excel('../歷年連假天數.xlsx')\n",
    "columns = ['春節.1', '端午.1', '中秋.1', '雙十.1', '二二八.1', '元旦.1', '清明.1', '勞動.1']\n",
    "years = np.arange(2005, 2023, 1)\n",
    "holiday_rec = []\n",
    "for column in columns:\n",
    "    tmp = []\n",
    "    for year in years:\n",
    "        tmp.append(getHoliday(year, column, df))\n",
    "    holiday_rec.append(tmp)\n",
    "holiday_rec = pd.DataFrame(holiday_rec).T\n",
    "h_columns = ['春節', '端午', '中秋', '雙十', '二二八', '元旦', '清明', '勞動']\n",
    "holiday_rec.columns = h_columns"
   ]
  },
  {
   "cell_type": "markdown",
   "metadata": {},
   "source": [
    "## 日子"
   ]
  },
  {
   "cell_type": "markdown",
   "metadata": {},
   "source": [
    "### Parametric - One Way Anova"
   ]
  },
  {
   "cell_type": "markdown",
   "metadata": {},
   "source": [
    "$$H_0: \\mu_{平日} = \\mu_{一般假日} = \\mu_{傳統} = \\mu_{國定} = \\mu_{西洋} = \\mu_{X親}$$  \n",
    "$$H_1: \\text{one of the equality in } H_0 \\text{ is not satisfied}$$"
   ]
  },
  {
   "cell_type": "code",
   "execution_count": 12,
   "metadata": {},
   "outputs": [],
   "source": [
    "traditional = ['春節', '端午', '中秋']\n",
    "national = ['雙十', '二二八', '元旦', '清明', '勞動']"
   ]
  },
  {
   "cell_type": "code",
   "execution_count": 13,
   "metadata": {},
   "outputs": [],
   "source": [
    "days = [[]for i in range(6)]\n",
    "check = [[]for i in range(6)]"
   ]
  },
  {
   "cell_type": "code",
   "execution_count": 14,
   "metadata": {},
   "outputs": [],
   "source": [
    "year = np.arange(2015, 2023, 1)\n",
    "month = np.arange(1, 13, 1)\n",
    "for y in year:\n",
    "    if(y == 2022):\n",
    "        month = np.arange(1, 4, 1)\n",
    "    for m in month:\n",
    "        for d in np.arange(1, calendar.monthrange(y,m)[1] + 1, 1):\n",
    "            today = datetime(y,m,d)\n",
    "            if(isHoliday(year, traditional, today)[0]):\n",
    "                days[2].append(transportCnt[today])\n",
    "            elif(isHoliday(year, national, today)[0]):\n",
    "                days[3].append(transportCnt[today])\n",
    "            elif((m == 12 and d == 25) or (m == 2 and d == 14) or (m == 10 and d == 31)):\n",
    "                days[4].append(transportCnt[today])\n",
    "            elif((m == 8 and d == 8) or (m == 5 and d <= 14 and d >= 8 and today.isoweekday() == 7)):\n",
    "                days[5].append(transportCnt[today])\n",
    "            elif(today.isoweekday() == 6 or today.isoweekday() == 7):\n",
    "                days[1].append(transportCnt[today])\n",
    "            else:\n",
    "                days[0].append(transportCnt[today])"
   ]
  },
  {
   "cell_type": "code",
   "execution_count": 15,
   "metadata": {},
   "outputs": [
    {
     "data": {
      "text/html": [
       "<div>\n",
       "<style scoped>\n",
       "    .dataframe tbody tr th:only-of-type {\n",
       "        vertical-align: middle;\n",
       "    }\n",
       "\n",
       "    .dataframe tbody tr th {\n",
       "        vertical-align: top;\n",
       "    }\n",
       "\n",
       "    .dataframe thead th {\n",
       "        text-align: right;\n",
       "    }\n",
       "</style>\n",
       "<table border=\"1\" class=\"dataframe\">\n",
       "  <thead>\n",
       "    <tr style=\"text-align: right;\">\n",
       "      <th></th>\n",
       "      <th>Weekday</th>\n",
       "      <th>Weekend</th>\n",
       "      <th>Traditional</th>\n",
       "      <th>National</th>\n",
       "      <th>Western</th>\n",
       "      <th>Fother</th>\n",
       "    </tr>\n",
       "  </thead>\n",
       "  <tbody>\n",
       "    <tr>\n",
       "      <th>0</th>\n",
       "      <td>1915326.0</td>\n",
       "      <td>1897089.0</td>\n",
       "      <td>751526.0</td>\n",
       "      <td>1796950.0</td>\n",
       "      <td>1972064.0</td>\n",
       "      <td>1514055.0</td>\n",
       "    </tr>\n",
       "    <tr>\n",
       "      <th>1</th>\n",
       "      <td>1945591.0</td>\n",
       "      <td>1551238.0</td>\n",
       "      <td>1342552.0</td>\n",
       "      <td>1830184.0</td>\n",
       "      <td>2025217.0</td>\n",
       "      <td>418145.0</td>\n",
       "    </tr>\n",
       "    <tr>\n",
       "      <th>2</th>\n",
       "      <td>1965860.0</td>\n",
       "      <td>1884434.0</td>\n",
       "      <td>1356261.0</td>\n",
       "      <td>1802037.0</td>\n",
       "      <td>2448812.0</td>\n",
       "      <td>1580602.0</td>\n",
       "    </tr>\n",
       "    <tr>\n",
       "      <th>3</th>\n",
       "      <td>1987913.0</td>\n",
       "      <td>1631624.0</td>\n",
       "      <td>1678593.0</td>\n",
       "      <td>1585463.0</td>\n",
       "      <td>1839311.0</td>\n",
       "      <td>2002855.0</td>\n",
       "    </tr>\n",
       "    <tr>\n",
       "      <th>4</th>\n",
       "      <td>2163929.0</td>\n",
       "      <td>1901482.0</td>\n",
       "      <td>1653840.0</td>\n",
       "      <td>2031991.0</td>\n",
       "      <td>2123416.0</td>\n",
       "      <td>1599230.0</td>\n",
       "    </tr>\n",
       "    <tr>\n",
       "      <th>...</th>\n",
       "      <td>...</td>\n",
       "      <td>...</td>\n",
       "      <td>...</td>\n",
       "      <td>...</td>\n",
       "      <td>...</td>\n",
       "      <td>...</td>\n",
       "    </tr>\n",
       "    <tr>\n",
       "      <th>1768</th>\n",
       "      <td>2172261.0</td>\n",
       "      <td>NaN</td>\n",
       "      <td>NaN</td>\n",
       "      <td>NaN</td>\n",
       "      <td>NaN</td>\n",
       "      <td>NaN</td>\n",
       "    </tr>\n",
       "    <tr>\n",
       "      <th>1769</th>\n",
       "      <td>1919316.0</td>\n",
       "      <td>NaN</td>\n",
       "      <td>NaN</td>\n",
       "      <td>NaN</td>\n",
       "      <td>NaN</td>\n",
       "      <td>NaN</td>\n",
       "    </tr>\n",
       "    <tr>\n",
       "      <th>1770</th>\n",
       "      <td>1940394.0</td>\n",
       "      <td>NaN</td>\n",
       "      <td>NaN</td>\n",
       "      <td>NaN</td>\n",
       "      <td>NaN</td>\n",
       "      <td>NaN</td>\n",
       "    </tr>\n",
       "    <tr>\n",
       "      <th>1771</th>\n",
       "      <td>1969018.0</td>\n",
       "      <td>NaN</td>\n",
       "      <td>NaN</td>\n",
       "      <td>NaN</td>\n",
       "      <td>NaN</td>\n",
       "      <td>NaN</td>\n",
       "    </tr>\n",
       "    <tr>\n",
       "      <th>1772</th>\n",
       "      <td>1958461.0</td>\n",
       "      <td>NaN</td>\n",
       "      <td>NaN</td>\n",
       "      <td>NaN</td>\n",
       "      <td>NaN</td>\n",
       "      <td>NaN</td>\n",
       "    </tr>\n",
       "  </tbody>\n",
       "</table>\n",
       "<p>1773 rows × 6 columns</p>\n",
       "</div>"
      ],
      "text/plain": [
       "        Weekday    Weekend  Traditional   National    Western     Fother\n",
       "0     1915326.0  1897089.0     751526.0  1796950.0  1972064.0  1514055.0\n",
       "1     1945591.0  1551238.0    1342552.0  1830184.0  2025217.0   418145.0\n",
       "2     1965860.0  1884434.0    1356261.0  1802037.0  2448812.0  1580602.0\n",
       "3     1987913.0  1631624.0    1678593.0  1585463.0  1839311.0  2002855.0\n",
       "4     2163929.0  1901482.0    1653840.0  2031991.0  2123416.0  1599230.0\n",
       "...         ...        ...          ...        ...        ...        ...\n",
       "1768  2172261.0        NaN          NaN        NaN        NaN        NaN\n",
       "1769  1919316.0        NaN          NaN        NaN        NaN        NaN\n",
       "1770  1940394.0        NaN          NaN        NaN        NaN        NaN\n",
       "1771  1969018.0        NaN          NaN        NaN        NaN        NaN\n",
       "1772  1958461.0        NaN          NaN        NaN        NaN        NaN\n",
       "\n",
       "[1773 rows x 6 columns]"
      ]
     },
     "execution_count": 15,
     "metadata": {},
     "output_type": "execute_result"
    }
   ],
   "source": [
    "df1 = pd.DataFrame(days).T\n",
    "columns = ['Weekday', 'Weekend', 'Traditional', 'National', 'Western', 'Fother']\n",
    "df1.columns = columns\n",
    "df1"
   ]
  },
  {
   "cell_type": "code",
   "execution_count": 16,
   "metadata": {},
   "outputs": [
    {
     "data": {
      "text/html": [
       "<div>\n",
       "<style scoped>\n",
       "    .dataframe tbody tr th:only-of-type {\n",
       "        vertical-align: middle;\n",
       "    }\n",
       "\n",
       "    .dataframe tbody tr th {\n",
       "        vertical-align: top;\n",
       "    }\n",
       "\n",
       "    .dataframe thead th {\n",
       "        text-align: right;\n",
       "    }\n",
       "</style>\n",
       "<table border=\"1\" class=\"dataframe\">\n",
       "  <thead>\n",
       "    <tr style=\"text-align: right;\">\n",
       "      <th></th>\n",
       "      <th>Date</th>\n",
       "      <th>TPcnt</th>\n",
       "      <th>Holiday_Type</th>\n",
       "      <th>Year</th>\n",
       "    </tr>\n",
       "  </thead>\n",
       "  <tbody>\n",
       "    <tr>\n",
       "      <th>0</th>\n",
       "      <td>2015-01-01</td>\n",
       "      <td>1796950</td>\n",
       "      <td>National</td>\n",
       "      <td>2015</td>\n",
       "    </tr>\n",
       "    <tr>\n",
       "      <th>1</th>\n",
       "      <td>2015-01-02</td>\n",
       "      <td>1830184</td>\n",
       "      <td>National</td>\n",
       "      <td>2015</td>\n",
       "    </tr>\n",
       "    <tr>\n",
       "      <th>2</th>\n",
       "      <td>2015-01-03</td>\n",
       "      <td>1802037</td>\n",
       "      <td>National</td>\n",
       "      <td>2015</td>\n",
       "    </tr>\n",
       "    <tr>\n",
       "      <th>3</th>\n",
       "      <td>2015-01-04</td>\n",
       "      <td>1585463</td>\n",
       "      <td>National</td>\n",
       "      <td>2015</td>\n",
       "    </tr>\n",
       "    <tr>\n",
       "      <th>4</th>\n",
       "      <td>2015-01-05</td>\n",
       "      <td>1915326</td>\n",
       "      <td>Weekday</td>\n",
       "      <td>2015</td>\n",
       "    </tr>\n",
       "    <tr>\n",
       "      <th>...</th>\n",
       "      <td>...</td>\n",
       "      <td>...</td>\n",
       "      <td>...</td>\n",
       "      <td>...</td>\n",
       "    </tr>\n",
       "    <tr>\n",
       "      <th>1821</th>\n",
       "      <td>2019-12-27</td>\n",
       "      <td>2658619</td>\n",
       "      <td>Weekday</td>\n",
       "      <td>2019</td>\n",
       "    </tr>\n",
       "    <tr>\n",
       "      <th>1822</th>\n",
       "      <td>2019-12-28</td>\n",
       "      <td>2298630</td>\n",
       "      <td>Weekend</td>\n",
       "      <td>2019</td>\n",
       "    </tr>\n",
       "    <tr>\n",
       "      <th>1823</th>\n",
       "      <td>2019-12-29</td>\n",
       "      <td>1777124</td>\n",
       "      <td>Weekend</td>\n",
       "      <td>2019</td>\n",
       "    </tr>\n",
       "    <tr>\n",
       "      <th>1824</th>\n",
       "      <td>2019-12-30</td>\n",
       "      <td>2469682</td>\n",
       "      <td>Weekday</td>\n",
       "      <td>2019</td>\n",
       "    </tr>\n",
       "    <tr>\n",
       "      <th>1825</th>\n",
       "      <td>2019-12-31</td>\n",
       "      <td>3206078</td>\n",
       "      <td>Weekday</td>\n",
       "      <td>2019</td>\n",
       "    </tr>\n",
       "  </tbody>\n",
       "</table>\n",
       "<p>1826 rows × 4 columns</p>\n",
       "</div>"
      ],
      "text/plain": [
       "           Date    TPcnt Holiday_Type  Year\n",
       "0    2015-01-01  1796950     National  2015\n",
       "1    2015-01-02  1830184     National  2015\n",
       "2    2015-01-03  1802037     National  2015\n",
       "3    2015-01-04  1585463     National  2015\n",
       "4    2015-01-05  1915326      Weekday  2015\n",
       "...         ...      ...          ...   ...\n",
       "1821 2019-12-27  2658619      Weekday  2019\n",
       "1822 2019-12-28  2298630      Weekend  2019\n",
       "1823 2019-12-29  1777124      Weekend  2019\n",
       "1824 2019-12-30  2469682      Weekday  2019\n",
       "1825 2019-12-31  3206078      Weekday  2019\n",
       "\n",
       "[1826 rows x 4 columns]"
      ]
     },
     "execution_count": 16,
     "metadata": {},
     "output_type": "execute_result"
    }
   ],
   "source": [
    "df2 = pd.DataFrame(list(transportCnt.items()), columns=['Date', 'TPcnt'])\n",
    "df2['Holiday_Type'] = [holiday_type(day) for day in df2['Date']]\n",
    "df2['Year'] = [day.year for day in df2['Date']]\n",
    "df2 = df2.drop(df2[df2['Year'] >= 2020].index)\n",
    "df2"
   ]
  },
  {
   "cell_type": "code",
   "execution_count": 17,
   "metadata": {},
   "outputs": [
    {
     "data": {
      "text/html": [
       "<div>\n",
       "<style scoped>\n",
       "    .dataframe tbody tr th:only-of-type {\n",
       "        vertical-align: middle;\n",
       "    }\n",
       "\n",
       "    .dataframe tbody tr th {\n",
       "        vertical-align: top;\n",
       "    }\n",
       "\n",
       "    .dataframe thead th {\n",
       "        text-align: right;\n",
       "    }\n",
       "</style>\n",
       "<table border=\"1\" class=\"dataframe\">\n",
       "  <thead>\n",
       "    <tr style=\"text-align: right;\">\n",
       "      <th></th>\n",
       "      <th>sum_sq</th>\n",
       "      <th>df</th>\n",
       "      <th>F</th>\n",
       "      <th>PR(&gt;F)</th>\n",
       "    </tr>\n",
       "  </thead>\n",
       "  <tbody>\n",
       "    <tr>\n",
       "      <th>C(Holiday_Type)</th>\n",
       "      <td>5.815745e+13</td>\n",
       "      <td>5.0</td>\n",
       "      <td>294.322585</td>\n",
       "      <td>4.123575e-231</td>\n",
       "    </tr>\n",
       "    <tr>\n",
       "      <th>Residual</th>\n",
       "      <td>7.192554e+13</td>\n",
       "      <td>1820.0</td>\n",
       "      <td>NaN</td>\n",
       "      <td>NaN</td>\n",
       "    </tr>\n",
       "  </tbody>\n",
       "</table>\n",
       "</div>"
      ],
      "text/plain": [
       "                       sum_sq      df           F         PR(>F)\n",
       "C(Holiday_Type)  5.815745e+13     5.0  294.322585  4.123575e-231\n",
       "Residual         7.192554e+13  1820.0         NaN            NaN"
      ]
     },
     "execution_count": 17,
     "metadata": {},
     "output_type": "execute_result"
    }
   ],
   "source": [
    "results = smf.ols('TPcnt ~ C(Holiday_Type)', data=df2).fit()\n",
    "# results.summary()\n",
    "aov_table = sms.anova_lm(results, typ=2)\n",
    "aov_table"
   ]
  },
  {
   "cell_type": "code",
   "execution_count": 18,
   "metadata": {},
   "outputs": [
    {
     "name": "stdout",
     "output_type": "stream",
     "text": [
      "            Multiple Comparison of Means - Tukey HSD, FWER=0.05             \n",
      "============================================================================\n",
      "   group1      group2     meandiff   p-adj     lower        upper     reject\n",
      "----------------------------------------------------------------------------\n",
      "     Fother    National  139497.5889 0.2986  -51886.3381  330881.5159  False\n",
      "     Fother Traditional -192335.0273 0.0502 -384776.9166      106.862  False\n",
      "     Fother     Weekday  503335.5738  0.001  323267.2077  683403.9399   True\n",
      "     Fother     Weekend  213750.4725 0.0102   32407.2935  395093.6516   True\n",
      "     Fother     Western  530156.6286  0.001  295352.1444  764961.1127   True\n",
      "   National Traditional -331832.6162  0.001  -428474.661 -235190.5713   True\n",
      "   National     Weekday  363837.9849  0.001   295059.932  432616.0378   True\n",
      "   National     Weekend   74252.8836  0.039    2203.2294  146302.5379   True\n",
      "   National     Western  390659.0397  0.001  225011.9755  556306.1039   True\n",
      "Traditional     Weekday   695670.601  0.001  624001.2644  767339.9377   True\n",
      "Traditional     Weekend  406085.4998  0.001  331270.8894  480900.1102   True\n",
      "Traditional     Western  722491.6558  0.001  555623.3751  889359.9366   True\n",
      "    Weekday     Weekend -289585.1012  0.001 -321016.9585 -258153.2439   True\n",
      "    Weekday     Western   26821.0548    0.9 -125611.7463  179253.8559  False\n",
      "    Weekend     Western   316406.156  0.001  162469.5101   470342.802   True\n",
      "----------------------------------------------------------------------------\n"
     ]
    }
   ],
   "source": [
    "mc = smm.MultiComparison(df2['TPcnt'], df2['Holiday_Type'])\n",
    "print(mc.tukeyhsd().summary())"
   ]
  },
  {
   "cell_type": "code",
   "execution_count": 19,
   "metadata": {},
   "outputs": [
    {
     "name": "stderr",
     "output_type": "stream",
     "text": [
      "D:\\New folder\\lib\\site-packages\\statsmodels\\sandbox\\stats\\multicomp.py:775: UserWarning: FixedFormatter should only be used together with FixedLocator\n",
      "  ax1.set_yticklabels(np.insert(self.groupsunique.astype(str), 0, ''))\n"
     ]
    },
    {
     "data": {
      "image/png": "[encoded data removed]",
      "text/plain": [
       "<Figure size 1000x600 with 1 Axes>"
      ]
     },
     "metadata": {
      "needs_background": "light"
     },
     "output_type": "display_data"
    }
   ],
   "source": [
    "_ = mc.tukeyhsd().plot_simultaneous()"
   ]
  },
  {
   "cell_type": "markdown",
   "metadata": {},
   "source": [
    "### Required Condition"
   ]
  },
  {
   "cell_type": "markdown",
   "metadata": {},
   "source": [
    "#### Check normality assumption - Shapiro Wilk Test"
   ]
  },
  {
   "cell_type": "markdown",
   "metadata": {},
   "source": [
    "$$H_0: \\text{residual of all datapoints are normally distributed}$$  \n",
    "$$H_1: \\text{residual of all datapoints are not normally distributed}$$  "
   ]
  },
  {
   "cell_type": "code",
   "execution_count": 20,
   "metadata": {},
   "outputs": [
    {
     "name": "stdout",
     "output_type": "stream",
     "text": [
      "Statistics=0.8834, p=0.0000\n"
     ]
    }
   ],
   "source": [
    "stat, p = stats.shapiro(results.resid)\n",
    "print('Statistics=%.4f, p=%.4f' % (stat, p))"
   ]
  },
  {
   "cell_type": "code",
   "execution_count": 21,
   "metadata": {},
   "outputs": [
    {
     "data": {
      "image/png": "[encoded data removed]",
      "text/plain": [
       "<Figure size 600x400 with 1 Axes>"
      ]
     },
     "metadata": {
      "needs_background": "light"
     },
     "output_type": "display_data"
    }
   ],
   "source": [
    "_ = plt.hist(results.resid, bins = \"auto\")"
   ]
  },
  {
   "cell_type": "code",
   "execution_count": 22,
   "metadata": {},
   "outputs": [
    {
     "data": {
      "image/png": "[encoded data removed]",
      "text/plain": [
       "<Figure size 600x400 with 1 Axes>"
      ]
     },
     "metadata": {
      "needs_background": "light"
     },
     "output_type": "display_data"
    }
   ],
   "source": [
    "fig = sm.qqplot(results.resid, stats.norm, fit=True, line='45')\n",
    "plt.show()"
   ]
  },
  {
   "cell_type": "markdown",
   "metadata": {},
   "source": [
    "#### Check equal variance assumption - Bartlett's Test"
   ]
  },
  {
   "cell_type": "markdown",
   "metadata": {},
   "source": [
    "$$H_0: \\text{Variance of different treatment groups are equal}$$  \n",
    "$$H_1: \\text{At least two treatment groups have different variance}$$"
   ]
  },
  {
   "cell_type": "code",
   "execution_count": 23,
   "metadata": {},
   "outputs": [
    {
     "data": {
      "text/plain": [
       "BartlettResult(statistic=83.37605738432954, pvalue=1.6482793553106593e-16)"
      ]
     },
     "execution_count": 23,
     "metadata": {},
     "output_type": "execute_result"
    }
   ],
   "source": [
    "df2['resid'] = results.resid\n",
    "stats.bartlett(df2['resid'][df2['Holiday_Type'] == 'Weekday'], \n",
    "               df2['resid'][df2['Holiday_Type'] == 'Weekend'], \n",
    "               df2['resid'][df2['Holiday_Type'] == 'Traditional'],\n",
    "                df2['resid'][df2['Holiday_Type'] == 'National'],\n",
    "                df2['resid'][df2['Holiday_Type'] == 'Western'],\n",
    "              df2['resid'][df2['Holiday_Type'] == 'Fother'])"
   ]
  },
  {
   "cell_type": "markdown",
   "metadata": {},
   "source": [
    "### Nonparametric - Kruskal"
   ]
  },
  {
   "cell_type": "code",
   "execution_count": 24,
   "metadata": {},
   "outputs": [
    {
     "data": {
      "text/html": [
       "<div>\n",
       "<style scoped>\n",
       "    .dataframe tbody tr th:only-of-type {\n",
       "        vertical-align: middle;\n",
       "    }\n",
       "\n",
       "    .dataframe tbody tr th {\n",
       "        vertical-align: top;\n",
       "    }\n",
       "\n",
       "    .dataframe thead th {\n",
       "        text-align: right;\n",
       "    }\n",
       "</style>\n",
       "<table border=\"1\" class=\"dataframe\">\n",
       "  <thead>\n",
       "    <tr style=\"text-align: right;\">\n",
       "      <th></th>\n",
       "      <th>value</th>\n",
       "      <th>rank</th>\n",
       "    </tr>\n",
       "  </thead>\n",
       "  <tbody>\n",
       "    <tr>\n",
       "      <th>0</th>\n",
       "      <td>149936.0</td>\n",
       "      <td>1.0</td>\n",
       "    </tr>\n",
       "    <tr>\n",
       "      <th>1</th>\n",
       "      <td>150242.0</td>\n",
       "      <td>2.0</td>\n",
       "    </tr>\n",
       "    <tr>\n",
       "      <th>2</th>\n",
       "      <td>152420.0</td>\n",
       "      <td>3.0</td>\n",
       "    </tr>\n",
       "    <tr>\n",
       "      <th>3</th>\n",
       "      <td>160534.0</td>\n",
       "      <td>4.0</td>\n",
       "    </tr>\n",
       "    <tr>\n",
       "      <th>4</th>\n",
       "      <td>168154.0</td>\n",
       "      <td>5.0</td>\n",
       "    </tr>\n",
       "    <tr>\n",
       "      <th>...</th>\n",
       "      <td>...</td>\n",
       "      <td>...</td>\n",
       "    </tr>\n",
       "    <tr>\n",
       "      <th>2637</th>\n",
       "      <td>2658619.0</td>\n",
       "      <td>2643.0</td>\n",
       "    </tr>\n",
       "    <tr>\n",
       "      <th>2638</th>\n",
       "      <td>2668231.0</td>\n",
       "      <td>2644.0</td>\n",
       "    </tr>\n",
       "    <tr>\n",
       "      <th>2639</th>\n",
       "      <td>2678263.0</td>\n",
       "      <td>2645.0</td>\n",
       "    </tr>\n",
       "    <tr>\n",
       "      <th>2640</th>\n",
       "      <td>3028347.0</td>\n",
       "      <td>2646.0</td>\n",
       "    </tr>\n",
       "    <tr>\n",
       "      <th>2641</th>\n",
       "      <td>3206078.0</td>\n",
       "      <td>2647.0</td>\n",
       "    </tr>\n",
       "  </tbody>\n",
       "</table>\n",
       "<p>2642 rows × 2 columns</p>\n",
       "</div>"
      ],
      "text/plain": [
       "          value    rank\n",
       "0      149936.0     1.0\n",
       "1      150242.0     2.0\n",
       "2      152420.0     3.0\n",
       "3      160534.0     4.0\n",
       "4      168154.0     5.0\n",
       "...         ...     ...\n",
       "2637  2658619.0  2643.0\n",
       "2638  2668231.0  2644.0\n",
       "2639  2678263.0  2645.0\n",
       "2640  3028347.0  2646.0\n",
       "2641  3206078.0  2647.0\n",
       "\n",
       "[2642 rows x 2 columns]"
      ]
     },
     "execution_count": 24,
     "metadata": {},
     "output_type": "execute_result"
    }
   ],
   "source": [
    "alldata = np.array([])\n",
    "for day in days:\n",
    "    alldata = np.concatenate([alldata, day])\n",
    "alldata.sort()\n",
    "tmpdf = pd.DataFrame(({'value': alldata}))\n",
    "tmpdf['rank'] = tmpdf.index + 1\n",
    "value2rank = tmpdf.groupby('value').mean().reset_index()\n",
    "value2rank"
   ]
  },
  {
   "cell_type": "code",
   "execution_count": 25,
   "metadata": {},
   "outputs": [
    {
     "name": "stdout",
     "output_type": "stream",
     "text": [
      "T0 = 2873485.0\n",
      "T1 = 494451.0\n",
      "T2 = 28859.0\n",
      "T3 = 66229.0\n",
      "T4 = 33305.0\n",
      "T5 = 8299.0\n"
     ]
    }
   ],
   "source": [
    "T = []\n",
    "for i, day in enumerate(days):\n",
    "    samp = pd.DataFrame({'value': day})\n",
    "    samp = pd.merge(samp, value2rank)\n",
    "    T.append(samp['rank'].sum())\n",
    "    print(f\"T%s = {T[i]}\"%(i))"
   ]
  },
  {
   "cell_type": "code",
   "execution_count": 26,
   "metadata": {},
   "outputs": [
    {
     "name": "stdout",
     "output_type": "stream",
     "text": [
      "H = 875.1149296574622\n",
      "p-value = 0.0\n"
     ]
    }
   ],
   "source": [
    "n = []\n",
    "columns = ['Weekday', 'Weekend', 'Traditional', 'National', 'Western', 'Fother']\n",
    "for column in columns:\n",
    "    n.append(df1[column].dropna().shape[0])\n",
    "    \n",
    "T = np.array(T)\n",
    "n = np.array(n)\n",
    "x = T ** 2 / n\n",
    "k = 6\n",
    "n = n.sum()\n",
    "H = 12 / (n * (n + 1)) * (x.sum()) - 3 * (n + 1)\n",
    "pvalue = 1 - stats.chi2.cdf(H, k - 1)\n",
    "\n",
    "print(f\"H = {H}\")\n",
    "print(f\"p-value = {pvalue}\")"
   ]
  },
  {
   "cell_type": "markdown",
   "metadata": {},
   "source": [
    "## 假期長度"
   ]
  },
  {
   "cell_type": "markdown",
   "metadata": {},
   "source": [
    "### Parametric - One Way Anova"
   ]
  },
  {
   "cell_type": "code",
   "execution_count": 27,
   "metadata": {},
   "outputs": [],
   "source": [
    "days_len = [[]for i in range(6)]"
   ]
  },
  {
   "cell_type": "code",
   "execution_count": 28,
   "metadata": {},
   "outputs": [],
   "source": [
    "year = np.arange(2015, 2023, 1)\n",
    "month = np.arange(1, 13, 1)\n",
    "for y in year:\n",
    "    if(y == 2022):\n",
    "        month = np.arange(1, 4, 1)\n",
    "    for m in month:\n",
    "        for d in np.arange(1, calendar.monthrange(y,m)[1] + 1, 1):\n",
    "            today = datetime(y,m,d)\n",
    "            length = getHolidayLength(today)\n",
    "            if(length > 4):\n",
    "                days_len[5].append(transportCnt[today])\n",
    "            else:\n",
    "                days_len[length].append(transportCnt[today])"
   ]
  },
  {
   "cell_type": "code",
   "execution_count": 29,
   "metadata": {},
   "outputs": [
    {
     "data": {
      "text/html": [
       "<div>\n",
       "<style scoped>\n",
       "    .dataframe tbody tr th:only-of-type {\n",
       "        vertical-align: middle;\n",
       "    }\n",
       "\n",
       "    .dataframe tbody tr th {\n",
       "        vertical-align: top;\n",
       "    }\n",
       "\n",
       "    .dataframe thead th {\n",
       "        text-align: right;\n",
       "    }\n",
       "</style>\n",
       "<table border=\"1\" class=\"dataframe\">\n",
       "  <thead>\n",
       "    <tr style=\"text-align: right;\">\n",
       "      <th></th>\n",
       "      <th>Normal</th>\n",
       "      <th>One</th>\n",
       "      <th>Two</th>\n",
       "      <th>Three</th>\n",
       "      <th>Four</th>\n",
       "      <th>FourPlus</th>\n",
       "    </tr>\n",
       "  </thead>\n",
       "  <tbody>\n",
       "    <tr>\n",
       "      <th>0</th>\n",
       "      <td>1915326.0</td>\n",
       "      <td>1402500.0</td>\n",
       "      <td>1897089.0</td>\n",
       "      <td>2031991.0</td>\n",
       "      <td>1796950.0</td>\n",
       "      <td>751526.0</td>\n",
       "    </tr>\n",
       "    <tr>\n",
       "      <th>1</th>\n",
       "      <td>1945591.0</td>\n",
       "      <td>1690886.0</td>\n",
       "      <td>1551238.0</td>\n",
       "      <td>2081276.0</td>\n",
       "      <td>1830184.0</td>\n",
       "      <td>1342552.0</td>\n",
       "    </tr>\n",
       "    <tr>\n",
       "      <th>2</th>\n",
       "      <td>1965860.0</td>\n",
       "      <td>1830443.0</td>\n",
       "      <td>1884434.0</td>\n",
       "      <td>2017620.0</td>\n",
       "      <td>1802037.0</td>\n",
       "      <td>1356261.0</td>\n",
       "    </tr>\n",
       "    <tr>\n",
       "      <th>3</th>\n",
       "      <td>1987913.0</td>\n",
       "      <td>1695510.0</td>\n",
       "      <td>1631624.0</td>\n",
       "      <td>1985334.0</td>\n",
       "      <td>1585463.0</td>\n",
       "      <td>1678593.0</td>\n",
       "    </tr>\n",
       "    <tr>\n",
       "      <th>4</th>\n",
       "      <td>2163929.0</td>\n",
       "      <td>1853602.0</td>\n",
       "      <td>1901482.0</td>\n",
       "      <td>1708675.0</td>\n",
       "      <td>1769724.0</td>\n",
       "      <td>1653840.0</td>\n",
       "    </tr>\n",
       "    <tr>\n",
       "      <th>...</th>\n",
       "      <td>...</td>\n",
       "      <td>...</td>\n",
       "      <td>...</td>\n",
       "      <td>...</td>\n",
       "      <td>...</td>\n",
       "      <td>...</td>\n",
       "    </tr>\n",
       "    <tr>\n",
       "      <th>1788</th>\n",
       "      <td>2172261.0</td>\n",
       "      <td>NaN</td>\n",
       "      <td>NaN</td>\n",
       "      <td>NaN</td>\n",
       "      <td>NaN</td>\n",
       "      <td>NaN</td>\n",
       "    </tr>\n",
       "    <tr>\n",
       "      <th>1789</th>\n",
       "      <td>1919316.0</td>\n",
       "      <td>NaN</td>\n",
       "      <td>NaN</td>\n",
       "      <td>NaN</td>\n",
       "      <td>NaN</td>\n",
       "      <td>NaN</td>\n",
       "    </tr>\n",
       "    <tr>\n",
       "      <th>1790</th>\n",
       "      <td>1940394.0</td>\n",
       "      <td>NaN</td>\n",
       "      <td>NaN</td>\n",
       "      <td>NaN</td>\n",
       "      <td>NaN</td>\n",
       "      <td>NaN</td>\n",
       "    </tr>\n",
       "    <tr>\n",
       "      <th>1791</th>\n",
       "      <td>1969018.0</td>\n",
       "      <td>NaN</td>\n",
       "      <td>NaN</td>\n",
       "      <td>NaN</td>\n",
       "      <td>NaN</td>\n",
       "      <td>NaN</td>\n",
       "    </tr>\n",
       "    <tr>\n",
       "      <th>1792</th>\n",
       "      <td>1958461.0</td>\n",
       "      <td>NaN</td>\n",
       "      <td>NaN</td>\n",
       "      <td>NaN</td>\n",
       "      <td>NaN</td>\n",
       "      <td>NaN</td>\n",
       "    </tr>\n",
       "  </tbody>\n",
       "</table>\n",
       "<p>1793 rows × 6 columns</p>\n",
       "</div>"
      ],
      "text/plain": [
       "         Normal        One        Two      Three       Four   FourPlus\n",
       "0     1915326.0  1402500.0  1897089.0  2031991.0  1796950.0   751526.0\n",
       "1     1945591.0  1690886.0  1551238.0  2081276.0  1830184.0  1342552.0\n",
       "2     1965860.0  1830443.0  1884434.0  2017620.0  1802037.0  1356261.0\n",
       "3     1987913.0  1695510.0  1631624.0  1985334.0  1585463.0  1678593.0\n",
       "4     2163929.0  1853602.0  1901482.0  1708675.0  1769724.0  1653840.0\n",
       "...         ...        ...        ...        ...        ...        ...\n",
       "1788  2172261.0        NaN        NaN        NaN        NaN        NaN\n",
       "1789  1919316.0        NaN        NaN        NaN        NaN        NaN\n",
       "1790  1940394.0        NaN        NaN        NaN        NaN        NaN\n",
       "1791  1969018.0        NaN        NaN        NaN        NaN        NaN\n",
       "1792  1958461.0        NaN        NaN        NaN        NaN        NaN\n",
       "\n",
       "[1793 rows x 6 columns]"
      ]
     },
     "execution_count": 29,
     "metadata": {},
     "output_type": "execute_result"
    }
   ],
   "source": [
    "df1 = pd.DataFrame(days_len).T\n",
    "columns = ['Normal', 'One', 'Two', 'Three', 'Four', 'FourPlus']\n",
    "df1.columns = columns\n",
    "df1"
   ]
  },
  {
   "cell_type": "code",
   "execution_count": 30,
   "metadata": {},
   "outputs": [
    {
     "name": "stdout",
     "output_type": "stream",
     "text": [
      "Head of dataset:\n"
     ]
    },
    {
     "data": {
      "text/html": [
       "<div>\n",
       "<style scoped>\n",
       "    .dataframe tbody tr th:only-of-type {\n",
       "        vertical-align: middle;\n",
       "    }\n",
       "\n",
       "    .dataframe tbody tr th {\n",
       "        vertical-align: top;\n",
       "    }\n",
       "\n",
       "    .dataframe thead th {\n",
       "        text-align: right;\n",
       "    }\n",
       "</style>\n",
       "<table border=\"1\" class=\"dataframe\">\n",
       "  <thead>\n",
       "    <tr style=\"text-align: right;\">\n",
       "      <th></th>\n",
       "      <th>id</th>\n",
       "      <th>Holiday_Type</th>\n",
       "      <th>TPcnt</th>\n",
       "    </tr>\n",
       "  </thead>\n",
       "  <tbody>\n",
       "    <tr>\n",
       "      <th>0</th>\n",
       "      <td>0</td>\n",
       "      <td>Normal</td>\n",
       "      <td>1915326.0</td>\n",
       "    </tr>\n",
       "    <tr>\n",
       "      <th>1</th>\n",
       "      <td>1</td>\n",
       "      <td>Normal</td>\n",
       "      <td>1945591.0</td>\n",
       "    </tr>\n",
       "    <tr>\n",
       "      <th>2</th>\n",
       "      <td>2</td>\n",
       "      <td>Normal</td>\n",
       "      <td>1965860.0</td>\n",
       "    </tr>\n",
       "    <tr>\n",
       "      <th>3</th>\n",
       "      <td>3</td>\n",
       "      <td>Normal</td>\n",
       "      <td>1987913.0</td>\n",
       "    </tr>\n",
       "    <tr>\n",
       "      <th>4</th>\n",
       "      <td>4</td>\n",
       "      <td>Normal</td>\n",
       "      <td>2163929.0</td>\n",
       "    </tr>\n",
       "  </tbody>\n",
       "</table>\n",
       "</div>"
      ],
      "text/plain": [
       "   id Holiday_Type      TPcnt\n",
       "0   0       Normal  1915326.0\n",
       "1   1       Normal  1945591.0\n",
       "2   2       Normal  1965860.0\n",
       "3   3       Normal  1987913.0\n",
       "4   4       Normal  2163929.0"
      ]
     },
     "metadata": {},
     "output_type": "display_data"
    },
    {
     "name": "stdout",
     "output_type": "stream",
     "text": [
      "Tail of dataset:\n"
     ]
    },
    {
     "data": {
      "text/html": [
       "<div>\n",
       "<style scoped>\n",
       "    .dataframe tbody tr th:only-of-type {\n",
       "        vertical-align: middle;\n",
       "    }\n",
       "\n",
       "    .dataframe tbody tr th {\n",
       "        vertical-align: top;\n",
       "    }\n",
       "\n",
       "    .dataframe thead th {\n",
       "        text-align: right;\n",
       "    }\n",
       "</style>\n",
       "<table border=\"1\" class=\"dataframe\">\n",
       "  <thead>\n",
       "    <tr style=\"text-align: right;\">\n",
       "      <th></th>\n",
       "      <th>id</th>\n",
       "      <th>Holiday_Type</th>\n",
       "      <th>TPcnt</th>\n",
       "    </tr>\n",
       "  </thead>\n",
       "  <tbody>\n",
       "    <tr>\n",
       "      <th>2642</th>\n",
       "      <td>52</td>\n",
       "      <td>FourPlus</td>\n",
       "      <td>1469423.0</td>\n",
       "    </tr>\n",
       "    <tr>\n",
       "      <th>2643</th>\n",
       "      <td>53</td>\n",
       "      <td>FourPlus</td>\n",
       "      <td>1386871.0</td>\n",
       "    </tr>\n",
       "    <tr>\n",
       "      <th>2644</th>\n",
       "      <td>54</td>\n",
       "      <td>FourPlus</td>\n",
       "      <td>981204.0</td>\n",
       "    </tr>\n",
       "    <tr>\n",
       "      <th>2645</th>\n",
       "      <td>55</td>\n",
       "      <td>FourPlus</td>\n",
       "      <td>733248.0</td>\n",
       "    </tr>\n",
       "    <tr>\n",
       "      <th>2646</th>\n",
       "      <td>56</td>\n",
       "      <td>FourPlus</td>\n",
       "      <td>525312.0</td>\n",
       "    </tr>\n",
       "  </tbody>\n",
       "</table>\n",
       "</div>"
      ],
      "text/plain": [
       "      id Holiday_Type      TPcnt\n",
       "2642  52     FourPlus  1469423.0\n",
       "2643  53     FourPlus  1386871.0\n",
       "2644  54     FourPlus   981204.0\n",
       "2645  55     FourPlus   733248.0\n",
       "2646  56     FourPlus   525312.0"
      ]
     },
     "metadata": {},
     "output_type": "display_data"
    }
   ],
   "source": [
    "# wide_to_long假設同樣資料在不同因素下的名稱有相同的字頭，因此我們要改欄位名稱。\n",
    "# df1b = df1.rename(columns={'Normal': 'TPcnt_normal', \"One\": \"TPcnt_one\", \n",
    "#                           \"Two\": \"TPcnt_two\", \"Three\": \"TPcnt_three\"\n",
    "#                          , \"Four\": \"TPcnt_four\", \"FourPlus\": \"TPcnt_fourplus\"})\n",
    "df1b = df1.copy()\n",
    "df1b.columns = [\"TPcnt_\" + str(column) for column in columns]\n",
    "# 需要一個ID欄位\n",
    "df1b[\"id\"] = df1b.index\n",
    "# 呼叫wide_to_long(); 文件請見: https://pandas.pydata.org/pandas-docs/stable/reference/api/pandas.wide_to_long.html\n",
    "df2 = pd.wide_to_long(df1b, [\"TPcnt\"], sep=\"_\", suffix='\\w+', i=\"id\", j=\"Holiday_Type\").dropna().reset_index()\n",
    "print(\"Head of dataset:\")\n",
    "display(df2.head())\n",
    "print(\"Tail of dataset:\")\n",
    "display(df2.tail())"
   ]
  },
  {
   "cell_type": "code",
   "execution_count": 31,
   "metadata": {},
   "outputs": [
    {
     "data": {
      "text/html": [
       "<div>\n",
       "<style scoped>\n",
       "    .dataframe tbody tr th:only-of-type {\n",
       "        vertical-align: middle;\n",
       "    }\n",
       "\n",
       "    .dataframe tbody tr th {\n",
       "        vertical-align: top;\n",
       "    }\n",
       "\n",
       "    .dataframe thead th {\n",
       "        text-align: right;\n",
       "    }\n",
       "</style>\n",
       "<table border=\"1\" class=\"dataframe\">\n",
       "  <thead>\n",
       "    <tr style=\"text-align: right;\">\n",
       "      <th></th>\n",
       "      <th>sum_sq</th>\n",
       "      <th>df</th>\n",
       "      <th>F</th>\n",
       "      <th>PR(&gt;F)</th>\n",
       "    </tr>\n",
       "  </thead>\n",
       "  <tbody>\n",
       "    <tr>\n",
       "      <th>C(Holiday_Type)</th>\n",
       "      <td>1.035844e+14</td>\n",
       "      <td>5.0</td>\n",
       "      <td>154.799103</td>\n",
       "      <td>1.571406e-144</td>\n",
       "    </tr>\n",
       "    <tr>\n",
       "      <th>Residual</th>\n",
       "      <td>3.534469e+14</td>\n",
       "      <td>2641.0</td>\n",
       "      <td>NaN</td>\n",
       "      <td>NaN</td>\n",
       "    </tr>\n",
       "  </tbody>\n",
       "</table>\n",
       "</div>"
      ],
      "text/plain": [
       "                       sum_sq      df           F         PR(>F)\n",
       "C(Holiday_Type)  1.035844e+14     5.0  154.799103  1.571406e-144\n",
       "Residual         3.534469e+14  2641.0         NaN            NaN"
      ]
     },
     "execution_count": 31,
     "metadata": {},
     "output_type": "execute_result"
    }
   ],
   "source": [
    "results = smf.ols('TPcnt ~ C(Holiday_Type)', data=df2).fit()\n",
    "# results.summary()\n",
    "aov_table = sms.anova_lm(results, typ=2)\n",
    "aov_table"
   ]
  },
  {
   "cell_type": "code",
   "execution_count": 32,
   "metadata": {},
   "outputs": [
    {
     "name": "stdout",
     "output_type": "stream",
     "text": [
      "         Multiple Comparison of Means - Tukey HSD, FWER=0.05          \n",
      "======================================================================\n",
      " group1   group2    meandiff   p-adj     lower        upper     reject\n",
      "----------------------------------------------------------------------\n",
      "    Four FourPlus -198107.8362 0.0376 -389547.7985   -6667.8738   True\n",
      "    Four   Normal  504181.5289  0.001  369416.1429  638946.9149   True\n",
      "    Four      One  141280.0323    0.9 -304761.5816  587321.6462  False\n",
      "    Four    Three  -71461.4098 0.8641 -254022.2601  111099.4405  False\n",
      "    Four      Two  154316.2898 0.0189   15738.6443  292893.9354   True\n",
      "FourPlus   Normal  702289.3651  0.001   561926.998  842651.7322   True\n",
      "FourPlus      One  339387.8684 0.2562 -108376.5855  787152.3223  False\n",
      "FourPlus    Three  126646.4264 0.3827  -60084.2591  313377.1119  False\n",
      "FourPlus      Two   352424.126  0.001  208397.5705  496450.6815   True\n",
      "  Normal      One -362901.4967 0.1476 -789522.4716   63719.4783  False\n",
      "  Normal    Three -575642.9387  0.001 -703630.4341 -447655.4433   True\n",
      "  Normal      Two -349865.2391  0.001 -397363.6471 -302366.8311   True\n",
      "     One    Three  -212741.442 0.7198 -656782.2183  231299.3343  False\n",
      "     One      Two   13036.2576    0.9 -414804.2627  440876.7779  False\n",
      "   Three      Two  225777.6996  0.001   93782.0423  357773.3569   True\n",
      "----------------------------------------------------------------------\n"
     ]
    }
   ],
   "source": [
    "mc = smm.MultiComparison(df2['TPcnt'], df2['Holiday_Type'])\n",
    "print(mc.tukeyhsd().summary())"
   ]
  },
  {
   "cell_type": "code",
   "execution_count": 33,
   "metadata": {},
   "outputs": [
    {
     "name": "stderr",
     "output_type": "stream",
     "text": [
      "D:\\New folder\\lib\\site-packages\\statsmodels\\sandbox\\stats\\multicomp.py:775: UserWarning: FixedFormatter should only be used together with FixedLocator\n",
      "  ax1.set_yticklabels(np.insert(self.groupsunique.astype(str), 0, ''))\n"
     ]
    },
    {
     "data": {
      "image/png": "[encoded data removed]",
      "text/plain": [
       "<Figure size 1000x600 with 1 Axes>"
      ]
     },
     "metadata": {
      "needs_background": "light"
     },
     "output_type": "display_data"
    }
   ],
   "source": [
    "_ = mc.tukeyhsd().plot_simultaneous()"
   ]
  },
  {
   "cell_type": "markdown",
   "metadata": {},
   "source": [
    "### Required Condition"
   ]
  },
  {
   "cell_type": "markdown",
   "metadata": {},
   "source": [
    "#### Check normality assumption - Shapiro Wilk Test"
   ]
  },
  {
   "cell_type": "markdown",
   "metadata": {},
   "source": [
    "$$H_0: \\text{residual of all datapoints are normally distributed}$$  \n",
    "$$H_1: \\text{residual of all datapoints are not normally distributed}$$  "
   ]
  },
  {
   "cell_type": "code",
   "execution_count": 34,
   "metadata": {},
   "outputs": [
    {
     "name": "stdout",
     "output_type": "stream",
     "text": [
      "Statistics=0.7783, p=0.0000\n"
     ]
    }
   ],
   "source": [
    "stat, p = stats.shapiro(results.resid)\n",
    "print('Statistics=%.4f, p=%.4f' % (stat, p))"
   ]
  },
  {
   "cell_type": "code",
   "execution_count": 35,
   "metadata": {},
   "outputs": [
    {
     "data": {
      "image/png": "[encoded data removed]",
      "text/plain": [
       "<Figure size 600x400 with 1 Axes>"
      ]
     },
     "metadata": {
      "needs_background": "light"
     },
     "output_type": "display_data"
    }
   ],
   "source": [
    "_ = plt.hist(results.resid, bins = \"auto\")"
   ]
  },
  {
   "cell_type": "code",
   "execution_count": 36,
   "metadata": {},
   "outputs": [
    {
     "data": {
      "image/png": "[encoded data removed]",
      "text/plain": [
       "<Figure size 600x400 with 1 Axes>"
      ]
     },
     "metadata": {
      "needs_background": "light"
     },
     "output_type": "display_data"
    }
   ],
   "source": [
    "fig = sm.qqplot(results.resid, stats.norm, fit=True, line='45')\n",
    "plt.show()"
   ]
  },
  {
   "cell_type": "markdown",
   "metadata": {},
   "source": [
    "### Nonparametric - Kruskal"
   ]
  },
  {
   "cell_type": "code",
   "execution_count": 50,
   "metadata": {},
   "outputs": [
    {
     "data": {
      "text/html": [
       "<div>\n",
       "<style scoped>\n",
       "    .dataframe tbody tr th:only-of-type {\n",
       "        vertical-align: middle;\n",
       "    }\n",
       "\n",
       "    .dataframe tbody tr th {\n",
       "        vertical-align: top;\n",
       "    }\n",
       "\n",
       "    .dataframe thead th {\n",
       "        text-align: right;\n",
       "    }\n",
       "</style>\n",
       "<table border=\"1\" class=\"dataframe\">\n",
       "  <thead>\n",
       "    <tr style=\"text-align: right;\">\n",
       "      <th></th>\n",
       "      <th>value</th>\n",
       "      <th>rank</th>\n",
       "    </tr>\n",
       "  </thead>\n",
       "  <tbody>\n",
       "    <tr>\n",
       "      <th>0</th>\n",
       "      <td>149936.0</td>\n",
       "      <td>1.0</td>\n",
       "    </tr>\n",
       "    <tr>\n",
       "      <th>1</th>\n",
       "      <td>150242.0</td>\n",
       "      <td>2.0</td>\n",
       "    </tr>\n",
       "    <tr>\n",
       "      <th>2</th>\n",
       "      <td>152420.0</td>\n",
       "      <td>3.0</td>\n",
       "    </tr>\n",
       "    <tr>\n",
       "      <th>3</th>\n",
       "      <td>160534.0</td>\n",
       "      <td>4.0</td>\n",
       "    </tr>\n",
       "    <tr>\n",
       "      <th>4</th>\n",
       "      <td>168154.0</td>\n",
       "      <td>5.0</td>\n",
       "    </tr>\n",
       "    <tr>\n",
       "      <th>...</th>\n",
       "      <td>...</td>\n",
       "      <td>...</td>\n",
       "    </tr>\n",
       "    <tr>\n",
       "      <th>2637</th>\n",
       "      <td>2658619.0</td>\n",
       "      <td>2643.0</td>\n",
       "    </tr>\n",
       "    <tr>\n",
       "      <th>2638</th>\n",
       "      <td>2668231.0</td>\n",
       "      <td>2644.0</td>\n",
       "    </tr>\n",
       "    <tr>\n",
       "      <th>2639</th>\n",
       "      <td>2678263.0</td>\n",
       "      <td>2645.0</td>\n",
       "    </tr>\n",
       "    <tr>\n",
       "      <th>2640</th>\n",
       "      <td>3028347.0</td>\n",
       "      <td>2646.0</td>\n",
       "    </tr>\n",
       "    <tr>\n",
       "      <th>2641</th>\n",
       "      <td>3206078.0</td>\n",
       "      <td>2647.0</td>\n",
       "    </tr>\n",
       "  </tbody>\n",
       "</table>\n",
       "<p>2642 rows × 2 columns</p>\n",
       "</div>"
      ],
      "text/plain": [
       "          value    rank\n",
       "0      149936.0     1.0\n",
       "1      150242.0     2.0\n",
       "2      152420.0     3.0\n",
       "3      160534.0     4.0\n",
       "4      168154.0     5.0\n",
       "...         ...     ...\n",
       "2637  2658619.0  2643.0\n",
       "2638  2668231.0  2644.0\n",
       "2639  2678263.0  2645.0\n",
       "2640  3028347.0  2646.0\n",
       "2641  3206078.0  2647.0\n",
       "\n",
       "[2642 rows x 2 columns]"
      ]
     },
     "execution_count": 50,
     "metadata": {},
     "output_type": "execute_result"
    }
   ],
   "source": [
    "alldata = np.array([])\n",
    "for day in days_len:\n",
    "    alldata = np.concatenate([alldata, day])\n",
    "alldata.sort()\n",
    "tmpdf = pd.DataFrame(({'value': alldata}))\n",
    "tmpdf['rank'] = tmpdf.index + 1\n",
    "value2rank = tmpdf.groupby('value').mean().reset_index()\n",
    "value2rank"
   ]
  },
  {
   "cell_type": "code",
   "execution_count": 55,
   "metadata": {},
   "outputs": [
    {
     "name": "stdout",
     "output_type": "stream",
     "text": [
      "T0 = 2910241.0\n",
      "T1 = 3373.0\n",
      "T2 = 513826.0\n",
      "T3 = 32285.0\n",
      "T4 = 27498.0\n",
      "T5 = 17405.0\n"
     ]
    }
   ],
   "source": [
    "T = []\n",
    "for i, day in enumerate(days_len):\n",
    "    samp = pd.DataFrame({'value': day})\n",
    "    samp = pd.merge(samp, value2rank)\n",
    "    T.append(samp['rank'].sum())\n",
    "    print(f\"T%s = {T[i]}\"%(i))"
   ]
  },
  {
   "cell_type": "code",
   "execution_count": 39,
   "metadata": {},
   "outputs": [
    {
     "name": "stdout",
     "output_type": "stream",
     "text": [
      "H = 886.9305419389802\n",
      "p-value = 0.0\n"
     ]
    }
   ],
   "source": [
    "n = []\n",
    "columns = ['Normal', 'One', 'Two', 'Three', 'Four', 'FourPlus']\n",
    "for column in columns:\n",
    "    n.append(df1[column].dropna().shape[0])\n",
    "# print(n)\n",
    "T = np.array(T)\n",
    "n = np.array(n)\n",
    "x = T ** 2 / n\n",
    "k = 6\n",
    "n = n.sum()\n",
    "H = 12 / (n * (n + 1)) * (x.sum()) - 3 * (n + 1)\n",
    "pvalue = 1 - stats.chi2.cdf(H, k - 1)\n",
    "\n",
    "print(f\"H = {H}\")\n",
    "print(f\"p-value = {pvalue}\")"
   ]
  },
  {
   "cell_type": "markdown",
   "metadata": {},
   "source": [
    "## 情人節"
   ]
  },
  {
   "cell_type": "code",
   "execution_count": 40,
   "metadata": {},
   "outputs": [],
   "source": [
    "valentines = [[] for i in range(12)]"
   ]
  },
  {
   "cell_type": "code",
   "execution_count": 41,
   "metadata": {},
   "outputs": [],
   "source": [
    "year = np.arange(2015, 2023, 1)\n",
    "month = np.arange(1, 13, 1)\n",
    "for y in year:\n",
    "    if(y == 2022):\n",
    "        month = np.arange(1, 4, 1)\n",
    "    for m in month:\n",
    "        valentines[m - 1].append(transportCnt[datetime(y, m, 14)])"
   ]
  },
  {
   "cell_type": "code",
   "execution_count": 42,
   "metadata": {},
   "outputs": [
    {
     "data": {
      "text/html": [
       "<div>\n",
       "<style scoped>\n",
       "    .dataframe tbody tr th:only-of-type {\n",
       "        vertical-align: middle;\n",
       "    }\n",
       "\n",
       "    .dataframe tbody tr th {\n",
       "        vertical-align: top;\n",
       "    }\n",
       "\n",
       "    .dataframe thead th {\n",
       "        text-align: right;\n",
       "    }\n",
       "</style>\n",
       "<table border=\"1\" class=\"dataframe\">\n",
       "  <thead>\n",
       "    <tr style=\"text-align: right;\">\n",
       "      <th></th>\n",
       "      <th>TPcnt_1</th>\n",
       "      <th>TPcnt_2</th>\n",
       "      <th>TPcnt_3</th>\n",
       "      <th>TPcnt_4</th>\n",
       "      <th>TPcnt_5</th>\n",
       "      <th>TPcnt_6</th>\n",
       "      <th>TPcnt_7</th>\n",
       "      <th>TPcnt_8</th>\n",
       "      <th>TPcnt_9</th>\n",
       "      <th>TPcnt_10</th>\n",
       "      <th>TPcnt_11</th>\n",
       "      <th>TPcnt_12</th>\n",
       "    </tr>\n",
       "  </thead>\n",
       "  <tbody>\n",
       "    <tr>\n",
       "      <th>2015</th>\n",
       "      <td>1969032.0</td>\n",
       "      <td>1972064.0</td>\n",
       "      <td>2130819.0</td>\n",
       "      <td>2003426.0</td>\n",
       "      <td>2000535.0</td>\n",
       "      <td>1625054.0</td>\n",
       "      <td>2053764.0</td>\n",
       "      <td>2225728.0</td>\n",
       "      <td>2028392.0</td>\n",
       "      <td>2058401.0</td>\n",
       "      <td>2128618.0</td>\n",
       "      <td>2067831.0</td>\n",
       "    </tr>\n",
       "    <tr>\n",
       "      <th>2016</th>\n",
       "      <td>2132908.0</td>\n",
       "      <td>1571141.0</td>\n",
       "      <td>2075900.0</td>\n",
       "      <td>2114514.0</td>\n",
       "      <td>2060206.0</td>\n",
       "      <td>2020762.0</td>\n",
       "      <td>2139774.0</td>\n",
       "      <td>1751907.0</td>\n",
       "      <td>2009847.0</td>\n",
       "      <td>2375774.0</td>\n",
       "      <td>2061484.0</td>\n",
       "      <td>2164732.0</td>\n",
       "    </tr>\n",
       "    <tr>\n",
       "      <th>2017</th>\n",
       "      <td>1934888.0</td>\n",
       "      <td>2165802.0</td>\n",
       "      <td>2168801.0</td>\n",
       "      <td>2362235.0</td>\n",
       "      <td>1599230.0</td>\n",
       "      <td>2052846.0</td>\n",
       "      <td>2256065.0</td>\n",
       "      <td>2052866.0</td>\n",
       "      <td>2000767.0</td>\n",
       "      <td>1704860.0</td>\n",
       "      <td>2128134.0</td>\n",
       "      <td>2264764.0</td>\n",
       "    </tr>\n",
       "    <tr>\n",
       "      <th>2018</th>\n",
       "      <td>1644482.0</td>\n",
       "      <td>1987693.0</td>\n",
       "      <td>2228608.0</td>\n",
       "      <td>1989513.0</td>\n",
       "      <td>2089882.0</td>\n",
       "      <td>2171239.0</td>\n",
       "      <td>1957895.0</td>\n",
       "      <td>2197576.0</td>\n",
       "      <td>2372248.0</td>\n",
       "      <td>1763493.0</td>\n",
       "      <td>2238602.0</td>\n",
       "      <td>2562165.0</td>\n",
       "    </tr>\n",
       "    <tr>\n",
       "      <th>2019</th>\n",
       "      <td>2192358.0</td>\n",
       "      <td>2331604.0</td>\n",
       "      <td>2301836.0</td>\n",
       "      <td>1774276.0</td>\n",
       "      <td>2197050.0</td>\n",
       "      <td>2428458.0</td>\n",
       "      <td>1711032.0</td>\n",
       "      <td>2279835.0</td>\n",
       "      <td>1683910.0</td>\n",
       "      <td>2187500.0</td>\n",
       "      <td>2347845.0</td>\n",
       "      <td>2522817.0</td>\n",
       "    </tr>\n",
       "    <tr>\n",
       "      <th>2020</th>\n",
       "      <td>2342929.0</td>\n",
       "      <td>2147042.0</td>\n",
       "      <td>1456154.0</td>\n",
       "      <td>1714740.0</td>\n",
       "      <td>1908693.0</td>\n",
       "      <td>1342973.0</td>\n",
       "      <td>2111141.0</td>\n",
       "      <td>2222235.0</td>\n",
       "      <td>2056520.0</td>\n",
       "      <td>2171465.0</td>\n",
       "      <td>2013294.0</td>\n",
       "      <td>2163973.0</td>\n",
       "    </tr>\n",
       "    <tr>\n",
       "      <th>2021</th>\n",
       "      <td>2203013.0</td>\n",
       "      <td>1342891.0</td>\n",
       "      <td>1626631.0</td>\n",
       "      <td>2170091.0</td>\n",
       "      <td>1737951.0</td>\n",
       "      <td>176735.0</td>\n",
       "      <td>741813.0</td>\n",
       "      <td>743676.0</td>\n",
       "      <td>1446935.0</td>\n",
       "      <td>1765101.0</td>\n",
       "      <td>1306487.0</td>\n",
       "      <td>1960860.0</td>\n",
       "    </tr>\n",
       "    <tr>\n",
       "      <th>2022</th>\n",
       "      <td>2024999.0</td>\n",
       "      <td>1804237.0</td>\n",
       "      <td>1913369.0</td>\n",
       "      <td>NaN</td>\n",
       "      <td>NaN</td>\n",
       "      <td>NaN</td>\n",
       "      <td>NaN</td>\n",
       "      <td>NaN</td>\n",
       "      <td>NaN</td>\n",
       "      <td>NaN</td>\n",
       "      <td>NaN</td>\n",
       "      <td>NaN</td>\n",
       "    </tr>\n",
       "  </tbody>\n",
       "</table>\n",
       "</div>"
      ],
      "text/plain": [
       "        TPcnt_1    TPcnt_2    TPcnt_3    TPcnt_4    TPcnt_5    TPcnt_6  \\\n",
       "2015  1969032.0  1972064.0  2130819.0  2003426.0  2000535.0  1625054.0   \n",
       "2016  2132908.0  1571141.0  2075900.0  2114514.0  2060206.0  2020762.0   \n",
       "2017  1934888.0  2165802.0  2168801.0  2362235.0  1599230.0  2052846.0   \n",
       "2018  1644482.0  1987693.0  2228608.0  1989513.0  2089882.0  2171239.0   \n",
       "2019  2192358.0  2331604.0  2301836.0  1774276.0  2197050.0  2428458.0   \n",
       "2020  2342929.0  2147042.0  1456154.0  1714740.0  1908693.0  1342973.0   \n",
       "2021  2203013.0  1342891.0  1626631.0  2170091.0  1737951.0   176735.0   \n",
       "2022  2024999.0  1804237.0  1913369.0        NaN        NaN        NaN   \n",
       "\n",
       "        TPcnt_7    TPcnt_8    TPcnt_9   TPcnt_10   TPcnt_11   TPcnt_12  \n",
       "2015  2053764.0  2225728.0  2028392.0  2058401.0  2128618.0  2067831.0  \n",
       "2016  2139774.0  1751907.0  2009847.0  2375774.0  2061484.0  2164732.0  \n",
       "2017  2256065.0  2052866.0  2000767.0  1704860.0  2128134.0  2264764.0  \n",
       "2018  1957895.0  2197576.0  2372248.0  1763493.0  2238602.0  2562165.0  \n",
       "2019  1711032.0  2279835.0  1683910.0  2187500.0  2347845.0  2522817.0  \n",
       "2020  2111141.0  2222235.0  2056520.0  2171465.0  2013294.0  2163973.0  \n",
       "2021   741813.0   743676.0  1446935.0  1765101.0  1306487.0  1960860.0  \n",
       "2022        NaN        NaN        NaN        NaN        NaN        NaN  "
      ]
     },
     "execution_count": 42,
     "metadata": {},
     "output_type": "execute_result"
    }
   ],
   "source": [
    "df1 = pd.DataFrame(valentines).T\n",
    "month = np.arange(1, 13, 1)\n",
    "month = [\"TPcnt_\" + str(m) for m in month]\n",
    "df1.columns = month\n",
    "df1.index = year\n",
    "df1"
   ]
  },
  {
   "cell_type": "code",
   "execution_count": 43,
   "metadata": {},
   "outputs": [
    {
     "name": "stdout",
     "output_type": "stream",
     "text": [
      "Head of dataset:\n"
     ]
    },
    {
     "data": {
      "text/html": [
       "<div>\n",
       "<style scoped>\n",
       "    .dataframe tbody tr th:only-of-type {\n",
       "        vertical-align: middle;\n",
       "    }\n",
       "\n",
       "    .dataframe tbody tr th {\n",
       "        vertical-align: top;\n",
       "    }\n",
       "\n",
       "    .dataframe thead th {\n",
       "        text-align: right;\n",
       "    }\n",
       "</style>\n",
       "<table border=\"1\" class=\"dataframe\">\n",
       "  <thead>\n",
       "    <tr style=\"text-align: right;\">\n",
       "      <th></th>\n",
       "      <th>id</th>\n",
       "      <th>Month</th>\n",
       "      <th>TPcnt</th>\n",
       "    </tr>\n",
       "  </thead>\n",
       "  <tbody>\n",
       "    <tr>\n",
       "      <th>0</th>\n",
       "      <td>2015</td>\n",
       "      <td>1</td>\n",
       "      <td>1969032.0</td>\n",
       "    </tr>\n",
       "    <tr>\n",
       "      <th>1</th>\n",
       "      <td>2016</td>\n",
       "      <td>1</td>\n",
       "      <td>2132908.0</td>\n",
       "    </tr>\n",
       "    <tr>\n",
       "      <th>2</th>\n",
       "      <td>2017</td>\n",
       "      <td>1</td>\n",
       "      <td>1934888.0</td>\n",
       "    </tr>\n",
       "    <tr>\n",
       "      <th>3</th>\n",
       "      <td>2018</td>\n",
       "      <td>1</td>\n",
       "      <td>1644482.0</td>\n",
       "    </tr>\n",
       "    <tr>\n",
       "      <th>4</th>\n",
       "      <td>2019</td>\n",
       "      <td>1</td>\n",
       "      <td>2192358.0</td>\n",
       "    </tr>\n",
       "  </tbody>\n",
       "</table>\n",
       "</div>"
      ],
      "text/plain": [
       "     id  Month      TPcnt\n",
       "0  2015      1  1969032.0\n",
       "1  2016      1  2132908.0\n",
       "2  2017      1  1934888.0\n",
       "3  2018      1  1644482.0\n",
       "4  2019      1  2192358.0"
      ]
     },
     "metadata": {},
     "output_type": "display_data"
    },
    {
     "name": "stdout",
     "output_type": "stream",
     "text": [
      "Tail of dataset:\n"
     ]
    },
    {
     "data": {
      "text/html": [
       "<div>\n",
       "<style scoped>\n",
       "    .dataframe tbody tr th:only-of-type {\n",
       "        vertical-align: middle;\n",
       "    }\n",
       "\n",
       "    .dataframe tbody tr th {\n",
       "        vertical-align: top;\n",
       "    }\n",
       "\n",
       "    .dataframe thead th {\n",
       "        text-align: right;\n",
       "    }\n",
       "</style>\n",
       "<table border=\"1\" class=\"dataframe\">\n",
       "  <thead>\n",
       "    <tr style=\"text-align: right;\">\n",
       "      <th></th>\n",
       "      <th>id</th>\n",
       "      <th>Month</th>\n",
       "      <th>TPcnt</th>\n",
       "    </tr>\n",
       "  </thead>\n",
       "  <tbody>\n",
       "    <tr>\n",
       "      <th>90</th>\n",
       "      <td>2017</td>\n",
       "      <td>12</td>\n",
       "      <td>2264764.0</td>\n",
       "    </tr>\n",
       "    <tr>\n",
       "      <th>91</th>\n",
       "      <td>2018</td>\n",
       "      <td>12</td>\n",
       "      <td>2562165.0</td>\n",
       "    </tr>\n",
       "    <tr>\n",
       "      <th>92</th>\n",
       "      <td>2019</td>\n",
       "      <td>12</td>\n",
       "      <td>2522817.0</td>\n",
       "    </tr>\n",
       "    <tr>\n",
       "      <th>93</th>\n",
       "      <td>2020</td>\n",
       "      <td>12</td>\n",
       "      <td>2163973.0</td>\n",
       "    </tr>\n",
       "    <tr>\n",
       "      <th>94</th>\n",
       "      <td>2021</td>\n",
       "      <td>12</td>\n",
       "      <td>1960860.0</td>\n",
       "    </tr>\n",
       "  </tbody>\n",
       "</table>\n",
       "</div>"
      ],
      "text/plain": [
       "      id  Month      TPcnt\n",
       "90  2017     12  2264764.0\n",
       "91  2018     12  2562165.0\n",
       "92  2019     12  2522817.0\n",
       "93  2020     12  2163973.0\n",
       "94  2021     12  1960860.0"
      ]
     },
     "metadata": {},
     "output_type": "display_data"
    }
   ],
   "source": [
    "# 需要一個ID欄位\n",
    "df1[\"id\"] = df1.index\n",
    "# 呼叫wide_to_long(); 文件請見: https://pandas.pydata.org/pandas-docs/stable/reference/api/pandas.wide_to_long.html\n",
    "df2 = pd.wide_to_long(df1, [\"TPcnt\"], sep=\"_\", suffix='\\w+', i=\"id\", j=\"Month\").reset_index()\n",
    "df2 = df2.dropna()\n",
    "print(\"Head of dataset:\")\n",
    "display(df2.head())\n",
    "print(\"Tail of dataset:\")\n",
    "display(df2.tail())"
   ]
  },
  {
   "cell_type": "code",
   "execution_count": 44,
   "metadata": {},
   "outputs": [
    {
     "data": {
      "text/html": [
       "<div>\n",
       "<style scoped>\n",
       "    .dataframe tbody tr th:only-of-type {\n",
       "        vertical-align: middle;\n",
       "    }\n",
       "\n",
       "    .dataframe tbody tr th {\n",
       "        vertical-align: top;\n",
       "    }\n",
       "\n",
       "    .dataframe thead th {\n",
       "        text-align: right;\n",
       "    }\n",
       "</style>\n",
       "<table border=\"1\" class=\"dataframe\">\n",
       "  <thead>\n",
       "    <tr style=\"text-align: right;\">\n",
       "      <th></th>\n",
       "      <th>sum_sq</th>\n",
       "      <th>df</th>\n",
       "      <th>F</th>\n",
       "      <th>PR(&gt;F)</th>\n",
       "    </tr>\n",
       "  </thead>\n",
       "  <tbody>\n",
       "    <tr>\n",
       "      <th>C(Month)</th>\n",
       "      <td>1.337335e+12</td>\n",
       "      <td>11.0</td>\n",
       "      <td>0.823141</td>\n",
       "      <td>0.617335</td>\n",
       "    </tr>\n",
       "    <tr>\n",
       "      <th>Residual</th>\n",
       "      <td>1.107732e+13</td>\n",
       "      <td>75.0</td>\n",
       "      <td>NaN</td>\n",
       "      <td>NaN</td>\n",
       "    </tr>\n",
       "  </tbody>\n",
       "</table>\n",
       "</div>"
      ],
      "text/plain": [
       "                sum_sq    df         F    PR(>F)\n",
       "C(Month)  1.337335e+12  11.0  0.823141  0.617335\n",
       "Residual  1.107732e+13  75.0       NaN       NaN"
      ]
     },
     "execution_count": 44,
     "metadata": {},
     "output_type": "execute_result"
    }
   ],
   "source": [
    "results = smf.ols('TPcnt ~ C(Month)', data=df2).fit()\n",
    "# results.summary()\n",
    "aov_table = sms.anova_lm(results, typ=2)\n",
    "aov_table"
   ]
  },
  {
   "cell_type": "code",
   "execution_count": 45,
   "metadata": {},
   "outputs": [],
   "source": [
    "mc = smm.MultiComparison(df2['TPcnt'], df2['Month'])\n",
    "# print(mc.tukeyhsd().summary())"
   ]
  },
  {
   "cell_type": "markdown",
   "metadata": {},
   "source": [
    "### Required Condition"
   ]
  },
  {
   "cell_type": "markdown",
   "metadata": {},
   "source": [
    "#### Check normality assumption - Shapiro Wilk Test"
   ]
  },
  {
   "cell_type": "markdown",
   "metadata": {},
   "source": [
    "$$H_0: \\text{residual of all datapoints are normally distributed}$$  \n",
    "$$H_1: \\text{residual of all datapoints are not normally distributed}$$  "
   ]
  },
  {
   "cell_type": "code",
   "execution_count": 46,
   "metadata": {},
   "outputs": [
    {
     "name": "stdout",
     "output_type": "stream",
     "text": [
      "Statistics=0.8800, p=0.0000\n"
     ]
    }
   ],
   "source": [
    "stat, p = stats.shapiro(results.resid)\n",
    "print('Statistics=%.4f, p=%.4f' % (stat, p))"
   ]
  },
  {
   "cell_type": "code",
   "execution_count": 47,
   "metadata": {},
   "outputs": [
    {
     "data": {
      "image/png": "[encoded data removed]",
      "text/plain": [
       "<Figure size 600x400 with 1 Axes>"
      ]
     },
     "metadata": {
      "needs_background": "light"
     },
     "output_type": "display_data"
    }
   ],
   "source": [
    "_ = plt.hist(results.resid, bins = \"auto\")"
   ]
  },
  {
   "cell_type": "code",
   "execution_count": 48,
   "metadata": {},
   "outputs": [
    {
     "data": {
      "image/png": "[encoded data removed]",
      "text/plain": [
       "<Figure size 600x400 with 1 Axes>"
      ]
     },
     "metadata": {
      "needs_background": "light"
     },
     "output_type": "display_data"
    }
   ],
   "source": [
    "fig = sm.qqplot(results.resid, stats.norm, fit=True, line='45')\n",
    "plt.show()"
   ]
  },
  {
   "cell_type": "markdown",
   "metadata": {},
   "source": [
    "#### Check equal variance assumption - Bartlett's Test"
   ]
  },
  {
   "cell_type": "markdown",
   "metadata": {},
   "source": [
    "$$H_0: \\text{Variance of different treatment groups are equal}$$  \n",
    "$$H_1: \\text{At least two treatment groups have different variance}$$"
   ]
  },
  {
   "cell_type": "code",
   "execution_count": 49,
   "metadata": {},
   "outputs": [
    {
     "data": {
      "text/plain": [
       "BartlettResult(statistic=25.659671277120232, pvalue=0.007290221213039214)"
      ]
     },
     "execution_count": 49,
     "metadata": {},
     "output_type": "execute_result"
    }
   ],
   "source": [
    "df2['resid'] = results.resid\n",
    "stats.bartlett(df2['resid'][df2['Month'] == 1],\n",
    "              df2['resid'][df2['Month'] == 2],\n",
    "              df2['resid'][df2['Month'] == 3],\n",
    "                df2['resid'][df2['Month'] == 4],\n",
    "              df2['resid'][df2['Month'] == 5],\n",
    "              df2['resid'][df2['Month'] == 6],\n",
    "              df2['resid'][df2['Month'] == 7],\n",
    "              df2['resid'][df2['Month'] == 8],\n",
    "              df2['resid'][df2['Month'] == 9],\n",
    "              df2['resid'][df2['Month'] == 10],\n",
    "              df2['resid'][df2['Month'] == 11],\n",
    "              df2['resid'][df2['Month'] == 12],\n",
    ")"
   ]
  }
 ],
 "metadata": {
  "kernelspec": {
   "display_name": "Python 3",
   "language": "python",
   "name": "python3"
  },
  "language_info": {
   "codemirror_mode": {
    "name": "ipython",
    "version": 3
   },
   "file_extension": ".py",
   "mimetype": "text/x-python",
   "name": "python",
   "nbconvert_exporter": "python",
   "pygments_lexer": "ipython3",
   "version": "3.8.5"
  }
 },
 "nbformat": 4,
 "nbformat_minor": 5
}
