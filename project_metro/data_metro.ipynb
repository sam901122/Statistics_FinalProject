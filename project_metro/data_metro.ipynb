{
 "cells": [
  {
   "cell_type": "markdown",
   "metadata": {},
   "source": [
    "## Import library"
   ]
  },
  {
   "cell_type": "code",
   "execution_count": 1,
   "metadata": {},
   "outputs": [],
   "source": [
    "import numpy as np \n",
    "import pandas as pd \n",
    "from datetime import datetime\n",
    "import copy as cp\n",
    "import calendar"
   ]
  },
  {
   "cell_type": "code",
   "execution_count": 2,
   "metadata": {},
   "outputs": [],
   "source": [
    "# 載入所需函示庫\n",
    "import pandas as pd\n",
    "import numpy as np\n",
    "import scipy.stats as stats\n",
    "import statsmodels.api as sm\n",
    "import statsmodels.stats.api as sms\n",
    "import statsmodels.formula.api as smf\n",
    "import statsmodels.stats.multicomp as smm\n",
    "import statsmodels\n",
    "import statsmodels.stats.libqsturng\n",
    "from matplotlib import pyplot as plt\n",
    "%matplotlib inline\n",
    "# 設定圖形大小; DPI越大圖越大\n",
    "plt.rcParams[\"figure.dpi\"] = 100"
   ]
  },
  {
   "cell_type": "code",
   "execution_count": 3,
   "metadata": {},
   "outputs": [],
   "source": [
    "def strtoint(s):\n",
    "   #print(s)\n",
    "    if type(s) != str :\n",
    "        return s\n",
    "    ss = s.split(',')\n",
    "    #print(ss[0])\n",
    "    temp = 0\n",
    "    for i in range(len(ss)):\n",
    "        temp = temp * 1000 + int(ss[i])\n",
    "#     temp = float(temp / 1000000)\n",
    "    return temp"
   ]
  },
  {
   "cell_type": "markdown",
   "metadata": {},
   "source": [
    "## Build a library"
   ]
  },
  {
   "cell_type": "code",
   "execution_count": 4,
   "metadata": {},
   "outputs": [],
   "source": [
    "transportCnt = dict()"
   ]
  },
  {
   "cell_type": "code",
   "execution_count": 5,
   "metadata": {},
   "outputs": [],
   "source": [
    "year = ['2015', '2016', '2017', '2018', '2019', '2020', '2021', '2022']\n",
    "month = ['01','02','03','04','05','06','07','08','09','10','11','12']"
   ]
  },
  {
   "cell_type": "code",
   "execution_count": 6,
   "metadata": {},
   "outputs": [],
   "source": [
    "for i in year:\n",
    "    for j in month:\n",
    "        if i == '2022' and j == '04':\n",
    "            break\n",
    "        dt_name = '+OÑ_¦¦¦BÑ¦¿t¦+«+¦B¦q¦+¡p_' + i + j+'.csv'\n",
    "        df = pd.read_csv(dt_name,encoding='big5')\n",
    "        for k in range(df.shape[0]):\n",
    "            tmp = df['營運日'][k]\n",
    "            if(tmp != tmp):\n",
    "                continue\n",
    "            tmp = df['營運日'][k].split('/')\n",
    "            date = datetime(int(tmp[0]) + 1911, int(tmp[1]), int(tmp[2]))\n",
    "            transport = strtoint(df['總運量'][k])\n",
    "            transportCnt.setdefault(date,transport)"
   ]
  },
  {
   "cell_type": "markdown",
   "metadata": {},
   "source": [
    "## Functions"
   ]
  },
  {
   "cell_type": "code",
   "execution_count": 7,
   "metadata": {},
   "outputs": [],
   "source": [
    "def getHoliday(year, Holiday, df):\n",
    "    name = []\n",
    "    y = year\n",
    "    i = year - 2005\n",
    "    if(type(df[Holiday][i]) == datetime):\n",
    "        name.append(df[Holiday][i])\n",
    "    else:\n",
    "        start, end = df[Holiday][i].split('-')\n",
    "        start = start.split('/')\n",
    "        start = [int(s) for s in start]\n",
    "        end = end.split('/')\n",
    "        end = [int(s) for s in end]\n",
    "\n",
    "        if(start[0] == end[0]):\n",
    "            name += [datetime(y, start[0], x) for x in np.arange(start[1], end[1] + 1, 1)]\n",
    "        else:\n",
    "            lastday = calendar.monthrange(y, start[0])[1]\n",
    "            if(start[0] == 12):\n",
    "                name += [datetime(y - 1, start[0], x) for x in np.arange(start[1], lastday + 1, 1)]\n",
    "                name += [datetime(y, end[0], x) for x in np.arange(1, end[1] + 1, 1)]\n",
    "            else:\n",
    "                name += [datetime(y, start[0], x) for x in np.arange(start[1], lastday + 1, 1)]\n",
    "    return name"
   ]
  },
  {
   "cell_type": "code",
   "execution_count": 8,
   "metadata": {},
   "outputs": [],
   "source": [
    "def getHolidayLength(date):\n",
    "    holiday, column, i = isHoliday([date.year], h_columns, date)\n",
    "    if(holiday):\n",
    "        return int(df[column][i])\n",
    "    elif(date.isoweekday() == 6 or date.isoweekday() == 7):\n",
    "        return 2\n",
    "    else:\n",
    "        return 0"
   ]
  },
  {
   "cell_type": "code",
   "execution_count": 9,
   "metadata": {},
   "outputs": [],
   "source": [
    "def isHoliday(years, columns, date):\n",
    "    for column in columns:\n",
    "        for year in years:\n",
    "            if(date in holiday_rec[column][year - 2005]):\n",
    "                return True, column, year - 2005\n",
    "    return False, -1, -1"
   ]
  },
  {
   "cell_type": "code",
   "execution_count": 10,
   "metadata": {},
   "outputs": [],
   "source": [
    "def holiday_type(date):\n",
    "    y = date.year\n",
    "    m = date.month\n",
    "    d = date.day\n",
    "    traditional = ['春節', '端午', '中秋']\n",
    "    national = ['雙十', '二二八', '元旦', '清明', '勞動']\n",
    "    years = np.arange(2015, 2023, 1)\n",
    "    if(isHoliday(years, traditional, date)[0]):\n",
    "        return 'Traditional'\n",
    "    elif(isHoliday(years, national, date)[0]):\n",
    "        return 'National'\n",
    "    elif((m == 12 and d == 25) or (m == 2 and d == 14) or (m == 10 and d == 31)):\n",
    "        return 'Western'\n",
    "    elif((m == 8 and d == 8) or (m == 5 and d <= 14 and d >= 8 and date.isoweekday() == 7)):\n",
    "        return 'Fother'\n",
    "    elif(date.isoweekday() == 6 or date.isoweekday() == 7):\n",
    "        return 'Weekend'\n",
    "    else:\n",
    "        return 'Weekday'"
   ]
  },
  {
   "cell_type": "markdown",
   "metadata": {},
   "source": [
    "## Global"
   ]
  },
  {
   "cell_type": "code",
   "execution_count": 12,
   "metadata": {},
   "outputs": [],
   "source": [
    "df = pd.read_excel('歷年連假天數.xlsx')\n",
    "columns = ['春節.1', '端午.1', '中秋.1', '雙十.1', '二二八.1', '元旦.1', '清明.1', '勞動.1']\n",
    "years = np.arange(2005, 2023, 1)\n",
    "holiday_rec = []\n",
    "for column in columns:\n",
    "    tmp = []\n",
    "    for year in years:\n",
    "        tmp.append(getHoliday(year, column, df))\n",
    "    holiday_rec.append(tmp)\n",
    "holiday_rec = pd.DataFrame(holiday_rec).T\n",
    "h_columns = ['春節', '端午', '中秋', '雙十', '二二八', '元旦', '清明', '勞動']\n",
    "holiday_rec.columns = h_columns"
   ]
  },
  {
   "cell_type": "markdown",
   "metadata": {},
   "source": [
    "## 日子"
   ]
  },
  {
   "cell_type": "markdown",
   "metadata": {},
   "source": [
    "### Parametric - One Way Anova"
   ]
  },
  {
   "cell_type": "markdown",
   "metadata": {},
   "source": [
    "$$H_0: \\mu_{平日} = \\mu_{一般假日} = \\mu_{傳統} = \\mu_{國定} = \\mu_{西洋} = \\mu_{X親}$$  \n",
    "$$H_1: \\text{one of the equality in } H_0 \\text{ is not satisfied}$$"
   ]
  },
  {
   "cell_type": "code",
   "execution_count": 13,
   "metadata": {},
   "outputs": [],
   "source": [
    "traditional = ['春節', '端午', '中秋']\n",
    "national = ['雙十', '二二八', '元旦', '清明', '勞動']"
   ]
  },
  {
   "cell_type": "code",
   "execution_count": 14,
   "metadata": {},
   "outputs": [],
   "source": [
    "days = [[]for i in range(6)]\n",
    "check = [[]for i in range(6)]"
   ]
  },
  {
   "cell_type": "code",
   "execution_count": 15,
   "metadata": {},
   "outputs": [],
   "source": [
    "year = np.arange(2015, 2023, 1)\n",
    "month = np.arange(1, 13, 1)\n",
    "for y in year:\n",
    "    if(y == 2022):\n",
    "        month = np.arange(1, 4, 1)\n",
    "    for m in month:\n",
    "        for d in np.arange(1, calendar.monthrange(y,m)[1] + 1, 1):\n",
    "            today = datetime(y,m,d)\n",
    "            if(isHoliday(year, traditional, today)[0]):\n",
    "                days[2].append(transportCnt[today])\n",
    "            elif(isHoliday(year, national, today)[0]):\n",
    "                days[3].append(transportCnt[today])\n",
    "            elif((m == 12 and d == 25) or (m == 2 and d == 14) or (m == 10 and d == 31)):\n",
    "                days[4].append(transportCnt[today])\n",
    "            elif((m == 8 and d == 8) or (m == 5 and d <= 14 and d >= 8 and today.isoweekday() == 7)):\n",
    "                days[5].append(transportCnt[today])\n",
    "            elif(today.isoweekday() == 6 or today.isoweekday() == 7):\n",
    "                days[1].append(transportCnt[today])\n",
    "            else:\n",
    "                days[0].append(transportCnt[today])"
   ]
  },
  {
   "cell_type": "code",
   "execution_count": 16,
   "metadata": {},
   "outputs": [
    {
     "data": {
      "text/html": [
       "<div>\n",
       "<style scoped>\n",
       "    .dataframe tbody tr th:only-of-type {\n",
       "        vertical-align: middle;\n",
       "    }\n",
       "\n",
       "    .dataframe tbody tr th {\n",
       "        vertical-align: top;\n",
       "    }\n",
       "\n",
       "    .dataframe thead th {\n",
       "        text-align: right;\n",
       "    }\n",
       "</style>\n",
       "<table border=\"1\" class=\"dataframe\">\n",
       "  <thead>\n",
       "    <tr style=\"text-align: right;\">\n",
       "      <th></th>\n",
       "      <th>Weekday</th>\n",
       "      <th>Weekend</th>\n",
       "      <th>Traditional</th>\n",
       "      <th>National</th>\n",
       "      <th>Western</th>\n",
       "      <th>Fother</th>\n",
       "    </tr>\n",
       "  </thead>\n",
       "  <tbody>\n",
       "    <tr>\n",
       "      <th>0</th>\n",
       "      <td>1915326.0</td>\n",
       "      <td>1897089.0</td>\n",
       "      <td>751526.0</td>\n",
       "      <td>1796950.0</td>\n",
       "      <td>1972064.0</td>\n",
       "      <td>1514055.0</td>\n",
       "    </tr>\n",
       "    <tr>\n",
       "      <th>1</th>\n",
       "      <td>1945591.0</td>\n",
       "      <td>1551238.0</td>\n",
       "      <td>1342552.0</td>\n",
       "      <td>1830184.0</td>\n",
       "      <td>2025217.0</td>\n",
       "      <td>418145.0</td>\n",
       "    </tr>\n",
       "    <tr>\n",
       "      <th>2</th>\n",
       "      <td>1965860.0</td>\n",
       "      <td>1884434.0</td>\n",
       "      <td>1356261.0</td>\n",
       "      <td>1802037.0</td>\n",
       "      <td>2448812.0</td>\n",
       "      <td>1580602.0</td>\n",
       "    </tr>\n",
       "    <tr>\n",
       "      <th>3</th>\n",
       "      <td>1987913.0</td>\n",
       "      <td>1631624.0</td>\n",
       "      <td>1678593.0</td>\n",
       "      <td>1585463.0</td>\n",
       "      <td>1839311.0</td>\n",
       "      <td>2002855.0</td>\n",
       "    </tr>\n",
       "    <tr>\n",
       "      <th>4</th>\n",
       "      <td>2163929.0</td>\n",
       "      <td>1901482.0</td>\n",
       "      <td>1653840.0</td>\n",
       "      <td>2031991.0</td>\n",
       "      <td>2123416.0</td>\n",
       "      <td>1599230.0</td>\n",
       "    </tr>\n",
       "    <tr>\n",
       "      <th>...</th>\n",
       "      <td>...</td>\n",
       "      <td>...</td>\n",
       "      <td>...</td>\n",
       "      <td>...</td>\n",
       "      <td>...</td>\n",
       "      <td>...</td>\n",
       "    </tr>\n",
       "    <tr>\n",
       "      <th>1768</th>\n",
       "      <td>2172261.0</td>\n",
       "      <td>NaN</td>\n",
       "      <td>NaN</td>\n",
       "      <td>NaN</td>\n",
       "      <td>NaN</td>\n",
       "      <td>NaN</td>\n",
       "    </tr>\n",
       "    <tr>\n",
       "      <th>1769</th>\n",
       "      <td>1919316.0</td>\n",
       "      <td>NaN</td>\n",
       "      <td>NaN</td>\n",
       "      <td>NaN</td>\n",
       "      <td>NaN</td>\n",
       "      <td>NaN</td>\n",
       "    </tr>\n",
       "    <tr>\n",
       "      <th>1770</th>\n",
       "      <td>1940394.0</td>\n",
       "      <td>NaN</td>\n",
       "      <td>NaN</td>\n",
       "      <td>NaN</td>\n",
       "      <td>NaN</td>\n",
       "      <td>NaN</td>\n",
       "    </tr>\n",
       "    <tr>\n",
       "      <th>1771</th>\n",
       "      <td>1969018.0</td>\n",
       "      <td>NaN</td>\n",
       "      <td>NaN</td>\n",
       "      <td>NaN</td>\n",
       "      <td>NaN</td>\n",
       "      <td>NaN</td>\n",
       "    </tr>\n",
       "    <tr>\n",
       "      <th>1772</th>\n",
       "      <td>1958461.0</td>\n",
       "      <td>NaN</td>\n",
       "      <td>NaN</td>\n",
       "      <td>NaN</td>\n",
       "      <td>NaN</td>\n",
       "      <td>NaN</td>\n",
       "    </tr>\n",
       "  </tbody>\n",
       "</table>\n",
       "<p>1773 rows × 6 columns</p>\n",
       "</div>"
      ],
      "text/plain": [
       "        Weekday    Weekend  Traditional   National    Western     Fother\n",
       "0     1915326.0  1897089.0     751526.0  1796950.0  1972064.0  1514055.0\n",
       "1     1945591.0  1551238.0    1342552.0  1830184.0  2025217.0   418145.0\n",
       "2     1965860.0  1884434.0    1356261.0  1802037.0  2448812.0  1580602.0\n",
       "3     1987913.0  1631624.0    1678593.0  1585463.0  1839311.0  2002855.0\n",
       "4     2163929.0  1901482.0    1653840.0  2031991.0  2123416.0  1599230.0\n",
       "...         ...        ...          ...        ...        ...        ...\n",
       "1768  2172261.0        NaN          NaN        NaN        NaN        NaN\n",
       "1769  1919316.0        NaN          NaN        NaN        NaN        NaN\n",
       "1770  1940394.0        NaN          NaN        NaN        NaN        NaN\n",
       "1771  1969018.0        NaN          NaN        NaN        NaN        NaN\n",
       "1772  1958461.0        NaN          NaN        NaN        NaN        NaN\n",
       "\n",
       "[1773 rows x 6 columns]"
      ]
     },
     "execution_count": 16,
     "metadata": {},
     "output_type": "execute_result"
    }
   ],
   "source": [
    "df1 = pd.DataFrame(days).T\n",
    "columns = ['Weekday', 'Weekend', 'Traditional', 'National', 'Western', 'Fother']\n",
    "df1.columns = columns\n",
    "df1"
   ]
  },
  {
   "cell_type": "code",
   "execution_count": 17,
   "metadata": {},
<<<<<<< HEAD
   "outputs": [
    {
     "data": {
      "text/html": [
       "<div>\n",
       "<style scoped>\n",
       "    .dataframe tbody tr th:only-of-type {\n",
       "        vertical-align: middle;\n",
       "    }\n",
       "\n",
       "    .dataframe tbody tr th {\n",
       "        vertical-align: top;\n",
       "    }\n",
       "\n",
       "    .dataframe thead th {\n",
       "        text-align: right;\n",
       "    }\n",
       "</style>\n",
       "<table border=\"1\" class=\"dataframe\">\n",
       "  <thead>\n",
       "    <tr style=\"text-align: right;\">\n",
       "      <th></th>\n",
       "      <th>Date</th>\n",
       "      <th>TPcnt</th>\n",
       "      <th>Holiday_Type</th>\n",
       "      <th>Year</th>\n",
       "    </tr>\n",
       "  </thead>\n",
       "  <tbody>\n",
       "    <tr>\n",
       "      <th>0</th>\n",
       "      <td>2015-01-01</td>\n",
       "      <td>1796950</td>\n",
       "      <td>National</td>\n",
       "      <td>2015</td>\n",
       "    </tr>\n",
       "    <tr>\n",
       "      <th>1</th>\n",
       "      <td>2015-01-02</td>\n",
       "      <td>1830184</td>\n",
       "      <td>National</td>\n",
       "      <td>2015</td>\n",
       "    </tr>\n",
       "    <tr>\n",
       "      <th>2</th>\n",
       "      <td>2015-01-03</td>\n",
       "      <td>1802037</td>\n",
       "      <td>National</td>\n",
       "      <td>2015</td>\n",
       "    </tr>\n",
       "    <tr>\n",
       "      <th>3</th>\n",
       "      <td>2015-01-04</td>\n",
       "      <td>1585463</td>\n",
       "      <td>National</td>\n",
       "      <td>2015</td>\n",
       "    </tr>\n",
       "    <tr>\n",
       "      <th>4</th>\n",
       "      <td>2015-01-05</td>\n",
       "      <td>1915326</td>\n",
       "      <td>Weekday</td>\n",
       "      <td>2015</td>\n",
       "    </tr>\n",
       "    <tr>\n",
       "      <th>...</th>\n",
       "      <td>...</td>\n",
       "      <td>...</td>\n",
       "      <td>...</td>\n",
       "      <td>...</td>\n",
       "    </tr>\n",
       "    <tr>\n",
       "      <th>1821</th>\n",
       "      <td>2019-12-27</td>\n",
       "      <td>2658619</td>\n",
       "      <td>Weekday</td>\n",
       "      <td>2019</td>\n",
       "    </tr>\n",
       "    <tr>\n",
       "      <th>1822</th>\n",
       "      <td>2019-12-28</td>\n",
       "      <td>2298630</td>\n",
       "      <td>Weekend</td>\n",
       "      <td>2019</td>\n",
       "    </tr>\n",
       "    <tr>\n",
       "      <th>1823</th>\n",
       "      <td>2019-12-29</td>\n",
       "      <td>1777124</td>\n",
       "      <td>Weekend</td>\n",
       "      <td>2019</td>\n",
       "    </tr>\n",
       "    <tr>\n",
       "      <th>1824</th>\n",
       "      <td>2019-12-30</td>\n",
       "      <td>2469682</td>\n",
       "      <td>Weekday</td>\n",
       "      <td>2019</td>\n",
       "    </tr>\n",
       "    <tr>\n",
       "      <th>1825</th>\n",
       "      <td>2019-12-31</td>\n",
       "      <td>3206078</td>\n",
       "      <td>Weekday</td>\n",
       "      <td>2019</td>\n",
       "    </tr>\n",
       "  </tbody>\n",
       "</table>\n",
       "<p>1826 rows × 4 columns</p>\n",
       "</div>"
      ],
      "text/plain": [
       "           Date    TPcnt Holiday_Type  Year\n",
       "0    2015-01-01  1796950     National  2015\n",
       "1    2015-01-02  1830184     National  2015\n",
       "2    2015-01-03  1802037     National  2015\n",
       "3    2015-01-04  1585463     National  2015\n",
       "4    2015-01-05  1915326      Weekday  2015\n",
       "...         ...      ...          ...   ...\n",
       "1821 2019-12-27  2658619      Weekday  2019\n",
       "1822 2019-12-28  2298630      Weekend  2019\n",
       "1823 2019-12-29  1777124      Weekend  2019\n",
       "1824 2019-12-30  2469682      Weekday  2019\n",
       "1825 2019-12-31  3206078      Weekday  2019\n",
       "\n",
       "[1826 rows x 4 columns]"
      ]
     },
     "execution_count": 16,
     "metadata": {},
     "output_type": "execute_result"
    }
   ],
=======
   "outputs": [],
>>>>>>> 6dd30ba44932743aae3537bdf751a8808c0f64dc
   "source": [
    "df2 = pd.DataFrame(list(transportCnt.items()), columns=['Date', 'TPcnt'])\n",
    "df2['Holiday_Type'] = [holiday_type(day) for day in df2['Date']]\n",
    "df2['Year'] = [day.year for day in df2['Date']]\n",
    "df2 = df2.drop(df2[df2['Year'] >= 2020].index)"
   ]
  },
  {
   "cell_type": "code",
   "execution_count": null,
   "metadata": {},
   "outputs": [
    {
     "data": {
      "text/html": [
       "<div>\n",
       "<style scoped>\n",
       "    .dataframe tbody tr th:only-of-type {\n",
       "        vertical-align: middle;\n",
       "    }\n",
       "\n",
       "    .dataframe tbody tr th {\n",
       "        vertical-align: top;\n",
       "    }\n",
       "\n",
       "    .dataframe thead th {\n",
       "        text-align: right;\n",
       "    }\n",
       "</style>\n",
       "<table border=\"1\" class=\"dataframe\">\n",
       "  <thead>\n",
       "    <tr style=\"text-align: right;\">\n",
       "      <th></th>\n",
       "      <th>sum_sq</th>\n",
       "      <th>df</th>\n",
       "      <th>F</th>\n",
       "      <th>PR(&gt;F)</th>\n",
       "    </tr>\n",
       "  </thead>\n",
       "  <tbody>\n",
       "    <tr>\n",
       "      <th>C(Holiday_Type)</th>\n",
       "      <td>5.815745e+13</td>\n",
       "      <td>5.0</td>\n",
       "      <td>294.322585</td>\n",
       "      <td>4.123575e-231</td>\n",
       "    </tr>\n",
       "    <tr>\n",
       "      <th>Residual</th>\n",
       "      <td>7.192554e+13</td>\n",
       "      <td>1820.0</td>\n",
       "      <td>NaN</td>\n",
       "      <td>NaN</td>\n",
       "    </tr>\n",
       "  </tbody>\n",
       "</table>\n",
       "</div>"
      ],
      "text/plain": [
       "                       sum_sq      df           F         PR(>F)\n",
       "C(Holiday_Type)  5.815745e+13     5.0  294.322585  4.123575e-231\n",
       "Residual         7.192554e+13  1820.0         NaN            NaN"
      ]
     },
     "execution_count": 17,
     "metadata": {},
     "output_type": "execute_result"
    }
   ],
   "source": [
    "results = smf.ols('TPcnt ~ C(Holiday_Type)', data=df2).fit()\n",
    "# results.summary()\n",
    "aov_table = sms.anova_lm(results, typ=2)\n",
    "aov_table"
   ]
  },
  {
   "cell_type": "code",
   "execution_count": null,
   "metadata": {},
   "outputs": [
    {
     "name": "stdout",
     "output_type": "stream",
     "text": [
      "            Multiple Comparison of Means - Tukey HSD, FWER=0.05             \n",
      "============================================================================\n",
      "   group1      group2     meandiff   p-adj     lower        upper     reject\n",
      "----------------------------------------------------------------------------\n",
      "     Fother    National  139497.5889 0.2986  -51886.3381  330881.5159  False\n",
      "     Fother Traditional -192335.0273 0.0502 -384776.9166      106.862  False\n",
      "     Fother     Weekday  503335.5738  0.001  323267.2077  683403.9399   True\n",
      "     Fother     Weekend  213750.4725 0.0102   32407.2935  395093.6516   True\n",
      "     Fother     Western  530156.6286  0.001  295352.1444  764961.1127   True\n",
      "   National Traditional -331832.6162  0.001  -428474.661 -235190.5713   True\n",
      "   National     Weekday  363837.9849  0.001   295059.932  432616.0378   True\n",
      "   National     Weekend   74252.8836  0.039    2203.2294  146302.5379   True\n",
      "   National     Western  390659.0397  0.001  225011.9755  556306.1039   True\n",
      "Traditional     Weekday   695670.601  0.001  624001.2644  767339.9377   True\n",
      "Traditional     Weekend  406085.4998  0.001  331270.8894  480900.1102   True\n",
      "Traditional     Western  722491.6558  0.001  555623.3751  889359.9366   True\n",
      "    Weekday     Weekend -289585.1012  0.001 -321016.9585 -258153.2439   True\n",
      "    Weekday     Western   26821.0548    0.9 -125611.7463  179253.8559  False\n",
      "    Weekend     Western   316406.156  0.001  162469.5101   470342.802   True\n",
      "----------------------------------------------------------------------------\n"
     ]
    }
   ],
   "source": [
    "mc = smm.MultiComparison(df2['TPcnt'], df2['Holiday_Type'])\n",
    "print(mc.tukeyhsd().summary())"
   ]
  },
  {
   "cell_type": "code",
   "execution_count": null,
   "metadata": {},
   "outputs": [
    {
     "name": "stderr",
     "output_type": "stream",
     "text": [
      "D:\\New folder\\lib\\site-packages\\statsmodels\\sandbox\\stats\\multicomp.py:775: UserWarning: FixedFormatter should only be used together with FixedLocator\n",
      "  ax1.set_yticklabels(np.insert(self.groupsunique.astype(str), 0, ''))\n"
     ]
    },
    {
     "data": {
<<<<<<< HEAD
      "image/png": "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\n",
=======
      "image/png": "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",
>>>>>>> 6dd30ba44932743aae3537bdf751a8808c0f64dc
      "text/plain": [
       "<Figure size 1000x600 with 1 Axes>"
      ]
     },
     "metadata": {
      "needs_background": "light"
     },
     "output_type": "display_data"
    }
   ],
   "source": [
    "_ = mc.tukeyhsd().plot_simultaneous()"
   ]
  },
  {
   "cell_type": "markdown",
   "metadata": {},
   "source": [
    "### Required Condition"
   ]
  },
  {
   "cell_type": "markdown",
   "metadata": {},
   "source": [
    "#### Check normality assumption - Shapiro Wilk Test"
   ]
  },
  {
   "cell_type": "markdown",
   "metadata": {},
   "source": [
    "$$H_0: \\text{residual of all datapoints are normally distributed}$$  \n",
    "$$H_1: \\text{residual of all datapoints are not normally distributed}$$  "
   ]
  },
  {
   "cell_type": "code",
   "execution_count": null,
   "metadata": {},
   "outputs": [
    {
     "name": "stdout",
     "output_type": "stream",
     "text": [
      "Statistics=0.8834, p=0.0000\n"
     ]
    }
   ],
   "source": [
    "stat, p = stats.shapiro(results.resid)\n",
    "print('Statistics=%.4f, p=%.4f' % (stat, p))"
   ]
  },
  {
   "cell_type": "code",
   "execution_count": null,
   "metadata": {},
   "outputs": [
    {
     "data": {
<<<<<<< HEAD
      "image/png": "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\n",
=======
      "image/png": "iVBORw0KGgoAAAANSUhEUgAAAhAAAAFrCAYAAACADbAWAAAAOXRFWHRTb2Z0d2FyZQBNYXRwbG90bGliIHZlcnNpb24zLjMuMiwgaHR0cHM6Ly9tYXRwbG90bGliLm9yZy8vihELAAAACXBIWXMAAA9hAAAPYQGoP6dpAAAd10lEQVR4nO3df7RndV3v8eeLX3NJZia63bmjIkKaZHgNQ/pBBtQV6kZ1IVdLM03MVZkL7kUsfkx3Gd3igr+IJC1XWZLGLe1SCUgiXMdUlJTMoEy5CQINMyxAZyZ+DELv+8fep75+55yZ+Xxnf893zjnPx1p7fc/3sz97n/dnNuecF5+993enqpAkSWqx36wLkCRJS48BQpIkNTNASJKkZgYISZLUzAAhSZKaGSAkSVIzA4QkSWp2wKwLmESSAE8Bts+6FkmSlqDVwKbaiw+DWpIBgi483DPrIiRJWsIOA/5p0o2XaoDYDnD33XezZs2aWdciSdKSsW3bNp72tKfBXs7iL9UAAcCaNWsMEJIkzYAXUUqSpGYGCEmS1MwAIUmSmhkgJElSMwOEJElqZoCQJEnNDBCSJKmZAUKSJDUzQEiSpGYGCEmS1MwAIUmSmi3pZ2FI0nyOOP/andruvOTUGVQiLV/OQEiSpGYGCEmS1MwAIUmSmnkNhKQVYfy6CK+JkPaOMxCSJKmZAUKSJDUzQEiSpGYGCEmS1Kw5QCQ5IcnVSTYlqSSnzdPn2Unen2Rrku1JPpnk8JH1q5JcnuT+JA/1fQ/by7FIkqRFMskMxJOAzwJnzrcyyTOAjwH/AJwEfBvwq8CjI90uA04HXgK8ADgEuCbJ/hPUI0mSFlnzbZxVdR1wHUCS+bpcBHygqs4dafvi3BdJ1gKvAl5eVTf0bS8D7gZeCHywtSZJkrS4Br0GIsl+wKnAF5J8MMl9SW4eO81xLHAgcP1cQ1VtAm4Djl9gv6uSrJlbgNVD1i1JktoMfRHlOrrTEecDfwGcAvwpcFWSE/s+64HHqurLY9tu6dfN5wJg68hyz8B1S5KkBkMHiLn9/XlV/XpV/U1VXQJcA7x6N9sGqAXWXQysHVm84FKSpBkaOkDcDzwO/P1Y++eAubswNgMHJTl0rM86ulmInVTVjqraNrcA2wesWZIkNRo0QFTVY8CngKPGVj0L+FL/9S3AV4GT51YmeTLwHOCmIeuRJEnT0XwXRpJDgGeONB2Z5Bjgwaq6C3gT8MdJ/hL4MPCDwI/Q3dJJVW1N8k7gLUkeAB4E3gzcCtww+VAkSdJimeRpnM+nCwZzLu1frwDOqKo/TfJqugsf3wp8HnhRVX1sZJvX0p3qeC9wMHBjv+0TE9QjSZIW2SSfA7GR7oLHXfX5PeD3drH+UeCsfpEkSUuMz8KQJEnNDBCSJKmZAUKSJDUzQEiSpGYGCEmS1MwAIUmSmk3yORCStE854vxrZ12CtOI4AyFJkpo5AyFpSXG2Qdo3OAMhSZKaGSAkSVIzT2FIWpHmOxVy5yWnzqASaWlyBkKSJDUzQEiSpGYGCEmS1MwAIUmSmhkgJElSMwOEJElqZoCQJEnNDBCSJKmZAUKSJDUzQEiSpGYGCEmS1Kw5QCQ5IcnVSTYlqSSn7aLvO/o+Z4+1r0pyeZL7kzyU5P1JDmsvX5IkzcIkMxBPAj4LnLmrTn2w+E5g0zyrLwNOB14CvAA4BLgmyf4T1CNJkhZZ89M4q+o64DqAJPP2SfJU4DeBHwCuHVu3FngV8PKquqFvexlwN/BC4IOtNUmSpMU1+DUQSfYD3g28qar+bp4uxwIHAtfPNVTVJuA24PgF9rkqyZq5BVg9dN2SJGnPTeMiyvOAx4G3LrB+PfBYVX15rH1Lv24+FwBbR5Z7BqhTkiRNaNAAkeRY4L8DZ1RVtW4OLLTNxcDakcULLiVJmqGhZyC+F1gH3JXk8SSPA08H3pLkzr7PZuCgJIeObbuObhZiJ1W1o6q2zS3A9oHrliRJDYYOEO8GngscM7JsAt5Ed0ElwC3AV4GT5zZK8mTgOcBNA9cjSZKmoPkujCSHAM8caToyyTHAg1V1F/DAWP+vApur6vMAVbU1yTvpZiUeAB4E3gzcCtww0SgkSdKiag4QwPOBD4+8v7R/vQI4Yw/38Vq6Cy3fCxwM3Eh33cQTE9QjSZIW2SSfA7GR7oLHPe1/xDxtjwJn9YskSVpifBaGJElqZoCQJEnNDBCSJKmZAUKSJDUzQEiSpGaT3MYpSSvWEed/zQOGufOSU2dUiTRbzkBIkqRmBghJktTMUxiS1PP0hLTnnIGQJEnNDBCSJKmZAUKSJDUzQEiSpGYGCEmS1My7MCRpAeN3ZUj6N85ASJKkZgYISZLUzAAhSZKaGSAkSVIzA4QkSWpmgJAkSc0MEJIkqZkBQpIkNTNASJKkZs0BIskJSa5OsilJJTltZN2BSd6Q5NYkD/V9/iDJU8b2sSrJ5Unu7/u9P8lhA4xHkiQtgklmIJ4EfBY4c551Xwd8O/Cr/euPAc8C3j/W7zLgdOAlwAuAQ4Brkuw/QT2SJGmRNT8Lo6quA64DSDK+bitw8mhbkrOAv0pyeFXdlWQt8Crg5VV1Q9/nZcDdwAuBD45/zySrgFUjTatb65YkScNZjGsg1gIFfKV/fyxwIHD9XIeq2gTcBhy/wD4uALaOLPdMqVZJkrQHphogkvw74BLgyqra1jevBx6rqi+Pdd/Sr5vPxXRBZG7xeglJkmZoao/zTnIg8Ed0IeU1e7IJ3UzFTqpqB7BjZN9DlChJkiY0lRmIPjy8FzgSOHlk9gFgM3BQkkPHNltHNwshSZL2cYMHiJHw8M3AC6vqgbEutwBfZeRiyyRPBp4D3DR0PZIkaXjNpzCSHAI8c6TpyCTHAA8Cm4A/obuF84eB/ZPMXdfwYFU9VlVbk7wTeEuSB/rt3gzcCtww8UgkSdKimeQaiOcDHx55f2n/egVwIfCj/fu/Gdvu+4CN/devBR6nm6k4GLgROKOqnpigHkmStMgm+RyIjXQXPC5kt1c4VtWjwFn9IkmSlhifhSFJkpoZICRJUjMDhCRJamaAkCRJzQwQkiSpmQFCkiQ1M0BIkqRmBghJktTMACFJkpoZICRJUjMDhCRJamaAkCRJzQwQkiSpmQFCkiQ1M0BIkqRmBghJktTMACFJkpoZICRJUjMDhCRJamaAkCRJzQwQkiSpmQFCkiQ1M0BIkqRmzQEiyQlJrk6yKUklOW1sfZJc2K9/JMnGJEeP9VmV5PIk9yd5KMn7kxy2l2ORJEmLZJIZiCcBnwXOXGD9ucA5/frjgM3Ah5KsHulzGXA68BLgBcAhwDVJ9p+gHkmStMgOaN2gqq4DrgNI8jXr0jWcDVxUVVf1ba8AtgAvBd6RZC3wKuDlVXVD3+dlwN3AC4EPTjgWScvQEedfO+sSJM1j6GsgjgTWA9fPNVTVDuAjwPF907HAgWN9NgG3jfT5Gv0pjzVzC7B6vn6SJGlxDB0g1vevW8bat4ysWw88VlVf3kWfcRcAW0eWe/a+VEmSNKlp3YVRY+8zT9u4XfW5GFg7snjBpSRJMzR0gNjcv47PJKzj32YlNgMHJTl0F32+RlXtqKptcwuwfaiCJUlSu6EDxB10AeHkuYYkBwEnAjf1TbcAXx3r82TgOSN9JEnSPqz5LowkhwDPHGk6MskxwINVdVeSy4ANSW4Hbgc2AA8DVwJU1dYk7wTekuQB4EHgzcCtwA17MRZJkrRImgME8HzgwyPvL+1frwDOAN4IHAy8HTgUuBk4papGTzu8FngceG/f90bgjKp6YoJ6JEnSIpvkcyA20l3wuND6Ai7sl4X6PAqc1S+SJGmJ8VkYkiSpmQFCkiQ1M0BIkqRmBghJktTMACFJkpoZICRJUjMDhCRJamaAkCRJzQwQkiSpmQFCkiQ1M0BIkqRmBghJktTMACFJkpoZICRJUjMDhCRJamaAkCRJzQwQkiSpmQFCkiQ1M0BIkqRmBghJktTMACFJkpoZICRJUjMDhCRJamaAkCRJzQYPEEkOSPJrSe5I8kiSLyZ5fZL9RvokyYVJNvV9NiY5euhaJEnSdExjBuI84NXAmcCzgXOBXwTOGulzLnBO3+c4YDPwoSSrp1CPJEka2AFT2Od3A39eVdf27+9M8hPA86GbfQDOBi6qqqv6tlcAW4CXAu8Y32GSVcCqkSaDhiRJMzSNGYiPAf85ybMAknwb8ALgA/36I4H1wPVzG1TVDuAjwPEL7PMCYOvIcs8U6pYkSXtoGjMQbwDWAv+Q5Algf+CXqup/9+vX969bxrbbAjx9gX1eDFw68n41hghJkmZmGgHixcDL6E5H/B1wDHBZkk1VdcVIvxrbLvO0dR27GYod/9oxGbJeSZLUaBoB4k3AJVX1R/37W5M8ne40xBV0F0xCNxNx78h269h5VkKSJO2DpnENxNcB/zLW9sTI97qDLkScPLcyyUHAicBNU6hHkiQNbBozEFcDv5TkLrpTGM+ju2Xz9wCqqpJcBmxIcjtwO7ABeBi4cgr1SJKkgU0jQJwF/CrwdrrTEpvobs38nyN93ggc3Pc5FLgZOKWqtk+hHkmSNLBUzXvd4j4tyRpg69atW1mzZs2sy5E0RUecf+3uO+1j7rzk1FmXIC1o27ZtrF27FmBtVW2bdD8+C0OSJDWbxikMSVrRxmdNnJHQcuQMhCRJamaAkCRJzTyFIWmfsRQvmJRWKmcgJElSMwOEJElqZoCQJEnNDBCSJKmZAUKSJDUzQEiSpGYGCEmS1MwAIUmSmhkgJElSMwOEJElqZoCQJEnNDBCSJKmZAUKSJDUzQEiSpGYGCEmS1MwAIUmSmhkgJElSMwOEJElqNpUAkeSpSd6T5IEkDyf5myTHjqxPkguTbErySJKNSY6eRi2SJGl4gweIJIcCHwe+CvwX4FuB1wFfGel2LnAOcCZwHLAZ+FCS1UPXI0mShnfAFPZ5HnB3Vb1ypO3OuS+SBDgbuKiqrurbXgFsAV4KvGMKNUmSpAFN4xTGjwKfTvK+JPcl+UySnxlZfySwHrh+rqGqdgAfAY6fb4dJViVZM7cAzlRIkjRD0wgQ3wT8PHA78APAbwNvTfJT/fr1/euWse22jKwbdwGwdWS5Z8iCJUlSm2kEiP2Av66qDVX1map6B/A7dKFiVI29zzxtcy4G1o4shw1YryRJajSNAHEv8PdjbZ8DDu+/3ty/js82rGPnWQmgO8VRVdvmFmD7UMVKkqR20wgQHweOGmt7FvCl/us76ELEyXMrkxwEnAjcNIV6JEnSwKZxF8avAzcl2QC8F/gO4Gf7haqqJJcBG5LcTnetxAbgYeDKKdQjSZIGNniAqKpPJTmd7rqF19PNOJxdVX840u2NwMHA24FDgZuBU6rKUxOSJC0B05iBoKquAa7ZxfoCLuwXSZK0xPgsDEmS1GwqMxCStCeOOP/aWZcgaULOQEiSpGYGCEmS1MwAIUmSmhkgJElSMwOEJElqZoCQJEnNvI1TkqZsvttV77zk1BlUIg3HGQhJktTMACFJkpoZICRJUjMDhCRJamaAkCRJzQwQkiSpmQFCkiQ1M0BIkqRmBghJktTMACFJkpr5UdaSNAPjH2/tR1trqXEGQpIkNTNASJKkZgYISZLUzAAhSZKaTT1AJLkgSSW5bKQtSS5MsinJI0k2Jjl62rVIkqRhTDVAJDkO+Fngb8dWnQucA5wJHAdsBj6UZPU065EkScOYWoBIcgjwh8DPAF8eaQ9wNnBRVV1VVbcBrwC+DnjpAvtalWTN3AIYNCRJmqFpzkC8Dbi2qm4Yaz8SWA9cP9dQVTuAjwDHL7CvC4CtI8s9g1crSZL22FQCRJKXAMfS/eEft75/3TLWvmVk3biLgbUjy2EDlClJkiY0+CdRJnka8BvAKVX16C661vim87R1HbsZih0j32Nvy5QkSXthGjMQxwLrgFuSPJ7kceBE4L/1X8/NPIzPNqxj51kJSZK0D5pGgLgR+E/AMSPLp+kuqDwG+CLdXRcnz22Q5CC6kHHTFOqRJEkDG/wURlVtB24bbUvyEPBAf8cF/WdCbEhyO3A7sAF4GLhy6HokSdLwZvU0zjcCBwNvBw4Fbqa7ZmL7jOqRJEkNFiVAVNVJY+8LuLBfJEnSEuOzMCRJUjMDhCRJamaAkCRJzQwQkiSpmQFCkiQ1M0BIkqRms/ocCEnSiCPOv3antjsvOXUGlUh7xhkISZLUzAAhSZKaGSAkSVIzA4QkSWpmgJAkSc0MEJIkqZkBQpIkNTNASJKkZgYISZLUzAAhSZKaGSAkSVIzA4QkSWpmgJAkSc0MEJIkqZkBQpIkNTNASJKkZoMHiCQXJPlUku1J7kvyZ0mOGuuTJBcm2ZTkkSQbkxw9dC2SJGk6pjEDcSLwNuC7gJOBA4DrkzxppM+5wDnAmcBxwGbgQ0lWT6EeSZI0sAOG3mFV/eDo+ySvBO4DjgX+MkmAs4GLquqqvs8rgC3AS4F3DF2TpNk74vxrZ12CpAEtxjUQa/vXB/vXI4H1wPVzHapqB/AR4Pj5dpBkVZI1cwvgTIUkSTM01QDRzzZcCnysqm7rm9f3r1vGum8ZWTfuAmDryHLPwKVKkqQGg5/CGPObwHOBF8yzrsbeZ562ORfTBZE5qzFESFph5jsNdOclp86gEmmKASLJ5cCPAidU1egf+83963rg3pH2dew8KwH86ymOHSP7HrZYSZLUZPAA0Z+2uBw4HTipqu4Y63IHXYg4GfhMv81BdHdvnDd0PZK0VHnhqfZl05iBeBvd3RT/FdieZO66hq1V9UhVVZLLgA1JbgduBzYADwNXTqEeSZI0sGkEiJ/vXzeOtb8SeFf/9RuBg4G3A4cCNwOnVNX2KdQjSZIGNo3PgdjtBQpVVcCF/SJJkpYYn4UhSZKaGSAkSVIzA4QkSWpmgJAkSc0MEJIkqZkBQpIkNTNASJKkZgYISZLUbNpP45S0QvkcB2l5cwZCkiQ1M0BIkqRmBghJktTMACFJkpp5EaUkLSPzXbx65yWnzqASLXfOQEiSpGbOQEjaa96yKa08zkBIkqRmqapZ19AsyRpg69atW1mzZs2sy5FWHGccljaviVjZtm3bxtq1awHWVtW2SffjDIQkSWpmgJAkSc28iFJaAsZPGSzmFLSnKyTNxxkISZLUzBkISVph9mRWyQsttTsznYFI8pokdyR5NMktSb53lvVIkqQ9M7MZiCQvBi4DXgN8HPg54Lok31pVd82qLi1/s7yeYCjT/Lhir3kQ+JHY2r1ZnsI4B3hnVf1u//7sJD8A/DxwwSwKWq4/MJOOa5JpzqG+13L4d4fJ/hhPOvahjpe0kGn9Tlguv3uH+j22VH4fziRAJDkIOBa4ZGzV9cDx8/RfBawaaVoN3YdhDOlfdjy8U9vQ32MWJh3XfNvtbj9Dfa9p/rvP8nvtifnqmWQ/e7LvofYrzZnkd8Jy+d071O+Waf+OGmp/M/kkyiRPAf4J+J6qummkfQPwiqo6aqz/hcAvL2qRkiQtb4dV1T9NuvGs78IYTy+Zpw3gYuDSsbZvAB6cRlF0Mxz3AIcB26f0PfZFK3XcsHLHvlLHDSt37Ct13LByxz7fuFcDm/Zmp7MKEPcDTwDrx9rXAVvGO1fVDmDHWPPU5reSzH25fW8+J3ypWanjhpU79pU6bli5Y1+p44aVO/YFxr3X45/JbZxV9RhwC3Dy2KqTgZt23kKSJO1LZnkK41Lg3Uk+DXwC+FngcOC3Z1iTJEnaAzMLEFX1x0n+PfB64MnAbcAPVdWXZlXTiB3Ar7DzaZPlbqWOG1bu2FfquGHljn2ljhtW7tinMu6Z3IUhSZKWNh+mJUmSmhkgJElSMwOEJElqZoCQJEnNDBCSJKnZig8QSY5I8s4kdyR5JMk/JvmV/oFfu9ouSS5MsqnfbmOSoxer7qEk+aUkNyV5OMlX9nCbdyWpseWTUy51UBOOe7kc80OTvDvJ1n55d5Kv3802S/KYJ3lN/7P9aJJbknzvbvqf2Pd7NMkXk7x6sWodUsu4k5w0z7GtJN+ymDXvrSQnJLm6//msJKftwTbL5Xg3jX2oY77iAwTwLXT/Dj8HHA28Fng18L92s925dI8kPxM4DtgMfCjJ6umVOhUHAe8Dfqtxu7+g+/yOueWHBq5r2iYZ93I55lcCxwA/2C/HAO/eg+2W1DFP8mLgMuAi4HnAR4Hrkhy+QP8jgQ/0/Z5H9zvgrUletCgFD6R13COO4muP7+1TLHMangR8lu7nc7eWy/HuNY19xN4d86pyGVuAXwS+uIv1Ae4FzhtpWwV8Bfi5Wdc/4ZjPAL6yh33fBfzZrGtezHEvl2MOPJvugXXfOdL2XX3bUcvpmAM3A7811vY54OIF+r8B+NxY228Dn5j1WKY87pP64//1s659wH+DAk7bTZ9lcbwnHPsgx9wZiPmtZddP+jyS7kFg1881VPfAr48Ax0+3tH3GSUnuS/KFJL+TZN2sC5qy5XLMvxvYWlU3zzVU1SeBrex+HEvmmPenII9l5Hj1rmfhcX73PP0/CDw/yYHDVjgdE457zmeS3JvkxiTfN5UC9y1L/ngPYK+OuQFiTJJnAGex62dyzD1FdPzJoVvY+Qmjy9F1wE8C3w+8jm46//8mWTXTqqZruRzz9cB987Tfx67HsdSO+TcC+9N2vNYv0P+Afn9LwSTjvpfuWUQvAn4M+DxwY5ITplXkPmI5HO9JDXLMZ/kwralKciHwy7vpdlxVfXpkm6fQned9X1X97h58m/HPAc88bYtukrG3qKo/Hnl7W7oHon0JOBW4apJ9DmHa4+4t6WPev85X7y7Hsa8e8z3Qerzm6z9f+75uj8ddVZ+n+wMy5xNJngb8AvCX0ylvn7FcjneToY75sg0QwG8Cf7SbPnfOfdGHhw/zb08G3ZXN/et6uiQ3Zx07J9pZaBr73qqqe5N8CfjmofY5oWmOe7kc8+cC/3Gedf+BhnHsQ8d8IfcDT7Dz/3Xv6nhtXqD/48ADg1Y3PZOMez6fBF42VFH7qOVwvIfUfMyXbYCoqvvpfph2K8lT6cLDLcArq+pfdrPJHXT/8Z0MfKbfx0HAicB5k9Y8lJaxDyHdU1Wfxtf+YV10Ux73sjjmST4BrE3yHVX1V33bd9Jd93PTnn6/feWYL6SqHktyC93x+tORVScDf77AZp8AfmSs7RTg01X11eGrHN6E457P89hHj+2AlvzxHlj7MZ/1FaOzXoCn0N26ciPwVLpEuh5YP9bvH4DTR96fR3cF/unAc+hujdsErJ71mBrHfzjdbXyvB7b3Xx8DHDLf2IFDgDfTXYB0BN3VvDcB9yylsbeOe5kd8+vobvn6rn75W+DqsT5L/pgDLwYeA36a7u6TXwf+GXh6v/5i4A9G+h8JPARc2vf/6X77F816LFMe99nAaXSzSUf36wv4sVmPpXHch4z8HBfdLfnHAIcv5+M94dgHOeYzH/isF7rb+Gq+ZaxfAWeMvA9wIV1ie5TuavznzHo8E4z/XQuM/6T5xg4cTHel8n39D9uX+n08bdZjmea4l9kx/wbgPcC2fnkPY7dzLZdjDryG7tTNDroZxhPG/hvYONb/ROCv+/53AK+e9RimPW66zzf5f8AjdHeffRT4oVmPYYIxn7TAz/S7VsDxbhr7UMc8/c4kSZL2mLdxSpKkZgYISZLUzAAhSZKaGSAkSVIzA4QkSWpmgJAkSc0MEJIkqZkBQpKkfUySE5JcnWRTkkpy2gT7SJJfSPKFJDuS3J1kw1A1LttnYUiStIQ9ie4j538f+D8T7uM36J7v8QvArXTPvBnsUeV+EqUkSfuwJEX3bJo/G2k7CPg14CeBrwduA86rqo39+mfTPefmOdU9vntwnsKQJGnp+X3ge4CXAM8F3gf8RZJv7tf/CPBF4IeT3JHkziS/m+QbhirAACFJ0hKS5BnATwA/XlUfrap/rKo3Ax8DXtl3+ybg6cCPAz9F9+DIY4E/GaoOr4GQJGlp+Xa6pwN/Iclo+yrggf7r/fr3P1VVXwBI8irgliRHDXFawwAhSdLSsh/wBN2MwhNj6/65f70XeHwuPPQ+178eDhggJElaYT4D7A+sq6qPLtDn48ABSZ5RVf/Ytz2rf/3SEEV4F4YkSfuYJIcAz+zffgY4B/gw8GBV3ZXkPXQXUb6uX/+NwPcDt1bVB5LsB3yKbkbibLpZi7cB26rqlEFqNEBIkrRvSXISXWAYd0VVnZHkQOB/0F0g+VS6ax8+AfxyVd3a7+MpwOV0nwXxEHAd8LqqenCQGg0QkiSplbdxSpKkZgYISZLUzAAhSZKaGSAkSVIzA4QkSWpmgJAkSc0MEJIkqZkBQpIkNTNASJKkZgYISZLUzAAhSZKa/X8HQdGHsZlHPAAAAABJRU5ErkJggg==",
>>>>>>> 6dd30ba44932743aae3537bdf751a8808c0f64dc
      "text/plain": [
       "<Figure size 600x400 with 1 Axes>"
      ]
     },
     "metadata": {
      "needs_background": "light"
     },
     "output_type": "display_data"
    }
   ],
   "source": [
    "_ = plt.hist(results.resid, bins = \"auto\")"
   ]
  },
  {
   "cell_type": "code",
   "execution_count": null,
   "metadata": {},
   "outputs": [
    {
     "data": {
<<<<<<< HEAD
      "image/png": "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\n",
=======
      "image/png": "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",
>>>>>>> 6dd30ba44932743aae3537bdf751a8808c0f64dc
      "text/plain": [
       "<Figure size 600x400 with 1 Axes>"
      ]
     },
     "metadata": {
      "needs_background": "light"
     },
     "output_type": "display_data"
    }
   ],
   "source": [
    "fig = sm.qqplot(results.resid, stats.norm, fit=True, line='45')\n",
    "plt.show()"
   ]
  },
  {
   "cell_type": "markdown",
   "metadata": {},
   "source": [
    "#### Check equal variance assumption - Bartlett's Test"
   ]
  },
  {
   "cell_type": "markdown",
   "metadata": {},
   "source": [
    "$$H_0: \\text{Variance of different treatment groups are equal}$$  \n",
    "$$H_1: \\text{At least two treatment groups have different variance}$$"
   ]
  },
  {
   "cell_type": "code",
   "execution_count": null,
   "metadata": {},
   "outputs": [
    {
     "data": {
      "text/plain": [
       "BartlettResult(statistic=83.37605738432954, pvalue=1.6482793553106593e-16)"
      ]
     },
     "execution_count": 23,
     "metadata": {},
     "output_type": "execute_result"
    }
   ],
   "source": [
    "df2['resid'] = results.resid\n",
    "stats.bartlett(df2['resid'][df2['Holiday_Type'] == 'Weekday'], \n",
    "               df2['resid'][df2['Holiday_Type'] == 'Weekend'], \n",
    "               df2['resid'][df2['Holiday_Type'] == 'Traditional'],\n",
    "                df2['resid'][df2['Holiday_Type'] == 'National'],\n",
    "                df2['resid'][df2['Holiday_Type'] == 'Western'],\n",
    "              df2['resid'][df2['Holiday_Type'] == 'Fother'])"
   ]
  },
  {
   "cell_type": "markdown",
   "metadata": {},
   "source": [
    "### Nonparametric - Kruskal"
   ]
  },
  {
   "cell_type": "code",
   "execution_count": null,
   "metadata": {},
   "outputs": [
    {
     "data": {
      "text/html": [
       "<div>\n",
       "<style scoped>\n",
       "    .dataframe tbody tr th:only-of-type {\n",
       "        vertical-align: middle;\n",
       "    }\n",
       "\n",
       "    .dataframe tbody tr th {\n",
       "        vertical-align: top;\n",
       "    }\n",
       "\n",
       "    .dataframe thead th {\n",
       "        text-align: right;\n",
       "    }\n",
       "</style>\n",
       "<table border=\"1\" class=\"dataframe\">\n",
       "  <thead>\n",
       "    <tr style=\"text-align: right;\">\n",
       "      <th></th>\n",
       "      <th>value</th>\n",
       "      <th>rank</th>\n",
       "    </tr>\n",
       "  </thead>\n",
       "  <tbody>\n",
       "    <tr>\n",
       "      <th>0</th>\n",
       "      <td>149936.0</td>\n",
       "      <td>1.0</td>\n",
       "    </tr>\n",
       "    <tr>\n",
       "      <th>1</th>\n",
       "      <td>150242.0</td>\n",
       "      <td>2.0</td>\n",
       "    </tr>\n",
       "    <tr>\n",
       "      <th>2</th>\n",
       "      <td>152420.0</td>\n",
       "      <td>3.0</td>\n",
       "    </tr>\n",
       "    <tr>\n",
       "      <th>3</th>\n",
       "      <td>160534.0</td>\n",
       "      <td>4.0</td>\n",
       "    </tr>\n",
       "    <tr>\n",
       "      <th>4</th>\n",
       "      <td>168154.0</td>\n",
       "      <td>5.0</td>\n",
       "    </tr>\n",
       "    <tr>\n",
       "      <th>...</th>\n",
       "      <td>...</td>\n",
       "      <td>...</td>\n",
       "    </tr>\n",
       "    <tr>\n",
       "      <th>2637</th>\n",
       "      <td>2658619.0</td>\n",
       "      <td>2643.0</td>\n",
       "    </tr>\n",
       "    <tr>\n",
       "      <th>2638</th>\n",
       "      <td>2668231.0</td>\n",
       "      <td>2644.0</td>\n",
       "    </tr>\n",
       "    <tr>\n",
       "      <th>2639</th>\n",
       "      <td>2678263.0</td>\n",
       "      <td>2645.0</td>\n",
       "    </tr>\n",
       "    <tr>\n",
       "      <th>2640</th>\n",
       "      <td>3028347.0</td>\n",
       "      <td>2646.0</td>\n",
       "    </tr>\n",
       "    <tr>\n",
       "      <th>2641</th>\n",
       "      <td>3206078.0</td>\n",
       "      <td>2647.0</td>\n",
       "    </tr>\n",
       "  </tbody>\n",
       "</table>\n",
       "<p>2642 rows × 2 columns</p>\n",
       "</div>"
      ],
      "text/plain": [
       "          value    rank\n",
       "0      149936.0     1.0\n",
       "1      150242.0     2.0\n",
       "2      152420.0     3.0\n",
       "3      160534.0     4.0\n",
       "4      168154.0     5.0\n",
       "...         ...     ...\n",
       "2637  2658619.0  2643.0\n",
       "2638  2668231.0  2644.0\n",
       "2639  2678263.0  2645.0\n",
       "2640  3028347.0  2646.0\n",
       "2641  3206078.0  2647.0\n",
       "\n",
       "[2642 rows x 2 columns]"
      ]
     },
     "execution_count": 24,
     "metadata": {},
     "output_type": "execute_result"
    }
   ],
   "source": [
    "alldata = np.array([])\n",
    "for day in days:\n",
    "    alldata = np.concatenate([alldata, day])\n",
    "alldata.sort()\n",
    "tmpdf = pd.DataFrame(({'value': alldata}))\n",
    "tmpdf['rank'] = tmpdf.index + 1\n",
    "value2rank = tmpdf.groupby('value').mean().reset_index()\n",
    "value2rank"
   ]
  },
  {
   "cell_type": "code",
   "execution_count": null,
   "metadata": {},
   "outputs": [
    {
     "name": "stdout",
     "output_type": "stream",
     "text": [
      "T0 = 2873485.0\n",
      "T1 = 494451.0\n",
      "T2 = 28859.0\n",
      "T3 = 66229.0\n",
      "T4 = 33305.0\n",
      "T5 = 8299.0\n"
     ]
    }
   ],
   "source": [
    "T = []\n",
    "for i, day in enumerate(days):\n",
    "    samp = pd.DataFrame({'value': day})\n",
    "    samp = pd.merge(samp, value2rank)\n",
    "    T.append(samp['rank'].sum())\n",
    "    print(f\"T%s = {T[i]}\"%(i))"
   ]
  },
  {
   "cell_type": "code",
   "execution_count": null,
   "metadata": {},
   "outputs": [
    {
     "name": "stdout",
     "output_type": "stream",
     "text": [
      "H = 875.1149296574622\n",
      "p-value = 0.0\n"
     ]
    }
   ],
   "source": [
    "n = []\n",
    "columns = ['Weekday', 'Weekend', 'Traditional', 'National', 'Western', 'Fother']\n",
    "for column in columns:\n",
    "    n.append(df1[column].dropna().shape[0])\n",
    "    \n",
    "T = np.array(T)\n",
    "n = np.array(n)\n",
    "x = T ** 2 / n\n",
    "k = 6\n",
    "n = n.sum()\n",
    "H = 12 / (n * (n + 1)) * (x.sum()) - 3 * (n + 1)\n",
    "pvalue = 1 - stats.chi2.cdf(H, k - 1)\n",
    "\n",
    "print(f\"H = {H}\")\n",
    "print(f\"p-value = {pvalue}\")"
   ]
  },
  {
   "cell_type": "markdown",
   "metadata": {},
   "source": [
    "## 假期長度"
   ]
  },
  {
   "cell_type": "markdown",
   "metadata": {},
   "source": [
    "### Parametric - One Way Anova"
   ]
  },
  {
   "cell_type": "code",
<<<<<<< HEAD
   "execution_count": 27,
=======
   "execution_count": null,
>>>>>>> 6dd30ba44932743aae3537bdf751a8808c0f64dc
   "metadata": {},
   "outputs": [],
   "source": [
    "days_len = [[]for i in range(6)]"
   ]
  },
  {
   "cell_type": "code",
<<<<<<< HEAD
   "execution_count": 28,
=======
   "execution_count": null,
>>>>>>> 6dd30ba44932743aae3537bdf751a8808c0f64dc
   "metadata": {},
   "outputs": [],
   "source": [
    "year = np.arange(2015, 2023, 1)\n",
    "month = np.arange(1, 13, 1)\n",
    "for y in year:\n",
    "    if(y == 2022):\n",
    "        month = np.arange(1, 4, 1)\n",
    "    for m in month:\n",
    "        for d in np.arange(1, calendar.monthrange(y,m)[1] + 1, 1):\n",
    "            today = datetime(y,m,d)\n",
    "            length = getHolidayLength(today)\n",
    "            if(length > 4):\n",
    "                days_len[5].append(transportCnt[today])\n",
    "            else:\n",
    "                days_len[length].append(transportCnt[today])"
   ]
  },
  {
   "cell_type": "code",
<<<<<<< HEAD
   "execution_count": 29,
=======
   "execution_count": null,
>>>>>>> 6dd30ba44932743aae3537bdf751a8808c0f64dc
   "metadata": {},
   "outputs": [
    {
     "data": {
      "text/html": [
       "<div>\n",
       "<style scoped>\n",
       "    .dataframe tbody tr th:only-of-type {\n",
       "        vertical-align: middle;\n",
       "    }\n",
       "\n",
       "    .dataframe tbody tr th {\n",
       "        vertical-align: top;\n",
       "    }\n",
       "\n",
       "    .dataframe thead th {\n",
       "        text-align: right;\n",
       "    }\n",
       "</style>\n",
       "<table border=\"1\" class=\"dataframe\">\n",
       "  <thead>\n",
       "    <tr style=\"text-align: right;\">\n",
       "      <th></th>\n",
       "      <th>Normal</th>\n",
       "      <th>One</th>\n",
       "      <th>Two</th>\n",
       "      <th>Three</th>\n",
       "      <th>Four</th>\n",
       "      <th>FourPlus</th>\n",
       "    </tr>\n",
       "  </thead>\n",
       "  <tbody>\n",
       "    <tr>\n",
       "      <th>0</th>\n",
       "      <td>1915326.0</td>\n",
       "      <td>1402500.0</td>\n",
       "      <td>1897089.0</td>\n",
       "      <td>2031991.0</td>\n",
       "      <td>1796950.0</td>\n",
       "      <td>751526.0</td>\n",
       "    </tr>\n",
       "    <tr>\n",
       "      <th>1</th>\n",
       "      <td>1945591.0</td>\n",
       "      <td>1690886.0</td>\n",
       "      <td>1551238.0</td>\n",
       "      <td>2081276.0</td>\n",
       "      <td>1830184.0</td>\n",
       "      <td>1342552.0</td>\n",
       "    </tr>\n",
       "    <tr>\n",
       "      <th>2</th>\n",
       "      <td>1965860.0</td>\n",
       "      <td>1830443.0</td>\n",
       "      <td>1884434.0</td>\n",
       "      <td>2017620.0</td>\n",
       "      <td>1802037.0</td>\n",
       "      <td>1356261.0</td>\n",
       "    </tr>\n",
       "    <tr>\n",
       "      <th>3</th>\n",
       "      <td>1987913.0</td>\n",
       "      <td>1695510.0</td>\n",
       "      <td>1631624.0</td>\n",
       "      <td>1985334.0</td>\n",
       "      <td>1585463.0</td>\n",
       "      <td>1678593.0</td>\n",
       "    </tr>\n",
       "    <tr>\n",
       "      <th>4</th>\n",
       "      <td>2163929.0</td>\n",
       "      <td>1853602.0</td>\n",
       "      <td>1901482.0</td>\n",
       "      <td>1708675.0</td>\n",
       "      <td>1769724.0</td>\n",
       "      <td>1653840.0</td>\n",
       "    </tr>\n",
       "    <tr>\n",
       "      <th>...</th>\n",
       "      <td>...</td>\n",
       "      <td>...</td>\n",
       "      <td>...</td>\n",
       "      <td>...</td>\n",
       "      <td>...</td>\n",
       "      <td>...</td>\n",
       "    </tr>\n",
       "    <tr>\n",
       "      <th>1788</th>\n",
       "      <td>2172261.0</td>\n",
       "      <td>NaN</td>\n",
       "      <td>NaN</td>\n",
       "      <td>NaN</td>\n",
       "      <td>NaN</td>\n",
       "      <td>NaN</td>\n",
       "    </tr>\n",
       "    <tr>\n",
       "      <th>1789</th>\n",
       "      <td>1919316.0</td>\n",
       "      <td>NaN</td>\n",
       "      <td>NaN</td>\n",
       "      <td>NaN</td>\n",
       "      <td>NaN</td>\n",
       "      <td>NaN</td>\n",
       "    </tr>\n",
       "    <tr>\n",
       "      <th>1790</th>\n",
       "      <td>1940394.0</td>\n",
       "      <td>NaN</td>\n",
       "      <td>NaN</td>\n",
       "      <td>NaN</td>\n",
       "      <td>NaN</td>\n",
       "      <td>NaN</td>\n",
       "    </tr>\n",
       "    <tr>\n",
       "      <th>1791</th>\n",
       "      <td>1969018.0</td>\n",
       "      <td>NaN</td>\n",
       "      <td>NaN</td>\n",
       "      <td>NaN</td>\n",
       "      <td>NaN</td>\n",
       "      <td>NaN</td>\n",
       "    </tr>\n",
       "    <tr>\n",
       "      <th>1792</th>\n",
       "      <td>1958461.0</td>\n",
       "      <td>NaN</td>\n",
       "      <td>NaN</td>\n",
       "      <td>NaN</td>\n",
       "      <td>NaN</td>\n",
       "      <td>NaN</td>\n",
       "    </tr>\n",
       "  </tbody>\n",
       "</table>\n",
       "<p>1793 rows × 6 columns</p>\n",
       "</div>"
      ],
      "text/plain": [
       "         Normal        One        Two      Three       Four   FourPlus\n",
       "0     1915326.0  1402500.0  1897089.0  2031991.0  1796950.0   751526.0\n",
       "1     1945591.0  1690886.0  1551238.0  2081276.0  1830184.0  1342552.0\n",
       "2     1965860.0  1830443.0  1884434.0  2017620.0  1802037.0  1356261.0\n",
       "3     1987913.0  1695510.0  1631624.0  1985334.0  1585463.0  1678593.0\n",
       "4     2163929.0  1853602.0  1901482.0  1708675.0  1769724.0  1653840.0\n",
       "...         ...        ...        ...        ...        ...        ...\n",
       "1788  2172261.0        NaN        NaN        NaN        NaN        NaN\n",
       "1789  1919316.0        NaN        NaN        NaN        NaN        NaN\n",
       "1790  1940394.0        NaN        NaN        NaN        NaN        NaN\n",
       "1791  1969018.0        NaN        NaN        NaN        NaN        NaN\n",
       "1792  1958461.0        NaN        NaN        NaN        NaN        NaN\n",
       "\n",
       "[1793 rows x 6 columns]"
      ]
     },
     "execution_count": 29,
     "metadata": {},
     "output_type": "execute_result"
    }
   ],
   "source": [
    "df1 = pd.DataFrame(days_len).T\n",
    "columns = ['Normal', 'One', 'Two', 'Three', 'Four', 'FourPlus']\n",
    "df1.columns = columns\n",
    "df1"
   ]
  },
  {
   "cell_type": "code",
<<<<<<< HEAD
   "execution_count": 30,
=======
   "execution_count": null,
>>>>>>> 6dd30ba44932743aae3537bdf751a8808c0f64dc
   "metadata": {},
   "outputs": [
    {
     "name": "stdout",
     "output_type": "stream",
     "text": [
      "Head of dataset:\n"
     ]
    },
    {
     "data": {
      "text/html": [
       "<div>\n",
       "<style scoped>\n",
       "    .dataframe tbody tr th:only-of-type {\n",
       "        vertical-align: middle;\n",
       "    }\n",
       "\n",
       "    .dataframe tbody tr th {\n",
       "        vertical-align: top;\n",
       "    }\n",
       "\n",
       "    .dataframe thead th {\n",
       "        text-align: right;\n",
       "    }\n",
       "</style>\n",
       "<table border=\"1\" class=\"dataframe\">\n",
       "  <thead>\n",
       "    <tr style=\"text-align: right;\">\n",
       "      <th></th>\n",
       "      <th>id</th>\n",
       "      <th>Holiday_Type</th>\n",
       "      <th>TPcnt</th>\n",
       "    </tr>\n",
       "  </thead>\n",
       "  <tbody>\n",
       "    <tr>\n",
       "      <th>0</th>\n",
       "      <td>0</td>\n",
       "      <td>Normal</td>\n",
       "      <td>1915326.0</td>\n",
       "    </tr>\n",
       "    <tr>\n",
       "      <th>1</th>\n",
       "      <td>1</td>\n",
       "      <td>Normal</td>\n",
       "      <td>1945591.0</td>\n",
       "    </tr>\n",
       "    <tr>\n",
       "      <th>2</th>\n",
       "      <td>2</td>\n",
       "      <td>Normal</td>\n",
       "      <td>1965860.0</td>\n",
       "    </tr>\n",
       "    <tr>\n",
       "      <th>3</th>\n",
       "      <td>3</td>\n",
       "      <td>Normal</td>\n",
       "      <td>1987913.0</td>\n",
       "    </tr>\n",
       "    <tr>\n",
       "      <th>4</th>\n",
       "      <td>4</td>\n",
       "      <td>Normal</td>\n",
       "      <td>2163929.0</td>\n",
       "    </tr>\n",
       "  </tbody>\n",
       "</table>\n",
       "</div>"
      ],
      "text/plain": [
       "   id Holiday_Type      TPcnt\n",
       "0   0       Normal  1915326.0\n",
       "1   1       Normal  1945591.0\n",
       "2   2       Normal  1965860.0\n",
       "3   3       Normal  1987913.0\n",
       "4   4       Normal  2163929.0"
      ]
     },
     "metadata": {},
     "output_type": "display_data"
    },
    {
     "name": "stdout",
     "output_type": "stream",
     "text": [
      "Tail of dataset:\n"
     ]
    },
    {
     "data": {
      "text/html": [
       "<div>\n",
       "<style scoped>\n",
       "    .dataframe tbody tr th:only-of-type {\n",
       "        vertical-align: middle;\n",
       "    }\n",
       "\n",
       "    .dataframe tbody tr th {\n",
       "        vertical-align: top;\n",
       "    }\n",
       "\n",
       "    .dataframe thead th {\n",
       "        text-align: right;\n",
       "    }\n",
       "</style>\n",
       "<table border=\"1\" class=\"dataframe\">\n",
       "  <thead>\n",
       "    <tr style=\"text-align: right;\">\n",
       "      <th></th>\n",
       "      <th>id</th>\n",
       "      <th>Holiday_Type</th>\n",
       "      <th>TPcnt</th>\n",
       "    </tr>\n",
       "  </thead>\n",
       "  <tbody>\n",
       "    <tr>\n",
       "      <th>2642</th>\n",
       "      <td>52</td>\n",
       "      <td>FourPlus</td>\n",
       "      <td>1469423.0</td>\n",
       "    </tr>\n",
       "    <tr>\n",
       "      <th>2643</th>\n",
       "      <td>53</td>\n",
       "      <td>FourPlus</td>\n",
       "      <td>1386871.0</td>\n",
       "    </tr>\n",
       "    <tr>\n",
       "      <th>2644</th>\n",
       "      <td>54</td>\n",
       "      <td>FourPlus</td>\n",
       "      <td>981204.0</td>\n",
       "    </tr>\n",
       "    <tr>\n",
       "      <th>2645</th>\n",
       "      <td>55</td>\n",
       "      <td>FourPlus</td>\n",
       "      <td>733248.0</td>\n",
       "    </tr>\n",
       "    <tr>\n",
       "      <th>2646</th>\n",
       "      <td>56</td>\n",
       "      <td>FourPlus</td>\n",
       "      <td>525312.0</td>\n",
       "    </tr>\n",
       "  </tbody>\n",
       "</table>\n",
       "</div>"
      ],
      "text/plain": [
       "      id Holiday_Type      TPcnt\n",
       "2642  52     FourPlus  1469423.0\n",
       "2643  53     FourPlus  1386871.0\n",
       "2644  54     FourPlus   981204.0\n",
       "2645  55     FourPlus   733248.0\n",
       "2646  56     FourPlus   525312.0"
      ]
     },
     "metadata": {},
     "output_type": "display_data"
    }
   ],
   "source": [
    "# wide_to_long假設同樣資料在不同因素下的名稱有相同的字頭，因此我們要改欄位名稱。\n",
    "# df1b = df1.rename(columns={'Normal': 'TPcnt_normal', \"One\": \"TPcnt_one\", \n",
    "#                           \"Two\": \"TPcnt_two\", \"Three\": \"TPcnt_three\"\n",
    "#                          , \"Four\": \"TPcnt_four\", \"FourPlus\": \"TPcnt_fourplus\"})\n",
    "df1b = df1.copy()\n",
    "df1b.columns = [\"TPcnt_\" + str(column) for column in columns]\n",
    "# 需要一個ID欄位\n",
    "df1b[\"id\"] = df1b.index\n",
    "# 呼叫wide_to_long(); 文件請見: https://pandas.pydata.org/pandas-docs/stable/reference/api/pandas.wide_to_long.html\n",
    "df2 = pd.wide_to_long(df1b, [\"TPcnt\"], sep=\"_\", suffix='\\w+', i=\"id\", j=\"Holiday_Type\").dropna().reset_index()\n",
    "print(\"Head of dataset:\")\n",
    "display(df2.head())\n",
    "print(\"Tail of dataset:\")\n",
    "display(df2.tail())"
   ]
  },
  {
   "cell_type": "code",
<<<<<<< HEAD
   "execution_count": 31,
=======
   "execution_count": null,
>>>>>>> 6dd30ba44932743aae3537bdf751a8808c0f64dc
   "metadata": {},
   "outputs": [
    {
     "data": {
      "text/html": [
       "<div>\n",
       "<style scoped>\n",
       "    .dataframe tbody tr th:only-of-type {\n",
       "        vertical-align: middle;\n",
       "    }\n",
       "\n",
       "    .dataframe tbody tr th {\n",
       "        vertical-align: top;\n",
       "    }\n",
       "\n",
       "    .dataframe thead th {\n",
       "        text-align: right;\n",
       "    }\n",
       "</style>\n",
       "<table border=\"1\" class=\"dataframe\">\n",
       "  <thead>\n",
       "    <tr style=\"text-align: right;\">\n",
       "      <th></th>\n",
       "      <th>sum_sq</th>\n",
       "      <th>df</th>\n",
       "      <th>F</th>\n",
       "      <th>PR(&gt;F)</th>\n",
       "    </tr>\n",
       "  </thead>\n",
       "  <tbody>\n",
       "    <tr>\n",
       "      <th>C(Holiday_Type)</th>\n",
       "      <td>1.035844e+14</td>\n",
       "      <td>5.0</td>\n",
       "      <td>154.799103</td>\n",
       "      <td>1.571406e-144</td>\n",
       "    </tr>\n",
       "    <tr>\n",
       "      <th>Residual</th>\n",
       "      <td>3.534469e+14</td>\n",
       "      <td>2641.0</td>\n",
       "      <td>NaN</td>\n",
       "      <td>NaN</td>\n",
       "    </tr>\n",
       "  </tbody>\n",
       "</table>\n",
       "</div>"
      ],
      "text/plain": [
       "                       sum_sq      df           F         PR(>F)\n",
       "C(Holiday_Type)  1.035844e+14     5.0  154.799103  1.571406e-144\n",
       "Residual         3.534469e+14  2641.0         NaN            NaN"
      ]
     },
     "execution_count": 31,
     "metadata": {},
     "output_type": "execute_result"
    }
   ],
   "source": [
    "results = smf.ols('TPcnt ~ C(Holiday_Type)', data=df2).fit()\n",
    "# results.summary()\n",
    "aov_table = sms.anova_lm(results, typ=2)\n",
    "aov_table"
   ]
  },
  {
   "cell_type": "code",
<<<<<<< HEAD
   "execution_count": 32,
=======
   "execution_count": null,
>>>>>>> 6dd30ba44932743aae3537bdf751a8808c0f64dc
   "metadata": {},
   "outputs": [
    {
     "name": "stdout",
     "output_type": "stream",
     "text": [
      "         Multiple Comparison of Means - Tukey HSD, FWER=0.05          \n",
      "======================================================================\n",
      " group1   group2    meandiff   p-adj     lower        upper     reject\n",
      "----------------------------------------------------------------------\n",
      "    Four FourPlus -198107.8362 0.0376 -389547.7985   -6667.8738   True\n",
      "    Four   Normal  504181.5289  0.001  369416.1429  638946.9149   True\n",
      "    Four      One  141280.0323    0.9 -304761.5816  587321.6462  False\n",
      "    Four    Three  -71461.4098 0.8641 -254022.2601  111099.4405  False\n",
      "    Four      Two  154316.2898 0.0189   15738.6443  292893.9354   True\n",
      "FourPlus   Normal  702289.3651  0.001   561926.998  842651.7322   True\n",
      "FourPlus      One  339387.8684 0.2562 -108376.5855  787152.3223  False\n",
      "FourPlus    Three  126646.4264 0.3827  -60084.2591  313377.1119  False\n",
      "FourPlus      Two   352424.126  0.001  208397.5705  496450.6815   True\n",
      "  Normal      One -362901.4967 0.1476 -789522.4716   63719.4783  False\n",
      "  Normal    Three -575642.9387  0.001 -703630.4341 -447655.4433   True\n",
      "  Normal      Two -349865.2391  0.001 -397363.6471 -302366.8311   True\n",
      "     One    Three  -212741.442 0.7198 -656782.2183  231299.3343  False\n",
      "     One      Two   13036.2576    0.9 -414804.2627  440876.7779  False\n",
      "   Three      Two  225777.6996  0.001   93782.0423  357773.3569   True\n",
      "----------------------------------------------------------------------\n"
     ]
    }
   ],
   "source": [
    "mc = smm.MultiComparison(df2['TPcnt'], df2['Holiday_Type'])\n",
    "print(mc.tukeyhsd().summary())"
   ]
  },
  {
   "cell_type": "code",
<<<<<<< HEAD
   "execution_count": 33,
=======
   "execution_count": null,
>>>>>>> 6dd30ba44932743aae3537bdf751a8808c0f64dc
   "metadata": {},
   "outputs": [
    {
     "name": "stderr",
     "output_type": "stream",
     "text": [
      "D:\\New folder\\lib\\site-packages\\statsmodels\\sandbox\\stats\\multicomp.py:775: UserWarning: FixedFormatter should only be used together with FixedLocator\n",
      "  ax1.set_yticklabels(np.insert(self.groupsunique.astype(str), 0, ''))\n"
     ]
    },
    {
     "data": {
<<<<<<< HEAD
      "image/png": "iVBORw0KGgoAAAANSUhEUgAAA18AAAIXCAYAAABjOuTcAAAAOXRFWHRTb2Z0d2FyZQBNYXRwbG90bGliIHZlcnNpb24zLjMuMiwgaHR0cHM6Ly9tYXRwbG90bGliLm9yZy8vihELAAAACXBIWXMAAA9hAAAPYQGoP6dpAAA6cUlEQVR4nO3de5xdV103/s+3KRRom3CXmAHDVSiI3LyhSRuoUStaiOHWChbRn4DYoiJaBCkX7cOj9knL5VERqajwgHFELkEUaE1AFJF7uRSQQjMNFAokJEChw/r9sfe0J6eTZCad7Mkk7/frdV6TvfY6e69zzp7J/uy19jrVWgsAAACH1jGL3QAAAICjgfAFAAAwAOELAABgAMIXAADAAIQvAACAAQhfAAAAAxC+AAAABiB8AQAADED4AgAAGIDwBcxLVZ1VVa1/nDLL+qqqT/frLz3IfZxXVW2s7GlVddYsdVf3+7rRujnu69KDbecBtrumql5fVVNV9e2q2llV/15VT62q4xd6f4ebQ/W+DqWqLh45zltVTVfV9v4zvd9BbvNW/bF9ysK29vBUVRf0792b97H+Rr+7I39fVh9g22eNfT7X9Z/Pq6pq1UG0dbDjtf/bcG1Vfd8sr2NfjyvmuO2Lq2r3IX4J4/t8eFXtPpj3HY5Gxy52A4Al6+tJnpzk0rHyk5PcvV+/kJ6W5MtJLh4r35Hkx5J8ZoH3d9Cq6vlJ/iDJvyd5brq23SrJQ5Ocl+ReSX5zsdo3kKctdgMWwDeTPKz/97FJ7pHkOUn+varu01qbmuf2bpXkef2/L12QFh6mqupmSX6xX/zpqlp1EO/XXDwpySeS3DLJ2iTnJjm5qn6gtbZnHtsZ5HitqkqyKckrWmufq6q3pPv7Neo9STYn+dORsmuHaN/BaK29o6rem+SPkvzSYrcHDnfCF3CwXpfkzKr69dbarpHyJ6c7eVg+RCNaa9cm+Y8h9jUXVfXodMHrlUl+tbU22oP31qr637nxydYRo6pu1Vr7RmvtY4vdlgXw3dba6LH1rqr6fJJ3JPnZJH+xOM1aEk5Pcockb0n3Xv1SupPzhfbR1tr7+n9fUlXL0l3weGSSv5vrRuZyvPbbPrb/m3OwfjrJg5Kc0e/3S0m+NLafJPni2LF3uHtZktdV1XNaa1cudmPgcGbYIXCwXtv/fPxMQVWtSPILSf5qvHJVnTLbUMW5DBvsh9zcN90V7b2G4exj6NJ5fdkDq2qyqnb1w/7+tqrucKAXVlU3r6rnVNUn+uFBX+qHMx3wuemC11eTnD0WvJIkrbWvt9b+ZWRft6iq86vqs/3wxKmqellV3Xr8PaiqN1fVI6rqA1X1zar6eFU9ol9/Vr+8p6reW1UPGXv+xf3QoPtW1Tv6el+qqpdW1a3G6v56VW2tqqv7eh+pqmf1vRmj9S6tqo9W1drqhlR+I/1nP9swruqGXH6ob8fX+/f3j8bq3K+q/qmqvlpV36qqD1bVL43VmTmWHl9Vf1hVV/Wf8dur6vvH6j6wf9+u7j/Lq6rqLVU1Meund2A7+5/fGdvPnarqz6sb+vbt/vN8XlUd269fnRtOsp83chxf3H8mrQ/uM9t7cF922dh+3lhV/z1W9tiqek//We2uqrdV1QPHG15VD+mf/5X+vf1AVT1mrM7MMLh1VfV/q+rLVXVN/3v0vfN4n56c5NvpeqauTPKkqi5VHGIzgeX7kqT/DP6zf827qur9VfXk8baMH691w9+VZ1X3t+Cz6Xqf1lXVMX3ZJ/vfw69V1Yer6pw5tO+pSf6rtfbJub6gugl/O/t6P95/jm+ufshzVd2zql4z8nvx8ar69ZHnnNC/rj+fZXurqxuG+zsjxW9KsjvJr871dcHRSvgCDtaudENjfnmk7PFJvpuuV2whPSrJ/yT5QLpeox/ryw7kH5N8OsnGdMP9HpnkbeMhYlRVHZPkn5L8XpLXpLtq/3tJfjLJpVV1y/08d2WS+yX5l9baNw7UuP4E8A1Jnpnkb/p9XZCul+CdVXXc2FN+MMn5SV6cZEO6IDBZ3TDHX0ny7CRnJlmR5M2ztPVmSbak67l5ZJKXJvm13Pjzunv/2p+Q5BHpevF+J8mNTsSSrEzyt33905K8fB+v9XH9un9L99k9Msn/SXL8SJ3vTzdU875Jzu5f48eSXFxVz5pls3+U7iT7V5L8f0numeRN1fVQpD/R/Nck35Pk19N9hs9I8vkkJ87WzlnafWz/uEV193r9cbpw/ZaROndK8t4kP5XkBUl+Jt17dm6SV/TVdqTr9Ui/buY4fmFr7bJ+/akjuz413bDHk2ZCTx/kTk7y9pF9PzvdhZCPJXlMus/sxCTbquqkkXrrkrw7ya2TPCVdz9QH0/VWnDXLS//LdAHzjCTPSnJKus/5gPpguz7JP/U9O3+dbsjm2rk8/ya6R/9zJuiuTnfcPibd8TSZ5CXpesfm4ux0Q0+fme5z/US69+O8dO/7zyZ5bLrP9Nb721BV3Tzd53rJHPd9k/Xh+h1JXp/k9Nbanv64+K90f6t+O93v+FuSXFRVz0uS1trudBdSzqzuotqop6UL1tdfZGutfTvd7+7PHtpXBEeA1pqHh4fHnB9JzkrSkjwk3QlZS3Lfft17k7yq//dHk1w68ryZuqeMbW91X37WSNl53Z+nverttb25PD/JBWN1z+jLzxwpu3SsnY/r62wYe+5D+vKn7ue9+ZG+zvlzfC9/qq//O2Plj+nLf3Wk7Iok30iyaqTsB/t6VyW51Uj56X35z42UXdyXnT22r2f35T++jzYek26I+hOSXJfkNmPvXUvysFmeN/6+viTJVw/wfrw2ybeS3HmsfEuSPUlWjB1Lbxmr9+i+/Ef75Qf3y6cfxHE+836NP64af6+S/Fm6exzvMlb+2/1zTuqXb98vnzfL/v4myWdGlv813bDGryR5Yl/20P75P9kv3zldQLpobFsnpAtzrxsp+3iS96cbNjda9039azpm7Pf7ZWP1fqcvv9Mc3rvn9nV/ql++a7qLMq+ew+/uzP5XH2AfM/V+pD8+T0h34n91ugtD37OfY/m56e4frf0crzNt+3SSm83ynn3gII6pH+63+dgD1GtJXjqyPHO8nzKH9+/iJLv7f/9uut/ZZ40975/T9UYuHyt/SbrAf5t++W5JppM8Y6TOLfr37q9mafeL+vrHz/e98fA4mh56voCb4t/STSbxy1X1A0l+KLMMOVxE4/d8vD7dyci6/TznEUm+lq4HZabX49h0vQRfSHcitFBmJnO4eKz879OFjYePlX+w7T1pwcf7n5e2vXvaZsq/b5Z9jr8nr+l/Xv+eVDdU741VdU26k6nvJHl1kmXpJgsZ9dXW2jtn2c+49ya5dVW9tqpOr6rbz1LnYUne0W58z8jF6SarGL9X7o1jyx/uf8687k+n66V6cVU9ZbQnaI6+me6Y/qF0J/kbklyeZEtVjbblEel6M64aO2be2q8/eQ77ekeSu1XVXavqFkl+It1J8iXpeuySrtfk2iTv6pd/Kl2YePXYfr+V7nfzlCSpqnskuXf6z36s7pZ0vZd7DdfMgd/bWfW9uTNDDf81SVprn00Xbn6hqhb6XtD/SHd8fj3Jm9P9jv5Ma+2LfXseVt1w1J254Vh+QZLbJbnjHLb/xtbad8bK3pvkB6vq5VX1U/N4TTPDNq+eY/2DVf1wwecnOaO19r9HVtwi3d+Vf0zyjVmOhVsk+dEkaa39T7r39GkjwzTPSPfevXSW/V6dLuDe6dC8LDgyCF/AQWuttSSvSjer2VOSXN5a27a4rdrLF0YXWmvXJbkm3cnDvnxPuuFD3053ojb6uFO63ot9+Xz/865zbN/tklzXuqFZo+1sfdvH2/mVsXrfnq28b3vSnUiNuq61ds1Y2cx7dLskqaq7JNmWZFWSc5KsSRc+Zu4HGR/KuCNz0Fr7m3RDVL8vyT8kubq/F+cnR6rdbh/bu2q0jSPGX8vMRAi37Pe5M13w+WC6IYqXVXfP1/P3N/R0xHdba+/rH+9trf1juqGV16UbHjrje5L8XG58vMzcr7W/Y2bGzFDCU9MFr5sleWdf/vCRde9urX1zZL9JN4RsfN+PHdnvTL0/maXezDDR8Tbu973dj4elO/7/Psnyqrp1dfcvvj5dgH78fp57MJ6Y7vh8YJLvba3dv7X27iSpqh9OMnN/5a8m+fG+7h/2ZQd6Lcnsx+P56YYh/mi6gH1NdfdRPmSWuqNm9vetOez3prh5us//stxwAWDG7dIF9t/IjY+FLX2d0WPhwnTDeWd+T389yXtaa++fZb8zr2su7ysctcx2CNxUF6e7kvyUJL+/n3oz/zGP38c0lxPTg3WnJNf3FPVXd2+XG59Yjvpyv/6n97F+n1Pot9Z2VNVHkqyvfta/A7TvmiTHVtUdRgNYf5X5TulOqhfSsVV1u7EANnOVeqbskenuw9rQWvvcSJsesI9ttrnuvLX2qiSv6u/FWpvuyvybq+pe/b6uSdcLM26mx+DLc93XyD4/kuRx/Xt6/3TD1f4gXa/W/zqI7X2jqj6TbsjnjC+n6xna1/F/1T7KR7e7vaouTxewrkjyvtba16rqHUleXlU/ku5k/3lj+026exo/l32bqXd+unueZjPnCSAO4Mn9z9/qH7Otn+3ewYP18XbDbIfjHpcuVDyitXZ94KmqR85j+zc6vvuLOBckuaAPlqemC/dvq6o77+f3fuZzuO089p/M/2/ntel6st+W5O1V9dOtta/2676argfwb9LNUDibz878o7X2zqr6aJKnV/f9YQ/KDV8hMG7mdc379xSOJsIXcJO01qaq6o/TDWv66/1UvaL/ef90JwUzfn6Ou7o287+iemaS0ZnhHpPu796l+3nOm9OdtC1rrf3nPPeXJC9Md5X/oqoan2o+VXVCkoe2bsbDd6S7ef8X000+MeMX0gWgdxzE/g/kzCQXjSyf0f+8tP85097rp9Pug8uCzWLWuu9fems/AcEb0k2w8bl0r/dRVfW9rbXRwPLEdPe7HfTU2/3n8KEkv9lPMPGgg9lO//ndI3sPHXtzuh6xz4yc5M7mQL1Hb093jF6ZfkKP1trl1U1v/4J0vWFvH6n/tnS9cHdvrf3DvnbaWvtkVX0qyQ+21p69n/bdJFV1m3STqbw73fehjfuVdBM43K+19tFD1Y4RLd37Mz3Sxlumu39xYXbQ2teSbK7uC4Y3pbsPa1/T1s8MB777PHdzRf9zzn87W2sfqKqT0x0vl1bVT7bWru4vHlySrqfwwyO95/tzUbr7Glck+WK6Xs3Z3C3dBZQvzmGbcNQSvoCbrLX2e3Oo84WqenuSc6vqq+lOth+e7j6auZjpwXhsupkPv9X3auzPhqq6Lt29J/dNF4w+lC4c7cv/SxdQtlTVhenu7/hOkol0V5P/qR9+NqvW2t9X1QvT3dR/76p6ZW74kuUfyQ2zC/5L3663pbsnaXm6k9b7p+sR+kC6q9ML6dtJfrsPEP+VbgKH5yR5a2tt5j6if+3rvba67yS7RbrpsW9zU3ZcVa9I19v07nRDue6UbjbAnbmhh+/56e+fqqoXpBtOeWa6iRSe1Q8jnM8+H5FuZrY3pDtmKt3xduv09yMdwDFV9aMz/043FPPsdO/FeSP1/iDdsKx/r6qL0vUi3SLdifhpSZ7SWtveWvt6VX0uyel9j9ZXkny5tXZFv5139O29fbpZGTNS/qR0vRbXX0xorV1RVX+Q5A+r6m7p7hH7arphhj+cZE9rbaan7NfSBd63peutnkrXU3GfJA9qrV0/zf1NcGb/ui9qrV06vrK/h/DMdL1fQ3zJ+FvS9b69pqr+Il2v9zNzE7+wuKrelG4CoPelm1Xx+9J9Xp9L8ql9Pa/v3fyfdD2YF+2r3izPO6i/na21j1fVmnQBbGtVndpa255uOPG70s2I+X/ThbsT011U+LnW2sPGNvW36XpN1yZ50X4C248m+bfxC07A3oQvYEhPSDej1ovTTd7wpnT3gOxr2NCo56UbkvaKdCcKn0t3crs/G9KdJD813VXwN6WbuWufV3tba9NV9fPpTlCekC4gXJdke7pJDA4U+NJa+4P+ZOk30t1fcvt0weOydMOV/ryv1/ohUOelO7n+/XRDdv4mybPbTfsy19l8J124uShd6Ppmuvfz+u/raa19oqp+Id3MZZPprmS/pm/3+P0j87Et3ZC/x6QLL19OdwL4xJkhl30PzUPTDeF6Wboeoo8neVJr7eKD2Oen0k2e8qx0Qxe/nS4YndVa218v7YxbpvvC8BlX9+15VGvtDTOF/XDTh6QL3L+TLqh/Pd3wrZlANOPJ6aarf2O6YWR/ne59Sbp7vL6b7nMZ3e/b0x0fl7TWvjvawNba+VX1sXTH6+P7bX4hXaD9s5F6l/T3QP1+uh6a26T7bD+W/V+MmI8np3uP3jDbytbaR6rqP5L8YlX97gLtc5/6IXO/nG7WvzelC5yv6Nv4ypuw6UvS9U7/Srovk/9CujD/wlkm5xj3d+mG8B03z9/vg/rb2Vr7n5EAtq2qHt5a+1hVPSjd8fqidBOPfC3d78uWWbbxzT5w/mJGjqlRVXX3JD+QvS9KALMoFyiAI01VnZcurN2hteb+g3RfspxkY2vthMVuCxytqvvOts+mu+iw0N+HeEj0w4OvSPKu1tpj9lHnhemGB9+9vycO2AezHQIADKC/l3FTkt+v7gvdD1tVdYeq+okk/zfdUNZZJ6jpJx359XS99YIXHIBhhwAAw3lR+i9MTze5yuHqZ9N9lciOJE/bx/TySffVAufnhu8MBPbDsEMAAIABHNZd3gAAAEcK4QsAAGAAwhcAAMAATLgxB1V1XLrvThl123RfkAkAABzdTkxy1YG+aFz4mptz031nEAAAwGwm0n2h+z6Z7XAOZun5OjHJ9iuvvDLLly9fpFYBAACLbdeuXbnzne+cJCtaa7v2V1fP1xy01q5Ncu3MclUlSZYvXy58AQAAc2LCDQAAgAEIXwAAAAMQvgAAAAYgfAEAAAxA+AIAABiA8AUAADAA4QsAAGAAwhcAAMAAhC8AAIABCF8AAAADEL4AAAAGIHwBAAAMQPgCAAAYgPAFAAAwAOELAABgAMIXAADAAIQvAACAAQhfAAAAAxC+AAAABiB8AQAADED4AgAAGIDwBQAAMADhCwAAYADCFwAAwACELwAAgAEIXwAAAAMQvgAAAAYgfAEAAAxA+AIAABiA8AUAADAA4QsAAGAAwhcAAMAAhC8AAIABCF8AAAADEL4AAAAGIHwBAAAMQPgCAAAYgPAFAAAwAOELAABgAMIXAADAAIQvAACAAQhfAAAAAxC+AAAABiB8AQAADED4AgAAGIDwBQAAMADhCwAAYADCFwAAwACELwAAgAEIXwAAAAMQvgAAAAYgfAEAAAxA+AIAABiA8AUAADAA4QsAAGAAwhcAAMAAhC8AAIABHLvYDQAA9jY9PZ1t27Zlx44dWblyZdasWZNly5YtdrMAuImWTM9XVbUDPC5e7DYCwE01OTmZ1atXZ926dTnjjDOybt26rF69OpOTk4vdNABuoiUTvpKsHHk8I8musbJzFq1lALAAJicns3Hjxmzfvn2v8qmpqWzcuFEAA1jiqrW22G2Yt6o6K8mm1tqtq6qSXJ3kKa21f+jXfzDJ97bW7tgv/1iSrUlu01rbXVV3SfKSJA9P8t0k/5zkN1prX5zj/pcn2blz584sX758YV8cAIeNPXv2DLav6enpnHTSSZmampp1fVVl1apVueyyywYbgnj88ccPsh+ApWzXrl1ZsWJFkqxore3aX90lf89Xa61V1dYkpyT5h6q6TZKTkuypqpNaax/r1/13H7wqyRuS7Elycrr34OVJXtfXu5GqOi7JcSNFJx6SFwPAYeWEE05Y7CZcr7WW7du3z/wHP9g+AVg4S2nY4f5cmhuC09okH0ryzpGyU/o6SXJqkvsnOaO19t+ttf9M8oQkJ1fVD+1j++cm2Tny2L6PegAAALNa8j1fvUuTXFhVt0/Xm3Vpks+nC1R/keShSTb1de+T5MrW2pUzT26tfayqvtav+69Ztn9+kgtGlk+MAAZwxNu9e/dg+9q6dWtOO+20A9bbsmVL1q5dO0CLAFhoR0r4+miSa9IFr5OT/EGSK5P8fpIfSnLLJO/q61aS2cZR7Ks8rbVrk1x7fcWqhWo3AIexIe95Wr9+fSYmJjI1NTXrcL+qysTERNavX2/aeYAl6ogYdti6/6W2Jjk9yf2SbEvykSQ3S/KUJO9vrX29r/6xJHepqjvPPL+qTkqyIsnHh2w3AMxYtmxZLrzwwiQ3vsg3s7xp0ybBC2AJOyLCV+/SJGck+XBrbddIIDszN9zvlSRvT/LhJH9XVQ+qqh9O8uok/9Zae9+wTQaAG2zYsCGbN2/OqlWr9iqfmJjI5s2bs2HDhkVqGQAL4UgZdpgklyRZlr2D1r8leWT/M8n1syM+Mt1U81szMtX8QO0EgH3asGFDTj/99Gzbti07duzIypUrs2bNGj1eAEeAJfk9X4vN93wBAADJ/L7n60gadggAAHDYEr4AAAAGIHwBAAAMQPgCAAAYgPAFAAAwAOELAABgAMIXAADAAIQvAACAAQhfAAAAAxC+AAAABiB8AQAADED4AgAAGIDwBQAAMADhCwAAYADCFwAAwACELwAAgAEIXwAAAAMQvgAAAAYgfAEAAAxA+AIAABiA8AUAADAA4QsAAGAAwhcAAMAAhC8AAIABCF8AAAADEL4AAAAGIHwBAAAMQPgCAAAYgPAFAAAwAOELAABgAMIXAADAAIQvAACAAQhfAAAAAxC+AAAABiB8AQAADED4AgAAGIDwBQAAMADhCwAAYADCFwAAwACELwAAgAEIXwAAAAMQvgAAAAYgfAEAAAxA+AIAABiA8AUAADAA4QsAAGAAwhcAAMAAhC8AAIABCF8AAAADEL4AAAAGIHwBAAAMQPgCAAAYwGEbvqpqdVW1qnrAYrcFAADgpjp2MXZaVe0AVf46yXkDNAU4wk1PT2fbtm3ZsWNHVq5cmTVr1mTZsmWL3SwA4Ci0KOErycqRfz82yQuSfP9I2TeT3Ga+G62qZUlaa+27N615wJFgcnIy55xzTrZv33592cTERC688MJs2LBhEVsGAByNFmXYYWvtCzOPJDu7ohvKWms7R6rfraouqapvVNWHqurHZlZU1VlV9bWqekRVfSzJtUm+r6puXlX/u6qmqmpPVf1nVZ0y2oaqemhVba2qb1bVlVV1UVUdP8DLBwYwOTmZjRs37hW8kmRqaiobN27M5OTkIrUMADhaLVbP13z8YZJnJvlU/+/XVtU9WmvX9etvleTcJL+S5JokVyd5VZLVSR6X5Kokj0ryz1X1A621T1XVDyR5W5LnJnlykjskeWn/eNJArwsOuT179ix2ExbF9PR0zj777LR24xHOrbVUVc4555yceuqpR+0QxOOPd60JAIZWs52cDNqAqrOSbGqt3XqsfHWSzyb5ldbaK/uyk5JcluQ+rbVP9M99VZIHtNY+1Ne5e7qgNtFau2pke29P8t7W2rOr6tVJvtla+7WR9T+R5N+SHN9a+9ZYW45LctxI0YlJtu/cuTPLly+/6W8CHCJVtdhN4DC12H/7AeBIsWvXrqxYsSJJVrTWdu2v7lLo+frwyL939D/vmOQT/b+/PVbnQUkqyeVjJ57HpesZS5IHJ7lHVZ05sr7SDcO8a5KPj7Xh3CTPO8j2AwAALInw9Z2Rf89cqh29V+2bbe9LuMckmU4XsKbHtrV7pM6fJ7lolv19fpay85NcMLJ8YpLts9SDw8ru3bsPXOkItHXr1px22mkHrLdly5asXbt2gBYBACyN8DVfH0iyLMkdW2vb9lHn/Unu21r79Fw22Fq7Nt1kHkkM5WLpOFrv61m/fn0mJiYyNTU16/C6qsrExETWr19/1N7zBQAM77D9kuWD1Vq7PMnfJXl1VW2oqrtW1Q9V1e9W1cyl8Bcn+bGqellVPaCq7llVP19VL1m8lgMLZdmyZbnwwguT3Phiyczypk2bBC8AYFBHXPjqPSnJq5P8aZJPJnljkh9JcmWStNY+nOTkJPdMsi1db9kLc8M9ZcASt2HDhmzevDmrVq3aq3xiYiKbN2/2PV8AwOAWfbbDpaiqlifZabZDOPxNT09n27Zt2bFjR1auXJk1a9bo8QIAFsyRNtshwEFbtmxZTjnllMVuBgDAETvsEAAA4LAifAEAAAxA+AIAABiA8AUAADAA4QsAAGAAwhcAAMAAhC8AAIABCF8AAAADEL4AAAAGIHwBAAAMQPgCAAAYgPAFAAAwAOELAABgAMIXAADAAIQvAACAAQhfAAAAAxC+AAAABiB8AQAADED4AgAAGIDwBQAAMADhCwAAYADCFwAAwACELwAAgAEIXwAAAAMQvgAAAAYgfAEAAAxA+AIAABiA8AUAADAA4QsAAGAAwhcAAMAAhC8AAIABCF8AAAADEL4AAAAGIHwBAAAMQPgCAAAYgPAFAAAwAOELAABgAMIXAADAAIQvAACAAQhfAAAAAxC+AAAABiB8AQAADED4AgAAGIDwBQAAMADhCwAAYADCFwAAwACELwAAgAEIXwAAAAMQvgAAAAYgfAEAAAxA+AIAABiA8AUAADCAYxe7AQBwtJiens62bduyY8eOrFy5MmvWrMmyZcsWu1kADGRJ9XxV1Z2r6pVVdVVVfbuqPldVF1bV7Ra7bQCwP5OTk1m9enXWrVuXM844I+vWrcvq1aszOTm52E0DYCBLJnxV1d2SvC/JvZI8Psk9kjwlycOTvKeqbruIzQOAfZqcnMzGjRuzffv2vcqnpqayceNGAQzgKFGttcVuw5xU1VuT3C/JvVpr3xwpv1OSzyR5dWvtqVV1RZK/SBfOHp3kq0le1Fr7i5HnrEpyQZL1Sb6b5F1JzmmtXTHHtixPsnPnzp1Zvnz5Arw6Dhd79uxZ7CYAR5jp6emcdNJJmZqamnV9VWXVqlW57LLLDEEEFtzxxx+/2E044u3atSsrVqxIkhWttV37q7skwlffq/XlJL/fWjt/lvV/kWRjktsl+WySE5M8N8m/9OV/mOS+rbVPVNWtknwwybYkm5Jcl+Q5SR6c5P6ttW/Psv3jkhw3UnRiku3C15Gnqha7CQAAC2YpnOsvdfMJX0tl2OE9k1SSj+9j/ceT3CbJHfrlLa21l7fWPp3kxemC2yn9usel6+36ldbaR1prH0/ypCR3Gakz7twkO0ce2/dRDwAAYFZHymyHM90VM9H+wzMrWmutqr6Q5I590YPTDUn8+lgvxy2S3H0f2z8/3TDFGSdGADsi7d69e7GbABxhtm7dmtNOO+2A9bZs2ZK1a9cO0CIAFstSCV+fThesTkryhlnW3zvdvV1f7pe/M7a+5YZevmOS/HeSM2fZzpdm23lr7dok184sG5p25DIuGlho69evz8TERKampmYd/lNVmZiYyPr1693zBXCEWxLDDltr1yT51yRPq6pbjq7rJ9w4M8nr2twGtb4/3TDGq1trnx577FzwxgNwVFu2bFkuvPDCJDe+eDezvGnTJsEL4CiwJMJX7+npJr14W1Wt7b/z66fThbKpJL8/x+38Xboesn+qqjVVddeqOrn/vrCJQ9N0AI5mGzZsyObNm7Nq1aq9yicmJrJ58+Zs2LBhkVoGwJCWyrDDtNY+VVUPSXJektelm9nwC+mGIT6/tfaVOW7nG1W1Nt1EHJPp7t+aSvKOJPudnQQADtaGDRty+umnZ9u2bdmxY0dWrlyZNWvW6PECOIosianmDze+5wsAAEiOzKnmAQAAljThCwAAYADCFwAAwACELwAAgAEIXwAAAAMQvgAAAAYgfAEAAAxA+AIAABiA8AUAADAA4QsAAGAAwhcAAMAAhC8AAIABCF8AAAADEL4AAAAGIHwBAAAMQPgCAAAYgPAFAAAwAOELAABgAMIXAADAAIQvAACAAQhfAAAAAxC+AAAABiB8AQAADED4AgAAGIDwBQAAMADhCwAAYADCFwAAwACELwAAgAEIXwAAAAMQvgAAAAYgfAEAAAxA+AIAABiA8AUAADAA4QsAAGAAwhcAAMAAhC8AAIABCF8AAAADEL4AAAAGIHwBAAAMQPgCAAAYgPAFAAAwAOELAABgAMIXAADAAIQvAACAAQhfAAAAAxC+AAAABiB8AQAADED4AgAAGIDwBQAAMADhCwAAYADCFwAAwACELwAAgAEIXwAAAAM4drEbcDioqlOSXJLkNq21ry1qYwAAYJ6mp6ezbdu27NixIytXrsyaNWuybNmyxW4WYxa856uqLq6qVlW/N1b+yKpqC70/AAA4mk1OTmb16tVZt25dzjjjjKxbty6rV6/O5OTkYjeNMYdq2OG3kvxuVd1moTZYVTdfqG0BAMCRYHJyMhs3bsz27dv3Kp+amsrGjRsFsMPMoRp2+PYk90hybpJnzVahqn4hyQv6ejuSvKS19qcj669I8pf9+kcleUNVXZJkU5JfTPKnSe6cZEuSX0qyMcnzk6xI8rdJntFam+639YtJnpHk+5PsSfLOfv3VC/eSAQDgBnv27Dmk25+ens7ZZ5+d1m48uKy1lqrKOeeck1NPPfWQD0E8/vjjD+n2jxSHKnxNJ3l2ktdU1UWttb2ieFU9OMnrk5yX5HVJHprk5VV1TWvt4pGqv5PkhUle1C//RJJbJTk7yeOSnJhksn98LclpSe6W5B+SvKvfdpLcPMlzk3wyyR2T/J8kF/f1D6iqjkty3EjRiXN5HgAAR68TTjhhUfffWsv27duzYsWKQfbFgR2yCTdaa/9YVR9M1xv15LHVv5XkHa21F/bLl1fVSenC1sUj9d7ZWvuTmYWq+okkN0vy1NbaZ/qyzUmekOR7Wmu7k3ys7yFblz58tdb+amSb/1NVZyd5b1Wd0D/nQM5N8rw51AMAAJjVoZ7t8HeTvLOq/nSs/D5J/mms7N1JnlFVy2aGCyZ53yzb/MZM8Op9MckVYyHqi+l6uJIkVfXAdL1sD0hy29xwr9tdknxsDq/j/CQXjCyfmGT7PuoCAEB2757LNf6Dt3Xr1px22oEHcm3ZsiVr1649pG1hbg5p+Gqtba2qtyX5o+zdo1VJxvsma5ZNzDZQ9jvju9lH2TFJUlXHJ/mX/vGLSb6ULnS9Ld1wxANqrV2b5NrrG1qzNRUAAG5wqO+DWr9+fSYmJjI1NTXrsL+qysTERNavX2/a+cPEEF+yfG6Sn0t3X9eMj6W7f2vUQ5NcPtLrtVDuneT2SX6vtbattfaJjPSKAQDAUrRs2bJceOGFSW7cOTCzvGnTJsHrMHLIw1dr7cNJ/i7Jb4wU/2mSh1fVc6vqXlX1S0menuRPZtvGTfT5JN9O8htVdbeq+vl0k28AAMCStmHDhmzevDmrVq3aq3xiYiKbN2/Ohg0bFqllzOZQ3/M147lJHjOz0Fp7f1U9Jt1U889NN9X8H4zNdLggWmtfqqqz0g19PDvJ+5M8M8kbF3pfAAAwtA0bNuT000/Ptm3bsmPHjqxcuTJr1qzR43UYKtNCzl9VLU+yc+fOnVm+fPliNwcAAFgku3btmpnOf0Vrbdf+6g5xzxcAAMBRT/gCAAAYgPAFAAAwAOELAABgAMIXAADAAIQvAACAAQhfAAAAAxC+AAAABiB8AQAADED4AgAAGIDwBQAAMADhCwAAYADCFwAAwACELwAAgAEIXwAAAAMQvgAAAAYgfAEAAAxA+AIAABiA8AUAADAA4QsAAGAAwhcAAMAAhC8AAIABCF8AAAADEL4AAAAGIHwBAAAMQPgCAAAYgPAFAAAwAOELAABgAMIXAADAAIQvAACAAQhfAAAAAxC+AAAABiB8AQAADED4AgAAGIDwBQAAMADhCwAAYADCFwAAwACELwAAgAEIXwAAAAMQvgAAAAYgfAEAAAxA+AIAABiA8AUAADAA4QsAAGAAwhcAAMAAhC8AAIABCF8AAAADEL4AAAAGIHwBAAAMQPgCAAAYgPAFAAAwAOELAABgAEdE+KqqS6tq02K3AwAAYF/mFb6q6uKqarM87nGoGlhVq8f29dWq2lpVJx+qfcJCmZ6ezqWXXprXvva1ufTSSzM9Pb3YTQIAYJEcTM/XPydZOfb47EI2akZV3Wxk8dR+Xycn2ZVkS1Xd9VDsFxbC5ORkVq9enXXr1uWMM87IunXrsnr16kxOTi520wAAWAQHE76uba19YewxXVUnV9V7q+raqtpRVf+rqo6deVJVXVFVzxjdUFV9sKrOG1luVfWUqvqnqtqT5Dkj1a/p9/XhJL+W5FZJ1s/WwH47jxwr+1pVndX/++ZV9dK+nd/q23buQbwXMKvJycls3Lgx27dv36t8amoqGzduFMAAAI5Cxx64yoFV1aokW5JcnOSJSe6d5BVJvpXkvHlu7vlJzk3ym0mmk9Qsdb7R/7zZLOvm4uwkP5/kMUk+n+TO/YN52LNnz2I34bA0PT2ds88+O621G61rraWqcs455+TUU0/NsmXLFqGFh6/jjz9+sZsAAHDIHEz4ekRV7R5ZfmuSy5NcmeTprTvj/ERVfW+SF1fVC1pr353H9l/TWvurmYWqWj26sqqOT3J+umD2bwfR/iS5S5JPJXlX397P7a9yVR2X5LiRohMPcr9HlBNOOGGxm7Aktdayffv2rFixYrGbctiZLbACABwpDmbY4SVJHjDyODvJfZK8p+195vTuJCckmZjn9t+3j/J/70Pf15P8XJKzWmsfmee2Z1ycru2frKqLqmrW4Ysjzk2yc+Sxff/VAQAA9nYwPV97WmufHi2oqkoyfsl6ZrjgTPl3c+MhhLMNG9zXWLbHJvlYkq+11q45QBvb/vbVWnt/P1nHz6SbyOP1VfX21trGfWzv/CQXjCyfGAEsu3fvPnClo9DWrVtz2mmnHbDeli1bsnbt2gFaBADA4WBB7vlKF4p+oapqpPfroel6qab65S+lm60wSVJVy5PMZ7bCK1trn5lj3fF93TPdBB3Xa63tSvK6JK+rqs1J/rmqbtta+8r4xlpr1ya5dmR782j2kcv9ObNbv359JiYmMjU1NeswuqrKxMRE1q9f754vAICjyEJ9yfLL001Y8ZKqundVnZ5u4owLRu73emeSJ1TVmqq6X5K/Tnff1qHwziRPr6oHVdVDkvxZku/MrKyq36yqx/VtvVeSRyf5QpKvHaL2cBRZtmxZLrzwwiQ3Duozy5s2bRK8AACOMgsSvlprU0lOS/LDST6ULuy8MsmLRqqdn2RrkjenmxnxDUnm2pM1X7+dbgKQrUlek+RPcsMMiUmyO8nvpru/7L+SrE5y2jwnBoF92rBhQzZv3pxVq1btVT4xMZHNmzdnw4YNi9QyAAAWS5ldbP76IZM7d+7cmeXLly92cziMTU9PZ9u2bdmxY0dWrlyZNWvW6PECADiC7Nq1a2YW6xX9rU37tFD3fAGzWLZsWU455ZTFbgYAAIeBhbrnCwAAgP0QvgAAAAYgfAEAAAxA+AIAABiA8AUAADAA4QsAAGAAwhcAAMAAhC8AAIABCF8AAAADEL4AAAAGIHwBAAAMQPgCAAAYgPAFAAAwAOELAABgAMIXAADAAIQvAACAAQhfAAAAAxC+AAAABiB8AQAADED4AgAAGIDwBQAAMADhCwAAYADCFwAAwACELwAAgAEIXwAAAAMQvgAAAAYgfAEAAAxA+AIAABiA8AUAADAA4QsAAGAAwhcAAMAAhC8AAIABCF8AAAADEL4AAAAGIHwBAAAMQPgCAAAYgPAFAAAwAOELAABgAMIXAADAAIQvAACAAQhfAAAAAxC+AAAABiB8AQAADED4AgAAGIDwBQAAMADhCwAAYADCFwAAwACELwAAgAEIXwAAAAMQvgAAAAYgfAEAAAxA+AIAABjAsYvdAAAOzvT0dLZt25YdO3Zk5cqVWbNmTZYtW7bYzQIA9uGw7/mqqourqs3yuMditw1gsUxOTmb16tVZt25dzjjjjKxbty6rV6/O5OTkYjcNANiHwz589f45ycqxx2cPxY6q6maHYrsAC2VycjIbN27M9u3b9yqfmprKxo0bBTAAOExVa22x27BfVXVxklu31h45y7qTk/xxkh9M8pUkf53kOa216/r1VyTZ1FrbNPKcDyZ5Q2vtvH65JXlqkp9JcmqSP2mtPe8AbVqeZOfOnTuzfPnym/T6gLnZs2fPYjfhsDA9PZ2TTjopU1NTs66vqqxatSqXXXaZIYi9448/frGbAMARbNeuXVmxYkWSrGit7dpf3SV7z1dVrUqyJcnFSZ6Y5N5JXpHkW0nOm+fmnp/k3CS/mWR6ln0dl+S4kaIT591g4CY54YQTFrsJS0JrLdu3b5/5T4B07wkAHA6WSvh6RFXtHll+a5LLk1yZ5Omt+5/1E1X1vUleXFUvaK19dx7bf01r7a/2s/7cJPvtDQMAANifpRK+Lkk3NHDGniQvS/KetvclzXcnOSHJRJLPz2P77zvA+vOTXDCyfGKS7fuoCxwCu3fvPnClo8DWrVtz2mmnHbDeli1bsnbt2gFaBADM1VIJX3taa58eLaiqSjI+lqT6nzPl3x0pmzHbhBr7vZmktXZtkmtH9n2g9gILzH07nfXr12diYiJTU1OzDqerqkxMTGT9+vXu+QKAw8xSme1wNh9L8tDaOwk9NMnXk8zcif6ldDMjJrl+ooy7DtZCgAW2bNmyXHjhhUlufCFoZnnTpk2CFwAchpZy+Hp5kjsneUlV3buqTk83ccYFI/d7vTPJE6pqTVXdL91siDeaUANgKdmwYUM2b96cVatW7VU+MTGRzZs3Z8OGDYvUMgBgf5bKsMMbaa1NVdVp6aaa/1C6qeZfmeRFI9XOT3K3JG9OsjPJc6PnCzgCbNiwIaeffnq2bduWHTt2ZOXKlVmzZo0eLwA4jB323/N1OPI9XwAAQDK/7/laysMOAQAAlgzhCwAAYADCFwAAwACELwAAgAEIXwAAAAMQvgAAAAYgfAEAAAxA+AIAABiA8AUAADAA4QsAAGAAwhcAAMAAhC8AAIABCF8AAAADEL4AAAAGIHwBAAAMQPgCAAAYgPAFAAAwAOELAABgAMIXAADAAIQvAACAAQhfAAAAAxC+AAAABiB8AQAADED4AgAAGIDwBQAAMADhCwAAYADCFwAAwACELwAAgAEIXwAAAAMQvgAAAAYgfAEAAAxA+AIAABiA8AUAADAA4QsAAGAAwhcAAMAAhC8AAIABCF8AAAADEL4AAAAGIHwBAAAMQPgCAAAYgPAFAAAwAOELAABgAMIXAADAAIQvAACAAQhfAAAAAxC+AAAABiB8AQAADED4AgAAGIDwBQAAMADhCwAAYADCFwAAwACELwAAgAEIXwAAAAMQvgAAAAYgfAEAAAxA+AIAABiA8AUAADCAYxe7AUtBVR2X5LiRohOTZNeuXYvTIAAA4LAwn0xQrbVD2JQjQ1Wdl+R5i90OAADgsDXRWpvaXwXhaw5m6flKktsm+coBnnpiku1JJpJ8/RA0DWY41hiC44whOM4YguOMhXZikqvaAcKVYYdz0Fq7Nsm1Y8UH7F+sqpl/fr21Zowih4xjjSE4zhiC44whOM44BOZ0HJlwAwAAYADCFwAAwACEr0Pr2iTPz42HLMJCc6wxBMcZQ3CcMQTHGYvChBsAAAAD0PMFAAAwAOELAABgAMIXAADAAIQvAACAAQhfN0FVra2qN1XVVVXVquqRB6i/oar+taq+VFW7quo9VfVTAzWXJWq+x9nYc3+8qq6rqg8euhZyJDiY46yqjquqP6yqz1XVtVX1mar65QGayxJ2kMfamVX1oar6RlXtqKpXVdXtBmguS1BVnVtV/1VVX6+qq6vqDVX1/XN43slV9d9V9a2q+p+qesoQ7eXoInzdNMcn+VCSp8+x/tok/5rktCQPTnJJkjdV1QMPTfM4Qsz3OEuSVNWKJK9O8o5D0SiOOAdznL0+ycOTPDnJ9yd5fJJPLHzTOMLM61irqp9I97fslUnum+TRSX4oyV8eqgay5J2c5GVJfjTJTyY5Nsm/VNXx+3pCVd01yZYk25I8MMkfJbmoqn7h0DeXo4mp5hdIVbUkj2qtvWGez7ssyetaay84JA3jiDKf46yq/l+STyWZTvLI1toDDm3rOFLM5Tirqp9O8v+S3K219pWh2saRZY7H2jOTPLW1dveRst9I8qzW2p0PfStZ6qrqDkmuTnJya23rPuq8OMnPt9buM1L2Z0l+sLX2Y8O0lKOBnq9FVFXHJDkxiRMXFlRVPSnJ3dN9gSQcCj+f5H1JnlVVU1V1eVX9SVXdcrEbxhHn35NMVNVp1fmeJBuTvGWR28XSsaL/ub/zrR9L8i9jZW9L8pCqutkhaRVHpWMXuwFHud9ON/zi9YvdEI4cVXXPJP8ryZrW2nVVtdhN4sh0tyQ/keRbSR6V5PZJXp7ktknc98WCaa39e1WdmeR1SW6R7tzljUl+Y1EbxpJQ3X+CFyR5V2vto/upeqckXxwr+2K64+32SXYcmhZytNHztUiq6vFJzkvy2Nba1YvcHI4QVbUsyWuSPK+1dvlit4cj2jFJWpIzW2vvba1tSfJbSc7S+8VCqqqTklyU5AXp7pf+6SR3TfJni9kuloyXJrl/untSD2T8XpzaRzkcND1fi6CqHpvuxuFHt9bevtjt4YhyYpKHJHlgVb20Lzsm3cW/65Ksb629c9Fax5FkR5Kp1trOkbKPpztZmUh3vyEshHOTvLu19sf98oerak+SbVX1nNaaHglmVVUvSTdEem1rbfsBqn8hXe/XqDsmuS7JNYegeRylhK+B9T1ef5Xk8a0149VZaLuS/MBY2dOSPCzdPRKfHbxFHKneneTRVXVCa213X3avJN9NcqCTHJiPW6U7AR413f80rpob6YcaviTdkOhTWmtz+b/vPUl+bqxsfZL3tda+s8BN5CgmfN0EVXVCknuMFN21qh6Q5Cuttc9X1flJVrXWntjXf3y66XLPSfIfVTVzheWbY1eP4XrzOc5aa99N8tGx51+d5FsHGOvOUW6+f8/SDW99bpJXVdXz0t0T8cdJ/qq19s0Bm84ScxDH2puSvKKqnppuAoSVSTYleW9r7arhWs4S8rIkZyQ5PcnXR863ds78fZrlOPuzJE+vqguSvCLdBBxPztyGK8KcuefrpnlIkg/0j6S7ofMD6calJ91/EHcZqf9r6QLvy9IN2Zl5XDhEY1my5nucwcGY13HW93b9ZJJbp5v18O/SnSSfPUxzWcLme6xdnO5+wqenu7j090k+mWTDMM1lCXpquhkOL83e51uPHakzfpx9Nt33sJ6S5IPpLi6d3Vr7hyEazNHD93wBAAAMQM8XAADAAIQvAACAAQhfAAAAAxC+AAAABiB8AQAADED4AgAAGIDwBQAAMADhCwAAOKJV1dqqelNVXVVVraoeeRDbqKp6ZlVdXlXXVtWVVfXs+Wzj2PnuFAAAYIk5PsmHkrwqyT8c5DYuTLI+yTOTfCTJiiS3n88GqrV2kPsGAABYWqqqJXlUa+0NI2U3T/KiJGcmuXWSjyb53dbapf36+yT5cJL7tdY+ebD7NuwQAAA42r0qyY8neVyS+yf5+yT/XFX37Nf/XJL/SfKIqvpsVV1RVX9ZVbedz06ELwAA4KhVVXdP8vgkj26tbWutfaa19idJ3pXkSX21uyX5viSPTvLEJGcleXCSzfPZl3u+AACAo9mDklSSy6tqtPy4JNf0/z6mX35ia+3yJKmqJyf576r6/rkORRS+AACAo9kxSabT9WRNj63b3f/ckeS6meDV+3j/8y5JhC8AAIAD+ECSZUnu2Frbto86705ybFXdvbX2mb7sXv3Pz811R2Y7BAAAjmhVdUKSe/SLH0jyW0kuSfKV1trnq+pv00248dv9+tsneViSj7TWtlTVMUn+K11P2DPS9Za9LMmu1tr6ObdD+AIAAI5kVXVKurA17q9ba2dV1c2SPCfdZBqr0t3r9Z4kz2utfaTfxvcmeUm67/rak+StSX67tfaVObdD+AIAADj0TDUPAAAwAOELAABgAMIXAADAAIQvAACAAQhfAAAAAxC+AAAABiB8AQAADED4AgAAGIDwBQAAMADhCwAAYADCFwAAwACELwAAgAH8/16vTnfAkt06AAAAAElFTkSuQmCC\n",
=======
      "image/png": "iVBORw0KGgoAAAANSUhEUgAAA18AAAIXCAYAAABjOuTcAAAAOXRFWHRTb2Z0d2FyZQBNYXRwbG90bGliIHZlcnNpb24zLjMuMiwgaHR0cHM6Ly9tYXRwbG90bGliLm9yZy8vihELAAAACXBIWXMAAA9hAAAPYQGoP6dpAAA5yUlEQVR4nO3de5xdV103/s+XFAq0TbhLzADhDgURAW9o0gZq1AoUQri1gEX0JxdtUREsgpSLVh6xT1ouj4pIQYUHDCPXcBFoSbg8AnJvwQJSaKbhViAhAQod1u+Pvac9mU6SmWSyJ5m836/XeZ3Za6+z9zrn7Jk5n73WXqdaawEAAODgut5CNwAAAOBIIHwBAAAMQPgCAAAYgPAFAAAwAOELAABgAMIXAADAAIQvAACAAQhfAAAAAxC+AAAABiB8AXNSVadXVetvJ86wvqrqi/36i/ZzH2dXVZtW9pSqOn2Guiv7fV1n3Sz3ddH+tnMf211VVW+oqomq+lFVba+qD1XVk6vqmPne36HmYL2uQ6mqC0aO81ZVk1W1tX9P77mf27xxf2yfOL+tPTRV1bn9a/e2Pay/zu/uyN+XlfvY9unT3p+r+/fnVVW1Yj/aOtjx2v9tuKqqbjfD89jT7bJZbvuCqtp5kJ/C9H0+sKp27s/rDkeioxa6AcBh63tJnpjkomnlJyS5Y79+Pj0lybeSXDCtfFuSX07ypXne336rqucl+YskH0rynHRtu3GS+yc5O8ldkvzRQrVvIE9Z6AbMgx8keUD/81FJ7pTk2Uk+VFV3b61NzHF7N07y3P7ni+alhYeoqrp+ksf2i79RVSv24/WajSck+XySGyVZneSsJCdU1c+01nbNYTuDHK9VVUk2JHlFa+0rVfX2dH+/Rn04ycYkfztSdtUQ7dsfrbX3VtVHkvxVkt9e6PbAoU74AvbX65OcVlVPba3tGCl/YroPD0uHaERr7aok/2+Ifc1GVT0iXfB6ZZLfa62N9uC9o6r+V677YWvRqKobt9a+31q7ZKHbMg9+0lobPbY+UFVfTfLeJL+V5B8WplmHhVOS3DLJ29O9Vr+d7sP5fPtsa+1j/c8XVtWSdCc8HprkX2e7kdkcr/22j+r/5uyv30hynySn9vv9ZpJvTttPknx92rF3qHtZktdX1bNba5cvdGPgUGbYIbC/XtffP2aqoKqWJXl4kn+aXrmqTpxpqOJshg32Q27uke6M9m7DcPYwdOnsvuznqmq8qnb0w/7+papuua8nVlU3qKpnV9Xn++FB3+yHM+3zsemC13eSnDEteCVJWmvfa629e2RfN6yqc6rqy/3wxImqellV3WT6a1BVb6uqB1XVJ6rqB1X1uap6UL/+9H55V1V9pKruN+3xF/RDg+5RVe/t632zql5aVTeeVvepVbW5qr7R1/tMVT2j780YrXdRVX22qlZXN6Ty++nf+5mGcVU35PJTfTu+17++fzWtzj2r6s1V9Z2q+mFVfbKqfntanalj6TFV9ZdVdUX/Hr+nqu46re7P9a/bN/r38oqqentVjc347u3b9v7+x9P2c+uq+vvqhr79qH8/n1tVR/XrV+baD9nPHTmOL+jfk9YH96nt3bcvu3jaft5SVf81rexRVfXh/r3aWVXvqqqfm97wqrpf//hv96/tJ6rqkdPqTA2DW1NV/6eqvlVVV/a/Rz89h9fpiUl+lK5n6vIkT6jqUsVBNhVYbpck/Xvwn/1z3lFVH6+qJ05vy/Tjta79u/KM6v4WfDld79OaqrpeX/bf/e/hd6vq01V15iza9+QkH22t/fdsn1AdwN/Ovt6v9O/j26of8lxVd66q1478Xnyuqp468phj++f19zNsb2V1w3D/dKT4rUl2Jvm92T4vOFIJX8D+2pFuaMzvjJQ9JslP0vWKzaeHJfmfJJ9I12v0y33Zvvx7ki8mWZ9uuN9Dk7xreogYVVXXS/LmJH+W5LXpztr/WZJfS3JRVd1oL49dnuSeSd7dWvv+vhrXfwB8U5KnJ/nnfl/npusleF9VHT3tIT+b5JwkL0qyLl0QGK9umOPvJnlWktOSLEvythnaev0km9L13Dw0yUuT/H6u+37dsX/uj0vyoHS9eH+a5DofxJIsT/Ivff2Tk7x8D8/10f2696d77x6a5H8nOWakzl3TDdW8R5Iz+ud4SZILquoZM2z2r9J9yP7dJP9fkjsneWt1PRTpP2j+R5KfSvLUdO/h05J8NclxM7VzhnYf1d9uWN21Xn+TLly/faTOrZN8JMmvJ3l+kt9M95qdleQVfbVt6Xo90q+bOo5f0Fq7uF9/0siuT0o37PH4qdDTB7kTkrxnZN/PSnci5JIkj0z3nh2XZEtVHT9Sb02SDya5SZInpeuZ+mS63orTZ3jq/5guYJ6a5BlJTkz3Pu9TH2zXJnlz37Pz6nRDNlfP5vEH6E79/VTQXZnuuH1kuuNpPMlL0vWOzcYZ6YaePj3d+/r5dK/H2ele999K8qh07+lN9rahqrpBuvf1wlnu+4D14fq9Sd6Q5JTW2q7+uPhour9Vf5Lud/ztSc6vqucmSWttZ7oTKadVd1Jt1FPSBetrTrK11n6U7nf3tw7uM4JFoLXm5ubmNutbktOTtCT3S/eBrCW5R7/uI0le1f/82SQXjTxuqu6J07a3si8/faTs7O7P0271dtvebB6f5NxpdU/ty08bKbtoWjsf3ddZN+2x9+vLn7yX1+YX+zrnzPK1/PW+/p9OK39kX/57I2WXJfl+khUjZT/b17siyY1Hyk/pyx88UnZBX3bGtH09qy//lT208Xrphqg/LsnVSW467bVrSR4ww+Omv64vSfKdfbwer0vywyS3mVa+KcmuJMumHUtvn1bvEX35L/XL9+2XT9mP43zq9Zp+u2L6a5Xk79Jd43jbaeV/0j/m+H75Fv3y2TPs75+TfGlk+T/SDWv8dpLH92X37x//a/3ybdIFpPOnbevYdGHu9SNln0vy8XTD5kbrvrV/Tteb9vv9smn1/rQvv/UsXrvn9HV/vV++fbqTMq+Zxe/u1P5X7mMfU/V+sT8+j033wf8b6U4M/dRejuXnpLt+tPZyvE617YtJrj/Da/aJ/TimfqHf5qP2Ua8leenI8tTxfuIsXr8Lkuzsf35mut/ZZ0x73DvT9UYunVb+knSB/6b98h2STCZ52kidG/av3T/N0O4X9vWPmetr4+Z2JN30fAEH4v3pJpP4nar6mSQ/nxmGHC6g6dd8vCHdh5E1e3nMg5J8N10PylSvx1Hpegm+lu6D0HyZmszhgmnl/5YubDxwWvkn2+6TFnyuv7+o7d7TNlV+uxn2Of01eW1/f81rUt1QvbdU1ZXpPkz9OMlrkixJN1nIqO+01t43w36m+0iSm1TV66rqlKq6xQx1HpDkve2614xckG6yiunXyr1l2vKn+/up5/3FdL1UL6qqJ432BM3SD9Id0z+f7kP+uiSXJtlUVaNteVC63owrph0z7+jXnzCLfb03yR2q6vZVdcMkv5ruQ/KF6Xrskq7X5KokH+iXfz1dmHjNtP3+MN3v5olJUlV3SnK39O/9tLqb0vVe7jZcM/t+bWfU9+ZODTX8jyRprX05Xbh5eFXN97Wg/y/d8fm9JG9L9zv6m621r/fteUB1w1G359pj+flJbp7kVrPY/ltaaz+eVvaRJD9bVS+vql+fw3OaGrb5jVnW31/VDxd8XpJTW2v/a2TFDdP9Xfn3JN+f4Vi4YZJfSpLW2v+ke02fMjJM89R0r91LZ9jvN9IF3FsfnKcFi4PwBey31lpL8qp0s5o9KcmlrbUtC9uq3XxtdKG1dnWSK9N9eNiTn0o3fOhH6T6ojd5una73Yk++2t/ffpbtu3mSq1s3NGu0na1v+/R2fntavR/NVN63Pek+SI26urV25bSyqdfo5klSVbdNsiXJiiRnJlmVLnxMXQ8yfSjjtsxCa+2f0w1RvV2SNyb5Rn8tzq+NVLv5HrZ3xWgbR0x/LlMTIdyo3+f2dMHnk+mGKF5c3TVfz9vb0NMRP2mtfay/faS19u/phlZenW546JSfSvLgXPd4mbpea2/HzJSpoYQnpQte10/yvr78gSPrPtha+8HIfpNuCNn0fT9qZL9T9V48Q72pYaLT27jX13YvHpDu+P+3JEur6ibVXb/4hnQB+jF7eez+eHy64/Pnkvx0a+1erbUPJklV/UKSqesrfy/Jr/R1/7Iv29dzSWY+Hs9JNwzxl9IF7Curu47yfjPUHTW1vx/OYr8H4gbp3v+Lc+0JgCk3TxfY/zDXPRY29XVGj4Xz0g3nnfo9fWqSD7fWPj7Dfqee12xeVzhime0QOFAXpDuT/KQkf76XelP/mKdfxzSbD6b769ZJrukp6s/u3jzX/WA56lv9+t/Yw/o9TqHfWttWVZ9Jsrb6Wf/20b4rkxxVVbccDWD9WeZbp/tQPZ+OqqqbTwtgU2epp8oemu46rHWtta+MtOnee9hmm+3OW2uvSvKq/lqs1enOzL+tqu7S7+vKdL0w0031GHxrtvsa2ednkjy6f03vlW642l+k69X66/3Y3ver6kvphnxO+Va6nqE9Hf9X7KF8dLtbq+rSdAHrsiQfa619t6rem+TlVfWL6T7sP3fafpPumsavZM+m6p2T7pqnmcx6Aoh9eGJ//8f9bab1M107uL8+166d7XC6R6cLFQ9qrV0TeKrqoXPY/nWO7/4kzrlJzu2D5Unpwv27quo2e/m9n3ofbjaH/Sdz/9t5Vbqe7HcleU9V/UZr7Tv9uu+k6wH853QzFM7ky1M/tNbeV1WfTfIH1X1/2H1y7VcITDf1vOb8ewpHEuELOCCttYmq+pt0w5pevZeql/X390r3oWDKQ2a5q6sy9zOqpyUZnRnuken+7l20l8e8Ld2HtiWttf+c4/6S5AXpzvKfX1XTp5pPVR2b5P6tm/Hwveku3n9susknpjw8XQB6737sf19OS3L+yPKp/f1F/f1Ue6+ZTrsPLvM2i1nrvn/pHf0EBG9KN8HGV9I934dV1U+31kYDy+PTXe+231Nv9+/Dp5L8UT/BxH32Zzv9+3en7D507G3pesS+NPIhdyb76j16T7pj9PL0E3q01i6tbnr756frDXvPSP13peuFu2Nr7Y172mlr7b+r6gtJfra19qy9tO+AVNVN002m8sF034c23e+mm8Dhnq21zx6sdoxo6V6fyZE23ijd9Yvzs4PWvptkY3VfMLwh3XVYe5q2fmo48B3nuJvL+vtZ/+1srX2iqk5Id7xcVFW/1lr7Rn/y4MJ0PYWfHuk935vz013XuCzJ19P1as7kDulOoHx9FtuEI5bwBRyw1tqfzaLO16rqPUnOqqrvpPuw/cB019HMxlQPxqPSzXz4w75XY2/WVdXV6a49uUe6YPSpdOFoT/5vuoCyqarOS3d9x4+TjKU7m/zmfvjZjFpr/1ZVL0h3Uf/dquqVufZLln8x184u+O6+Xe9Kd03S0nQfWu+VrkfoE+nOTs+nHyX5kz5AfDTdBA7PTvKO1trUdUT/0dd7XXXfSXbDdNNj3/RAdlxVr0jX2/TBdEO5bp1uNsDtubaH73npr5+qquenG055WrqJFJ7RDyOcyz4flG5mtjelO2Yq3fF2k/TXI+3D9arql6Z+TjcU84x0r8XZI/X+It2wrA9V1fnpepFumO6D+MlJntRa29pa+15VfSXJKX2P1reTfKu1dlm/nff27b1FulkZM1L+hHS9FtecTGitXVZVf5HkL6vqDumuEftOumGGv5BkV2ttqqfs99MF3nel662eSNdTcfck92mtXTPN/QE4rX/e57fWLpq+sr+G8LR0vV9DfMn429P1vr22qv4hXa/303OAX1hcVW9NNwHQx9LNqni7dO/XV5J8YU+P63s3/yddD+b5e6o3w+P2629na+1zVbUqXQDbXFUntda2phtO/IF0M2L+n3Th7rh0JxUe3Fp7wLRN/Uu6XtPVSV64l8D2S0neP/2EE7A74QsY0uPSzaj1onSTN7w13TUgexo2NOq56YakvSLdB4WvpPtwuzfr0n1IfnK6s+BvTTdz1x7P9rbWJqvqIek+oDwuXUC4OsnWdJMY7CvwpbX2F/2HpT9Md33JLdIFj4vTDVf6+75e64dAnZ3uw/Wfpxuy889JntUO7MtcZ/LjdOHm/HSh6wfpXs9rvq+ntfb5qnp4upnLxtOdyX5t3+7p14/MxZZ0Q/4emS68fCvdB8DHTw257Hto7p9uCNfL0vUQfS7JE1prF+zHPr+QbvKUZ6QbuvijdMHo9Nba3nppp9wo3ReGT/lG356HtdbeNFXYDze9X7rA/afpgvr30g3fmgpEU56Ybrr6t6QbRvbqdK9L0l3j9ZN078voft+T7vi4sLX2k9EGttbOqapL0h2vj+m3+bV0gfbvRupd2F8D9efpemhumu69vSR7PxkxF09M9xq9aaaVrbXPVNX/S/LYqnrmPO1zj/ohc7+Tbta/t6YLnK/o2/jKA9j0hel6p3833ZfJfy1dmH/BDJNzTPev6YbwHT3H3+/9+tvZWvufkQC2paoe2Fq7pKruk+54fWG6iUe+m+73ZdMM2/hBHzgfm5FjalRV3THJz2T3kxLADMoJCmCxqaqz04W1W7bWXH+Q7kuWk6xvrR270G2BI1V139n25XQnHeb7+xAPin548GVJPtBae+Qe6rwg3fDgO/bXxAF7YLZDAIAB9Ncybkjy59V9ofshq6puWVW/muT/pBvKOuMENf2kI09N11sveME+GHYIADCcF6b/wvR0k6scqn4r3VeJbEvylD1ML590Xy1wTq79zkBgLww7BAAAGMAh3eUNAACwWAhfAAAAAxC+AAAABmDCjVmoqqPTfXfKqJul+4JMAADgyHZckiv29UXjwtfsnJXuO4MAAABmMpbuC933yGyHszBDz9dxSbZefvnlWbp06QK1CgAAWGg7duzIbW5zmyRZ1lrbsbe6er5mobV2VZKrpparKkmydOlS4QsAAJgVE24AAAAMQPgCAAAYgPAFAAAwAOELAABgAMIXAADAAIQvAACAAQhfAAAAAxC+AAAABiB8AQAADED4AgAAGIDwBQAAMADhCwAAYADCFwAAwACELwAAgAEIXwAAAAMQvgAAAAYgfAEAAAxA+AIAABiA8AUAADAA4QsAAGAAwhcAAMAAhC8AAIABCF8AAAADEL4AAAAGIHwBAAAMQPgCAAAYgPAFAAAwAOELAABgAMIXAADAAIQvAACAAQhfAAAAAxC+AAAABiB8AQAADED4AgAAGIDwBQAAMADhCwAAYADCFwAAwACELwAAgAEIXwAAAAMQvgAAAAYgfAEAAAxA+AIAABiA8AUAADAA4QsAAGAAwhcAAMAAhC8AAIABCF8AAAADEL4AAAAGIHwBAAAMQPgCAAAYgPAFAAAwAOELAABgAMIXAADAAIQvAACAAQhfAAAAAxC+AAAABiB8AQAADOCohW4AABzJJicns2XLlmzbti3Lly/PqlWrsmTJkoVuFgAHwWHT81VVbR+3Cxa6jQAwF+Pj41m5cmXWrFmTU089NWvWrMnKlSszPj6+0E0D4CA4bMJXkuUjt6cl2TGt7MwFaxkAzNH4+HjWr1+frVu37lY+MTGR9evXC2AAi1C11ha6DXNWVacn2dBau0lVVZJvJHlSa+2N/fpPJvnp1tqt+uVfTrI5yU1bazur6rZJXpLkgUl+kuSdSf6wtfb1We5/aZLt27dvz9KlS+f3yQFwSNq1a9e8bWtycjLHH398JiYmZlxfVVmxYkUuvvjieRmCeMwxxxzwNgCY2Y4dO7Js2bIkWdZa27G3uof9NV+ttVZVm5OcmOSNVXXTJMcn2VVVx7fWLunX/VcfvCrJm5LsSnJCutfg5Ule39e7jqo6OsnRI0XHHZQnA8Ah69hjjx1sX621bN26deqf+bxsD4CFdzgNO9ybi3JtcFqd5FNJ3jdSdmJfJ0lOSnKvJKe21v6rtfafSR6X5ISq+vk9bP+sJNtHblv3UA8AAGBGh33PV++iJOdV1S3S9WZdlOSr6QLVPyS5f5INfd27J7m8tXb51INba5dU1Xf7dR+dYfvnJDl3ZPm4CGAAR5SdO3fO27Y2b96ck08+eZ/1Nm3alNWrV8/bfgFYWIslfH02yZXpgtcJSf4iyeVJ/jzJzye5UZIP9HUryUzjL/ZUntbaVUmuuqZi1Xy1G4DDxHxeN7V27dqMjY1lYmJixiGBVZWxsbGsXbvWtPMAi8iiGHbYuv9cm5OckuSeSbYk+UyS6yd5UpKPt9a+11e/JMltq+o2U4+vquOTLEvyuSHbDcCRacmSJTnvvPOSXPeE3tTyhg0bBC+ARWZRhK/eRUlOTfLp1tqOkUB2Wq693itJ3pPk00n+taruU1W/kOQ1Sd7fWvvYsE0G4Ei1bt26bNy4MStWrNitfGxsLBs3bsy6desWqGUAHCyLZdhhklyYZEl2D1rvT/LQ/j7JNbMjPjTdVPObMzLV/EDtBIAkXQA75ZRTsmXLlmzbti3Lly/PqlWr9HgBLFKH5fd8LTTf8wUAACRz+56vxTTsEAAA4JAlfAEAAAxA+AIAABiA8AUAADAA4QsAAGAAwhcAAMAAhC8AAIABCF8AAAADEL4AAAAGIHwBAAAMQPgCAAAYgPAFAAAwAOELAABgAMIXAADAAIQvAACAAQhfAAAAAxC+AAAABiB8AQAADED4AgAAGIDwBQAAMADhCwAAYADCFwAAwACELwAAgAEIXwAAAAMQvgAAAAYgfAEAAAxA+AIAABiA8AUAADAA4QsAAGAAwhcAAMAAhC8AAIABCF8AAAADEL4AAAAGIHwBAAAMQPgCAAAYgPAFAAAwAOELAABgAMIXAADAAIQvAACAAQhfAAAAAxC+AAAABiB8AQAADED4AgAAGIDwBQAAMADhCwAAYADCFwAAwACELwAAgAEIXwAAAAMQvgAAAAYgfAEAAAxA+AIAABiA8AUAADCAQzZ8VdXKqmpVde+FbgsAAMCBOmohdlpVbR9VXp3k7AGaAhwmJicns2XLlmzbti3Lly/PqlWrsmTJkoVuFgDArC1I+EqyfOTnRyV5fpK7jpT9IMlN57rRqlqSpLXWfnJgzQMOJePj4znzzDOzdevWa8rGxsZy3nnnZd26dQvYMgCA2VuQYYetta9N3ZJs74quLWutbR+pfoequrCqvl9Vn6qqX55aUVWnV9V3q+pBVXVJkquS3K6qblBV/6uqJqpqV1X9Z1WdONqGqrp/VW2uqh9U1eVVdX5VHTPA0wfmYHx8POvXr98teCXJxMRE1q9fn/Hx8QVqGQDA3CxUz9dc/GWSpyf5Qv/z66rqTq21q/v1N05yVpLfTXJlkm8keVWSlUkeneSKJA9L8s6q+pnW2heq6meSvCvJc5I8Mcktk7y0vz1hoOcFg9q1a9dCN2HOJicnc8YZZ6S1645Ubq2lqnLmmWfmpJNOOuyGIB5zjHM9AHCkqZk+1AzagKrTk2xord1kWvnKJF9O8ruttVf2ZccnuTjJ3Vtrn+8f+6ok926tfaqvc8d0QW2stXbFyPbek+QjrbVnVdVrkvygtfb7I+t/Ncn7kxzTWvvhtLYcneTokaLjkmzdvn17li5deuAvAgygqha6CYxY6L+9AMD82LFjR5YtW5Yky1prO/ZW93Do+fr0yM/b+vtbJfl8//OPptW5T5JKcum0D5tHp+sZS5L7JrlTVZ02sr7SDcO8fZLPTWvDWUmeu5/tBwAAOCzC149Hfp46VTx6rdoP2u6nkK+XZDJdwJqctq2dI3X+Psn5M+zvqzOUnZPk3JHl45JsnaEeHLJ27ty570qHmM2bN+fkk0/eZ71NmzZl9erVA7QIAGD/HQ7ha64+kWRJklu11rbsoc7Hk9yjtfbF2WywtXZVusk8khi+xeHpcLzGaO3atRkbG8vExMSMw/SqKmNjY1m7du1hd80XAHDkOWS/ZHl/tdYuTfKvSV5TVeuq6vZV9fNV9cyqmjqF/qIkv1xVL6uqe1fVnavqIVX1koVrOTDdkiVLct555yW57kmPqeUNGzYIXgDAYWHRha/eE5K8JsnfJvnvJG9J8otJLk+S1tqnk5yQ5M5JtqTrLXtBrr2mDDhErFu3Lhs3bsyKFSt2Kx8bG8vGjRt9zxcAcNhY8NkOD0dVtTTJdrMdwnAmJyezZcuWbNu2LcuXL8+qVav0eAEAC26xzXYIkCVLluTEE09c6GYAAOy3xTrsEAAA4JAifAEAAAxA+AIAABiA8AUAADAA4QsAAGAAwhcAAMAAhC8AAIABCF8AAAADEL4AAAAGIHwBAAAMQPgCAAAYgPAFAAAwAOELAABgAMIXAADAAIQvAACAAQhfAAAAAxC+AAAABiB8AQAADED4AgAAGIDwBQAAMADhCwAAYADCFwAAwACELwAAgAEIXwAAAAMQvgAAAAYgfAEAAAxA+AIAABiA8AUAADAA4QsAAGAAwhcAAMAAhC8AAIABCF8AAAADEL4AAAAGIHwBAAAMQPgCAAAYgPAFAAAwAOELAABgAMIXAADAAIQvAACAAQhfAAAAAxC+AAAABiB8AQAADED4AgAAGIDwBQAAMADhCwAAYADCFwAAwACELwAAgAEIXwAAAAMQvgAAAAYgfAEAAAxA+AIAABiA8AUAADCAoxa6AQCw2ExOTmbLli3Ztm1bli9fnlWrVmXJkiUL3SwAFthh1fNVVbepqldW1RVV9aOq+kpVnVdVN1/otgFAkoyPj2flypVZs2ZNTj311KxZsyYrV67M+Pj4QjcNgAV22ISvqrpDko8luUuSxyS5U5InJXlgkg9X1c0WsHkAkPHx8axfvz5bt27drXxiYiLr168XwACOcNVaW+g2zEpVvSPJPZPcpbX2g5HyWyf5UpLXtNaeXFWXJfmHdOHsEUm+k+SFrbV/GHnMiiTnJlmb5CdJPpDkzNbaZbNsy9Ik27dv356lS5fOw7ODQ8+uXbsWuglwWJmcnMzxxx+fiYmJGddXVVasWJGLL77YEESYg2OOOWahmwB7tWPHjixbtixJlrXWduyt7mERvvperW8l+fPW2jkzrP+HJOuT3DzJl5Mcl+Q5Sd7dl/9lknu01j5fVTdO8skkW5JsSHJ1kmcnuW+Se7XWfjTD9o9OcvRI0XFJtgpfLGZVtdBNAIAcDp9VObLNJXwdLsMO75ykknxuD+s/l+SmSW7ZL29qrb28tfbFJC9KF9xO7Nc9Ol1v1++21j7TWvtckickue1InenOSrJ95LZ1D/UAAABmtFhmO5w6RT91auTTUytaa62qvpbkVn3RfdMNSfzetDP7N0xyxz1s/5x0wxSnHBcBjEVu586dC90EOKxs3rw5J5988j7rbdq0KatXrx6gRQAcag6X8PXFdMHq+CRvmmH93dJd2/WtfvnH09a3XNvLd70k/5XktBm2882Zdt5auyrJVVPLhmNxJDDGHuZm7dq1GRsby8TExIzDpKoqY2NjWbt2rWu+AI5Qh8Www9balUn+I8lTqupGo+v6CTdOS/L6NrtBwR9PN4zxG621L067bZ/3xgNwRFiyZEnOO++8JNc9STe1vGHDBsEL4Ah2WISv3h+km/TiXVW1uv/Or99IF8omkvz5LLfzr+l6yN5cVauq6vZVdUL/fWFjB6fpABwJ1q1bl40bN2bFihW7lY+NjWXjxo1Zt27dArUMgEPB4TLsMK21L1TV/ZKcneT16WY2/Fq6YYjPa619e5bb+X5VrU43Ecd4uuu3JpK8N8leZycBgH1Zt25dTjnllGzZsiXbtm3L8uXLs2rVKj1eABweU80fanzPFwAAkCzOqeYBAAAOa8IXAADAAIQvAACAAQhfAAAAAxC+AAAABiB8AQAADED4AgAAGIDwBQAAMADhCwAAYADCFwAAwACELwAAgAEIXwAAAAMQvgAAAAYgfAEAAAxA+AIAABiA8AUAADAA4QsAAGAAwhcAAMAAhC8AAIABCF8AAAADEL4AAAAGIHwBAAAMQPgCAAAYgPAFAAAwAOELAABgAMIXAADAAIQvAACAAQhfAAAAAxC+AAAABiB8AQAADED4AgAAGIDwBQAAMADhCwAAYADCFwAAwACELwAAgAEIXwAAAAMQvgAAAAYgfAEAAAxA+AIAABiA8AUAADAA4QsAAGAAwhcAAMAAhC8AAIABCF8AAAADEL4AAAAGIHwBAAAMQPgCAAAYgPAFAAAwAOELAABgAMIXAADAAIQvAACAAQhfAAAAAxC+AAAABnDUQjfgUFBVJya5MMlNW2vfXdDGAADAPJucnMyWLVuybdu2LF++PKtWrcqSJUsWullHnHnv+aqqC6qqVdWfTSt/aFW1+d4fAACwZ+Pj41m5cmXWrFmTU089NWvWrMnKlSszPj6+0E074hysYYc/TPLMqrrpfG2wqm4wX9sCAIAjwfj4eNavX5+tW7fuVj4xMZH169cLYAM7WMMO35PkTknOSvKMmSpU1cOTPL+vty3JS1prfzuy/rIk/9ivf1iSN1XVhUk2JHlskr9Ncpskm5L8dpL1SZ6XZFmSf0nytNbaZL+txyZ5WpK7JtmV5H39+m/M31MGAID5sWvXrgPexuTkZM4444y0dt3BZ621VFXOPPPMnHTSSQc8BPGYY445oMcfKQ5W+JpM8qwkr62q81tru0XtqrpvkjckOTvJ65PcP8nLq+rK1toFI1X/NMkLkrywX/7VJDdOckaSRyc5Lsl4f/tukpOT3CHJG5N8oN92ktwgyXOS/HeSWyX530ku6OvvU1UdneTokaLjZvM4AADYH8cee+xB30drLVu3bs2yZcvmZVvs20GbcKO19u9V9cl0vVFPnLb6j5O8t7X2gn750qo6Pl3YumCk3vtaay+eWqiqX01y/SRPbq19qS/bmORxSX6qtbYzySV9D9ma9OGrtfZPI9v8n6o6I8lHqurY/jH7claS586iHgAAwIwO9myHz0zyvqr622nld0/y5mllH0zytKpaMjVcMMnHZtjm96eCV+/rSS6bFqK+nq6HK0lSVT+Xrpft3klulmuvdbttkktm8TzOSXLuyPJxSbbuoS4AAByQnTtn0z+wd5s3b87JJ+97oNemTZuyevXqA94f+3ZQw1drbXNVvSvJX2X3Hq1KMr1vsmbYxEyDXX88fTd7KLteklTVMUne3d8em+Sb6ULXu9INR9yn1tpVSa66pqE1U1MBAGB+zMc1VGvXrs3Y2FgmJiZmHBZYVRkbG8vatWtNOz+QIb5k+awkD053XdeUS9JdvzXq/kkuHen1mi93S3KLJH/WWtvSWvt8RnrFAABgMVqyZEnOO++8JNftPJha3rBhg+A1oIMevlprn07yr0n+cKT4b5M8sKqeU1V3qarfTvIHSV480zYO0FeT/CjJH1bVHarqIekm3wAAgEVt3bp12bhxY1asWLFb+djYWDZu3Jh169YtUMuOTAf7mq8pz0nyyKmF1trHq+qR6aaaf066qeb/YtpMh/OitfbNqjo93dDHM5J8PMnTk7xlvvcFAACHmnXr1uWUU07Jli1bsm3btixfvjyrVq3S47UAyrSQc1dVS5Ns3759e5YuXbrQzQEAABbIjh07pqbrX9Za27G3ukNc8wUAAHDEE74AAAAGIHwBAAAMQPgCAAAYgPAFAAAwAOELAABgAMIXAADAAIQvAACAAQhfAAAAAxC+AAAABiB8AQAADED4AgAAGIDwBQAAMADhCwAAYADCFwAAwACELwAAgAEIXwAAAAMQvgAAAAYgfAEAAAxA+AIAABiA8AUAADAA4QsAAGAAwhcAAMAAhC8AAIABCF8AAAADEL4AAAAGIHwBAAAMQPgCAAAYgPAFAAAwAOELAABgAMIXAADAAIQvAACAAQhfAAAAAxC+AAAABiB8AQAADED4AgAAGIDwBQAAMADhCwAAYADCFwAAwACELwAAgAEIXwAAAAMQvgAAAAYgfAEAAAxA+AIAABiA8AUAADAA4QsAAGAAwhcAAMAAhC8AAIABCF8AAAADEL4AAAAGIHwBAAAMQPgCAAAYwKIIX1V1UVVtWOh2AAAA7MmcwldVXVBVbYbbnQ5WA6tq5bR9faeqNlfVCQdrnxy5Jicnc9FFF+V1r3tdLrrookxOTi50kwAAWCT2p+frnUmWT7t9eT4bNaWqrj+yeFK/rxOS7EiyqapufzD2y5FpfHw8K1euzJo1a3LqqadmzZo1WblyZcbHxxe6aQAALAL7E76uaq19bdptsqpOqKqPVNVVVbWtqv66qo6aelBVXVZVTxvdUFV9sqrOHlluVfWkqnpzVe1K8uyR6lf2+/p0kt9PcuMka2dqYL+dh04r+25Vnd7/fIOqemnfzh/2bTtrP14LFonx8fGsX78+W7du3a18YmIi69evF8AAADhgR+27yr5V1Yokm5JckOTxSe6W5BVJfpjk7Dlu7nlJzkryR0kmk9QMdb7f319/hnWzcUaShyR5ZJKvJrlNf2MOdu3atdBNmBeTk5M544wz0lq7zrrWWqoqZ555Zk466aQsWbJkAVo4/4455piFbgIAwBFnf8LXg6pq58jyO5JcmuTyJH/Quk+wn6+qn07yoqp6fmvtJ3PY/mtba/80tVBVK0dXVtUxSc5JF8zevx/tT5LbJvlCkg/07f3K3ipX1dFJjh4pOm4/97uoHHvssQvdhEG01rJ169YsW7ZsoZsyb2YKmgAAHFz7M+zwwiT3HrmdkeTuST7cdv9E98EkxyYZm+P2P7aH8g/1oe97SR6c5PTW2mfmuO0pF6Rr+39X1flVNePwxRFnJdk+ctu69+oAAAC725+er12ttS+OFlRVJZl+Kn1quOBU+U9y3SGEMw0b3NNYtkcluSTJd1trV+6jjW1v+2qtfbyfrOM3003k8Yaqek9rbf0etndOknNHlo+LAJadO3fuu9JhYPPmzTn55JP3WW/Tpk1ZvXr1AC0CAGAxmpdrvtKFoodXVY30ft0/XS/VRL/8zXSzFSZJqmppkrnMVnh5a+1Ls6w7fV93TjdBxzVaazuSvD7J66tqY5J3VtXNWmvfnr6x1tpVSa4a2d4cmr14LZbrhtauXZuxsbFMTEzMOByvqjI2Npa1a9cummu+AAAY3nx9yfLL001Y8ZKqultVnZJu4oxzR673el+Sx1XVqqq6Z5JXp7tu62B4X5I/qKr7VNX9kvxdkh9PrayqP6qqR/dtvUuSRyT5WpLvHqT2cAhbsmRJzjvvvCTXDdZTyxs2bBC8AAA4IPMSvlprE0lOTvILST6VLuy8MskLR6qdk2RzkrelmxnxTUlm25M1V3+SbgKQzUlem+TFuXaGxCTZmeSZ6a4v+2iSlUlOnuPEICwi69aty8aNG7NixYrdysfGxrJx48asW7dugVoGAMBiUWY9m7t+yOT27du3Z+nSpQvdHObR5ORktmzZkm3btmX58uVZtWqVHi8AAPZox44dU7NiL+svbdqj+brmCxaFJUuW5MQTT1zoZgAAsAjN1zVfAAAA7IXwBQAAMADhCwAAYADCFwAAwACELwAAgAEIXwAAAAMQvgAAAAYgfAEAAAxA+AIAABiA8AUAADAA4QsAAGAAwhcAAMAAhC8AAIABCF8AAAADEL4AAAAGIHwBAAAMQPgCAAAYgPAFAAAwAOELAABgAMIXAADAAIQvAACAAQhfAAAAAxC+AAAABiB8AQAADED4AgAAGIDwBQAAMADhCwAAYADCFwAAwACELwAAgAEIXwAAAAMQvgAAAAYgfAEAAAxA+AIAABiA8AUAADAA4QsAAGAAwhcAAMAAhC8AAIABCF8AAAADEL4AAAAGIHwBAAAMQPgCAAAYgPAFAAAwAOELAABgAMIXAADAAIQvAACAAQhfAAAAAxC+AAAABiB8AQAADED4AgAAGIDwBQAAMADhCwAAYADCFwAAwACOWugGAHCtycnJbNmyJdu2bcvy5cuzatWqLFmyZKGbBQDMg0O+56uqLqiqNsPtTgvdNoD5ND4+npUrV2bNmjU59dRTs2bNmqxcuTLj4+ML3TQAYB4c8uGr984ky6fdvnwwdlRV1z8Y2wXYm/Hx8axfvz5bt27drXxiYiLr168XwABgEajW2kK3Ya+q6oIkN2mtPXSGdSck+ZskP5vk20leneTZrbWr+/WXJdnQWtsw8phPJnlTa+3sfrkleXKS30xyUpIXt9aeu482LU2yffv27Vm6dOkBPT/gwO3atWuhm3BAJicnc/zxx2diYmLG9VWVFStW5OKLLz6shyAec8wxC90EAJh3O3bsyLJly5JkWWttx97qHrbXfFXViiSbklyQ5PFJ7pbkFUl+mOTsOW7ueUnOSvJHSSZn2NfRSY4eKTpuzg0GDppjjz12oZtwULXWsnXr1qk/7IetQ/1kHwAcbIdL+HpQVe0cWX5HkkuTXJ7kD1r3H/3zVfXTSV5UVc9vrf1kDtt/bWvtn/ay/qwke+0NAwAA2JvDJXxdmG5o4JRdSV6W5MNt91OpH0xybJKxJF+dw/Y/to/15yQ5d2T5uCRb91AXGNjOnTv3XekQtnnz5px88sn7rLdp06asXr16gBYBAAfD4RK+drXWvjhaUFWVZPoYlurvp8p/MlI2ZaYJNfZ6wUhr7aokV43se1/tBQZ0uF9LtHbt2oyNjWViYmLGoXlVlbGxsaxdu/awvuYLAI50h8tshzO5JMn9a/ckdP8k30syddX6N9PNjJjkmokybj9YCwFmYcmSJTnvvPOSXPfkztTyhg0bBC8AOMwdzuHr5Uluk+QlVXW3qjol3cQZ545c7/W+JI+rqlVVdc90syFeZ0INgIW2bt26bNy4MStWrNitfGxsLBs3bsy6desWqGUAwHw5XIYdXkdrbaKqTk431fyn0k01/8okLxypdk6SOyR5W5LtSZ4TPV/AIWrdunU55ZRTsmXLlmzbti3Lly/PqlWr9HgBwCJxyH/P16HI93wBAADJ3L7n63AedggAAHDYEL4AAAAGIHwBAAAMQPgCAAAYgPAFAAAwAOELAABgAMIXAADAAIQvAACAAQhfAAAAAxC+AAAABiB8AQAADED4AgAAGIDwBQAAMADhCwAAYADCFwAAwACELwAAgAEIXwAAAAMQvgAAAAYgfAEAAAxA+AIAABiA8AUAADAA4QsAAGAAwhcAAMAAhC8AAIABCF8AAAADEL4AAAAGIHwBAAAMQPgCAAAYgPAFAAAwAOELAABgAMIXAADAAIQvAACAAQhfAAAAAxC+AAAABiB8AQAADED4AgAAGIDwBQAAMADhCwAAYADCFwAAwACELwAAgAEIXwAAAAMQvgAAAAYgfAEAAAxA+AIAABiA8AUAADAA4QsAAGAAwhcAAMAAhC8AAIABCF8AAAADEL4AAAAGIHwBAAAMQPgCAAAYgPAFAAAwAOELAABgAMIXAADAAIQvAACAAQhfAAAAAzhqoRtwOKiqo5McPVJ0XJLs2LFjYRoEAAAcEuaSCaq1dhCbsjhU1dlJnrvQ7QAAAA5ZY621ib1VEL5mYYaeryS5WZJvL0BzWFyOS7I1yViS7y1wWzhyOQ5ZaI5BDgWOQw7EcUmuaPsIV4YdzkJr7aokV00rNuaQA1ZVUz9+r7XmmGJBOA5ZaI5BDgWOQw7QrI4ZE24AAAAMQPgCAAAYgPAFC+uqJM/LdYe1wpAchyw0xyCHAschB50JNwAAAAag5wsAAGAAwhcAAMAAhC8AAIABCF8AAAADEL7gIKmq1VX11qq6oqpaVT10Do/9laq6uqo+efBayJFgf47Dqjq6qv6yqr5SVVdV1Zeq6ncGaC6L1H4eh6dV1aeq6vtVta2qXlVVNx+guSxCVXVWVX20qr5XVd+oqjdV1V1n8bgTquq/quqHVfU/VfWkIdrL4iV8wcFzTJJPJfmDuTyoqpYleU2S9x6MRnHE2Z/j8A1JHpjkiUnumuQxST4//03jCDKn47CqfjXd38FXJrlHkkck+fkk/3iwGsiid0KSlyX5pSS/luSoJO+uqmP29ICqun2STUm2JPm5JH+V5PyqevjBby6LlanmYQBV1ZI8rLX2plnU/b9JvpBkMslDW2v3Prit40gxm+Owqn4jyf9NcofW2reHahtHjlkeh09P8uTW2h1Hyv4wyTNaa7c5+K1ksauqWyb5RpITWmub91DnRUke0lq7+0jZ3yX52dbaLw/TUhYbPV9wCKmqJyS5Y7oveYSF8JAkH0vyjKqaqKpLq+rFVXWjhW4YR5QPJRmrqpOr81NJ1id5+wK3i8VjWX+/t5NMv5zk3dPK3pXkflV1/YPSKha9oxa6AUCnqu6c5K+TrGqtXV1VC90kjkx3SPKrSX6Y5GFJbpHk5UlulsR1XwyitfahqjotyeuT3DDd55W3JPnDBW0Yi0J1/2DPTfKB1tpn91L11km+Pq3s6+mOx1sk2XZwWshipucLDgFVtSTJa5M8t7V26UK3hyPa9ZK0JKe11j7SWtuU5I+TnK73i6FU1fFJzk/y/CT3TfIbSW6f5O8Wsl0sGi9Ncq9017Puy/Trc2oP5TArer7g0HBckvsl+bmqemlfdr10J+iuTrK2tfa+BWsdR5JtSSZaa9tHyj6X7gPHWLrrEeFgOyvJB1trf9Mvf7qqdiXZUlXPbq3pcWC/VNVL0g2vXt1a27qP6l9L1/s16lZJrk5y5UFoHkcA4QsODTuS/My0sqckeUC66xy+PHiLOFJ9MMkjqurY1trOvuwuSX6SZF8fVGC+3DjdB9xRk/29MdnMWT/U8CXphlOf2Fqbzf/VDyd58LSytUk+1lr78Tw3kSOEYYdwkFTVsVV176q6d190+375tv36c6rqNUnSWvtJa+2zo7d0szD9sF/etTDPgsPdXI7D3mvTndF9VVUdX1Wrk/xNkn9qrf1g0MazaOzHcfjWJOuq6slVdYeq+pV0wxA/0lq7YtjWs0i8LMljk5ya5HtVdev+ds1w6hmOw79LcruqOreq7t5/3+ETk7x40JazqOj5goPnfkkuHFk+t79/dZLTkyxPctuB28SRZ07HYWttZ1X9WrozxB9LF8TekOTZQzSWRWuux+EFVXVcuu8F+9sk303yviTPHKCtLE5P7u8vmlb+hCQX9D9PPw6/XFUnJ/nfSZ6a5IokZ7TW3nhQW8qi5nu+AAAABmDYIQAAwACELwAAgAEIXwAAAAMQvgAAAAYgfAEAAAxA+AIAABiA8AUAADAA4QsAAFjUqmp1Vb21qq6oqlZVD92PbVRVPb2qLq2qq6rq8qp61ly2cdRcdwoAAHCYOSbJp5K8Kskb93Mb5yVZm+TpST6TZFmSW8xlA9Va2899AwAAHF6qqiV5WGvtTSNlN0jywiSnJblJks8meWZr7aJ+/d2TfDrJPVtr/72/+zbsEAAAONK9KsmvJHl0knsl+bck76yqO/frH5zkf5I8qKq+XFWXVdU/VtXN5rIT4QsAADhiVdUdkzwmySNaa1taa19qrb04yQeSPKGvdockt0vyiCSPT3J6kvsm2TiXfbnmCwAAOJLdJ0klubSqRsuPTnJl//P1+uXHt9YuTZKqemKS/6qqu852KKLwBQAAHMmul2QyXU/W5LR1O/v7bUmungpevc/197dNInwBAADswyeSLElyq9balj3U+WCSo6rqjq21L/Vld+nvvzLbHZntEAAAWNSq6tgkd+oXP5Hkj5NcmOTbrbWvVtW/pJtw40/69bdI8oAkn2mtbaqq6yX5aLqesKel6y17WZIdrbW1s26H8AUAACxmVXViurA13atba6dX1fWTPDvdZBor0l3r9eEkz22tfabfxk8neUm67/raleQdSf6ktfbtWbdD+AIAADj4TDUPAAAwAOELAABgAMIXAADAAIQvAACAAQhfAAAAAxC+AAAABiB8AQAADED4AgAAGIDwBQAAMADhCwAAYADCFwAAwACELwAAgAH8/8P69POiqX9MAAAAAElFTkSuQmCC",
>>>>>>> 6dd30ba44932743aae3537bdf751a8808c0f64dc
      "text/plain": [
       "<Figure size 1000x600 with 1 Axes>"
      ]
     },
     "metadata": {
      "needs_background": "light"
     },
     "output_type": "display_data"
    }
   ],
   "source": [
    "_ = mc.tukeyhsd().plot_simultaneous()"
   ]
  },
  {
   "cell_type": "markdown",
   "metadata": {},
   "source": [
    "### Required Condition"
   ]
  },
  {
   "cell_type": "markdown",
   "metadata": {},
   "source": [
    "#### Check normality assumption - Shapiro Wilk Test"
   ]
  },
  {
   "cell_type": "markdown",
   "metadata": {},
   "source": [
    "$$H_0: \\text{residual of all datapoints are normally distributed}$$  \n",
    "$$H_1: \\text{residual of all datapoints are not normally distributed}$$  "
   ]
  },
  {
   "cell_type": "code",
<<<<<<< HEAD
   "execution_count": 34,
=======
   "execution_count": null,
>>>>>>> 6dd30ba44932743aae3537bdf751a8808c0f64dc
   "metadata": {},
   "outputs": [
    {
     "name": "stdout",
     "output_type": "stream",
     "text": [
      "Statistics=0.7783, p=0.0000\n"
     ]
    }
   ],
   "source": [
    "stat, p = stats.shapiro(results.resid)\n",
    "print('Statistics=%.4f, p=%.4f' % (stat, p))"
   ]
  },
  {
   "cell_type": "code",
<<<<<<< HEAD
   "execution_count": 35,
=======
   "execution_count": null,
>>>>>>> 6dd30ba44932743aae3537bdf751a8808c0f64dc
   "metadata": {},
   "outputs": [
    {
     "data": {
<<<<<<< HEAD
      "image/png": "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\n",
=======
      "image/png": "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",
>>>>>>> 6dd30ba44932743aae3537bdf751a8808c0f64dc
      "text/plain": [
       "<Figure size 600x400 with 1 Axes>"
      ]
     },
     "metadata": {
      "needs_background": "light"
     },
     "output_type": "display_data"
    }
   ],
   "source": [
    "_ = plt.hist(results.resid, bins = \"auto\")"
   ]
  },
  {
   "cell_type": "code",
<<<<<<< HEAD
   "execution_count": 36,
=======
   "execution_count": null,
>>>>>>> 6dd30ba44932743aae3537bdf751a8808c0f64dc
   "metadata": {},
   "outputs": [
    {
     "data": {
<<<<<<< HEAD
      "image/png": "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\n",
=======
      "image/png": "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",
>>>>>>> 6dd30ba44932743aae3537bdf751a8808c0f64dc
      "text/plain": [
       "<Figure size 600x400 with 1 Axes>"
      ]
     },
     "metadata": {
      "needs_background": "light"
     },
     "output_type": "display_data"
    }
   ],
   "source": [
    "fig = sm.qqplot(results.resid, stats.norm, fit=True, line='45')\n",
    "plt.show()"
   ]
  },
  {
   "cell_type": "markdown",
   "metadata": {},
   "source": [
    "### Nonparametric - Kruskal"
   ]
  },
  {
   "cell_type": "code",
<<<<<<< HEAD
   "execution_count": 50,
=======
   "execution_count": null,
>>>>>>> 6dd30ba44932743aae3537bdf751a8808c0f64dc
   "metadata": {},
   "outputs": [
    {
     "data": {
      "text/html": [
       "<div>\n",
       "<style scoped>\n",
       "    .dataframe tbody tr th:only-of-type {\n",
       "        vertical-align: middle;\n",
       "    }\n",
       "\n",
       "    .dataframe tbody tr th {\n",
       "        vertical-align: top;\n",
       "    }\n",
       "\n",
       "    .dataframe thead th {\n",
       "        text-align: right;\n",
       "    }\n",
       "</style>\n",
       "<table border=\"1\" class=\"dataframe\">\n",
       "  <thead>\n",
       "    <tr style=\"text-align: right;\">\n",
       "      <th></th>\n",
       "      <th>value</th>\n",
       "      <th>rank</th>\n",
       "    </tr>\n",
       "  </thead>\n",
       "  <tbody>\n",
       "    <tr>\n",
       "      <th>0</th>\n",
       "      <td>149936.0</td>\n",
       "      <td>1.0</td>\n",
       "    </tr>\n",
       "    <tr>\n",
       "      <th>1</th>\n",
       "      <td>150242.0</td>\n",
       "      <td>2.0</td>\n",
       "    </tr>\n",
       "    <tr>\n",
       "      <th>2</th>\n",
       "      <td>152420.0</td>\n",
       "      <td>3.0</td>\n",
       "    </tr>\n",
       "    <tr>\n",
       "      <th>3</th>\n",
       "      <td>160534.0</td>\n",
       "      <td>4.0</td>\n",
       "    </tr>\n",
       "    <tr>\n",
       "      <th>4</th>\n",
       "      <td>168154.0</td>\n",
       "      <td>5.0</td>\n",
       "    </tr>\n",
       "    <tr>\n",
       "      <th>...</th>\n",
       "      <td>...</td>\n",
       "      <td>...</td>\n",
       "    </tr>\n",
       "    <tr>\n",
       "      <th>2637</th>\n",
       "      <td>2658619.0</td>\n",
       "      <td>2643.0</td>\n",
       "    </tr>\n",
       "    <tr>\n",
       "      <th>2638</th>\n",
       "      <td>2668231.0</td>\n",
       "      <td>2644.0</td>\n",
       "    </tr>\n",
       "    <tr>\n",
       "      <th>2639</th>\n",
       "      <td>2678263.0</td>\n",
       "      <td>2645.0</td>\n",
       "    </tr>\n",
       "    <tr>\n",
       "      <th>2640</th>\n",
       "      <td>3028347.0</td>\n",
       "      <td>2646.0</td>\n",
       "    </tr>\n",
       "    <tr>\n",
       "      <th>2641</th>\n",
       "      <td>3206078.0</td>\n",
       "      <td>2647.0</td>\n",
       "    </tr>\n",
       "  </tbody>\n",
       "</table>\n",
       "<p>2642 rows × 2 columns</p>\n",
       "</div>"
      ],
      "text/plain": [
       "          value    rank\n",
       "0      149936.0     1.0\n",
       "1      150242.0     2.0\n",
       "2      152420.0     3.0\n",
       "3      160534.0     4.0\n",
       "4      168154.0     5.0\n",
       "...         ...     ...\n",
       "2637  2658619.0  2643.0\n",
       "2638  2668231.0  2644.0\n",
       "2639  2678263.0  2645.0\n",
       "2640  3028347.0  2646.0\n",
       "2641  3206078.0  2647.0\n",
       "\n",
       "[2642 rows x 2 columns]"
      ]
     },
     "execution_count": 50,
     "metadata": {},
     "output_type": "execute_result"
    }
   ],
   "source": [
    "alldata = np.array([])\n",
    "for day in days_len:\n",
    "    alldata = np.concatenate([alldata, day])\n",
    "alldata.sort()\n",
    "tmpdf = pd.DataFrame(({'value': alldata}))\n",
    "tmpdf['rank'] = tmpdf.index + 1\n",
    "value2rank = tmpdf.groupby('value').mean().reset_index()\n",
    "value2rank"
   ]
  },
  {
   "cell_type": "code",
<<<<<<< HEAD
   "execution_count": 55,
=======
   "execution_count": null,
>>>>>>> 6dd30ba44932743aae3537bdf751a8808c0f64dc
   "metadata": {},
   "outputs": [
    {
     "name": "stdout",
     "output_type": "stream",
     "text": [
      "T0 = 2910241.0\n",
      "T1 = 3373.0\n",
      "T2 = 513826.0\n",
      "T3 = 32285.0\n",
      "T4 = 27498.0\n",
      "T5 = 17405.0\n"
     ]
    }
   ],
   "source": [
    "T = []\n",
    "for i, day in enumerate(days_len):\n",
    "    samp = pd.DataFrame({'value': day})\n",
    "    samp = pd.merge(samp, value2rank)\n",
    "    T.append(samp['rank'].sum())\n",
    "    print(f\"T%s = {T[i]}\"%(i))"
   ]
  },
  {
   "cell_type": "code",
<<<<<<< HEAD
   "execution_count": 39,
=======
   "execution_count": null,
>>>>>>> 6dd30ba44932743aae3537bdf751a8808c0f64dc
   "metadata": {},
   "outputs": [
    {
     "name": "stdout",
     "output_type": "stream",
     "text": [
      "H = 886.9305419389802\n",
      "p-value = 0.0\n"
     ]
    }
   ],
   "source": [
    "n = []\n",
    "columns = ['Normal', 'One', 'Two', 'Three', 'Four', 'FourPlus']\n",
    "for column in columns:\n",
    "    n.append(df1[column].dropna().shape[0])\n",
    "# print(n)\n",
    "T = np.array(T)\n",
    "n = np.array(n)\n",
    "x = T ** 2 / n\n",
    "k = 6\n",
    "n = n.sum()\n",
    "H = 12 / (n * (n + 1)) * (x.sum()) - 3 * (n + 1)\n",
    "pvalue = 1 - stats.chi2.cdf(H, k - 1)\n",
    "\n",
    "print(f\"H = {H}\")\n",
    "print(f\"p-value = {pvalue}\")"
   ]
  },
  {
   "cell_type": "markdown",
   "metadata": {},
   "source": [
    "## 情人節"
   ]
  },
  {
   "cell_type": "code",
<<<<<<< HEAD
   "execution_count": 40,
=======
   "execution_count": null,
>>>>>>> 6dd30ba44932743aae3537bdf751a8808c0f64dc
   "metadata": {},
   "outputs": [],
   "source": [
    "valentines = [[] for i in range(12)]"
   ]
  },
  {
   "cell_type": "code",
<<<<<<< HEAD
   "execution_count": 41,
=======
   "execution_count": null,
>>>>>>> 6dd30ba44932743aae3537bdf751a8808c0f64dc
   "metadata": {},
   "outputs": [],
   "source": [
    "year = np.arange(2015, 2023, 1)\n",
    "month = np.arange(1, 13, 1)\n",
    "for y in year:\n",
    "    if(y == 2022):\n",
    "        month = np.arange(1, 4, 1)\n",
    "    for m in month:\n",
    "        valentines[m - 1].append(transportCnt[datetime(y, m, 14)])"
   ]
  },
  {
   "cell_type": "code",
<<<<<<< HEAD
   "execution_count": 42,
=======
   "execution_count": null,
>>>>>>> 6dd30ba44932743aae3537bdf751a8808c0f64dc
   "metadata": {},
   "outputs": [
    {
     "data": {
      "text/html": [
       "<div>\n",
       "<style scoped>\n",
       "    .dataframe tbody tr th:only-of-type {\n",
       "        vertical-align: middle;\n",
       "    }\n",
       "\n",
       "    .dataframe tbody tr th {\n",
       "        vertical-align: top;\n",
       "    }\n",
       "\n",
       "    .dataframe thead th {\n",
       "        text-align: right;\n",
       "    }\n",
       "</style>\n",
       "<table border=\"1\" class=\"dataframe\">\n",
       "  <thead>\n",
       "    <tr style=\"text-align: right;\">\n",
       "      <th></th>\n",
       "      <th>TPcnt_1</th>\n",
       "      <th>TPcnt_2</th>\n",
       "      <th>TPcnt_3</th>\n",
       "      <th>TPcnt_4</th>\n",
       "      <th>TPcnt_5</th>\n",
       "      <th>TPcnt_6</th>\n",
       "      <th>TPcnt_7</th>\n",
       "      <th>TPcnt_8</th>\n",
       "      <th>TPcnt_9</th>\n",
       "      <th>TPcnt_10</th>\n",
       "      <th>TPcnt_11</th>\n",
       "      <th>TPcnt_12</th>\n",
       "    </tr>\n",
       "  </thead>\n",
       "  <tbody>\n",
       "    <tr>\n",
       "      <th>2015</th>\n",
       "      <td>1969032.0</td>\n",
       "      <td>1972064.0</td>\n",
       "      <td>2130819.0</td>\n",
       "      <td>2003426.0</td>\n",
       "      <td>2000535.0</td>\n",
       "      <td>1625054.0</td>\n",
       "      <td>2053764.0</td>\n",
       "      <td>2225728.0</td>\n",
       "      <td>2028392.0</td>\n",
       "      <td>2058401.0</td>\n",
       "      <td>2128618.0</td>\n",
       "      <td>2067831.0</td>\n",
       "    </tr>\n",
       "    <tr>\n",
       "      <th>2016</th>\n",
       "      <td>2132908.0</td>\n",
       "      <td>1571141.0</td>\n",
       "      <td>2075900.0</td>\n",
       "      <td>2114514.0</td>\n",
       "      <td>2060206.0</td>\n",
       "      <td>2020762.0</td>\n",
       "      <td>2139774.0</td>\n",
       "      <td>1751907.0</td>\n",
       "      <td>2009847.0</td>\n",
       "      <td>2375774.0</td>\n",
       "      <td>2061484.0</td>\n",
       "      <td>2164732.0</td>\n",
       "    </tr>\n",
       "    <tr>\n",
       "      <th>2017</th>\n",
       "      <td>1934888.0</td>\n",
       "      <td>2165802.0</td>\n",
       "      <td>2168801.0</td>\n",
       "      <td>2362235.0</td>\n",
       "      <td>1599230.0</td>\n",
       "      <td>2052846.0</td>\n",
       "      <td>2256065.0</td>\n",
       "      <td>2052866.0</td>\n",
       "      <td>2000767.0</td>\n",
       "      <td>1704860.0</td>\n",
       "      <td>2128134.0</td>\n",
       "      <td>2264764.0</td>\n",
       "    </tr>\n",
       "    <tr>\n",
       "      <th>2018</th>\n",
       "      <td>1644482.0</td>\n",
       "      <td>1987693.0</td>\n",
       "      <td>2228608.0</td>\n",
       "      <td>1989513.0</td>\n",
       "      <td>2089882.0</td>\n",
       "      <td>2171239.0</td>\n",
       "      <td>1957895.0</td>\n",
       "      <td>2197576.0</td>\n",
       "      <td>2372248.0</td>\n",
       "      <td>1763493.0</td>\n",
       "      <td>2238602.0</td>\n",
       "      <td>2562165.0</td>\n",
       "    </tr>\n",
       "    <tr>\n",
       "      <th>2019</th>\n",
       "      <td>2192358.0</td>\n",
       "      <td>2331604.0</td>\n",
       "      <td>2301836.0</td>\n",
       "      <td>1774276.0</td>\n",
       "      <td>2197050.0</td>\n",
       "      <td>2428458.0</td>\n",
       "      <td>1711032.0</td>\n",
       "      <td>2279835.0</td>\n",
       "      <td>1683910.0</td>\n",
       "      <td>2187500.0</td>\n",
       "      <td>2347845.0</td>\n",
       "      <td>2522817.0</td>\n",
       "    </tr>\n",
       "    <tr>\n",
       "      <th>2020</th>\n",
       "      <td>2342929.0</td>\n",
       "      <td>2147042.0</td>\n",
       "      <td>1456154.0</td>\n",
       "      <td>1714740.0</td>\n",
       "      <td>1908693.0</td>\n",
       "      <td>1342973.0</td>\n",
       "      <td>2111141.0</td>\n",
       "      <td>2222235.0</td>\n",
       "      <td>2056520.0</td>\n",
       "      <td>2171465.0</td>\n",
       "      <td>2013294.0</td>\n",
       "      <td>2163973.0</td>\n",
       "    </tr>\n",
       "    <tr>\n",
       "      <th>2021</th>\n",
       "      <td>2203013.0</td>\n",
       "      <td>1342891.0</td>\n",
       "      <td>1626631.0</td>\n",
       "      <td>2170091.0</td>\n",
       "      <td>1737951.0</td>\n",
       "      <td>176735.0</td>\n",
       "      <td>741813.0</td>\n",
       "      <td>743676.0</td>\n",
       "      <td>1446935.0</td>\n",
       "      <td>1765101.0</td>\n",
       "      <td>1306487.0</td>\n",
       "      <td>1960860.0</td>\n",
       "    </tr>\n",
       "    <tr>\n",
       "      <th>2022</th>\n",
       "      <td>2024999.0</td>\n",
       "      <td>1804237.0</td>\n",
       "      <td>1913369.0</td>\n",
       "      <td>NaN</td>\n",
       "      <td>NaN</td>\n",
       "      <td>NaN</td>\n",
       "      <td>NaN</td>\n",
       "      <td>NaN</td>\n",
       "      <td>NaN</td>\n",
       "      <td>NaN</td>\n",
       "      <td>NaN</td>\n",
       "      <td>NaN</td>\n",
       "    </tr>\n",
       "  </tbody>\n",
       "</table>\n",
       "</div>"
      ],
      "text/plain": [
       "        TPcnt_1    TPcnt_2    TPcnt_3    TPcnt_4    TPcnt_5    TPcnt_6  \\\n",
       "2015  1969032.0  1972064.0  2130819.0  2003426.0  2000535.0  1625054.0   \n",
       "2016  2132908.0  1571141.0  2075900.0  2114514.0  2060206.0  2020762.0   \n",
       "2017  1934888.0  2165802.0  2168801.0  2362235.0  1599230.0  2052846.0   \n",
       "2018  1644482.0  1987693.0  2228608.0  1989513.0  2089882.0  2171239.0   \n",
       "2019  2192358.0  2331604.0  2301836.0  1774276.0  2197050.0  2428458.0   \n",
       "2020  2342929.0  2147042.0  1456154.0  1714740.0  1908693.0  1342973.0   \n",
       "2021  2203013.0  1342891.0  1626631.0  2170091.0  1737951.0   176735.0   \n",
       "2022  2024999.0  1804237.0  1913369.0        NaN        NaN        NaN   \n",
       "\n",
       "        TPcnt_7    TPcnt_8    TPcnt_9   TPcnt_10   TPcnt_11   TPcnt_12  \n",
       "2015  2053764.0  2225728.0  2028392.0  2058401.0  2128618.0  2067831.0  \n",
       "2016  2139774.0  1751907.0  2009847.0  2375774.0  2061484.0  2164732.0  \n",
       "2017  2256065.0  2052866.0  2000767.0  1704860.0  2128134.0  2264764.0  \n",
       "2018  1957895.0  2197576.0  2372248.0  1763493.0  2238602.0  2562165.0  \n",
       "2019  1711032.0  2279835.0  1683910.0  2187500.0  2347845.0  2522817.0  \n",
       "2020  2111141.0  2222235.0  2056520.0  2171465.0  2013294.0  2163973.0  \n",
       "2021   741813.0   743676.0  1446935.0  1765101.0  1306487.0  1960860.0  \n",
       "2022        NaN        NaN        NaN        NaN        NaN        NaN  "
      ]
     },
     "execution_count": 42,
     "metadata": {},
     "output_type": "execute_result"
    }
   ],
   "source": [
    "df1 = pd.DataFrame(valentines).T\n",
    "month = np.arange(1, 13, 1)\n",
    "month = [\"TPcnt_\" + str(m) for m in month]\n",
    "df1.columns = month\n",
    "df1.index = year\n",
    "df1"
   ]
  },
  {
   "cell_type": "code",
<<<<<<< HEAD
   "execution_count": 43,
=======
   "execution_count": null,
>>>>>>> 6dd30ba44932743aae3537bdf751a8808c0f64dc
   "metadata": {},
   "outputs": [
    {
     "name": "stdout",
     "output_type": "stream",
     "text": [
      "Head of dataset:\n"
     ]
    },
    {
     "data": {
      "text/html": [
       "<div>\n",
       "<style scoped>\n",
       "    .dataframe tbody tr th:only-of-type {\n",
       "        vertical-align: middle;\n",
       "    }\n",
       "\n",
       "    .dataframe tbody tr th {\n",
       "        vertical-align: top;\n",
       "    }\n",
       "\n",
       "    .dataframe thead th {\n",
       "        text-align: right;\n",
       "    }\n",
       "</style>\n",
       "<table border=\"1\" class=\"dataframe\">\n",
       "  <thead>\n",
       "    <tr style=\"text-align: right;\">\n",
       "      <th></th>\n",
       "      <th>id</th>\n",
       "      <th>Month</th>\n",
       "      <th>TPcnt</th>\n",
       "    </tr>\n",
       "  </thead>\n",
       "  <tbody>\n",
       "    <tr>\n",
       "      <th>0</th>\n",
       "      <td>2015</td>\n",
       "      <td>1</td>\n",
       "      <td>1969032.0</td>\n",
       "    </tr>\n",
       "    <tr>\n",
       "      <th>1</th>\n",
       "      <td>2016</td>\n",
       "      <td>1</td>\n",
       "      <td>2132908.0</td>\n",
       "    </tr>\n",
       "    <tr>\n",
       "      <th>2</th>\n",
       "      <td>2017</td>\n",
       "      <td>1</td>\n",
       "      <td>1934888.0</td>\n",
       "    </tr>\n",
       "    <tr>\n",
       "      <th>3</th>\n",
       "      <td>2018</td>\n",
       "      <td>1</td>\n",
       "      <td>1644482.0</td>\n",
       "    </tr>\n",
       "    <tr>\n",
       "      <th>4</th>\n",
       "      <td>2019</td>\n",
       "      <td>1</td>\n",
       "      <td>2192358.0</td>\n",
       "    </tr>\n",
       "  </tbody>\n",
       "</table>\n",
       "</div>"
      ],
      "text/plain": [
       "     id  Month      TPcnt\n",
       "0  2015      1  1969032.0\n",
       "1  2016      1  2132908.0\n",
       "2  2017      1  1934888.0\n",
       "3  2018      1  1644482.0\n",
       "4  2019      1  2192358.0"
      ]
     },
     "metadata": {},
     "output_type": "display_data"
    },
    {
     "name": "stdout",
     "output_type": "stream",
     "text": [
      "Tail of dataset:\n"
     ]
    },
    {
     "data": {
      "text/html": [
       "<div>\n",
       "<style scoped>\n",
       "    .dataframe tbody tr th:only-of-type {\n",
       "        vertical-align: middle;\n",
       "    }\n",
       "\n",
       "    .dataframe tbody tr th {\n",
       "        vertical-align: top;\n",
       "    }\n",
       "\n",
       "    .dataframe thead th {\n",
       "        text-align: right;\n",
       "    }\n",
       "</style>\n",
       "<table border=\"1\" class=\"dataframe\">\n",
       "  <thead>\n",
       "    <tr style=\"text-align: right;\">\n",
       "      <th></th>\n",
       "      <th>id</th>\n",
       "      <th>Month</th>\n",
       "      <th>TPcnt</th>\n",
       "    </tr>\n",
       "  </thead>\n",
       "  <tbody>\n",
       "    <tr>\n",
       "      <th>90</th>\n",
       "      <td>2017</td>\n",
       "      <td>12</td>\n",
       "      <td>2264764.0</td>\n",
       "    </tr>\n",
       "    <tr>\n",
       "      <th>91</th>\n",
       "      <td>2018</td>\n",
       "      <td>12</td>\n",
       "      <td>2562165.0</td>\n",
       "    </tr>\n",
       "    <tr>\n",
       "      <th>92</th>\n",
       "      <td>2019</td>\n",
       "      <td>12</td>\n",
       "      <td>2522817.0</td>\n",
       "    </tr>\n",
       "    <tr>\n",
       "      <th>93</th>\n",
       "      <td>2020</td>\n",
       "      <td>12</td>\n",
       "      <td>2163973.0</td>\n",
       "    </tr>\n",
       "    <tr>\n",
       "      <th>94</th>\n",
       "      <td>2021</td>\n",
       "      <td>12</td>\n",
       "      <td>1960860.0</td>\n",
       "    </tr>\n",
       "  </tbody>\n",
       "</table>\n",
       "</div>"
      ],
      "text/plain": [
       "      id  Month      TPcnt\n",
       "90  2017     12  2264764.0\n",
       "91  2018     12  2562165.0\n",
       "92  2019     12  2522817.0\n",
       "93  2020     12  2163973.0\n",
       "94  2021     12  1960860.0"
      ]
     },
     "metadata": {},
     "output_type": "display_data"
    }
   ],
   "source": [
    "# 需要一個ID欄位\n",
    "df1[\"id\"] = df1.index\n",
    "# 呼叫wide_to_long(); 文件請見: https://pandas.pydata.org/pandas-docs/stable/reference/api/pandas.wide_to_long.html\n",
    "df2 = pd.wide_to_long(df1, [\"TPcnt\"], sep=\"_\", suffix='\\w+', i=\"id\", j=\"Month\").reset_index()\n",
    "df2 = df2.dropna()\n",
    "print(\"Head of dataset:\")\n",
    "display(df2.head())\n",
    "print(\"Tail of dataset:\")\n",
    "display(df2.tail())"
   ]
  },
  {
   "cell_type": "code",
<<<<<<< HEAD
   "execution_count": 44,
=======
   "execution_count": null,
>>>>>>> 6dd30ba44932743aae3537bdf751a8808c0f64dc
   "metadata": {},
   "outputs": [
    {
     "data": {
      "text/html": [
       "<div>\n",
       "<style scoped>\n",
       "    .dataframe tbody tr th:only-of-type {\n",
       "        vertical-align: middle;\n",
       "    }\n",
       "\n",
       "    .dataframe tbody tr th {\n",
       "        vertical-align: top;\n",
       "    }\n",
       "\n",
       "    .dataframe thead th {\n",
       "        text-align: right;\n",
       "    }\n",
       "</style>\n",
       "<table border=\"1\" class=\"dataframe\">\n",
       "  <thead>\n",
       "    <tr style=\"text-align: right;\">\n",
       "      <th></th>\n",
       "      <th>sum_sq</th>\n",
       "      <th>df</th>\n",
       "      <th>F</th>\n",
       "      <th>PR(&gt;F)</th>\n",
       "    </tr>\n",
       "  </thead>\n",
       "  <tbody>\n",
       "    <tr>\n",
       "      <th>C(Month)</th>\n",
       "      <td>1.337335e+12</td>\n",
       "      <td>11.0</td>\n",
       "      <td>0.823141</td>\n",
       "      <td>0.617335</td>\n",
       "    </tr>\n",
       "    <tr>\n",
       "      <th>Residual</th>\n",
       "      <td>1.107732e+13</td>\n",
       "      <td>75.0</td>\n",
       "      <td>NaN</td>\n",
       "      <td>NaN</td>\n",
       "    </tr>\n",
       "  </tbody>\n",
       "</table>\n",
       "</div>"
      ],
      "text/plain": [
       "                sum_sq    df         F    PR(>F)\n",
       "C(Month)  1.337335e+12  11.0  0.823141  0.617335\n",
       "Residual  1.107732e+13  75.0       NaN       NaN"
      ]
     },
     "execution_count": 44,
     "metadata": {},
     "output_type": "execute_result"
    }
   ],
   "source": [
    "results = smf.ols('TPcnt ~ C(Month)', data=df2).fit()\n",
    "# results.summary()\n",
    "aov_table = sms.anova_lm(results, typ=2)\n",
    "aov_table"
   ]
  },
  {
   "cell_type": "code",
<<<<<<< HEAD
   "execution_count": 45,
=======
   "execution_count": null,
>>>>>>> 6dd30ba44932743aae3537bdf751a8808c0f64dc
   "metadata": {},
   "outputs": [],
   "source": [
    "mc = smm.MultiComparison(df2['TPcnt'], df2['Month'])\n",
    "# print(mc.tukeyhsd().summary())"
   ]
  },
  {
   "cell_type": "markdown",
   "metadata": {},
   "source": [
    "### Required Condition"
   ]
  },
  {
   "cell_type": "markdown",
   "metadata": {},
   "source": [
    "#### Check normality assumption - Shapiro Wilk Test"
   ]
  },
  {
   "cell_type": "markdown",
   "metadata": {},
   "source": [
    "$$H_0: \\text{residual of all datapoints are normally distributed}$$  \n",
    "$$H_1: \\text{residual of all datapoints are not normally distributed}$$  "
   ]
  },
  {
   "cell_type": "code",
<<<<<<< HEAD
   "execution_count": 46,
=======
   "execution_count": null,
>>>>>>> 6dd30ba44932743aae3537bdf751a8808c0f64dc
   "metadata": {},
   "outputs": [
    {
     "name": "stdout",
     "output_type": "stream",
     "text": [
      "Statistics=0.8800, p=0.0000\n"
     ]
    }
   ],
   "source": [
    "stat, p = stats.shapiro(results.resid)\n",
    "print('Statistics=%.4f, p=%.4f' % (stat, p))"
   ]
  },
  {
   "cell_type": "code",
<<<<<<< HEAD
   "execution_count": 47,
=======
   "execution_count": null,
>>>>>>> 6dd30ba44932743aae3537bdf751a8808c0f64dc
   "metadata": {},
   "outputs": [
    {
     "data": {
      "image/png": "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",
      "text/plain": [
       "<Figure size 600x400 with 1 Axes>"
      ]
     },
     "metadata": {
      "needs_background": "light"
     },
     "output_type": "display_data"
    }
   ],
   "source": [
    "_ = plt.hist(results.resid, bins = \"auto\")"
   ]
  },
  {
   "cell_type": "code",
<<<<<<< HEAD
   "execution_count": 48,
=======
   "execution_count": null,
>>>>>>> 6dd30ba44932743aae3537bdf751a8808c0f64dc
   "metadata": {},
   "outputs": [
    {
     "data": {
      "image/png": "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",
      "text/plain": [
       "<Figure size 600x400 with 1 Axes>"
      ]
     },
     "metadata": {
      "needs_background": "light"
     },
     "output_type": "display_data"
    }
   ],
   "source": [
    "fig = sm.qqplot(results.resid, stats.norm, fit=True, line='45')\n",
    "plt.show()"
   ]
  },
  {
   "cell_type": "markdown",
   "metadata": {},
   "source": [
    "#### Check equal variance assumption - Bartlett's Test"
   ]
  },
  {
   "cell_type": "markdown",
   "metadata": {},
   "source": [
    "$$H_0: \\text{Variance of different treatment groups are equal}$$  \n",
    "$$H_1: \\text{At least two treatment groups have different variance}$$"
   ]
  },
  {
   "cell_type": "code",
<<<<<<< HEAD
   "execution_count": 49,
=======
   "execution_count": null,
>>>>>>> 6dd30ba44932743aae3537bdf751a8808c0f64dc
   "metadata": {},
   "outputs": [
    {
     "data": {
      "text/plain": [
       "BartlettResult(statistic=25.659671277120232, pvalue=0.007290221213039214)"
      ]
     },
     "execution_count": 49,
     "metadata": {},
     "output_type": "execute_result"
    }
   ],
   "source": [
    "df2['resid'] = results.resid\n",
    "stats.bartlett(df2['resid'][df2['Month'] == 1],\n",
    "              df2['resid'][df2['Month'] == 2],\n",
    "              df2['resid'][df2['Month'] == 3],\n",
    "                df2['resid'][df2['Month'] == 4],\n",
    "              df2['resid'][df2['Month'] == 5],\n",
    "              df2['resid'][df2['Month'] == 6],\n",
    "              df2['resid'][df2['Month'] == 7],\n",
    "              df2['resid'][df2['Month'] == 8],\n",
    "              df2['resid'][df2['Month'] == 9],\n",
    "              df2['resid'][df2['Month'] == 10],\n",
    "              df2['resid'][df2['Month'] == 11],\n",
    "              df2['resid'][df2['Month'] == 12],\n",
    ")"
   ]
  }
 ],
 "metadata": {
  "interpreter": {
   "hash": "356998c43310144b96a2843b6a00592392af50ee3be89b7f2bab29543afc8c0d"
  },
  "kernelspec": {
   "display_name": "Python 3.10.2 64-bit",
   "language": "python",
   "name": "python3"
  },
  "language_info": {
   "codemirror_mode": {
    "name": "ipython",
    "version": 3
   },
   "file_extension": ".py",
   "mimetype": "text/x-python",
   "name": "python",
   "nbconvert_exporter": "python",
   "pygments_lexer": "ipython3",
   "version": "3.10.2"
  }
 },
 "nbformat": 4,
 "nbformat_minor": 5
}
