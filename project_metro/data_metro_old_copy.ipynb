{
 "cells": [
  {
   "cell_type": "markdown",
   "metadata": {},
   "source": [
    "## Import library"
   ]
  },
  {
   "cell_type": "code",
   "execution_count": 22,
   "metadata": {},
   "outputs": [],
   "source": [
    "import numpy as np \n",
    "import pandas as pd \n",
    "import datetime as dt \n",
    "import copy as cp\n",
    "import datetime \n",
    "#coding=utf-8 "
   ]
  },
  {
   "cell_type": "markdown",
   "metadata": {},
   "source": [
    "## Build a library"
   ]
  },
  {
   "cell_type": "code",
   "execution_count": 23,
   "metadata": {},
   "outputs": [],
   "source": [
    "transportCnt = dict()"
   ]
  },
  {
   "cell_type": "code",
   "execution_count": 24,
   "metadata": {},
   "outputs": [],
   "source": [
    "year = ['2015', '2016', '2017', '2018', '2019', '2020', '2021', '2022']\n",
    "month = ['01','02','03','04','05','06','07','08','09','10','11','12']"
   ]
  },
  {
   "cell_type": "code",
   "execution_count": 25,
   "id": "11eed7cd",
   "metadata": {},
   "outputs": [],
   "source": [
    "for i in year:\n",
    "    for j in month:\n",
    "        if i == '2022' and j == '04':\n",
    "            break\n",
    "        dt_name = '+OÑ_¦¦¦BÑ¦¿t¦+«+¦B¦q¦+¡p_' + i + j+'.csv'\n",
    "        df = pd.read_csv(dt_name,encoding='big5')\n",
    "        for k in range(df.shape[0]):\n",
    "            date = df['營運日'][k]\n",
    "            transport = df['總運量'][k]\n",
    "            try : \n",
    "                temp = date.split( '/' ) \n",
    "                year_ = int( temp[0] ) + 1911\n",
    "                month_ = int( temp[1] ) \n",
    "                day_ = int( temp[2] ) \n",
    "                dt = datetime.datetime( year_, month_, day_ )\n",
    "                transportCnt[dt] = int( ''.join( transport.split( ',' ) ) )\n",
    "            except : \n",
    "                continue"
   ]
  },
  {
   "cell_type": "code",
   "execution_count": 26,
   "id": "dfc48537",
   "metadata": {},
   "outputs": [],
   "source": [
    "date = []\n",
    "cnt = []\n",
    "for key in transportCnt.keys() :\n",
    "    date.append( key ) \n",
    "    cnt.append( transportCnt[key] ) "
   ]
  },
  {
   "cell_type": "code",
   "execution_count": 27,
   "id": "49a4111d",
   "metadata": {},
   "outputs": [],
   "source": [
    "pd.DataFrame( {'date':date, 'Metro':cnt }).to_excel( 'Metro.xlsx' )"
   ]
  },
  {
   "cell_type": "code",
   "execution_count": 18,
   "metadata": {},
   "outputs": [
    {
     "data": {
      "text/html": [
       "<div>\n",
       "<style scoped>\n",
       "    .dataframe tbody tr th:only-of-type {\n",
       "        vertical-align: middle;\n",
       "    }\n",
       "\n",
       "    .dataframe tbody tr th {\n",
       "        vertical-align: top;\n",
       "    }\n",
       "\n",
       "    .dataframe thead th {\n",
       "        text-align: right;\n",
       "    }\n",
       "</style>\n",
       "<table border=\"1\" class=\"dataframe\">\n",
       "  <thead>\n",
       "    <tr style=\"text-align: right;\">\n",
       "      <th></th>\n",
       "      <th>營運日</th>\n",
       "      <th>星期</th>\n",
       "      <th>總運量</th>\n",
       "    </tr>\n",
       "  </thead>\n",
       "  <tbody>\n",
       "    <tr>\n",
       "      <th>0</th>\n",
       "      <td>104/1/1</td>\n",
       "      <td>四</td>\n",
       "      <td>1,796,950</td>\n",
       "    </tr>\n",
       "    <tr>\n",
       "      <th>1</th>\n",
       "      <td>104/1/2</td>\n",
       "      <td>五</td>\n",
       "      <td>1,830,184</td>\n",
       "    </tr>\n",
       "    <tr>\n",
       "      <th>2</th>\n",
       "      <td>104/1/3</td>\n",
       "      <td>六</td>\n",
       "      <td>1,802,037</td>\n",
       "    </tr>\n",
       "    <tr>\n",
       "      <th>3</th>\n",
       "      <td>104/1/4</td>\n",
       "      <td>日</td>\n",
       "      <td>1,585,463</td>\n",
       "    </tr>\n",
       "    <tr>\n",
       "      <th>4</th>\n",
       "      <td>104/1/5</td>\n",
       "      <td>一</td>\n",
       "      <td>1,915,326</td>\n",
       "    </tr>\n",
       "  </tbody>\n",
       "</table>\n",
       "</div>"
      ],
      "text/plain": [
       "       營運日 星期        總運量\n",
       "0  104/1/1  四  1,796,950\n",
       "1  104/1/2  五  1,830,184\n",
       "2  104/1/3  六  1,802,037\n",
       "3  104/1/4  日  1,585,463\n",
       "4  104/1/5  一  1,915,326"
      ]
     },
     "execution_count": 18,
     "metadata": {},
     "output_type": "execute_result"
    }
   ],
   "source": [
    "dt_name = '+OÑ_¦¦¦BÑ¦¿t¦+«+¦B¦q¦+¡p_201501.csv'\n",
    "df = pd.read_csv(dt_name,encoding='big5')\n",
    "df.head()"
   ]
  },
  {
   "cell_type": "code",
   "execution_count": null,
   "id": "84add15c",
   "metadata": {},
   "outputs": [],
   "source": []
  }
 ],
 "metadata": {
  "interpreter": {
   "hash": "356998c43310144b96a2843b6a00592392af50ee3be89b7f2bab29543afc8c0d"
  },
  "kernelspec": {
   "display_name": "Python 3.10.2 64-bit",
   "language": "python",
   "name": "python3"
  },
  "language_info": {
   "codemirror_mode": {
    "name": "ipython",
    "version": 3
   },
   "file_extension": ".py",
   "mimetype": "text/x-python",
   "name": "python",
   "nbconvert_exporter": "python",
   "pygments_lexer": "ipython3",
   "version": "3.10.2"
  }
 },
 "nbformat": 4,
 "nbformat_minor": 5
}
