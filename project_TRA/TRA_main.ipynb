{
 "cells": [
  {
   "cell_type": "code",
   "execution_count": 1,
   "metadata": {},
   "outputs": [],
   "source": [
    "# Libraries \n",
    "import numpy as np \n",
    "import pandas as pd\n",
    "import matplotlib.pyplot as plt \n",
    "import datetime as dt\n",
    "import scipy.stats as stats\n",
    "import statsmodels.api as sm\n",
    "import statsmodels.stats.api as sms\n",
    "import statsmodels.formula.api as smf\n",
    "import statsmodels.stats.multicomp as smm\n",
    "import copy as cp\n",
    "import importlib\n",
    "\n",
    "import self_defined_functions as ft"
   ]
  },
  {
   "cell_type": "code",
   "execution_count": 16,
   "metadata": {},
   "outputs": [],
   "source": [
    "ANOVA_df = ft.get_ANOVA_df()"
   ]
  },
  {
   "cell_type": "markdown",
   "metadata": {},
   "source": [
    "# 2Way ANOVA of different holiday"
   ]
  },
  {
   "cell_type": "code",
   "execution_count": 44,
   "metadata": {},
   "outputs": [],
   "source": [
    "ANOVA_df_before2020 = ANOVA_df[ANOVA_df['year'] < 2020 ]\n",
    "ANOVA_df_before2020_noTy = ANOVA_df_before2020[ANOVA_df_before2020['is_typhoon'] == False]\n",
    "ANOVA_df_before2020_noTy_noCNYE = ANOVA_df_before2020_noTy[ANOVA_df_before2020_noTy['is_CNYE'] == False]"
   ]
  },
  {
   "cell_type": "code",
   "execution_count": 45,
   "metadata": {},
   "outputs": [
    {
     "data": {
      "text/html": [
       "<div>\n",
       "<style scoped>\n",
       "    .dataframe tbody tr th:only-of-type {\n",
       "        vertical-align: middle;\n",
       "    }\n",
       "\n",
       "    .dataframe tbody tr th {\n",
       "        vertical-align: top;\n",
       "    }\n",
       "\n",
       "    .dataframe thead th {\n",
       "        text-align: right;\n",
       "    }\n",
       "</style>\n",
       "<table border=\"1\" class=\"dataframe\">\n",
       "  <thead>\n",
       "    <tr style=\"text-align: right;\">\n",
       "      <th></th>\n",
       "      <th>date</th>\n",
       "      <th>year</th>\n",
       "      <th>month</th>\n",
       "      <th>day</th>\n",
       "      <th>trans_cnt</th>\n",
       "      <th>is_typhoon</th>\n",
       "      <th>day_type</th>\n",
       "      <th>holi_type</th>\n",
       "      <th>holi_len</th>\n",
       "      <th>is_CNYE</th>\n",
       "      <th>is_NYE</th>\n",
       "    </tr>\n",
       "  </thead>\n",
       "  <tbody>\n",
       "    <tr>\n",
       "      <th>0</th>\n",
       "      <td>2005-01-01</td>\n",
       "      <td>2005</td>\n",
       "      <td>1</td>\n",
       "      <td>1</td>\n",
       "      <td>382902</td>\n",
       "      <td>False</td>\n",
       "      <td>National</td>\n",
       "      <td>元旦</td>\n",
       "      <td>2</td>\n",
       "      <td>False</td>\n",
       "      <td>False</td>\n",
       "    </tr>\n",
       "    <tr>\n",
       "      <th>1</th>\n",
       "      <td>2005-01-02</td>\n",
       "      <td>2005</td>\n",
       "      <td>1</td>\n",
       "      <td>2</td>\n",
       "      <td>412908</td>\n",
       "      <td>False</td>\n",
       "      <td>National</td>\n",
       "      <td>元旦</td>\n",
       "      <td>2</td>\n",
       "      <td>False</td>\n",
       "      <td>False</td>\n",
       "    </tr>\n",
       "    <tr>\n",
       "      <th>2</th>\n",
       "      <td>2005-01-03</td>\n",
       "      <td>2005</td>\n",
       "      <td>1</td>\n",
       "      <td>3</td>\n",
       "      <td>298141</td>\n",
       "      <td>False</td>\n",
       "      <td>weekday</td>\n",
       "      <td>weekday</td>\n",
       "      <td>0</td>\n",
       "      <td>False</td>\n",
       "      <td>False</td>\n",
       "    </tr>\n",
       "    <tr>\n",
       "      <th>3</th>\n",
       "      <td>2005-01-04</td>\n",
       "      <td>2005</td>\n",
       "      <td>1</td>\n",
       "      <td>4</td>\n",
       "      <td>252051</td>\n",
       "      <td>False</td>\n",
       "      <td>weekday</td>\n",
       "      <td>weekday</td>\n",
       "      <td>0</td>\n",
       "      <td>False</td>\n",
       "      <td>False</td>\n",
       "    </tr>\n",
       "    <tr>\n",
       "      <th>4</th>\n",
       "      <td>2005-01-05</td>\n",
       "      <td>2005</td>\n",
       "      <td>1</td>\n",
       "      <td>5</td>\n",
       "      <td>263399</td>\n",
       "      <td>False</td>\n",
       "      <td>weekday</td>\n",
       "      <td>weekday</td>\n",
       "      <td>0</td>\n",
       "      <td>False</td>\n",
       "      <td>False</td>\n",
       "    </tr>\n",
       "    <tr>\n",
       "      <th>...</th>\n",
       "      <td>...</td>\n",
       "      <td>...</td>\n",
       "      <td>...</td>\n",
       "      <td>...</td>\n",
       "      <td>...</td>\n",
       "      <td>...</td>\n",
       "      <td>...</td>\n",
       "      <td>...</td>\n",
       "      <td>...</td>\n",
       "      <td>...</td>\n",
       "      <td>...</td>\n",
       "    </tr>\n",
       "    <tr>\n",
       "      <th>5473</th>\n",
       "      <td>2019-12-27</td>\n",
       "      <td>2019</td>\n",
       "      <td>12</td>\n",
       "      <td>27</td>\n",
       "      <td>778221</td>\n",
       "      <td>False</td>\n",
       "      <td>weekday</td>\n",
       "      <td>weekday</td>\n",
       "      <td>0</td>\n",
       "      <td>False</td>\n",
       "      <td>False</td>\n",
       "    </tr>\n",
       "    <tr>\n",
       "      <th>5474</th>\n",
       "      <td>2019-12-28</td>\n",
       "      <td>2019</td>\n",
       "      <td>12</td>\n",
       "      <td>28</td>\n",
       "      <td>718527</td>\n",
       "      <td>False</td>\n",
       "      <td>weekend</td>\n",
       "      <td>weekend</td>\n",
       "      <td>2</td>\n",
       "      <td>False</td>\n",
       "      <td>False</td>\n",
       "    </tr>\n",
       "    <tr>\n",
       "      <th>5475</th>\n",
       "      <td>2019-12-29</td>\n",
       "      <td>2019</td>\n",
       "      <td>12</td>\n",
       "      <td>29</td>\n",
       "      <td>632035</td>\n",
       "      <td>False</td>\n",
       "      <td>weekend</td>\n",
       "      <td>weekend</td>\n",
       "      <td>2</td>\n",
       "      <td>False</td>\n",
       "      <td>False</td>\n",
       "    </tr>\n",
       "    <tr>\n",
       "      <th>5476</th>\n",
       "      <td>2019-12-30</td>\n",
       "      <td>2019</td>\n",
       "      <td>12</td>\n",
       "      <td>30</td>\n",
       "      <td>625193</td>\n",
       "      <td>False</td>\n",
       "      <td>weekday</td>\n",
       "      <td>weekday</td>\n",
       "      <td>0</td>\n",
       "      <td>False</td>\n",
       "      <td>False</td>\n",
       "    </tr>\n",
       "    <tr>\n",
       "      <th>5477</th>\n",
       "      <td>2019-12-31</td>\n",
       "      <td>2019</td>\n",
       "      <td>12</td>\n",
       "      <td>31</td>\n",
       "      <td>731173</td>\n",
       "      <td>False</td>\n",
       "      <td>weekday</td>\n",
       "      <td>weekday</td>\n",
       "      <td>0</td>\n",
       "      <td>False</td>\n",
       "      <td>True</td>\n",
       "    </tr>\n",
       "  </tbody>\n",
       "</table>\n",
       "<p>5229 rows × 11 columns</p>\n",
       "</div>"
      ],
      "text/plain": [
       "           date  year  month  day  trans_cnt  is_typhoon  day_type holi_type  \\\n",
       "0    2005-01-01  2005      1    1     382902       False  National        元旦   \n",
       "1    2005-01-02  2005      1    2     412908       False  National        元旦   \n",
       "2    2005-01-03  2005      1    3     298141       False   weekday   weekday   \n",
       "3    2005-01-04  2005      1    4     252051       False   weekday   weekday   \n",
       "4    2005-01-05  2005      1    5     263399       False   weekday   weekday   \n",
       "...         ...   ...    ...  ...        ...         ...       ...       ...   \n",
       "5473 2019-12-27  2019     12   27     778221       False   weekday   weekday   \n",
       "5474 2019-12-28  2019     12   28     718527       False   weekend   weekend   \n",
       "5475 2019-12-29  2019     12   29     632035       False   weekend   weekend   \n",
       "5476 2019-12-30  2019     12   30     625193       False   weekday   weekday   \n",
       "5477 2019-12-31  2019     12   31     731173       False   weekday   weekday   \n",
       "\n",
       "      holi_len  is_CNYE  is_NYE  \n",
       "0            2    False   False  \n",
       "1            2    False   False  \n",
       "2            0    False   False  \n",
       "3            0    False   False  \n",
       "4            0    False   False  \n",
       "...        ...      ...     ...  \n",
       "5473         0    False   False  \n",
       "5474         2    False   False  \n",
       "5475         2    False   False  \n",
       "5476         0    False   False  \n",
       "5477         0    False    True  \n",
       "\n",
       "[5229 rows x 11 columns]"
      ]
     },
     "execution_count": 45,
     "metadata": {},
     "output_type": "execute_result"
    }
   ],
   "source": [
    "ANOVA_df_before2020_noTy"
   ]
  },
  {
   "cell_type": "code",
   "execution_count": 46,
   "metadata": {},
   "outputs": [],
   "source": [
    "results1 = smf.ols('trans_cnt~ C(day_type)', data=ANOVA_df_before2020_noTy_noCNYE).fit()\n",
    "results2 = smf.ols('trans_cnt~ C(holi_type)', data=ANOVA_df_before2020_noTy_noCNYE).fit()\n",
    "# aov_table = sms.anova_lm( results, typ=2)\n",
    "# aov_table"
   ]
  },
  {
   "cell_type": "code",
   "execution_count": 47,
   "metadata": {},
   "outputs": [
    {
     "name": "stdout",
     "output_type": "stream",
     "text": [
      "p = 0.0000\n",
      "p = 0.0000\n"
     ]
    },
    {
     "name": "stderr",
     "output_type": "stream",
     "text": [
      "c:\\Users\\PuSung\\AppData\\Local\\Programs\\Python\\Python310\\lib\\site-packages\\scipy\\stats\\_morestats.py:1761: UserWarning: p-value may not be accurate for N > 5000.\n",
      "  warnings.warn(\"p-value may not be accurate for N > 5000.\")\n"
     ]
    }
   ],
   "source": [
    "stat1, p1 = stats.shapiro( results1.resid )\n",
    "stat2, p2 = stats.shapiro( results2.resid )\n",
    "print( f'p = {p1:.4f}' )\n",
    "print( f'p = {p2:.4f}' )"
   ]
  },
  {
   "cell_type": "code",
   "execution_count": 48,
   "metadata": {},
   "outputs": [
    {
     "data": {
      "text/plain": [
       "5214"
      ]
     },
     "execution_count": 48,
     "metadata": {},
     "output_type": "execute_result"
    }
   ],
   "source": [
    "len( results1.resid )"
   ]
  },
  {
   "cell_type": "code",
   "execution_count": 49,
   "metadata": {},
   "outputs": [],
   "source": [
    "resid_dict1 = ft.build_dict( ANOVA_df_before2020_noTy_noCNYE['date'], results1.resid )\n",
    "resid_dict2 = ft.build_dict( ANOVA_df_before2020_noTy_noCNYE['date'], results2.resid )"
   ]
  },
  {
   "cell_type": "code",
   "execution_count": 69,
   "metadata": {},
   "outputs": [
    {
     "data": {
      "text/plain": [
       "<module 'self_defined_functions' from 'c:\\\\PuSung\\\\University\\\\Sophomore\\\\110-2 Academic\\\\Satistics\\\\Statistics_FinalProject\\\\project_TRA\\\\self_defined_functions.py'>"
      ]
     },
     "execution_count": 69,
     "metadata": {},
     "output_type": "execute_result"
    }
   ],
   "source": [
    "importlib.reload( ft )"
   ]
  },
  {
   "cell_type": "code",
   "execution_count": 72,
   "metadata": {},
   "outputs": [],
   "source": [
    "ft.Chi_Square_for_Normality( results1.resid, 5, 0.05 )"
   ]
  },
  {
   "cell_type": "code",
   "execution_count": 65,
   "metadata": {},
   "outputs": [
    {
     "data": {
      "image/png": "[encoded data removed]",
      "text/plain": [
       "<Figure size 1440x720 with 2 Axes>"
      ]
     },
     "metadata": {
      "needs_background": "light"
     },
     "output_type": "display_data"
    }
   ],
   "source": [
    "dates = ft.self_qqplot( resid_dict1 )"
   ]
  },
  {
   "cell_type": "code",
   "execution_count": 68,
   "metadata": {},
   "outputs": [
    {
     "data": {
      "text/plain": [
       "array([Timestamp('2009-01-25 00:00:00'), Timestamp('2005-01-11 00:00:00'),\n",
       "       Timestamp('2005-12-14 00:00:00'), Timestamp('2005-01-13 00:00:00'),\n",
       "       Timestamp('2005-12-13 00:00:00'), Timestamp('2015-09-25 00:00:00'),\n",
       "       Timestamp('2005-12-15 00:00:00'), Timestamp('2005-01-15 00:00:00'),\n",
       "       Timestamp('2019-10-09 00:00:00'), Timestamp('2005-01-16 00:00:00')],\n",
       "      dtype=object)"
      ]
     },
     "execution_count": 68,
     "metadata": {},
     "output_type": "execute_result"
    }
   ],
   "source": [
    "dates[:10]"
   ]
  },
  {
   "cell_type": "code",
   "execution_count": 52,
   "metadata": {},
   "outputs": [
    {
     "data": {
      "image/png": "[encoded data removed]",
      "text/plain": [
       "<Figure size 432x288 with 1 Axes>"
      ]
     },
     "metadata": {
      "needs_background": "light"
     },
     "output_type": "display_data"
    }
   ],
   "source": [
    "_ = plt.hist( results1.resid, bins='auto', alpha = 0.3 )\n",
    "_ = plt.hist( results2.resid, bins='auto', alpha = 0.3 )"
   ]
  },
  {
   "cell_type": "code",
   "execution_count": null,
   "metadata": {},
   "outputs": [],
   "source": [
    "import seaborn as sns"
   ]
  },
  {
   "cell_type": "code",
   "execution_count": null,
   "metadata": {},
   "outputs": [],
   "source": [
    "AFTER_2020 = np.array( YEAR ) > 2020"
   ]
  },
  {
   "cell_type": "code",
   "execution_count": null,
   "metadata": {},
   "outputs": [],
   "source": [
    "sns_df = pd.DataFrame( {'After_2020' : AFTER_2020, 'cnt' : CNT, 'resid':results.resid } )"
   ]
  },
  {
   "cell_type": "code",
   "execution_count": null,
   "metadata": {},
   "outputs": [
    {
     "data": {
      "text/plain": [
       "Text(0, 0.5, 'Value')"
      ]
     },
     "execution_count": 21,
     "metadata": {},
     "output_type": "execute_result"
    },
    {
     "data": {
      "image/png": "[encoded data removed]",
      "text/plain": [
       "<Figure size 432x288 with 1 Axes>"
      ]
     },
     "metadata": {
      "needs_background": "light"
     },
     "output_type": "display_data"
    }
   ],
   "source": [
    "sns.histplot(data=sns_df, x=\"resid\", hue=\"After_2020\", multiple=\"stack\")\n",
    "plt.title(\"Age distribution\")\n",
    "plt.xlabel(\"Age customer\")\n",
    "plt.ylabel(\"Value\")"
   ]
  },
  {
   "cell_type": "markdown",
   "metadata": {},
   "source": [
    "# 2 way ANOVA of different length of weekends"
   ]
  },
  {
   "cell_type": "code",
   "execution_count": null,
   "metadata": {},
   "outputs": [],
   "source": []
  },
  {
   "cell_type": "markdown",
   "metadata": {},
   "source": []
  }
 ],
 "metadata": {
  "interpreter": {
   "hash": "356998c43310144b96a2843b6a00592392af50ee3be89b7f2bab29543afc8c0d"
  },
  "kernelspec": {
   "display_name": "Python 3.10.2 64-bit",
   "language": "python",
   "name": "python3"
  },
  "language_info": {
   "codemirror_mode": {
    "name": "ipython",
    "version": 3
   },
   "file_extension": ".py",
   "mimetype": "text/x-python",
   "name": "python",
   "nbconvert_exporter": "python",
   "pygments_lexer": "ipython3",
   "version": "3.10.2"
  },
  "orig_nbformat": 4
 },
 "nbformat": 4,
 "nbformat_minor": 2
}
