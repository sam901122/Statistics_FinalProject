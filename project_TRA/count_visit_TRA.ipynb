{
 "cells": [
  {
   "cell_type": "markdown",
   "metadata": {},
   "source": [
    "# Import Libraries"
   ]
  },
  {
   "cell_type": "code",
   "execution_count": 1,
   "metadata": {},
   "outputs": [],
   "source": [
    "import numpy as np \n",
    "import pandas as pd \n",
    "import datetime as dt \n",
    "import copy as cp"
   ]
  },
  {
   "cell_type": "markdown",
   "metadata": {},
   "source": [
    "# Functions "
   ]
  },
  {
   "cell_type": "code",
   "execution_count": 2,
   "metadata": {},
   "outputs": [],
   "source": [
    "def add_transportCnt( date : list[dt.datetime], comeIn : list[int] ) -> None : \n",
    "    # Given two list, one is the date, the other is the people into every train station\n",
    "    # The data type of date should be list of datetime.datetime\n",
    "    # The data type of come into station people should be list of int \n",
    "\n",
    "    # transportCnt is global variable \n",
    "    global transportCnt \n",
    "\n",
    "    # Traverse every data, add comeIn value to that day \n",
    "    for i in range( len( date ) ) :\n",
    "        currentDate = date[i]\n",
    "        try : \n",
    "            transportCnt[currentDate] += comeIn[i]\n",
    "        except : \n",
    "            transportCnt[currentDate] = comeIn[i]"
   ]
  },
  {
   "cell_type": "code",
   "execution_count": 3,
   "metadata": {},
   "outputs": [],
   "source": [
    "def convert_date( datesList : list[int] ) -> list[dt.datetime] :\n",
    "    # Given a list of date, with format : yyyymmdd\n",
    "    # Convert the list into date with type of datetime.datetime\n",
    "\n",
    "    tempDatesList = cp.deepcopy( datesList )\n",
    "\n",
    "    for i in range( len( tempDatesList ) ) : \n",
    "        currentDateStr = str( tempDatesList[i] )\n",
    "        year = int( currentDateStr[:4] )\n",
    "        month = int( currentDateStr[4:6] )\n",
    "        day = int( currentDateStr[6:8] )\n",
    "        tempDatesList[i] = dt.datetime( year, month, day )\n",
    "    return tempDatesList "
   ]
  },
  {
   "cell_type": "markdown",
   "metadata": {},
   "source": [
    "# Main dictionary"
   ]
  },
  {
   "cell_type": "code",
   "execution_count": 4,
   "metadata": {},
   "outputs": [],
   "source": [
    "transportCnt = dict()"
   ]
  },
  {
   "cell_type": "markdown",
   "metadata": {},
   "source": [
    "# Read data"
   ]
  },
  {
   "cell_type": "code",
   "execution_count": 5,
   "metadata": {},
   "outputs": [],
   "source": [
    "df_2005_to_2007 = pd.read_csv( '2005-20190422/2005-2017.csv')\n",
    "df_2018 = pd.read_csv( '2005-20190422/2018.csv')\n",
    "df_2019_1 = pd.read_csv( '2005-20190422/20190422.csv')\n",
    "df_2019_2 = pd.read_csv( '20190423-20211231/20190423-20191231.csv')\n",
    "df_2020 = pd.read_csv( '20190423-20211231/2020.csv')\n",
    "df_2021 = pd.read_csv( '20190423-20211231/2021.csv' )\n",
    "df_2022 = pd.read_csv( '2022.csv' ) "
   ]
  },
  {
   "cell_type": "code",
   "execution_count": 6,
   "metadata": {},
   "outputs": [],
   "source": [
    "date_2005_to_2017 = df_2005_to_2007['BOARD_DATE']\n",
    "comeIn_2005_to_2017 = df_2005_to_2007['進站']\n",
    "\n",
    "date_2018 = df_2018['BOARD_DATE']\n",
    "comeIn_2018 = df_2018['進站']\n",
    "\n",
    "date_2019_1 = df_2019_1['BOARD_DATE']\n",
    "comeIn_2019_1 = df_2019_1['進站']\n",
    "\n",
    "date_2019_2 = df_2019_2['trnOpDate']\n",
    "comeIn_2019_2 = df_2019_2['gateInComingCnt']\n",
    "\n",
    "date_2020 = df_2020['trnOpDate']\n",
    "comeIn_2020 = df_2020['gateInComingCnt']\n",
    "\n",
    "date_2021 = df_2021['trnOpDate']\n",
    "comeIn_2021 = df_2021['gateInComingCnt']\n",
    "\n",
    "date_2022 = df_2022['trnOpDate']\n",
    "comeIn_2022 = df_2022['gateInComingCnt']"
   ]
  },
  {
   "cell_type": "code",
   "execution_count": 7,
   "metadata": {},
   "outputs": [],
   "source": [
    "datesList = list( date_2005_to_2017 ) \n",
    "datesList += list( date_2018 ) \n",
    "datesList += list( date_2019_1 ) \n",
    "datesList += list( date_2019_2 ) \n",
    "datesList += list( date_2020 ) \n",
    "datesList += list( date_2021 ) \n",
    "datesList += list( date_2022 ) "
   ]
  },
  {
   "cell_type": "code",
   "execution_count": 8,
   "metadata": {},
   "outputs": [],
   "source": [
    "comeInsList = list( comeIn_2005_to_2017 )\n",
    "comeInsList += list( comeIn_2018 ) \n",
    "comeInsList += list( comeIn_2019_1 ) \n",
    "comeInsList += list( comeIn_2019_2 ) \n",
    "comeInsList += list( comeIn_2020 ) \n",
    "comeInsList += list( comeIn_2021 ) \n",
    "comeInsList += list( comeIn_2022 ) "
   ]
  },
  {
   "cell_type": "markdown",
   "metadata": {},
   "source": [
    "# Write into main dictionary "
   ]
  },
  {
   "cell_type": "code",
   "execution_count": 9,
   "metadata": {},
   "outputs": [],
   "source": [
    "datesList = convert_date( datesList ) "
   ]
  },
  {
   "cell_type": "code",
   "execution_count": 10,
   "metadata": {},
   "outputs": [],
   "source": [
    "add_transportCnt( datesList, comeInsList )"
   ]
  },
  {
   "cell_type": "code",
   "execution_count": 11,
   "metadata": {},
   "outputs": [
    {
     "data": {
      "text/plain": [
       "6330"
      ]
     },
     "execution_count": 11,
     "metadata": {},
     "output_type": "execute_result"
    }
   ],
   "source": [
    "len( transportCnt )"
   ]
  },
  {
   "cell_type": "code",
   "execution_count": 12,
   "metadata": {},
   "outputs": [
    {
     "data": {
      "text/plain": [
       "491635"
      ]
     },
     "execution_count": 12,
     "metadata": {},
     "output_type": "execute_result"
    }
   ],
   "source": [
    "transportCnt[dt.datetime( 2007, 12,30 )]"
   ]
  },
  {
   "cell_type": "code",
   "execution_count": 34,
   "metadata": {},
   "outputs": [],
   "source": [
    "datas = transportCnt.values()"
   ]
  },
  {
   "cell_type": "code",
   "execution_count": 35,
   "metadata": {},
   "outputs": [
    {
     "data": {
      "text/plain": [
       "dict_values"
      ]
     },
     "execution_count": 35,
     "metadata": {},
     "output_type": "execute_result"
    }
   ],
   "source": [
    "type( datas )"
   ]
  },
  {
   "cell_type": "code",
   "execution_count": 39,
   "metadata": {},
   "outputs": [],
   "source": [
    "data = []\n",
    "for i in datas : \n",
    "    data.append( float( i ) )"
   ]
  },
  {
   "cell_type": "code",
   "execution_count": 40,
   "metadata": {},
   "outputs": [],
   "source": [
    "data = np.array( data )"
   ]
  },
  {
   "cell_type": "code",
   "execution_count": 41,
   "metadata": {},
   "outputs": [],
   "source": [
    "data -= np.mean( data )"
   ]
  },
  {
   "cell_type": "code",
   "execution_count": 44,
   "metadata": {},
   "outputs": [],
   "source": [
    "import scipy.stats as stats "
   ]
  },
  {
   "cell_type": "code",
   "execution_count": 45,
   "metadata": {},
   "outputs": [
    {
     "name": "stderr",
     "output_type": "stream",
     "text": [
      "c:\\Users\\PuSung\\AppData\\Local\\Programs\\Python\\Python310\\lib\\site-packages\\scipy\\stats\\_morestats.py:1761: UserWarning: p-value may not be accurate for N > 5000.\n",
      "  warnings.warn(\"p-value may not be accurate for N > 5000.\")\n"
     ]
    },
    {
     "data": {
      "text/plain": [
       "ShapiroResult(statistic=0.9835575819015503, pvalue=1.728734285530218e-26)"
      ]
     },
     "execution_count": 45,
     "metadata": {},
     "output_type": "execute_result"
    }
   ],
   "source": [
    "stats.shapiro( data )"
   ]
  },
  {
   "cell_type": "code",
   "execution_count": 46,
   "metadata": {},
   "outputs": [],
   "source": [
    "import statsmodels.api as sm"
   ]
  },
  {
   "cell_type": "code",
   "execution_count": 47,
   "metadata": {},
   "outputs": [
    {
     "data": {
      "image/png": "[encoded data removed]",
      "text/plain": [
       "<Figure size 432x288 with 1 Axes>"
      ]
     },
     "metadata": {
      "needs_background": "light"
     },
     "output_type": "display_data"
    }
   ],
   "source": [
    "fig = sm.qqplot( data, stats.norm, fit=True, line = '45' ) "
   ]
  },
  {
   "cell_type": "code",
   "execution_count": null,
   "metadata": {},
   "outputs": [],
   "source": []
  }
 ],
 "metadata": {
  "interpreter": {
   "hash": "356998c43310144b96a2843b6a00592392af50ee3be89b7f2bab29543afc8c0d"
  },
  "kernelspec": {
   "display_name": "Python 3.10.2 64-bit",
   "language": "python",
   "name": "python3"
  },
  "language_info": {
   "codemirror_mode": {
    "name": "ipython",
    "version": 3
   },
   "file_extension": ".py",
   "mimetype": "text/x-python",
   "name": "python",
   "nbconvert_exporter": "python",
   "pygments_lexer": "ipython3",
   "version": "3.10.2"
  }
 },
 "nbformat": 4,
 "nbformat_minor": 4
}
