{
 "cells": [
  {
   "cell_type": "code",
   "execution_count": 1,
   "metadata": {},
   "outputs": [],
   "source": [
    "# Libraries \n",
    "import numpy as np \n",
    "import pandas as pd\n",
    "import matplotlib.pyplot as plt \n",
    "import datetime as dt\n",
    "import scipy.stats as stats\n",
    "import statsmodels.api as sm\n",
    "import statsmodels.stats.api as sms\n",
    "import statsmodels.formula.api as smf\n",
    "import statsmodels.stats.multicomp as smm\n",
    "import copy as cp\n",
    "import importlib\n",
    "\n",
    "import self_defined_functions as ft"
   ]
  },
  {
   "cell_type": "code",
   "execution_count": 3,
   "metadata": {},
   "outputs": [],
   "source": [
    "df = pd.read_excel( 'ANOVA_df.xlsx' ) "
   ]
  },
  {
   "cell_type": "code",
   "execution_count": 19,
   "metadata": {},
   "outputs": [],
   "source": [
    "df = df[df['is_typhoon'] == False]\n",
    "df = df[df['year'] < 2020]"
   ]
  },
  {
   "cell_type": "code",
   "execution_count": 20,
   "metadata": {},
   "outputs": [
    {
     "data": {
      "text/html": [
       "<div>\n",
       "<style scoped>\n",
       "    .dataframe tbody tr th:only-of-type {\n",
       "        vertical-align: middle;\n",
       "    }\n",
       "\n",
       "    .dataframe tbody tr th {\n",
       "        vertical-align: top;\n",
       "    }\n",
       "\n",
       "    .dataframe thead th {\n",
       "        text-align: right;\n",
       "    }\n",
       "</style>\n",
       "<table border=\"1\" class=\"dataframe\">\n",
       "  <thead>\n",
       "    <tr style=\"text-align: right;\">\n",
       "      <th></th>\n",
       "      <th>Unnamed: 0</th>\n",
       "      <th>date</th>\n",
       "      <th>year</th>\n",
       "      <th>month</th>\n",
       "      <th>day</th>\n",
       "      <th>weekday</th>\n",
       "      <th>trans_cnt</th>\n",
       "      <th>is_typhoon</th>\n",
       "      <th>is_working</th>\n",
       "      <th>day_type</th>\n",
       "      <th>is_foreign</th>\n",
       "      <th>holi_type</th>\n",
       "      <th>holi_len</th>\n",
       "      <th>phase</th>\n",
       "      <th>is_NYE</th>\n",
       "      <th>belong</th>\n",
       "    </tr>\n",
       "  </thead>\n",
       "  <tbody>\n",
       "    <tr>\n",
       "      <th>0</th>\n",
       "      <td>0</td>\n",
       "      <td>2005-01-01</td>\n",
       "      <td>2005</td>\n",
       "      <td>1</td>\n",
       "      <td>1</td>\n",
       "      <td>5</td>\n",
       "      <td>382902</td>\n",
       "      <td>False</td>\n",
       "      <td>False</td>\n",
       "      <td>National</td>\n",
       "      <td>False</td>\n",
       "      <td>元旦</td>\n",
       "      <td>2</td>\n",
       "      <td>mid</td>\n",
       "      <td>False</td>\n",
       "      <td>National</td>\n",
       "    </tr>\n",
       "    <tr>\n",
       "      <th>1</th>\n",
       "      <td>1</td>\n",
       "      <td>2005-01-02</td>\n",
       "      <td>2005</td>\n",
       "      <td>1</td>\n",
       "      <td>2</td>\n",
       "      <td>6</td>\n",
       "      <td>412908</td>\n",
       "      <td>False</td>\n",
       "      <td>False</td>\n",
       "      <td>National</td>\n",
       "      <td>False</td>\n",
       "      <td>元旦</td>\n",
       "      <td>2</td>\n",
       "      <td>end</td>\n",
       "      <td>False</td>\n",
       "      <td>National</td>\n",
       "    </tr>\n",
       "    <tr>\n",
       "      <th>2</th>\n",
       "      <td>2</td>\n",
       "      <td>2005-01-03</td>\n",
       "      <td>2005</td>\n",
       "      <td>1</td>\n",
       "      <td>3</td>\n",
       "      <td>0</td>\n",
       "      <td>298141</td>\n",
       "      <td>False</td>\n",
       "      <td>True</td>\n",
       "      <td>weekday</td>\n",
       "      <td>False</td>\n",
       "      <td>None</td>\n",
       "      <td>0</td>\n",
       "      <td>None</td>\n",
       "      <td>False</td>\n",
       "      <td>None</td>\n",
       "    </tr>\n",
       "    <tr>\n",
       "      <th>3</th>\n",
       "      <td>3</td>\n",
       "      <td>2005-01-04</td>\n",
       "      <td>2005</td>\n",
       "      <td>1</td>\n",
       "      <td>4</td>\n",
       "      <td>1</td>\n",
       "      <td>252051</td>\n",
       "      <td>False</td>\n",
       "      <td>True</td>\n",
       "      <td>weekday</td>\n",
       "      <td>False</td>\n",
       "      <td>None</td>\n",
       "      <td>0</td>\n",
       "      <td>None</td>\n",
       "      <td>False</td>\n",
       "      <td>None</td>\n",
       "    </tr>\n",
       "    <tr>\n",
       "      <th>4</th>\n",
       "      <td>4</td>\n",
       "      <td>2005-01-05</td>\n",
       "      <td>2005</td>\n",
       "      <td>1</td>\n",
       "      <td>5</td>\n",
       "      <td>2</td>\n",
       "      <td>263399</td>\n",
       "      <td>False</td>\n",
       "      <td>True</td>\n",
       "      <td>weekday</td>\n",
       "      <td>False</td>\n",
       "      <td>None</td>\n",
       "      <td>0</td>\n",
       "      <td>None</td>\n",
       "      <td>False</td>\n",
       "      <td>None</td>\n",
       "    </tr>\n",
       "  </tbody>\n",
       "</table>\n",
       "</div>"
      ],
      "text/plain": [
       "   Unnamed: 0       date  year  month  day  weekday  trans_cnt  is_typhoon  \\\n",
       "0           0 2005-01-01  2005      1    1        5     382902       False   \n",
       "1           1 2005-01-02  2005      1    2        6     412908       False   \n",
       "2           2 2005-01-03  2005      1    3        0     298141       False   \n",
       "3           3 2005-01-04  2005      1    4        1     252051       False   \n",
       "4           4 2005-01-05  2005      1    5        2     263399       False   \n",
       "\n",
       "   is_working  day_type  is_foreign holi_type  holi_len phase  is_NYE  \\\n",
       "0       False  National       False        元旦         2   mid   False   \n",
       "1       False  National       False        元旦         2   end   False   \n",
       "2        True   weekday       False      None         0  None   False   \n",
       "3        True   weekday       False      None         0  None   False   \n",
       "4        True   weekday       False      None         0  None   False   \n",
       "\n",
       "     belong  \n",
       "0  National  \n",
       "1  National  \n",
       "2      None  \n",
       "3      None  \n",
       "4      None  "
      ]
     },
     "execution_count": 20,
     "metadata": {},
     "output_type": "execute_result"
    }
   ],
   "source": [
    "df.head()"
   ]
  },
  {
   "cell_type": "markdown",
   "metadata": {},
   "source": [
    "# Part 1 "
   ]
  },
  {
   "cell_type": "code",
   "execution_count": 36,
   "metadata": {},
   "outputs": [],
   "source": [
    "df_1 = df[np.array( df['belong'] != 'None' ) & np.array( df['phase'] != 'None' )]"
   ]
  },
  {
   "cell_type": "code",
   "execution_count": 33,
   "metadata": {},
   "outputs": [
    {
     "data": {
      "text/html": [
       "<div>\n",
       "<style scoped>\n",
       "    .dataframe tbody tr th:only-of-type {\n",
       "        vertical-align: middle;\n",
       "    }\n",
       "\n",
       "    .dataframe tbody tr th {\n",
       "        vertical-align: top;\n",
       "    }\n",
       "\n",
       "    .dataframe thead th {\n",
       "        text-align: right;\n",
       "    }\n",
       "</style>\n",
       "<table border=\"1\" class=\"dataframe\">\n",
       "  <thead>\n",
       "    <tr style=\"text-align: right;\">\n",
       "      <th></th>\n",
       "      <th>Unnamed: 0</th>\n",
       "      <th>date</th>\n",
       "      <th>year</th>\n",
       "      <th>month</th>\n",
       "      <th>day</th>\n",
       "      <th>weekday</th>\n",
       "      <th>trans_cnt</th>\n",
       "      <th>is_typhoon</th>\n",
       "      <th>is_working</th>\n",
       "      <th>day_type</th>\n",
       "      <th>is_foreign</th>\n",
       "      <th>holi_type</th>\n",
       "      <th>holi_len</th>\n",
       "      <th>phase</th>\n",
       "      <th>is_NYE</th>\n",
       "      <th>belong</th>\n",
       "    </tr>\n",
       "  </thead>\n",
       "  <tbody>\n",
       "    <tr>\n",
       "      <th>0</th>\n",
       "      <td>0</td>\n",
       "      <td>2005-01-01</td>\n",
       "      <td>2005</td>\n",
       "      <td>1</td>\n",
       "      <td>1</td>\n",
       "      <td>5</td>\n",
       "      <td>382902</td>\n",
       "      <td>False</td>\n",
       "      <td>False</td>\n",
       "      <td>National</td>\n",
       "      <td>False</td>\n",
       "      <td>元旦</td>\n",
       "      <td>2</td>\n",
       "      <td>mid</td>\n",
       "      <td>False</td>\n",
       "      <td>National</td>\n",
       "    </tr>\n",
       "    <tr>\n",
       "      <th>1</th>\n",
       "      <td>1</td>\n",
       "      <td>2005-01-02</td>\n",
       "      <td>2005</td>\n",
       "      <td>1</td>\n",
       "      <td>2</td>\n",
       "      <td>6</td>\n",
       "      <td>412908</td>\n",
       "      <td>False</td>\n",
       "      <td>False</td>\n",
       "      <td>National</td>\n",
       "      <td>False</td>\n",
       "      <td>元旦</td>\n",
       "      <td>2</td>\n",
       "      <td>end</td>\n",
       "      <td>False</td>\n",
       "      <td>National</td>\n",
       "    </tr>\n",
       "    <tr>\n",
       "      <th>6</th>\n",
       "      <td>6</td>\n",
       "      <td>2005-01-07</td>\n",
       "      <td>2005</td>\n",
       "      <td>1</td>\n",
       "      <td>7</td>\n",
       "      <td>4</td>\n",
       "      <td>403391</td>\n",
       "      <td>False</td>\n",
       "      <td>True</td>\n",
       "      <td>weekday</td>\n",
       "      <td>False</td>\n",
       "      <td>None</td>\n",
       "      <td>0</td>\n",
       "      <td>start</td>\n",
       "      <td>False</td>\n",
       "      <td>weekend</td>\n",
       "    </tr>\n",
       "    <tr>\n",
       "      <th>7</th>\n",
       "      <td>7</td>\n",
       "      <td>2005-01-08</td>\n",
       "      <td>2005</td>\n",
       "      <td>1</td>\n",
       "      <td>8</td>\n",
       "      <td>5</td>\n",
       "      <td>408412</td>\n",
       "      <td>False</td>\n",
       "      <td>False</td>\n",
       "      <td>weekend</td>\n",
       "      <td>False</td>\n",
       "      <td>None</td>\n",
       "      <td>2</td>\n",
       "      <td>mid</td>\n",
       "      <td>False</td>\n",
       "      <td>weekend</td>\n",
       "    </tr>\n",
       "    <tr>\n",
       "      <th>8</th>\n",
       "      <td>8</td>\n",
       "      <td>2005-01-09</td>\n",
       "      <td>2005</td>\n",
       "      <td>1</td>\n",
       "      <td>9</td>\n",
       "      <td>6</td>\n",
       "      <td>452831</td>\n",
       "      <td>False</td>\n",
       "      <td>False</td>\n",
       "      <td>weekend</td>\n",
       "      <td>False</td>\n",
       "      <td>None</td>\n",
       "      <td>2</td>\n",
       "      <td>end</td>\n",
       "      <td>False</td>\n",
       "      <td>weekend</td>\n",
       "    </tr>\n",
       "  </tbody>\n",
       "</table>\n",
       "</div>"
      ],
      "text/plain": [
       "   Unnamed: 0       date  year  month  day  weekday  trans_cnt  is_typhoon  \\\n",
       "0           0 2005-01-01  2005      1    1        5     382902       False   \n",
       "1           1 2005-01-02  2005      1    2        6     412908       False   \n",
       "6           6 2005-01-07  2005      1    7        4     403391       False   \n",
       "7           7 2005-01-08  2005      1    8        5     408412       False   \n",
       "8           8 2005-01-09  2005      1    9        6     452831       False   \n",
       "\n",
       "   is_working  day_type  is_foreign holi_type  holi_len  phase  is_NYE  \\\n",
       "0       False  National       False        元旦         2    mid   False   \n",
       "1       False  National       False        元旦         2    end   False   \n",
       "6        True   weekday       False      None         0  start   False   \n",
       "7       False   weekend       False      None         2    mid   False   \n",
       "8       False   weekend       False      None         2    end   False   \n",
       "\n",
       "     belong  \n",
       "0  National  \n",
       "1  National  \n",
       "6   weekend  \n",
       "7   weekend  \n",
       "8   weekend  "
      ]
     },
     "execution_count": 33,
     "metadata": {},
     "output_type": "execute_result"
    }
   ],
   "source": [
    "df_1.head()"
   ]
  },
  {
   "cell_type": "code",
   "execution_count": 38,
   "metadata": {},
   "outputs": [
    {
     "data": {
      "text/html": [
       "<div>\n",
       "<style scoped>\n",
       "    .dataframe tbody tr th:only-of-type {\n",
       "        vertical-align: middle;\n",
       "    }\n",
       "\n",
       "    .dataframe tbody tr th {\n",
       "        vertical-align: top;\n",
       "    }\n",
       "\n",
       "    .dataframe thead th {\n",
       "        text-align: right;\n",
       "    }\n",
       "</style>\n",
       "<table border=\"1\" class=\"dataframe\">\n",
       "  <thead>\n",
       "    <tr style=\"text-align: right;\">\n",
       "      <th></th>\n",
       "      <th>sum_sq</th>\n",
       "      <th>df</th>\n",
       "      <th>F</th>\n",
       "      <th>PR(&gt;F)</th>\n",
       "    </tr>\n",
       "  </thead>\n",
       "  <tbody>\n",
       "    <tr>\n",
       "      <th>C(belong)</th>\n",
       "      <td>6.946789e+11</td>\n",
       "      <td>2.0</td>\n",
       "      <td>30.979726</td>\n",
       "      <td>5.226145e-14</td>\n",
       "    </tr>\n",
       "    <tr>\n",
       "      <th>C(phase)</th>\n",
       "      <td>6.235801e+11</td>\n",
       "      <td>2.0</td>\n",
       "      <td>27.809022</td>\n",
       "      <td>1.153292e-12</td>\n",
       "    </tr>\n",
       "    <tr>\n",
       "      <th>C(belong):C(phase)</th>\n",
       "      <td>2.245632e+11</td>\n",
       "      <td>4.0</td>\n",
       "      <td>5.007281</td>\n",
       "      <td>5.100588e-04</td>\n",
       "    </tr>\n",
       "    <tr>\n",
       "      <th>Residual</th>\n",
       "      <td>2.662810e+13</td>\n",
       "      <td>2375.0</td>\n",
       "      <td>NaN</td>\n",
       "      <td>NaN</td>\n",
       "    </tr>\n",
       "  </tbody>\n",
       "</table>\n",
       "</div>"
      ],
      "text/plain": [
       "                          sum_sq      df          F        PR(>F)\n",
       "C(belong)           6.946789e+11     2.0  30.979726  5.226145e-14\n",
       "C(phase)            6.235801e+11     2.0  27.809022  1.153292e-12\n",
       "C(belong):C(phase)  2.245632e+11     4.0   5.007281  5.100588e-04\n",
       "Residual            2.662810e+13  2375.0        NaN           NaN"
      ]
     },
     "execution_count": 38,
     "metadata": {},
     "output_type": "execute_result"
    }
   ],
   "source": [
    "results = smf.ols('trans_cnt ~ C(belong) + C(phase) + C(belong):C(phase)', data=df_1).fit()\n",
    "aov_14106_two = sms.anova_lm( results, typ=2 )\n",
    "\n",
    "aov_14106_two"
   ]
  },
  {
   "cell_type": "code",
   "execution_count": 39,
   "metadata": {},
   "outputs": [
    {
     "data": {
      "text/plain": [
       "ShapiroResult(statistic=0.9734323024749756, pvalue=1.221356085124127e-20)"
      ]
     },
     "execution_count": 39,
     "metadata": {},
     "output_type": "execute_result"
    }
   ],
   "source": [
    "stats.shapiro( results.resid )"
   ]
  },
  {
   "cell_type": "code",
   "execution_count": 40,
   "metadata": {},
   "outputs": [
    {
     "data": {
      "image/png": "[encoded data removed]",
      "text/plain": [
       "<Figure size 432x288 with 1 Axes>"
      ]
     },
     "metadata": {
      "needs_background": "light"
     },
     "output_type": "display_data"
    }
   ],
   "source": [
    "fig = sm.qqplot( results.resid, stats.norm, fit=True, line = '45' ) "
   ]
  },
  {
   "cell_type": "code",
   "execution_count": 41,
   "metadata": {},
   "outputs": [
    {
     "data": {
      "image/png": "[encoded data removed]",
      "text/plain": [
       "<Figure size 432x288 with 1 Axes>"
      ]
     },
     "metadata": {
      "needs_background": "light"
     },
     "output_type": "display_data"
    }
   ],
   "source": [
    "_ = plt.hist( results.resid, bins='auto' )"
   ]
  },
  {
   "cell_type": "code",
   "execution_count": 45,
   "metadata": {},
   "outputs": [
    {
     "data": {
      "text/plain": [
       "{'National', 'Traditional', 'weekend'}"
      ]
     },
     "execution_count": 45,
     "metadata": {},
     "output_type": "execute_result"
    }
   ],
   "source": [
    "set( df_1['belong'] )"
   ]
  },
  {
   "cell_type": "code",
   "execution_count": 64,
   "metadata": {},
   "outputs": [],
   "source": [
    "# Set \n",
    "date_type_set = ['National', 'Traditional', 'weekend']\n",
    "phase_set = ['start', 'mid', 'end']"
   ]
  },
  {
   "cell_type": "code",
   "execution_count": 65,
   "metadata": {},
   "outputs": [],
   "source": [
    "y = {}\n",
    "x = range( 3 )"
   ]
  },
  {
   "cell_type": "code",
   "execution_count": 66,
   "metadata": {},
   "outputs": [],
   "source": [
    "for dtype in date_type_set : \n",
    "    y[dtype] = []\n",
    "    for ptype in phase_set : \n",
    "        temp_df = df_1[np.array( df_1['phase'] == ptype ) & np.array( df_1['belong'] == dtype )]\n",
    "        y[dtype].append( temp_df['trans_cnt'].mean() )"
   ]
  },
  {
   "cell_type": "code",
   "execution_count": 67,
   "metadata": {},
   "outputs": [
    {
     "data": {
      "text/plain": [
       "(300000.0, 700000.0)"
      ]
     },
     "execution_count": 67,
     "metadata": {},
     "output_type": "execute_result"
    },
    {
     "data": {
      "image/png": "[encoded data removed]",
      "text/plain": [
       "<Figure size 432x288 with 1 Axes>"
      ]
     },
     "metadata": {
      "needs_background": "light"
     },
     "output_type": "display_data"
    }
   ],
   "source": [
    "plt.plot( x, y['National'], label = 'National' )\n",
    "plt.plot( x, y['Traditional'], label = 'Traditional' )\n",
    "plt.plot( x, y['weekend'], label = 'weekend' )\n",
    "plt.xticks( x, phase_set )\n",
    "plt.legend()\n",
    "plt.ylim( 300000, 700000 )"
   ]
  },
  {
   "cell_type": "code",
   "execution_count": 112,
   "metadata": {},
   "outputs": [],
   "source": [
    "trCnt = []\n",
    "for dtype in date_type_set : \n",
    "    trCnt.append( df_1[df_1['belong'] == dtype]['trans_cnt'] )"
   ]
  },
  {
   "cell_type": "code",
   "execution_count": 113,
   "metadata": {},
   "outputs": [
    {
     "data": {
      "text/plain": [
       "1.0547118733938987e-13"
      ]
     },
     "execution_count": 113,
     "metadata": {},
     "output_type": "execute_result"
    }
   ],
   "source": [
    "ft.kruskal( trCnt[0], trCnt[1], trCnt[2] )"
   ]
  },
  {
   "cell_type": "code",
   "execution_count": 118,
   "metadata": {},
   "outputs": [
    {
     "data": {
      "image/png": "[encoded data removed]",
      "text/plain": [
       "<Figure size 432x288 with 1 Axes>"
      ]
     },
     "metadata": {
      "needs_background": "light"
     },
     "output_type": "display_data"
    }
   ],
   "source": [
    "plt.boxplot( trCnt )\n",
    "plt.xticks( range( 1, 4 ), date_type_set )\n",
    "plt.show()"
   ]
  },
  {
   "cell_type": "code",
   "execution_count": null,
   "metadata": {},
   "outputs": [],
   "source": []
  }
 ],
 "metadata": {
  "interpreter": {
   "hash": "356998c43310144b96a2843b6a00592392af50ee3be89b7f2bab29543afc8c0d"
  },
  "kernelspec": {
   "display_name": "Python 3.10.2 64-bit",
   "language": "python",
   "name": "python3"
  },
  "language_info": {
   "codemirror_mode": {
    "name": "ipython",
    "version": 3
   },
   "file_extension": ".py",
   "mimetype": "text/x-python",
   "name": "python",
   "nbconvert_exporter": "python",
   "pygments_lexer": "ipython3",
   "version": "3.10.2"
  },
  "orig_nbformat": 4
 },
 "nbformat": 4,
 "nbformat_minor": 2
}
