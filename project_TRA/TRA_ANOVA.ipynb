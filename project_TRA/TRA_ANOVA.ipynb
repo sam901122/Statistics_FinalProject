{
 "cells": [
  {
   "cell_type": "code",
   "execution_count": 1,
   "metadata": {},
   "outputs": [],
   "source": [
    "# Libraries \n",
    "import numpy as np \n",
    "import pandas as pd\n",
    "import matplotlib.pyplot as plt \n",
    "import datetime as dt\n",
    "import scipy.stats as stats\n",
    "import statsmodels.api as sm\n",
    "import statsmodels.stats.api as sms\n",
    "import statsmodels.formula.api as smf\n",
    "import statsmodels.stats.multicomp as smm\n",
    "import copy as cp\n",
    "import importlib\n",
    "import statsmodels.stats.outliers_influence as sso\n",
    "\n",
    "import self_defined_functions as ft\n",
    "import seaborn as sns\n",
    "\n",
    "from matplotlib.ticker import FuncFormatter\n",
    "plt.rcParams['font.sans-serif'] = ['Taipei Sans TC Beta']"
   ]
  },
  {
   "cell_type": "code",
   "execution_count": 2,
   "metadata": {},
   "outputs": [
    {
     "data": {
      "text/plain": [
       "<module 'self_defined_functions' from 'c:\\\\PuSung\\\\University\\\\Sophomore\\\\110-2 Academic\\\\Satistics\\\\Statistics_FinalProject\\\\project_TRA\\\\self_defined_functions.py'>"
      ]
     },
     "execution_count": 2,
     "metadata": {},
     "output_type": "execute_result"
    }
   ],
   "source": [
    "importlib.reload( ft )"
   ]
  },
  {
   "cell_type": "code",
   "execution_count": 3,
   "metadata": {},
   "outputs": [],
   "source": [
    "ft.gen_ANOVA_xlsx()"
   ]
  },
  {
   "cell_type": "code",
   "execution_count": 4,
   "metadata": {},
   "outputs": [],
   "source": [
    "df = pd.read_excel( 'ANOVA_df.xlsx' )"
   ]
  },
  {
   "cell_type": "code",
   "execution_count": 5,
   "metadata": {},
   "outputs": [],
   "source": [
    "df = df[df['is_typhoon'] == False]\n",
    "df = df[df['year'] < 2020]"
   ]
  },
  {
   "cell_type": "code",
   "execution_count": 6,
   "metadata": {},
   "outputs": [
    {
     "data": {
      "text/html": [
       "<div>\n",
       "<style scoped>\n",
       "    .dataframe tbody tr th:only-of-type {\n",
       "        vertical-align: middle;\n",
       "    }\n",
       "\n",
       "    .dataframe tbody tr th {\n",
       "        vertical-align: top;\n",
       "    }\n",
       "\n",
       "    .dataframe thead th {\n",
       "        text-align: right;\n",
       "    }\n",
       "</style>\n",
       "<table border=\"1\" class=\"dataframe\">\n",
       "  <thead>\n",
       "    <tr style=\"text-align: right;\">\n",
       "      <th></th>\n",
       "      <th>Unnamed: 0</th>\n",
       "      <th>date</th>\n",
       "      <th>year</th>\n",
       "      <th>month</th>\n",
       "      <th>day</th>\n",
       "      <th>weekday</th>\n",
       "      <th>trans_cnt</th>\n",
       "      <th>metro_cnt</th>\n",
       "      <th>is_typhoon</th>\n",
       "      <th>is_working</th>\n",
       "      <th>day_type</th>\n",
       "      <th>is_foreign</th>\n",
       "      <th>holi_type</th>\n",
       "      <th>holi_len</th>\n",
       "      <th>phase</th>\n",
       "      <th>is_NYE</th>\n",
       "      <th>belong</th>\n",
       "    </tr>\n",
       "  </thead>\n",
       "  <tbody>\n",
       "    <tr>\n",
       "      <th>0</th>\n",
       "      <td>0</td>\n",
       "      <td>2005-01-01</td>\n",
       "      <td>2005</td>\n",
       "      <td>1</td>\n",
       "      <td>1</td>\n",
       "      <td>5</td>\n",
       "      <td>382902</td>\n",
       "      <td>0</td>\n",
       "      <td>False</td>\n",
       "      <td>False</td>\n",
       "      <td>National</td>\n",
       "      <td>False</td>\n",
       "      <td>元旦</td>\n",
       "      <td>2</td>\n",
       "      <td>mid</td>\n",
       "      <td>False</td>\n",
       "      <td>National</td>\n",
       "    </tr>\n",
       "    <tr>\n",
       "      <th>1</th>\n",
       "      <td>1</td>\n",
       "      <td>2005-01-02</td>\n",
       "      <td>2005</td>\n",
       "      <td>1</td>\n",
       "      <td>2</td>\n",
       "      <td>6</td>\n",
       "      <td>412908</td>\n",
       "      <td>0</td>\n",
       "      <td>False</td>\n",
       "      <td>False</td>\n",
       "      <td>National</td>\n",
       "      <td>False</td>\n",
       "      <td>元旦</td>\n",
       "      <td>2</td>\n",
       "      <td>end</td>\n",
       "      <td>False</td>\n",
       "      <td>National</td>\n",
       "    </tr>\n",
       "    <tr>\n",
       "      <th>2</th>\n",
       "      <td>2</td>\n",
       "      <td>2005-01-03</td>\n",
       "      <td>2005</td>\n",
       "      <td>1</td>\n",
       "      <td>3</td>\n",
       "      <td>0</td>\n",
       "      <td>298141</td>\n",
       "      <td>0</td>\n",
       "      <td>False</td>\n",
       "      <td>True</td>\n",
       "      <td>weekday</td>\n",
       "      <td>False</td>\n",
       "      <td>None</td>\n",
       "      <td>0</td>\n",
       "      <td>None</td>\n",
       "      <td>False</td>\n",
       "      <td>None</td>\n",
       "    </tr>\n",
       "    <tr>\n",
       "      <th>3</th>\n",
       "      <td>3</td>\n",
       "      <td>2005-01-04</td>\n",
       "      <td>2005</td>\n",
       "      <td>1</td>\n",
       "      <td>4</td>\n",
       "      <td>1</td>\n",
       "      <td>252051</td>\n",
       "      <td>0</td>\n",
       "      <td>False</td>\n",
       "      <td>True</td>\n",
       "      <td>weekday</td>\n",
       "      <td>False</td>\n",
       "      <td>None</td>\n",
       "      <td>0</td>\n",
       "      <td>None</td>\n",
       "      <td>False</td>\n",
       "      <td>None</td>\n",
       "    </tr>\n",
       "    <tr>\n",
       "      <th>4</th>\n",
       "      <td>4</td>\n",
       "      <td>2005-01-05</td>\n",
       "      <td>2005</td>\n",
       "      <td>1</td>\n",
       "      <td>5</td>\n",
       "      <td>2</td>\n",
       "      <td>263399</td>\n",
       "      <td>0</td>\n",
       "      <td>False</td>\n",
       "      <td>True</td>\n",
       "      <td>weekday</td>\n",
       "      <td>False</td>\n",
       "      <td>None</td>\n",
       "      <td>0</td>\n",
       "      <td>None</td>\n",
       "      <td>False</td>\n",
       "      <td>None</td>\n",
       "    </tr>\n",
       "  </tbody>\n",
       "</table>\n",
       "</div>"
      ],
      "text/plain": [
       "   Unnamed: 0       date  year  month  day  weekday  trans_cnt  metro_cnt  \\\n",
       "0           0 2005-01-01  2005      1    1        5     382902          0   \n",
       "1           1 2005-01-02  2005      1    2        6     412908          0   \n",
       "2           2 2005-01-03  2005      1    3        0     298141          0   \n",
       "3           3 2005-01-04  2005      1    4        1     252051          0   \n",
       "4           4 2005-01-05  2005      1    5        2     263399          0   \n",
       "\n",
       "   is_typhoon  is_working  day_type  is_foreign holi_type  holi_len phase  \\\n",
       "0       False       False  National       False        元旦         2   mid   \n",
       "1       False       False  National       False        元旦         2   end   \n",
       "2       False        True   weekday       False      None         0  None   \n",
       "3       False        True   weekday       False      None         0  None   \n",
       "4       False        True   weekday       False      None         0  None   \n",
       "\n",
       "   is_NYE    belong  \n",
       "0   False  National  \n",
       "1   False  National  \n",
       "2   False      None  \n",
       "3   False      None  \n",
       "4   False      None  "
      ]
     },
     "execution_count": 6,
     "metadata": {},
     "output_type": "execute_result"
    }
   ],
   "source": [
    "df.head()"
   ]
  },
  {
   "cell_type": "markdown",
   "metadata": {},
   "source": [
    "# Part 1 "
   ]
  },
  {
   "cell_type": "code",
   "execution_count": 7,
   "metadata": {},
   "outputs": [],
   "source": [
    "df_1 = df[df['belong'] != 'None']\n",
    "df_1 = df_1[df_1['is_foreign'] == False]\n",
    "df_1 = df_1[df_1['phase'] != 'None']"
   ]
  },
  {
   "cell_type": "code",
   "execution_count": 8,
   "metadata": {},
   "outputs": [
    {
     "data": {
      "text/html": [
       "<div>\n",
       "<style scoped>\n",
       "    .dataframe tbody tr th:only-of-type {\n",
       "        vertical-align: middle;\n",
       "    }\n",
       "\n",
       "    .dataframe tbody tr th {\n",
       "        vertical-align: top;\n",
       "    }\n",
       "\n",
       "    .dataframe thead th {\n",
       "        text-align: right;\n",
       "    }\n",
       "</style>\n",
       "<table border=\"1\" class=\"dataframe\">\n",
       "  <thead>\n",
       "    <tr style=\"text-align: right;\">\n",
       "      <th></th>\n",
       "      <th>Unnamed: 0</th>\n",
       "      <th>date</th>\n",
       "      <th>year</th>\n",
       "      <th>month</th>\n",
       "      <th>day</th>\n",
       "      <th>weekday</th>\n",
       "      <th>trans_cnt</th>\n",
       "      <th>metro_cnt</th>\n",
       "      <th>is_typhoon</th>\n",
       "      <th>is_working</th>\n",
       "      <th>day_type</th>\n",
       "      <th>is_foreign</th>\n",
       "      <th>holi_type</th>\n",
       "      <th>holi_len</th>\n",
       "      <th>phase</th>\n",
       "      <th>is_NYE</th>\n",
       "      <th>belong</th>\n",
       "    </tr>\n",
       "  </thead>\n",
       "  <tbody>\n",
       "    <tr>\n",
       "      <th>0</th>\n",
       "      <td>0</td>\n",
       "      <td>2005-01-01</td>\n",
       "      <td>2005</td>\n",
       "      <td>1</td>\n",
       "      <td>1</td>\n",
       "      <td>5</td>\n",
       "      <td>382902</td>\n",
       "      <td>0</td>\n",
       "      <td>False</td>\n",
       "      <td>False</td>\n",
       "      <td>National</td>\n",
       "      <td>False</td>\n",
       "      <td>元旦</td>\n",
       "      <td>2</td>\n",
       "      <td>mid</td>\n",
       "      <td>False</td>\n",
       "      <td>National</td>\n",
       "    </tr>\n",
       "    <tr>\n",
       "      <th>1</th>\n",
       "      <td>1</td>\n",
       "      <td>2005-01-02</td>\n",
       "      <td>2005</td>\n",
       "      <td>1</td>\n",
       "      <td>2</td>\n",
       "      <td>6</td>\n",
       "      <td>412908</td>\n",
       "      <td>0</td>\n",
       "      <td>False</td>\n",
       "      <td>False</td>\n",
       "      <td>National</td>\n",
       "      <td>False</td>\n",
       "      <td>元旦</td>\n",
       "      <td>2</td>\n",
       "      <td>end</td>\n",
       "      <td>False</td>\n",
       "      <td>National</td>\n",
       "    </tr>\n",
       "    <tr>\n",
       "      <th>6</th>\n",
       "      <td>6</td>\n",
       "      <td>2005-01-07</td>\n",
       "      <td>2005</td>\n",
       "      <td>1</td>\n",
       "      <td>7</td>\n",
       "      <td>4</td>\n",
       "      <td>403391</td>\n",
       "      <td>0</td>\n",
       "      <td>False</td>\n",
       "      <td>True</td>\n",
       "      <td>weekday</td>\n",
       "      <td>False</td>\n",
       "      <td>None</td>\n",
       "      <td>0</td>\n",
       "      <td>start</td>\n",
       "      <td>False</td>\n",
       "      <td>weekend</td>\n",
       "    </tr>\n",
       "    <tr>\n",
       "      <th>7</th>\n",
       "      <td>7</td>\n",
       "      <td>2005-01-08</td>\n",
       "      <td>2005</td>\n",
       "      <td>1</td>\n",
       "      <td>8</td>\n",
       "      <td>5</td>\n",
       "      <td>408412</td>\n",
       "      <td>0</td>\n",
       "      <td>False</td>\n",
       "      <td>False</td>\n",
       "      <td>weekend</td>\n",
       "      <td>False</td>\n",
       "      <td>None</td>\n",
       "      <td>2</td>\n",
       "      <td>mid</td>\n",
       "      <td>False</td>\n",
       "      <td>weekend</td>\n",
       "    </tr>\n",
       "    <tr>\n",
       "      <th>8</th>\n",
       "      <td>8</td>\n",
       "      <td>2005-01-09</td>\n",
       "      <td>2005</td>\n",
       "      <td>1</td>\n",
       "      <td>9</td>\n",
       "      <td>6</td>\n",
       "      <td>452831</td>\n",
       "      <td>0</td>\n",
       "      <td>False</td>\n",
       "      <td>False</td>\n",
       "      <td>weekend</td>\n",
       "      <td>False</td>\n",
       "      <td>None</td>\n",
       "      <td>2</td>\n",
       "      <td>end</td>\n",
       "      <td>False</td>\n",
       "      <td>weekend</td>\n",
       "    </tr>\n",
       "  </tbody>\n",
       "</table>\n",
       "</div>"
      ],
      "text/plain": [
       "   Unnamed: 0       date  year  month  day  weekday  trans_cnt  metro_cnt  \\\n",
       "0           0 2005-01-01  2005      1    1        5     382902          0   \n",
       "1           1 2005-01-02  2005      1    2        6     412908          0   \n",
       "6           6 2005-01-07  2005      1    7        4     403391          0   \n",
       "7           7 2005-01-08  2005      1    8        5     408412          0   \n",
       "8           8 2005-01-09  2005      1    9        6     452831          0   \n",
       "\n",
       "   is_typhoon  is_working  day_type  is_foreign holi_type  holi_len  phase  \\\n",
       "0       False       False  National       False        元旦         2    mid   \n",
       "1       False       False  National       False        元旦         2    end   \n",
       "6       False        True   weekday       False      None         0  start   \n",
       "7       False       False   weekend       False      None         2    mid   \n",
       "8       False       False   weekend       False      None         2    end   \n",
       "\n",
       "   is_NYE    belong  \n",
       "0   False  National  \n",
       "1   False  National  \n",
       "6   False   weekend  \n",
       "7   False   weekend  \n",
       "8   False   weekend  "
      ]
     },
     "execution_count": 8,
     "metadata": {},
     "output_type": "execute_result"
    }
   ],
   "source": [
    "df_1.head()"
   ]
  },
  {
   "cell_type": "code",
   "execution_count": 9,
   "metadata": {},
   "outputs": [
    {
     "data": {
      "text/html": [
       "<div>\n",
       "<style scoped>\n",
       "    .dataframe tbody tr th:only-of-type {\n",
       "        vertical-align: middle;\n",
       "    }\n",
       "\n",
       "    .dataframe tbody tr th {\n",
       "        vertical-align: top;\n",
       "    }\n",
       "\n",
       "    .dataframe thead th {\n",
       "        text-align: right;\n",
       "    }\n",
       "</style>\n",
       "<table border=\"1\" class=\"dataframe\">\n",
       "  <thead>\n",
       "    <tr style=\"text-align: right;\">\n",
       "      <th></th>\n",
       "      <th>sum_sq</th>\n",
       "      <th>df</th>\n",
       "      <th>F</th>\n",
       "      <th>PR(&gt;F)</th>\n",
       "    </tr>\n",
       "  </thead>\n",
       "  <tbody>\n",
       "    <tr>\n",
       "      <th>C(belong)</th>\n",
       "      <td>6.965187e+11</td>\n",
       "      <td>2.0</td>\n",
       "      <td>31.017601</td>\n",
       "      <td>5.051835e-14</td>\n",
       "    </tr>\n",
       "    <tr>\n",
       "      <th>C(phase)</th>\n",
       "      <td>6.119175e+11</td>\n",
       "      <td>2.0</td>\n",
       "      <td>27.250110</td>\n",
       "      <td>1.996081e-12</td>\n",
       "    </tr>\n",
       "    <tr>\n",
       "      <th>C(belong):C(phase)</th>\n",
       "      <td>2.228479e+11</td>\n",
       "      <td>4.0</td>\n",
       "      <td>4.961968</td>\n",
       "      <td>5.536139e-04</td>\n",
       "    </tr>\n",
       "    <tr>\n",
       "      <th>Residual</th>\n",
       "      <td>2.646392e+13</td>\n",
       "      <td>2357.0</td>\n",
       "      <td>NaN</td>\n",
       "      <td>NaN</td>\n",
       "    </tr>\n",
       "  </tbody>\n",
       "</table>\n",
       "</div>"
      ],
      "text/plain": [
       "                          sum_sq      df          F        PR(>F)\n",
       "C(belong)           6.965187e+11     2.0  31.017601  5.051835e-14\n",
       "C(phase)            6.119175e+11     2.0  27.250110  1.996081e-12\n",
       "C(belong):C(phase)  2.228479e+11     4.0   4.961968  5.536139e-04\n",
       "Residual            2.646392e+13  2357.0        NaN           NaN"
      ]
     },
     "execution_count": 9,
     "metadata": {},
     "output_type": "execute_result"
    }
   ],
   "source": [
    "results0 = smf.ols('trans_cnt ~ C(belong) + C(phase) + C(belong):C(phase)', data=df_1).fit()\n",
    "aov_14106_two = sms.anova_lm( results0, typ=2 )\n",
    "\n",
    "aov_14106_two"
   ]
  },
  {
   "cell_type": "code",
   "execution_count": 10,
   "metadata": {},
   "outputs": [
    {
     "data": {
      "text/plain": [
       "ShapiroResult(statistic=0.9731783270835876, pvalue=1.1736901254431855e-20)"
      ]
     },
     "execution_count": 10,
     "metadata": {},
     "output_type": "execute_result"
    }
   ],
   "source": [
    "stats.shapiro( results0.resid )"
   ]
  },
  {
   "cell_type": "code",
   "execution_count": 11,
   "metadata": {},
   "outputs": [
    {
     "data": {
      "image/png": "[encoded data removed]",
      "text/plain": [
       "<Figure size 432x288 with 1 Axes>"
      ]
     },
     "metadata": {
      "needs_background": "light"
     },
     "output_type": "display_data"
    }
   ],
   "source": [
    "fig = sm.qqplot( results0.resid, stats.norm, fit=True, line = '45' ) \n",
    "plt.title( 'PART2 TRA' )\n",
    "plt.savefig( 'images/TRA_PART2_ANOVA_qqplot.jpg' )"
   ]
  },
  {
   "cell_type": "code",
   "execution_count": 12,
   "metadata": {},
   "outputs": [
    {
     "data": {
      "image/png": "[encoded data removed]",
      "text/plain": [
       "<Figure size 432x288 with 1 Axes>"
      ]
     },
     "metadata": {
      "needs_background": "light"
     },
     "output_type": "display_data"
    }
   ],
   "source": [
    "_ = plt.hist( results0.resid, bins='auto' )\n",
    "plt.title( 'PART2 TRA' )\n",
    "plt.savefig( 'images/TRA_PART2_ANOVA_hist.jpg' )"
   ]
  },
  {
   "cell_type": "code",
   "execution_count": 13,
   "metadata": {},
   "outputs": [
    {
     "data": {
      "text/plain": [
       "{'National', 'Traditional', 'weekend'}"
      ]
     },
     "execution_count": 13,
     "metadata": {},
     "output_type": "execute_result"
    }
   ],
   "source": [
    "set( df_1['belong'] )"
   ]
  },
  {
   "cell_type": "code",
   "execution_count": 14,
   "metadata": {},
   "outputs": [],
   "source": [
    "# Set \n",
    "date_type_set = ['National', 'Traditional', 'weekend']\n",
    "phase_set = ['start', 'mid', 'end']"
   ]
  },
  {
   "cell_type": "code",
   "execution_count": 15,
   "metadata": {},
   "outputs": [],
   "source": [
    "y = {}\n",
    "x = range( 3 )"
   ]
  },
  {
   "cell_type": "code",
   "execution_count": 16,
   "metadata": {},
   "outputs": [],
   "source": [
    "for dtype in date_type_set : \n",
    "    y[dtype] = []\n",
    "    for ptype in phase_set : \n",
    "        temp_df = df_1[np.array( df_1['phase'] == ptype ) & np.array( df_1['belong'] == dtype )]\n",
    "        y[dtype].append( temp_df['trans_cnt'].mean() )"
   ]
  },
  {
   "cell_type": "code",
   "execution_count": 17,
   "metadata": {},
   "outputs": [
    {
     "data": {
      "image/png": "[encoded data removed]",
      "text/plain": [
       "<Figure size 504x288 with 1 Axes>"
      ]
     },
     "metadata": {
      "needs_background": "light"
     },
     "output_type": "display_data"
    }
   ],
   "source": [
    "fig, ax = plt.subplots( figsize = ( 7, 4 ) )\n",
    "plt.plot( x, y['National'], label = '國定假日' )\n",
    "plt.plot( x, y['Traditional'], label = '三大節日' )\n",
    "plt.plot( x, y['weekend'], label = '一般週末' )\n",
    "plt.ylim( 300000, 750000 )\n",
    "plt.xticks( x, ['前一日與第一日', '假期中', '最後一日'] )\n",
    "plt.title( '台鐵假期前後運量差別比較', fontsize = 20 )\n",
    "plt.ylabel( '人次', fontsize = 15 )\n",
    "plt.legend()\n",
    "plt.savefig( 'images/TRA_PART2_compare.jpg' )"
   ]
  },
  {
   "cell_type": "code",
   "execution_count": 18,
   "metadata": {},
   "outputs": [],
   "source": [
    "trCnt = []\n",
    "for dtype in date_type_set : \n",
    "    trCnt.append( df_1[df_1['belong'] == dtype]['trans_cnt'] )"
   ]
  },
  {
   "cell_type": "code",
   "execution_count": 19,
   "metadata": {},
   "outputs": [
    {
     "data": {
      "text/plain": [
       "9.592326932761353e-14"
      ]
     },
     "execution_count": 19,
     "metadata": {},
     "output_type": "execute_result"
    }
   ],
   "source": [
    "ft.kruskal( trCnt[0], trCnt[1], trCnt[2] )"
   ]
  },
  {
   "cell_type": "code",
   "execution_count": 20,
   "metadata": {},
   "outputs": [
    {
     "data": {
      "image/png": "[encoded data removed]",
      "text/plain": [
       "<Figure size 432x288 with 1 Axes>"
      ]
     },
     "metadata": {
      "needs_background": "light"
     },
     "output_type": "display_data"
    }
   ],
   "source": [
    "plt.boxplot( trCnt )\n",
    "plt.xticks( range( 1, 4 ), date_type_set )\n",
    "plt.show()"
   ]
  },
  {
   "cell_type": "markdown",
   "metadata": {},
   "source": [
    "# Part 2 "
   ]
  },
  {
   "cell_type": "code",
   "execution_count": 21,
   "metadata": {},
   "outputs": [
    {
     "data": {
      "text/html": [
       "<div>\n",
       "<style scoped>\n",
       "    .dataframe tbody tr th:only-of-type {\n",
       "        vertical-align: middle;\n",
       "    }\n",
       "\n",
       "    .dataframe tbody tr th {\n",
       "        vertical-align: top;\n",
       "    }\n",
       "\n",
       "    .dataframe thead th {\n",
       "        text-align: right;\n",
       "    }\n",
       "</style>\n",
       "<table border=\"1\" class=\"dataframe\">\n",
       "  <thead>\n",
       "    <tr style=\"text-align: right;\">\n",
       "      <th></th>\n",
       "      <th>Unnamed: 0</th>\n",
       "      <th>date</th>\n",
       "      <th>year</th>\n",
       "      <th>month</th>\n",
       "      <th>day</th>\n",
       "      <th>weekday</th>\n",
       "      <th>trans_cnt</th>\n",
       "      <th>metro_cnt</th>\n",
       "      <th>is_typhoon</th>\n",
       "      <th>is_working</th>\n",
       "      <th>day_type</th>\n",
       "      <th>is_foreign</th>\n",
       "      <th>holi_type</th>\n",
       "      <th>holi_len</th>\n",
       "      <th>phase</th>\n",
       "      <th>is_NYE</th>\n",
       "      <th>belong</th>\n",
       "    </tr>\n",
       "  </thead>\n",
       "  <tbody>\n",
       "    <tr>\n",
       "      <th>0</th>\n",
       "      <td>0</td>\n",
       "      <td>2005-01-01</td>\n",
       "      <td>2005</td>\n",
       "      <td>1</td>\n",
       "      <td>1</td>\n",
       "      <td>5</td>\n",
       "      <td>382902</td>\n",
       "      <td>0</td>\n",
       "      <td>False</td>\n",
       "      <td>False</td>\n",
       "      <td>National</td>\n",
       "      <td>False</td>\n",
       "      <td>元旦</td>\n",
       "      <td>2</td>\n",
       "      <td>mid</td>\n",
       "      <td>False</td>\n",
       "      <td>National</td>\n",
       "    </tr>\n",
       "    <tr>\n",
       "      <th>1</th>\n",
       "      <td>1</td>\n",
       "      <td>2005-01-02</td>\n",
       "      <td>2005</td>\n",
       "      <td>1</td>\n",
       "      <td>2</td>\n",
       "      <td>6</td>\n",
       "      <td>412908</td>\n",
       "      <td>0</td>\n",
       "      <td>False</td>\n",
       "      <td>False</td>\n",
       "      <td>National</td>\n",
       "      <td>False</td>\n",
       "      <td>元旦</td>\n",
       "      <td>2</td>\n",
       "      <td>end</td>\n",
       "      <td>False</td>\n",
       "      <td>National</td>\n",
       "    </tr>\n",
       "    <tr>\n",
       "      <th>2</th>\n",
       "      <td>2</td>\n",
       "      <td>2005-01-03</td>\n",
       "      <td>2005</td>\n",
       "      <td>1</td>\n",
       "      <td>3</td>\n",
       "      <td>0</td>\n",
       "      <td>298141</td>\n",
       "      <td>0</td>\n",
       "      <td>False</td>\n",
       "      <td>True</td>\n",
       "      <td>weekday</td>\n",
       "      <td>False</td>\n",
       "      <td>None</td>\n",
       "      <td>0</td>\n",
       "      <td>None</td>\n",
       "      <td>False</td>\n",
       "      <td>None</td>\n",
       "    </tr>\n",
       "    <tr>\n",
       "      <th>3</th>\n",
       "      <td>3</td>\n",
       "      <td>2005-01-04</td>\n",
       "      <td>2005</td>\n",
       "      <td>1</td>\n",
       "      <td>4</td>\n",
       "      <td>1</td>\n",
       "      <td>252051</td>\n",
       "      <td>0</td>\n",
       "      <td>False</td>\n",
       "      <td>True</td>\n",
       "      <td>weekday</td>\n",
       "      <td>False</td>\n",
       "      <td>None</td>\n",
       "      <td>0</td>\n",
       "      <td>None</td>\n",
       "      <td>False</td>\n",
       "      <td>None</td>\n",
       "    </tr>\n",
       "    <tr>\n",
       "      <th>4</th>\n",
       "      <td>4</td>\n",
       "      <td>2005-01-05</td>\n",
       "      <td>2005</td>\n",
       "      <td>1</td>\n",
       "      <td>5</td>\n",
       "      <td>2</td>\n",
       "      <td>263399</td>\n",
       "      <td>0</td>\n",
       "      <td>False</td>\n",
       "      <td>True</td>\n",
       "      <td>weekday</td>\n",
       "      <td>False</td>\n",
       "      <td>None</td>\n",
       "      <td>0</td>\n",
       "      <td>None</td>\n",
       "      <td>False</td>\n",
       "      <td>None</td>\n",
       "    </tr>\n",
       "  </tbody>\n",
       "</table>\n",
       "</div>"
      ],
      "text/plain": [
       "   Unnamed: 0       date  year  month  day  weekday  trans_cnt  metro_cnt  \\\n",
       "0           0 2005-01-01  2005      1    1        5     382902          0   \n",
       "1           1 2005-01-02  2005      1    2        6     412908          0   \n",
       "2           2 2005-01-03  2005      1    3        0     298141          0   \n",
       "3           3 2005-01-04  2005      1    4        1     252051          0   \n",
       "4           4 2005-01-05  2005      1    5        2     263399          0   \n",
       "\n",
       "   is_typhoon  is_working  day_type  is_foreign holi_type  holi_len phase  \\\n",
       "0       False       False  National       False        元旦         2   mid   \n",
       "1       False       False  National       False        元旦         2   end   \n",
       "2       False        True   weekday       False      None         0  None   \n",
       "3       False        True   weekday       False      None         0  None   \n",
       "4       False        True   weekday       False      None         0  None   \n",
       "\n",
       "   is_NYE    belong  \n",
       "0   False  National  \n",
       "1   False  National  \n",
       "2   False      None  \n",
       "3   False      None  \n",
       "4   False      None  "
      ]
     },
     "execution_count": 21,
     "metadata": {},
     "output_type": "execute_result"
    }
   ],
   "source": [
    "df.head()"
   ]
  },
  {
   "cell_type": "code",
   "execution_count": 22,
   "metadata": {},
   "outputs": [],
   "source": [
    "df_2  = df[np.array( df['belong'] == 'None' ) | np.array( df['belong'] == 'weekend' ) ]"
   ]
  },
  {
   "cell_type": "code",
   "execution_count": 23,
   "metadata": {},
   "outputs": [
    {
     "name": "stderr",
     "output_type": "stream",
     "text": [
      "c:\\Users\\PuSung\\AppData\\Local\\Programs\\Python\\Python310\\lib\\site-packages\\statsmodels\\base\\model.py:1871: ValueWarning: covariance of constraints does not have full rank. The number of constraints is 1, but rank is 0\n",
      "  warnings.warn('covariance of constraints does not have full '\n",
      "c:\\Users\\PuSung\\AppData\\Local\\Programs\\Python\\Python310\\lib\\site-packages\\statsmodels\\base\\model.py:1900: RuntimeWarning: invalid value encountered in true_divide\n",
      "  F /= J\n",
      "c:\\Users\\PuSung\\AppData\\Local\\Programs\\Python\\Python310\\lib\\site-packages\\statsmodels\\base\\model.py:1871: ValueWarning: covariance of constraints does not have full rank. The number of constraints is 1, but rank is 0\n",
      "  warnings.warn('covariance of constraints does not have full '\n",
      "c:\\Users\\PuSung\\AppData\\Local\\Programs\\Python\\Python310\\lib\\site-packages\\statsmodels\\base\\model.py:1871: ValueWarning: covariance of constraints does not have full rank. The number of constraints is 1, but rank is 0\n",
      "  warnings.warn('covariance of constraints does not have full '\n"
     ]
    },
    {
     "data": {
      "text/html": [
       "<div>\n",
       "<style scoped>\n",
       "    .dataframe tbody tr th:only-of-type {\n",
       "        vertical-align: middle;\n",
       "    }\n",
       "\n",
       "    .dataframe tbody tr th {\n",
       "        vertical-align: top;\n",
       "    }\n",
       "\n",
       "    .dataframe thead th {\n",
       "        text-align: right;\n",
       "    }\n",
       "</style>\n",
       "<table border=\"1\" class=\"dataframe\">\n",
       "  <thead>\n",
       "    <tr style=\"text-align: right;\">\n",
       "      <th></th>\n",
       "      <th>sum_sq</th>\n",
       "      <th>df</th>\n",
       "      <th>F</th>\n",
       "      <th>PR(&gt;F)</th>\n",
       "    </tr>\n",
       "  </thead>\n",
       "  <tbody>\n",
       "    <tr>\n",
       "      <th>C(is_foreign)</th>\n",
       "      <td>NaN</td>\n",
       "      <td>1.0</td>\n",
       "      <td>NaN</td>\n",
       "      <td>NaN</td>\n",
       "    </tr>\n",
       "    <tr>\n",
       "      <th>C(is_working)</th>\n",
       "      <td>NaN</td>\n",
       "      <td>1.0</td>\n",
       "      <td>NaN</td>\n",
       "      <td>NaN</td>\n",
       "    </tr>\n",
       "    <tr>\n",
       "      <th>C(is_foreign):C(is_working)</th>\n",
       "      <td>NaN</td>\n",
       "      <td>1.0</td>\n",
       "      <td>NaN</td>\n",
       "      <td>NaN</td>\n",
       "    </tr>\n",
       "    <tr>\n",
       "      <th>Residual</th>\n",
       "      <td>2.786186e+13</td>\n",
       "      <td>2364.0</td>\n",
       "      <td>NaN</td>\n",
       "      <td>NaN</td>\n",
       "    </tr>\n",
       "  </tbody>\n",
       "</table>\n",
       "</div>"
      ],
      "text/plain": [
       "                                   sum_sq      df   F  PR(>F)\n",
       "C(is_foreign)                         NaN     1.0 NaN     NaN\n",
       "C(is_working)                         NaN     1.0 NaN     NaN\n",
       "C(is_foreign):C(is_working)           NaN     1.0 NaN     NaN\n",
       "Residual                     2.786186e+13  2364.0 NaN     NaN"
      ]
     },
     "execution_count": 23,
     "metadata": {},
     "output_type": "execute_result"
    }
   ],
   "source": [
    "results1 = smf.ols('trans_cnt ~ C(is_foreign) + C(is_working) + C(is_foreign):C(is_working)', data=df_1).fit()\n",
    "aov_14106_two = sms.anova_lm( results1, typ=2 )\n",
    "\n",
    "aov_14106_two"
   ]
  },
  {
   "cell_type": "code",
   "execution_count": 24,
   "metadata": {},
   "outputs": [
    {
     "data": {
      "text/plain": [
       "ShapiroResult(statistic=0.9821327328681946, pvalue=1.1476317053450507e-16)"
      ]
     },
     "execution_count": 24,
     "metadata": {},
     "output_type": "execute_result"
    }
   ],
   "source": [
    "stats.shapiro( results1.resid )"
   ]
  },
  {
   "cell_type": "code",
   "execution_count": 25,
   "metadata": {},
   "outputs": [
    {
     "data": {
      "image/png": "[encoded data removed]",
      "text/plain": [
       "<Figure size 432x288 with 1 Axes>"
      ]
     },
     "metadata": {
      "needs_background": "light"
     },
     "output_type": "display_data"
    }
   ],
   "source": [
    "fig = sm.qqplot( results1.resid, stats.norm, fit=True, line = '45' ) \n",
    "plt.title( 'PART3 TRA' )\n",
    "plt.savefig( 'images/TRA_PART3_ANOVA_qqplot.jpg')"
   ]
  },
  {
   "cell_type": "code",
   "execution_count": 26,
   "metadata": {},
   "outputs": [
    {
     "data": {
      "image/png": "[encoded data removed]",
      "text/plain": [
       "<Figure size 432x288 with 1 Axes>"
      ]
     },
     "metadata": {
      "needs_background": "light"
     },
     "output_type": "display_data"
    }
   ],
   "source": [
    "plt.hist( results1.resid, bins='auto' )\n",
    "plt.title( 'PART3 TRA' )\n",
    "plt.savefig( 'images/TRA_PART3_ANOVA_hist.jpg')"
   ]
  },
  {
   "cell_type": "code",
   "execution_count": 27,
   "metadata": {},
   "outputs": [],
   "source": [
    "trCnt = []\n",
    "for btype in [True, False] : \n",
    "    trCnt.append( list( df_2[df_2['is_foreign'] == btype]['trans_cnt'] ) )"
   ]
  },
  {
   "cell_type": "code",
   "execution_count": 28,
   "metadata": {},
   "outputs": [
    {
     "data": {
      "text/plain": [
       "0.013232308021484784"
      ]
     },
     "execution_count": 28,
     "metadata": {},
     "output_type": "execute_result"
    }
   ],
   "source": [
    "ft.kruskal( trCnt[0], trCnt[1] )"
   ]
  },
  {
   "cell_type": "code",
   "execution_count": 29,
   "metadata": {},
   "outputs": [
    {
     "data": {
      "image/png": "[encoded data removed]",
      "text/plain": [
       "<Figure size 432x288 with 1 Axes>"
      ]
     },
     "metadata": {
      "needs_background": "light"
     },
     "output_type": "display_data"
    }
   ],
   "source": [
    "plt.boxplot( trCnt )\n",
    "plt.xticks( range( 1, 3 ), [True, False] )\n",
    "plt.show()"
   ]
  },
  {
   "cell_type": "markdown",
   "metadata": {},
   "source": [
    "# Part 3 "
   ]
  },
  {
   "cell_type": "code",
   "execution_count": 30,
   "metadata": {},
   "outputs": [],
   "source": [
    "df_3 = df[df['belong'] != 'None']"
   ]
  },
  {
   "cell_type": "code",
   "execution_count": 31,
   "metadata": {},
   "outputs": [
    {
     "data": {
      "text/html": [
       "<div>\n",
       "<style scoped>\n",
       "    .dataframe tbody tr th:only-of-type {\n",
       "        vertical-align: middle;\n",
       "    }\n",
       "\n",
       "    .dataframe tbody tr th {\n",
       "        vertical-align: top;\n",
       "    }\n",
       "\n",
       "    .dataframe thead th {\n",
       "        text-align: right;\n",
       "    }\n",
       "</style>\n",
       "<table border=\"1\" class=\"dataframe\">\n",
       "  <thead>\n",
       "    <tr style=\"text-align: right;\">\n",
       "      <th></th>\n",
       "      <th>Unnamed: 0</th>\n",
       "      <th>date</th>\n",
       "      <th>year</th>\n",
       "      <th>month</th>\n",
       "      <th>day</th>\n",
       "      <th>weekday</th>\n",
       "      <th>trans_cnt</th>\n",
       "      <th>metro_cnt</th>\n",
       "      <th>is_typhoon</th>\n",
       "      <th>is_working</th>\n",
       "      <th>day_type</th>\n",
       "      <th>is_foreign</th>\n",
       "      <th>holi_type</th>\n",
       "      <th>holi_len</th>\n",
       "      <th>phase</th>\n",
       "      <th>is_NYE</th>\n",
       "      <th>belong</th>\n",
       "    </tr>\n",
       "  </thead>\n",
       "  <tbody>\n",
       "    <tr>\n",
       "      <th>0</th>\n",
       "      <td>0</td>\n",
       "      <td>2005-01-01</td>\n",
       "      <td>2005</td>\n",
       "      <td>1</td>\n",
       "      <td>1</td>\n",
       "      <td>5</td>\n",
       "      <td>382902</td>\n",
       "      <td>0</td>\n",
       "      <td>False</td>\n",
       "      <td>False</td>\n",
       "      <td>National</td>\n",
       "      <td>False</td>\n",
       "      <td>元旦</td>\n",
       "      <td>2</td>\n",
       "      <td>mid</td>\n",
       "      <td>False</td>\n",
       "      <td>National</td>\n",
       "    </tr>\n",
       "    <tr>\n",
       "      <th>1</th>\n",
       "      <td>1</td>\n",
       "      <td>2005-01-02</td>\n",
       "      <td>2005</td>\n",
       "      <td>1</td>\n",
       "      <td>2</td>\n",
       "      <td>6</td>\n",
       "      <td>412908</td>\n",
       "      <td>0</td>\n",
       "      <td>False</td>\n",
       "      <td>False</td>\n",
       "      <td>National</td>\n",
       "      <td>False</td>\n",
       "      <td>元旦</td>\n",
       "      <td>2</td>\n",
       "      <td>end</td>\n",
       "      <td>False</td>\n",
       "      <td>National</td>\n",
       "    </tr>\n",
       "    <tr>\n",
       "      <th>6</th>\n",
       "      <td>6</td>\n",
       "      <td>2005-01-07</td>\n",
       "      <td>2005</td>\n",
       "      <td>1</td>\n",
       "      <td>7</td>\n",
       "      <td>4</td>\n",
       "      <td>403391</td>\n",
       "      <td>0</td>\n",
       "      <td>False</td>\n",
       "      <td>True</td>\n",
       "      <td>weekday</td>\n",
       "      <td>False</td>\n",
       "      <td>None</td>\n",
       "      <td>0</td>\n",
       "      <td>start</td>\n",
       "      <td>False</td>\n",
       "      <td>weekend</td>\n",
       "    </tr>\n",
       "    <tr>\n",
       "      <th>7</th>\n",
       "      <td>7</td>\n",
       "      <td>2005-01-08</td>\n",
       "      <td>2005</td>\n",
       "      <td>1</td>\n",
       "      <td>8</td>\n",
       "      <td>5</td>\n",
       "      <td>408412</td>\n",
       "      <td>0</td>\n",
       "      <td>False</td>\n",
       "      <td>False</td>\n",
       "      <td>weekend</td>\n",
       "      <td>False</td>\n",
       "      <td>None</td>\n",
       "      <td>2</td>\n",
       "      <td>mid</td>\n",
       "      <td>False</td>\n",
       "      <td>weekend</td>\n",
       "    </tr>\n",
       "    <tr>\n",
       "      <th>8</th>\n",
       "      <td>8</td>\n",
       "      <td>2005-01-09</td>\n",
       "      <td>2005</td>\n",
       "      <td>1</td>\n",
       "      <td>9</td>\n",
       "      <td>6</td>\n",
       "      <td>452831</td>\n",
       "      <td>0</td>\n",
       "      <td>False</td>\n",
       "      <td>False</td>\n",
       "      <td>weekend</td>\n",
       "      <td>False</td>\n",
       "      <td>None</td>\n",
       "      <td>2</td>\n",
       "      <td>end</td>\n",
       "      <td>False</td>\n",
       "      <td>weekend</td>\n",
       "    </tr>\n",
       "  </tbody>\n",
       "</table>\n",
       "</div>"
      ],
      "text/plain": [
       "   Unnamed: 0       date  year  month  day  weekday  trans_cnt  metro_cnt  \\\n",
       "0           0 2005-01-01  2005      1    1        5     382902          0   \n",
       "1           1 2005-01-02  2005      1    2        6     412908          0   \n",
       "6           6 2005-01-07  2005      1    7        4     403391          0   \n",
       "7           7 2005-01-08  2005      1    8        5     408412          0   \n",
       "8           8 2005-01-09  2005      1    9        6     452831          0   \n",
       "\n",
       "   is_typhoon  is_working  day_type  is_foreign holi_type  holi_len  phase  \\\n",
       "0       False       False  National       False        元旦         2    mid   \n",
       "1       False       False  National       False        元旦         2    end   \n",
       "6       False        True   weekday       False      None         0  start   \n",
       "7       False       False   weekend       False      None         2    mid   \n",
       "8       False       False   weekend       False      None         2    end   \n",
       "\n",
       "   is_NYE    belong  \n",
       "0   False  National  \n",
       "1   False  National  \n",
       "6   False   weekend  \n",
       "7   False   weekend  \n",
       "8   False   weekend  "
      ]
     },
     "execution_count": 31,
     "metadata": {},
     "output_type": "execute_result"
    }
   ],
   "source": [
    "df_3.head()"
   ]
  },
  {
   "cell_type": "code",
   "execution_count": 32,
   "metadata": {},
   "outputs": [],
   "source": [
    "cnt = []\n",
    "holi_len = []\n",
    "\n",
    "phase = list( df_3['phase'] )\n",
    "trans_cnt = list( df_3['trans_cnt'] )\n",
    "holi_len_all = list( df_3['holi_len'] )\n",
    "\n",
    "accu = 0\n",
    "le = 0 \n",
    "for i in range( 2, len( phase ) ) :\n",
    "    if phase[i] == 'start' : \n",
    "        accu += trans_cnt[i]\n",
    "        le += 1 \n",
    "    elif phase[i] == 'end' : \n",
    "        accu += trans_cnt[i]\n",
    "        le += 1 \n",
    "        cnt.append( accu / le )\n",
    "        accu = 0 \n",
    "        le = 0 \n",
    "        holi_len.append( holi_len_all[i] )  "
   ]
  },
  {
   "cell_type": "code",
   "execution_count": 33,
   "metadata": {},
   "outputs": [],
   "source": [
    "df_3_ = pd.DataFrame( { 'trans_cnt' : cnt, 'holi_len': holi_len } )"
   ]
  },
  {
   "cell_type": "code",
   "execution_count": 34,
   "metadata": {},
   "outputs": [
    {
     "data": {
      "text/html": [
       "<div>\n",
       "<style scoped>\n",
       "    .dataframe tbody tr th:only-of-type {\n",
       "        vertical-align: middle;\n",
       "    }\n",
       "\n",
       "    .dataframe tbody tr th {\n",
       "        vertical-align: top;\n",
       "    }\n",
       "\n",
       "    .dataframe thead th {\n",
       "        text-align: right;\n",
       "    }\n",
       "</style>\n",
       "<table border=\"1\" class=\"dataframe\">\n",
       "  <thead>\n",
       "    <tr style=\"text-align: right;\">\n",
       "      <th></th>\n",
       "      <th>sum_sq</th>\n",
       "      <th>df</th>\n",
       "      <th>F</th>\n",
       "      <th>PR(&gt;F)</th>\n",
       "    </tr>\n",
       "  </thead>\n",
       "  <tbody>\n",
       "    <tr>\n",
       "      <th>C(holi_len)</th>\n",
       "      <td>3.004132e+11</td>\n",
       "      <td>3.0</td>\n",
       "      <td>10.03933</td>\n",
       "      <td>0.000002</td>\n",
       "    </tr>\n",
       "    <tr>\n",
       "      <th>Residual</th>\n",
       "      <td>7.381161e+12</td>\n",
       "      <td>740.0</td>\n",
       "      <td>NaN</td>\n",
       "      <td>NaN</td>\n",
       "    </tr>\n",
       "  </tbody>\n",
       "</table>\n",
       "</div>"
      ],
      "text/plain": [
       "                   sum_sq     df         F    PR(>F)\n",
       "C(holi_len)  3.004132e+11    3.0  10.03933  0.000002\n",
       "Residual     7.381161e+12  740.0       NaN       NaN"
      ]
     },
     "execution_count": 34,
     "metadata": {},
     "output_type": "execute_result"
    }
   ],
   "source": [
    "results2 = smf.ols('trans_cnt ~ C(holi_len)', data=df_3_).fit()\n",
    "aov_14106_two = sms.anova_lm( results2, typ=2 )\n",
    "\n",
    "aov_14106_two"
   ]
  },
  {
   "cell_type": "code",
   "execution_count": 35,
   "metadata": {},
   "outputs": [
    {
     "data": {
      "text/plain": [
       "ShapiroResult(statistic=0.960867166519165, pvalue=3.379672301566383e-13)"
      ]
     },
     "execution_count": 35,
     "metadata": {},
     "output_type": "execute_result"
    }
   ],
   "source": [
    "stats.shapiro( results2.resid )"
   ]
  },
  {
   "cell_type": "code",
   "execution_count": 36,
   "metadata": {},
   "outputs": [
    {
     "data": {
      "image/png": "[encoded data removed]",
      "text/plain": [
       "<Figure size 432x288 with 1 Axes>"
      ]
     },
     "metadata": {
      "needs_background": "light"
     },
     "output_type": "display_data"
    }
   ],
   "source": [
    "fig = sm.qqplot( results2.resid, stats.norm, fit=True, line = '45' ) \n",
    "plt.title( 'PART4 TRA' )\n",
    "plt.savefig( 'images/TRA_PART4_ANOVA_qqplot.jpg')"
   ]
  },
  {
   "cell_type": "code",
   "execution_count": 37,
   "metadata": {},
   "outputs": [
    {
     "data": {
      "image/png": "[encoded data removed]",
      "text/plain": [
       "<Figure size 432x288 with 1 Axes>"
      ]
     },
     "metadata": {
      "needs_background": "light"
     },
     "output_type": "display_data"
    }
   ],
   "source": [
    "_ = plt.hist( results2.resid, bins='auto' )\n",
    "plt.title( 'PART4 TRA' )\n",
    "plt.savefig( 'images/TRA_PART4_ANOVA_hist.jpg')"
   ]
  },
  {
   "cell_type": "code",
   "execution_count": 38,
   "metadata": {},
   "outputs": [],
   "source": [
    "trCnt = [[],[],[],[]]\n",
    "for i in range( len( cnt ) ) : \n",
    "    trCnt[holi_len[i]-2].append( cnt[i] ) "
   ]
  },
  {
   "cell_type": "code",
   "execution_count": 81,
   "metadata": {},
   "outputs": [
    {
     "data": {
      "image/png": "[encoded data removed]",
      "text/plain": [
       "<Figure size 1008x576 with 1 Axes>"
      ]
     },
     "metadata": {
      "needs_background": "light"
     },
     "output_type": "display_data"
    }
   ],
   "source": [
    "fig, ax = plt.subplots( figsize = ( 14, 8 ) )\n",
    "plt.boxplot( trCnt )\n",
    "plt.xticks( range( 1, 5 ), ['兩天', '三天', '四天', '五天及以上'] )\n",
    "plt.title( '不同假期長度的台鐵運量', fontsize = 20 )\n",
    "plt.xlabel( '假期長度', fontsize = 15 )\n",
    "plt.ylabel( '人次', fontsize = 15 ) \n",
    "plt.savefig( 'images/TRA_PART$_compare.jpg' )\n",
    "plt.show()"
   ]
  },
  {
   "cell_type": "markdown",
   "metadata": {},
   "source": [
    "四天以下真的有節節上升的趨勢；五天的話感覺是大家會想要避開尖峰時間，所以不見得會選擇第一天跟最後一天才回家"
   ]
  },
  {
   "cell_type": "code",
   "execution_count": 40,
   "metadata": {},
   "outputs": [
    {
     "data": {
      "text/plain": [
       "1.6415555681437155e-07"
      ]
     },
     "execution_count": 40,
     "metadata": {},
     "output_type": "execute_result"
    }
   ],
   "source": [
    "ft.kruskal( trCnt[0], trCnt[1], trCnt[2], trCnt[3] )"
   ]
  }
 ],
 "metadata": {
  "interpreter": {
   "hash": "356998c43310144b96a2843b6a00592392af50ee3be89b7f2bab29543afc8c0d"
  },
  "kernelspec": {
   "display_name": "Python 3.10.2 64-bit",
   "language": "python",
   "name": "python3"
  },
  "language_info": {
   "codemirror_mode": {
    "name": "ipython",
    "version": 3
   },
   "file_extension": ".py",
   "mimetype": "text/x-python",
   "name": "python",
   "nbconvert_exporter": "python",
   "pygments_lexer": "ipython3",
   "version": "3.10.2"
  },
  "orig_nbformat": 4
 },
 "nbformat": 4,
 "nbformat_minor": 2
}
