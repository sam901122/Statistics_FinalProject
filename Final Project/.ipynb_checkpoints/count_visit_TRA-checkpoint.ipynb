{
 "cells": [
  {
   "cell_type": "markdown",
   "metadata": {},
   "source": [
    "# Import Libraries"
   ]
  },
  {
   "cell_type": "code",
   "execution_count": 1,
   "metadata": {},
   "outputs": [],
   "source": [
    "import numpy as np \n",
    "import pandas as pd \n",
    "import datetime as dt \n",
    "from datetime import datetime\n",
    "import copy as cp\n",
    "import calendar"
   ]
  },
  {
   "cell_type": "code",
   "execution_count": 2,
   "metadata": {},
   "outputs": [],
   "source": [
    "# 載入所需函示庫\n",
    "import pandas as pd\n",
    "import numpy as np\n",
    "import scipy.stats as stats\n",
    "import statsmodels.api as sm\n",
    "import statsmodels.stats.api as sms\n",
    "import statsmodels.formula.api as smf\n",
    "import statsmodels.stats.multicomp as smm\n",
    "import statsmodels\n",
    "import statsmodels.stats.libqsturng\n",
    "from matplotlib import pyplot as plt\n",
    "%matplotlib inline\n",
    "# 設定圖形大小; DPI越大圖越大\n",
    "plt.rcParams[\"figure.dpi\"] = 150"
   ]
  },
  {
   "cell_type": "markdown",
   "metadata": {},
   "source": [
    "# Functions "
   ]
  },
  {
   "cell_type": "code",
   "execution_count": 3,
   "metadata": {},
   "outputs": [],
   "source": [
    "def add_transportCnt( date, comeIn) -> None : \n",
    "    # Given two list, one is the date, the other is the people into every train station\n",
    "    # The data type of date should be list of datetime.datetime\n",
    "    # The data type of come into station people should be list of int \n",
    "\n",
    "    # transportCnt is global variable \n",
    "    global transportCnt \n",
    "\n",
    "    # Traverse every data, add comeIn value to that day \n",
    "    for i in range( len( date ) ) :\n",
    "        currentDate = date[i]\n",
    "        try : \n",
    "            transportCnt[currentDate] += comeIn[i]\n",
    "        except : \n",
    "            transportCnt[currentDate] = comeIn[i]"
   ]
  },
  {
   "cell_type": "code",
   "execution_count": 4,
   "metadata": {},
   "outputs": [],
   "source": [
    "def convert_date(datesList):\n",
    "    # Given a list of date, with format : yyyymmdd\n",
    "    # Convert the list into date with type of datetime.datetime\n",
    "\n",
    "    tempDatesList = cp.deepcopy( datesList )\n",
    "\n",
    "    for i in range( len( tempDatesList ) ) : \n",
    "        currentDateStr = str( tempDatesList[i] )\n",
    "        year = int( currentDateStr[:4] )\n",
    "        month = int( currentDateStr[4:6] )\n",
    "        day = int( currentDateStr[6:8] )\n",
    "        tempDatesList[i] = dt.datetime( year, month, day )\n",
    "    return tempDatesList "
   ]
  },
  {
   "cell_type": "markdown",
   "metadata": {},
   "source": [
    "# Main dictionary"
   ]
  },
  {
   "cell_type": "code",
   "execution_count": 5,
   "metadata": {},
   "outputs": [],
   "source": [
    "transportCnt = dict()"
   ]
  },
  {
   "cell_type": "markdown",
   "metadata": {},
   "source": [
    "# Read data"
   ]
  },
  {
   "cell_type": "code",
   "execution_count": 6,
   "metadata": {},
   "outputs": [],
   "source": [
    "df_2005_to_2007 = pd.read_csv( '2005-20190422/2005-2017.csv')\n",
    "df_2018 = pd.read_csv( '2005-20190422/2018.csv')\n",
    "df_2019_1 = pd.read_csv( '2005-20190422/20190422.csv')\n",
    "df_2019_2 = pd.read_csv( '20190423-20211231/20190423-20191231.csv')\n",
    "df_2020 = pd.read_csv( '20190423-20211231/2020.csv')\n",
    "df_2021 = pd.read_csv( '20190423-20211231/2021.csv' )\n",
    "df_2022 = pd.read_csv( '2022.csv' ) "
   ]
  },
  {
   "cell_type": "code",
   "execution_count": 7,
   "metadata": {},
   "outputs": [],
   "source": [
    "date_2005_to_2017 = df_2005_to_2007['BOARD_DATE']\n",
    "comeIn_2005_to_2017 = df_2005_to_2007['進站']\n",
    "\n",
    "date_2018 = df_2018['BOARD_DATE']\n",
    "comeIn_2018 = df_2018['進站']\n",
    "\n",
    "date_2019_1 = df_2019_1['BOARD_DATE']\n",
    "comeIn_2019_1 = df_2019_1['進站']\n",
    "\n",
    "date_2019_2 = df_2019_2['trnOpDate']\n",
    "comeIn_2019_2 = df_2019_2['gateInComingCnt']\n",
    "\n",
    "date_2020 = df_2020['trnOpDate']\n",
    "comeIn_2020 = df_2020['gateInComingCnt']\n",
    "\n",
    "date_2021 = df_2021['trnOpDate']\n",
    "comeIn_2021 = df_2021['gateInComingCnt']\n",
    "\n",
    "date_2022 = df_2022['trnOpDate']\n",
    "comeIn_2022 = df_2022['gateInComingCnt']"
   ]
  },
  {
   "cell_type": "code",
   "execution_count": 8,
   "metadata": {},
   "outputs": [],
   "source": [
    "datesList = list( date_2005_to_2017 ) \n",
    "datesList += list( date_2018 ) \n",
    "datesList += list( date_2019_1 ) \n",
    "datesList += list( date_2019_2 ) \n",
    "datesList += list( date_2020 ) \n",
    "datesList += list( date_2021 ) \n",
    "datesList += list( date_2022 ) "
   ]
  },
  {
   "cell_type": "code",
   "execution_count": 9,
   "metadata": {},
   "outputs": [],
   "source": [
    "comeInsList = list( comeIn_2005_to_2017 )\n",
    "comeInsList += list( comeIn_2018 ) \n",
    "comeInsList += list( comeIn_2019_1 ) \n",
    "comeInsList += list( comeIn_2019_2 ) \n",
    "comeInsList += list( comeIn_2020 ) \n",
    "comeInsList += list( comeIn_2021 ) \n",
    "comeInsList += list( comeIn_2022 ) "
   ]
  },
  {
   "cell_type": "markdown",
   "metadata": {},
   "source": [
    "# Write into main dictionary "
   ]
  },
  {
   "cell_type": "code",
   "execution_count": 10,
   "metadata": {},
   "outputs": [],
   "source": [
    "datesList = convert_date( datesList ) "
   ]
  },
  {
   "cell_type": "code",
   "execution_count": 11,
   "metadata": {},
   "outputs": [],
   "source": [
    "add_transportCnt( datesList, comeInsList )"
   ]
  },
  {
   "cell_type": "code",
   "execution_count": 12,
   "metadata": {},
   "outputs": [
    {
     "data": {
      "text/plain": [
       "6330"
      ]
     },
     "execution_count": 12,
     "metadata": {},
     "output_type": "execute_result"
    }
   ],
   "source": [
    "len( transportCnt )"
   ]
  },
  {
   "cell_type": "code",
   "execution_count": 13,
   "metadata": {},
   "outputs": [
    {
     "data": {
      "text/plain": [
       "491635"
      ]
     },
     "execution_count": 13,
     "metadata": {},
     "output_type": "execute_result"
    }
   ],
   "source": [
    "transportCnt[dt.datetime( 2007, 12,30 )]"
   ]
  },
  {
   "cell_type": "code",
   "execution_count": null,
   "metadata": {},
   "outputs": [],
   "source": []
  },
  {
   "cell_type": "markdown",
   "metadata": {},
   "source": [
    "## Functions"
   ]
  },
  {
   "cell_type": "code",
   "execution_count": 14,
   "metadata": {},
   "outputs": [],
   "source": [
    "def getHoliday(year, Holiday, df):\n",
    "    name = []\n",
    "    y = year\n",
    "    i = year - 2005\n",
    "    if(type(df[Holiday][i]) == datetime):\n",
    "        name.append(df[Holiday][i])\n",
    "    else:\n",
    "        start, end = df[Holiday][i].split('-')\n",
    "        start = start.split('/')\n",
    "        start = [int(s) for s in start]\n",
    "        end = end.split('/')\n",
    "        end = [int(s) for s in end]\n",
    "\n",
    "        if(start[0] == end[0]):\n",
    "            name += [datetime(y, start[0], x) for x in np.arange(start[1], end[1] + 1, 1)]\n",
    "        else:\n",
    "            lastday = calendar.monthrange(y, start[0])[1]\n",
    "            if(start[0] == 12):\n",
    "                name += [datetime(y - 1, start[0], x) for x in np.arange(start[1], lastday + 1, 1)]\n",
    "                name += [datetime(y, end[0], x) for x in np.arange(1, end[1] + 1, 1)]\n",
    "            else:\n",
    "                name += [datetime(y, start[0], x) for x in np.arange(start[1], lastday + 1, 1)]\n",
    "    return name"
   ]
  },
  {
   "cell_type": "code",
   "execution_count": 15,
   "metadata": {},
   "outputs": [],
   "source": [
    "def getHolidayLength(date):\n",
    "    holiday, column, i = isHoliday([date.year], h_columns, date)\n",
    "    if(holiday):\n",
    "        return df[column][i]\n",
    "    elif(date.isoweekday() == 6 or date.isoweekday() == 7):\n",
    "        return 2\n",
    "    else:\n",
    "        return 0"
   ]
  },
  {
   "cell_type": "code",
   "execution_count": 16,
   "metadata": {},
   "outputs": [],
   "source": [
    "def isHoliday(years, columns, date):\n",
    "    for column in columns:\n",
    "        for year in years:\n",
    "            if(date in holiday_rec[column][year - 2005]):\n",
    "                return True, column, year - 2005\n",
    "    return False, -1, -1"
   ]
  },
  {
   "cell_type": "markdown",
   "metadata": {},
   "source": [
    "## Global"
   ]
  },
  {
   "cell_type": "code",
   "execution_count": 17,
   "metadata": {},
   "outputs": [],
   "source": [
    "df = pd.read_excel('../歷年連假天數.xlsx')\n",
    "columns = ['春節.1', '端午.1', '中秋.1', '雙十.1', '二二八.1', '元旦.1', '清明.1', '勞動.1']\n",
    "years = np.arange(2005, 2023, 1)\n",
    "holiday_rec = []\n",
    "for column in columns:\n",
    "    tmp = []\n",
    "    for year in years:\n",
    "        tmp.append(getHoliday(year, column, df))\n",
    "    holiday_rec.append(tmp)\n",
    "holiday_rec = pd.DataFrame(holiday_rec).T\n",
    "h_columns = ['春節', '端午', '中秋', '雙十', '二二八', '元旦', '清明', '勞動']\n",
    "holiday_rec.columns = h_columns"
   ]
  },
  {
   "cell_type": "markdown",
   "metadata": {},
   "source": [
    "## 日子"
   ]
  },
  {
   "cell_type": "markdown",
   "metadata": {},
   "source": [
    "### Parametric - One Way Anova"
   ]
  },
  {
   "cell_type": "markdown",
   "metadata": {},
   "source": [
    "$$H_0: \\mu_{平日} = \\mu_{一般假日} = \\mu_{傳統} = \\mu_{國定} = \\mu_{西洋} = \\mu_{X親}$$  \n",
    "$$H_1: \\text{one of the equality in } H_0 \\text{ is not satisfied}$$"
   ]
  },
  {
   "cell_type": "code",
   "execution_count": 18,
   "metadata": {},
   "outputs": [],
   "source": [
    "traditional = ['春節', '端午', '中秋']\n",
    "national = ['雙十', '二二八', '元旦', '清明', '勞動']"
   ]
  },
  {
   "cell_type": "code",
   "execution_count": 19,
   "metadata": {},
   "outputs": [],
   "source": [
    "days = [[], [], [], [], [], []]"
   ]
  },
  {
   "cell_type": "code",
   "execution_count": 20,
   "metadata": {},
   "outputs": [],
   "source": [
    "year = np.arange(2005, 2023, 1)\n",
    "month = np.arange(1, 13, 1)\n",
    "for y in year:\n",
    "    if(y == 2022):\n",
    "        month = np.arange(1, 4, 1)\n",
    "    for m in month:\n",
    "        for d in np.arange(1, calendar.monthrange(y,m)[1] + 1, 1):\n",
    "            today = datetime(y,m,d)\n",
    "            if(isHoliday(year, traditional, today)[0]):\n",
    "                days[2].append(transportCnt[today])\n",
    "            elif(isHoliday(year, national, today)[0]):\n",
    "                days[3].append(transportCnt[today])\n",
    "            elif((m == 12 and d == 25) or (m == 2 and d == 14) or (m == 10 and d == 31)):\n",
    "                days[4].append(transportCnt[today])\n",
    "            elif((m == 8 and d == 8) or (m == 5 and d <= 14 and d >= 8 and today.isoweekday() == 7)):\n",
    "                days[5].append(transportCnt[today])\n",
    "            elif(today.isoweekday() == 6 or today.isoweekday() == 7):\n",
    "                days[1].append(transportCnt[today])\n",
    "            else:\n",
    "                days[0].append(transportCnt[today])"
   ]
  },
  {
   "cell_type": "code",
   "execution_count": 21,
   "metadata": {},
   "outputs": [
    {
     "data": {
      "text/html": [
       "<div>\n",
       "<style scoped>\n",
       "    .dataframe tbody tr th:only-of-type {\n",
       "        vertical-align: middle;\n",
       "    }\n",
       "\n",
       "    .dataframe tbody tr th {\n",
       "        vertical-align: top;\n",
       "    }\n",
       "\n",
       "    .dataframe thead th {\n",
       "        text-align: right;\n",
       "    }\n",
       "</style>\n",
       "<table border=\"1\" class=\"dataframe\">\n",
       "  <thead>\n",
       "    <tr style=\"text-align: right;\">\n",
       "      <th></th>\n",
       "      <th>Weekday</th>\n",
       "      <th>Weekend</th>\n",
       "      <th>Traditional</th>\n",
       "      <th>National</th>\n",
       "      <th>Western</th>\n",
       "      <th>Fother</th>\n",
       "    </tr>\n",
       "  </thead>\n",
       "  <tbody>\n",
       "    <tr>\n",
       "      <th>0</th>\n",
       "      <td>298141.0</td>\n",
       "      <td>382902.0</td>\n",
       "      <td>274651.0</td>\n",
       "      <td>478008.0</td>\n",
       "      <td>450405.0</td>\n",
       "      <td>572527.0</td>\n",
       "    </tr>\n",
       "    <tr>\n",
       "      <th>1</th>\n",
       "      <td>252051.0</td>\n",
       "      <td>412908.0</td>\n",
       "      <td>477359.0</td>\n",
       "      <td>489242.0</td>\n",
       "      <td>302174.0</td>\n",
       "      <td>410047.0</td>\n",
       "    </tr>\n",
       "    <tr>\n",
       "      <th>2</th>\n",
       "      <td>263399.0</td>\n",
       "      <td>408412.0</td>\n",
       "      <td>521655.0</td>\n",
       "      <td>518795.0</td>\n",
       "      <td>569418.0</td>\n",
       "      <td>588807.0</td>\n",
       "    </tr>\n",
       "    <tr>\n",
       "      <th>3</th>\n",
       "      <td>280465.0</td>\n",
       "      <td>452831.0</td>\n",
       "      <td>593039.0</td>\n",
       "      <td>504462.0</td>\n",
       "      <td>452942.0</td>\n",
       "      <td>388725.0</td>\n",
       "    </tr>\n",
       "    <tr>\n",
       "      <th>4</th>\n",
       "      <td>403391.0</td>\n",
       "      <td>304253.0</td>\n",
       "      <td>582214.0</td>\n",
       "      <td>527932.0</td>\n",
       "      <td>380845.0</td>\n",
       "      <td>592293.0</td>\n",
       "    </tr>\n",
       "    <tr>\n",
       "      <th>...</th>\n",
       "      <td>...</td>\n",
       "      <td>...</td>\n",
       "      <td>...</td>\n",
       "      <td>...</td>\n",
       "      <td>...</td>\n",
       "      <td>...</td>\n",
       "    </tr>\n",
       "    <tr>\n",
       "      <th>4224</th>\n",
       "      <td>654697.0</td>\n",
       "      <td>NaN</td>\n",
       "      <td>NaN</td>\n",
       "      <td>NaN</td>\n",
       "      <td>NaN</td>\n",
       "      <td>NaN</td>\n",
       "    </tr>\n",
       "    <tr>\n",
       "      <th>4225</th>\n",
       "      <td>487321.0</td>\n",
       "      <td>NaN</td>\n",
       "      <td>NaN</td>\n",
       "      <td>NaN</td>\n",
       "      <td>NaN</td>\n",
       "      <td>NaN</td>\n",
       "    </tr>\n",
       "    <tr>\n",
       "      <th>4226</th>\n",
       "      <td>480399.0</td>\n",
       "      <td>NaN</td>\n",
       "      <td>NaN</td>\n",
       "      <td>NaN</td>\n",
       "      <td>NaN</td>\n",
       "      <td>NaN</td>\n",
       "    </tr>\n",
       "    <tr>\n",
       "      <th>4227</th>\n",
       "      <td>488678.0</td>\n",
       "      <td>NaN</td>\n",
       "      <td>NaN</td>\n",
       "      <td>NaN</td>\n",
       "      <td>NaN</td>\n",
       "      <td>NaN</td>\n",
       "    </tr>\n",
       "    <tr>\n",
       "      <th>4228</th>\n",
       "      <td>532029.0</td>\n",
       "      <td>NaN</td>\n",
       "      <td>NaN</td>\n",
       "      <td>NaN</td>\n",
       "      <td>NaN</td>\n",
       "      <td>NaN</td>\n",
       "    </tr>\n",
       "  </tbody>\n",
       "</table>\n",
       "<p>4229 rows × 6 columns</p>\n",
       "</div>"
      ],
      "text/plain": [
       "       Weekday   Weekend  Traditional  National   Western    Fother\n",
       "0     298141.0  382902.0     274651.0  478008.0  450405.0  572527.0\n",
       "1     252051.0  412908.0     477359.0  489242.0  302174.0  410047.0\n",
       "2     263399.0  408412.0     521655.0  518795.0  569418.0  588807.0\n",
       "3     280465.0  452831.0     593039.0  504462.0  452942.0  388725.0\n",
       "4     403391.0  304253.0     582214.0  527932.0  380845.0  592293.0\n",
       "...        ...       ...          ...       ...       ...       ...\n",
       "4224  654697.0       NaN          NaN       NaN       NaN       NaN\n",
       "4225  487321.0       NaN          NaN       NaN       NaN       NaN\n",
       "4226  480399.0       NaN          NaN       NaN       NaN       NaN\n",
       "4227  488678.0       NaN          NaN       NaN       NaN       NaN\n",
       "4228  532029.0       NaN          NaN       NaN       NaN       NaN\n",
       "\n",
       "[4229 rows x 6 columns]"
      ]
     },
     "execution_count": 21,
     "metadata": {},
     "output_type": "execute_result"
    }
   ],
   "source": [
    "df1 = pd.DataFrame(days).T\n",
    "df1.columns = ['Weekday', 'Weekend', 'Traditional', 'National', 'Western', 'Fother']\n",
    "df1"
   ]
  },
  {
   "cell_type": "code",
   "execution_count": 22,
   "metadata": {},
   "outputs": [
    {
     "name": "stdout",
     "output_type": "stream",
     "text": [
      "Head of dataset:\n"
     ]
    },
    {
     "data": {
      "text/html": [
       "<div>\n",
       "<style scoped>\n",
       "    .dataframe tbody tr th:only-of-type {\n",
       "        vertical-align: middle;\n",
       "    }\n",
       "\n",
       "    .dataframe tbody tr th {\n",
       "        vertical-align: top;\n",
       "    }\n",
       "\n",
       "    .dataframe thead th {\n",
       "        text-align: right;\n",
       "    }\n",
       "</style>\n",
       "<table border=\"1\" class=\"dataframe\">\n",
       "  <thead>\n",
       "    <tr style=\"text-align: right;\">\n",
       "      <th></th>\n",
       "      <th>id</th>\n",
       "      <th>Holiday_Type</th>\n",
       "      <th>TPcnt</th>\n",
       "    </tr>\n",
       "  </thead>\n",
       "  <tbody>\n",
       "    <tr>\n",
       "      <th>0</th>\n",
       "      <td>0</td>\n",
       "      <td>weekday</td>\n",
       "      <td>298141.0</td>\n",
       "    </tr>\n",
       "    <tr>\n",
       "      <th>1</th>\n",
       "      <td>1</td>\n",
       "      <td>weekday</td>\n",
       "      <td>252051.0</td>\n",
       "    </tr>\n",
       "    <tr>\n",
       "      <th>2</th>\n",
       "      <td>2</td>\n",
       "      <td>weekday</td>\n",
       "      <td>263399.0</td>\n",
       "    </tr>\n",
       "    <tr>\n",
       "      <th>3</th>\n",
       "      <td>3</td>\n",
       "      <td>weekday</td>\n",
       "      <td>280465.0</td>\n",
       "    </tr>\n",
       "    <tr>\n",
       "      <th>4</th>\n",
       "      <td>4</td>\n",
       "      <td>weekday</td>\n",
       "      <td>403391.0</td>\n",
       "    </tr>\n",
       "  </tbody>\n",
       "</table>\n",
       "</div>"
      ],
      "text/plain": [
       "   id Holiday_Type     TPcnt\n",
       "0   0      weekday  298141.0\n",
       "1   1      weekday  252051.0\n",
       "2   2      weekday  263399.0\n",
       "3   3      weekday  280465.0\n",
       "4   4      weekday  403391.0"
      ]
     },
     "metadata": {},
     "output_type": "display_data"
    },
    {
     "name": "stdout",
     "output_type": "stream",
     "text": [
      "Tail of dataset:\n"
     ]
    },
    {
     "data": {
      "text/html": [
       "<div>\n",
       "<style scoped>\n",
       "    .dataframe tbody tr th:only-of-type {\n",
       "        vertical-align: middle;\n",
       "    }\n",
       "\n",
       "    .dataframe tbody tr th {\n",
       "        vertical-align: top;\n",
       "    }\n",
       "\n",
       "    .dataframe thead th {\n",
       "        text-align: right;\n",
       "    }\n",
       "</style>\n",
       "<table border=\"1\" class=\"dataframe\">\n",
       "  <thead>\n",
       "    <tr style=\"text-align: right;\">\n",
       "      <th></th>\n",
       "      <th>id</th>\n",
       "      <th>Holiday_Type</th>\n",
       "      <th>TPcnt</th>\n",
       "    </tr>\n",
       "  </thead>\n",
       "  <tbody>\n",
       "    <tr>\n",
       "      <th>21174</th>\n",
       "      <td>29</td>\n",
       "      <td>fother</td>\n",
       "      <td>554274.0</td>\n",
       "    </tr>\n",
       "    <tr>\n",
       "      <th>21175</th>\n",
       "      <td>30</td>\n",
       "      <td>fother</td>\n",
       "      <td>523927.0</td>\n",
       "    </tr>\n",
       "    <tr>\n",
       "      <th>21176</th>\n",
       "      <td>31</td>\n",
       "      <td>fother</td>\n",
       "      <td>577741.0</td>\n",
       "    </tr>\n",
       "    <tr>\n",
       "      <th>21177</th>\n",
       "      <td>32</td>\n",
       "      <td>fother</td>\n",
       "      <td>607738.0</td>\n",
       "    </tr>\n",
       "    <tr>\n",
       "      <th>21178</th>\n",
       "      <td>33</td>\n",
       "      <td>fother</td>\n",
       "      <td>237328.0</td>\n",
       "    </tr>\n",
       "  </tbody>\n",
       "</table>\n",
       "</div>"
      ],
      "text/plain": [
       "       id Holiday_Type     TPcnt\n",
       "21174  29       fother  554274.0\n",
       "21175  30       fother  523927.0\n",
       "21176  31       fother  577741.0\n",
       "21177  32       fother  607738.0\n",
       "21178  33       fother  237328.0"
      ]
     },
     "metadata": {},
     "output_type": "display_data"
    }
   ],
   "source": [
    "# wide_to_long假設同樣資料在不同因素下的名稱有相同的字頭，因此我們要改欄位名稱。\n",
    "df1b = df1.rename(columns={'Weekday': 'TPcnt_weekday', \"Weekend\": \"TPcnt_weekend\", \n",
    "                          \"Traditional\": \"TPcnt_traditional\", \"National\": \"TPcnt_national\"\n",
    "                         , \"Western\": \"TPcnt_west\", \"Fother\": \"TPcnt_fother\"})\n",
    "# 需要一個ID欄位\n",
    "df1b[\"id\"] = df1b.index\n",
    "# 呼叫wide_to_long(); 文件請見: https://pandas.pydata.org/pandas-docs/stable/reference/api/pandas.wide_to_long.html\n",
    "df2 = pd.wide_to_long(df1b, [\"TPcnt\"], sep=\"_\", suffix='\\w+', i=\"id\", j=\"Holiday_Type\").reset_index()\n",
    "df2 = df2.dropna()\n",
    "print(\"Head of dataset:\")\n",
    "display(df2.head())\n",
    "print(\"Tail of dataset:\")\n",
    "display(df2.tail())"
   ]
  },
  {
   "cell_type": "code",
   "execution_count": 23,
   "metadata": {},
   "outputs": [
    {
     "data": {
      "text/html": [
       "<div>\n",
       "<style scoped>\n",
       "    .dataframe tbody tr th:only-of-type {\n",
       "        vertical-align: middle;\n",
       "    }\n",
       "\n",
       "    .dataframe tbody tr th {\n",
       "        vertical-align: top;\n",
       "    }\n",
       "\n",
       "    .dataframe thead th {\n",
       "        text-align: right;\n",
       "    }\n",
       "</style>\n",
       "<table border=\"1\" class=\"dataframe\">\n",
       "  <thead>\n",
       "    <tr style=\"text-align: right;\">\n",
       "      <th></th>\n",
       "      <th>sum_sq</th>\n",
       "      <th>df</th>\n",
       "      <th>F</th>\n",
       "      <th>PR(&gt;F)</th>\n",
       "    </tr>\n",
       "  </thead>\n",
       "  <tbody>\n",
       "    <tr>\n",
       "      <th>C(Holiday_Type)</th>\n",
       "      <td>9.092330e+12</td>\n",
       "      <td>5.0</td>\n",
       "      <td>128.690462</td>\n",
       "      <td>3.495135e-130</td>\n",
       "    </tr>\n",
       "    <tr>\n",
       "      <th>Residual</th>\n",
       "      <td>8.892351e+13</td>\n",
       "      <td>6293.0</td>\n",
       "      <td>NaN</td>\n",
       "      <td>NaN</td>\n",
       "    </tr>\n",
       "  </tbody>\n",
       "</table>\n",
       "</div>"
      ],
      "text/plain": [
       "                       sum_sq      df           F         PR(>F)\n",
       "C(Holiday_Type)  9.092330e+12     5.0  128.690462  3.495135e-130\n",
       "Residual         8.892351e+13  6293.0         NaN            NaN"
      ]
     },
     "execution_count": 23,
     "metadata": {},
     "output_type": "execute_result"
    }
   ],
   "source": [
    "results = smf.ols('TPcnt ~ C(Holiday_Type)', data=df2).fit()\n",
    "# results.summary()\n",
    "aov_table = sms.anova_lm(results, typ=2)\n",
    "aov_table"
   ]
  },
  {
   "cell_type": "code",
   "execution_count": 24,
   "metadata": {},
   "outputs": [
    {
     "name": "stdout",
     "output_type": "stream",
     "text": [
      "            Multiple Comparison of Means - Tukey HSD, FWER=0.05             \n",
      "============================================================================\n",
      "   group1      group2     meandiff   p-adj     lower        upper     reject\n",
      "----------------------------------------------------------------------------\n",
      "     fother    national   80960.8949 0.0031   18441.9234  143479.8664   True\n",
      "     fother traditional    23066.439 0.8988  -39175.8625   85308.7405  False\n",
      "     fother     weekday  -47733.1428 0.1811 -106078.6634   10612.3779  False\n",
      "     fother     weekend    25703.254 0.7887  -33046.7169   84453.2249  False\n",
      "     fother        west    -7545.413    0.9  -83500.1744   68409.3484  False\n",
      "   national traditional  -57894.4559  0.001   -89966.678  -25822.2338   True\n",
      "   national     weekday -128694.0376  0.001 -152331.3622 -105056.7131   True\n",
      "   national     weekend  -55257.6409  0.001   -79876.382  -30638.8999   True\n",
      "   national        west  -88506.3079  0.001 -142577.0865  -34435.5292   True\n",
      "traditional     weekday  -70799.5818  0.001  -93695.1144  -47904.0491   True\n",
      "traditional     weekend    2636.8149    0.9  -21270.6047   26544.2346  False\n",
      "traditional        west   -30611.852 0.5714   -84362.493    23138.789  False\n",
      "    weekday     weekend   73436.3967  0.001   63353.7187   83519.0748   True\n",
      "    weekday        west   40187.7298 0.1823   -8997.9093   89373.3688  False\n",
      "    weekend        west   -33248.667 0.3987  -82913.4068   16416.0729  False\n",
      "----------------------------------------------------------------------------\n"
     ]
    }
   ],
   "source": [
    "mc = smm.MultiComparison(df2['TPcnt'], df2['Holiday_Type'])\n",
    "print(mc.tukeyhsd().summary())"
   ]
  },
  {
   "cell_type": "code",
   "execution_count": 25,
   "metadata": {},
   "outputs": [
    {
     "name": "stderr",
     "output_type": "stream",
     "text": [
      "D:\\New folder\\lib\\site-packages\\statsmodels\\sandbox\\stats\\multicomp.py:775: UserWarning: FixedFormatter should only be used together with FixedLocator\n",
      "  ax1.set_yticklabels(np.insert(self.groupsunique.astype(str), 0, ''))\n"
     ]
    },
    {
     "data": {
      "image/png": "[encoded data removed]",
      "text/plain": [
       "<Figure size 1500x900 with 1 Axes>"
      ]
     },
     "metadata": {
      "needs_background": "light"
     },
     "output_type": "display_data"
    }
   ],
   "source": [
    "_ = mc.tukeyhsd().plot_simultaneous()"
   ]
  },
  {
   "cell_type": "markdown",
   "metadata": {},
   "source": [
    "### Required Condition"
   ]
  },
  {
   "cell_type": "markdown",
   "metadata": {},
   "source": [
    "#### Check normality assumption - Shapiro Wilk Test"
   ]
  },
  {
   "cell_type": "markdown",
   "metadata": {},
   "source": [
    "$$H_0: \\text{residual of all datapoints are normally distributed}$$  \n",
    "$$H_1: \\text{residual of all datapoints are not normally distributed}$$  "
   ]
  },
  {
   "cell_type": "code",
   "execution_count": 26,
   "metadata": {},
   "outputs": [
    {
     "name": "stdout",
     "output_type": "stream",
     "text": [
      "Statistics=0.9760, p=0.0000\n"
     ]
    },
    {
     "name": "stderr",
     "output_type": "stream",
     "text": [
      "D:\\New folder\\lib\\site-packages\\scipy\\stats\\morestats.py:1681: UserWarning: p-value may not be accurate for N > 5000.\n",
      "  warnings.warn(\"p-value may not be accurate for N > 5000.\")\n"
     ]
    }
   ],
   "source": [
    "stat, p = stats.shapiro(results.resid)\n",
    "print('Statistics=%.4f, p=%.4f' % (stat, p))"
   ]
  },
  {
   "cell_type": "code",
   "execution_count": 27,
   "metadata": {},
   "outputs": [
    {
     "data": {
      "image/png": "[encoded data removed]",
      "text/plain": [
       "<Figure size 900x600 with 1 Axes>"
      ]
     },
     "metadata": {
      "needs_background": "light"
     },
     "output_type": "display_data"
    }
   ],
   "source": [
    "_ = plt.hist(results.resid, bins = \"auto\")"
   ]
  },
  {
   "cell_type": "code",
   "execution_count": 28,
   "metadata": {},
   "outputs": [
    {
     "data": {
      "image/png": "[encoded data removed]",
      "text/plain": [
       "<Figure size 900x600 with 1 Axes>"
      ]
     },
     "metadata": {
      "needs_background": "light"
     },
     "output_type": "display_data"
    }
   ],
   "source": [
    "fig = sm.qqplot(results.resid, stats.norm, fit=True, line='45')\n",
    "plt.show()"
   ]
  },
  {
   "cell_type": "markdown",
   "metadata": {},
   "source": [
    "#### Check equal variance assumption - Bartlett's Test"
   ]
  },
  {
   "cell_type": "markdown",
   "metadata": {},
   "source": [
    "$$H_0: \\text{Variance of different treatment groups are equal}$$  \n",
    "$$H_1: \\text{At least two treatment groups have different variance}$$"
   ]
  },
  {
   "cell_type": "code",
   "execution_count": 29,
   "metadata": {},
   "outputs": [
    {
     "data": {
      "text/plain": [
       "BartlettResult(statistic=90.2096874737218, pvalue=6.071205944563251e-18)"
      ]
     },
     "execution_count": 29,
     "metadata": {},
     "output_type": "execute_result"
    }
   ],
   "source": [
    "df2['resid'] = results.resid\n",
    "stats.bartlett(df2['resid'][df2['Holiday_Type'] == 'weekday'], \n",
    "               df2['resid'][df2['Holiday_Type'] == 'weekend'], \n",
    "               df2['resid'][df2['Holiday_Type'] == 'traditional'],\n",
    "                df2['resid'][df2['Holiday_Type'] == 'national'],\n",
    "                df2['resid'][df2['Holiday_Type'] == 'west'],\n",
    "              df2['resid'][df2['Holiday_Type'] == 'fother'])"
   ]
  },
  {
   "cell_type": "markdown",
   "metadata": {},
   "source": [
    "### Nonparametric - Kruskal"
   ]
  },
  {
   "cell_type": "code",
   "execution_count": 30,
   "metadata": {},
   "outputs": [
    {
     "data": {
      "text/html": [
       "<div>\n",
       "<style scoped>\n",
       "    .dataframe tbody tr th:only-of-type {\n",
       "        vertical-align: middle;\n",
       "    }\n",
       "\n",
       "    .dataframe tbody tr th {\n",
       "        vertical-align: top;\n",
       "    }\n",
       "\n",
       "    .dataframe thead th {\n",
       "        text-align: right;\n",
       "    }\n",
       "</style>\n",
       "<table border=\"1\" class=\"dataframe\">\n",
       "  <thead>\n",
       "    <tr style=\"text-align: right;\">\n",
       "      <th></th>\n",
       "      <th>value</th>\n",
       "      <th>rank</th>\n",
       "    </tr>\n",
       "  </thead>\n",
       "  <tbody>\n",
       "    <tr>\n",
       "      <th>0</th>\n",
       "      <td>6067.0</td>\n",
       "      <td>1.0</td>\n",
       "    </tr>\n",
       "    <tr>\n",
       "      <th>1</th>\n",
       "      <td>11739.0</td>\n",
       "      <td>2.0</td>\n",
       "    </tr>\n",
       "    <tr>\n",
       "      <th>2</th>\n",
       "      <td>36768.0</td>\n",
       "      <td>3.0</td>\n",
       "    </tr>\n",
       "    <tr>\n",
       "      <th>3</th>\n",
       "      <td>48663.0</td>\n",
       "      <td>4.0</td>\n",
       "    </tr>\n",
       "    <tr>\n",
       "      <th>4</th>\n",
       "      <td>53005.0</td>\n",
       "      <td>5.0</td>\n",
       "    </tr>\n",
       "    <tr>\n",
       "      <th>...</th>\n",
       "      <td>...</td>\n",
       "      <td>...</td>\n",
       "    </tr>\n",
       "    <tr>\n",
       "      <th>6246</th>\n",
       "      <td>897224.0</td>\n",
       "      <td>6295.0</td>\n",
       "    </tr>\n",
       "    <tr>\n",
       "      <th>6247</th>\n",
       "      <td>901803.0</td>\n",
       "      <td>6296.0</td>\n",
       "    </tr>\n",
       "    <tr>\n",
       "      <th>6248</th>\n",
       "      <td>902334.0</td>\n",
       "      <td>6297.0</td>\n",
       "    </tr>\n",
       "    <tr>\n",
       "      <th>6249</th>\n",
       "      <td>910724.0</td>\n",
       "      <td>6298.0</td>\n",
       "    </tr>\n",
       "    <tr>\n",
       "      <th>6250</th>\n",
       "      <td>936363.0</td>\n",
       "      <td>6299.0</td>\n",
       "    </tr>\n",
       "  </tbody>\n",
       "</table>\n",
       "<p>6251 rows × 2 columns</p>\n",
       "</div>"
      ],
      "text/plain": [
       "         value    rank\n",
       "0       6067.0     1.0\n",
       "1      11739.0     2.0\n",
       "2      36768.0     3.0\n",
       "3      48663.0     4.0\n",
       "4      53005.0     5.0\n",
       "...        ...     ...\n",
       "6246  897224.0  6295.0\n",
       "6247  901803.0  6296.0\n",
       "6248  902334.0  6297.0\n",
       "6249  910724.0  6298.0\n",
       "6250  936363.0  6299.0\n",
       "\n",
       "[6251 rows x 2 columns]"
      ]
     },
     "execution_count": 30,
     "metadata": {},
     "output_type": "execute_result"
    }
   ],
   "source": [
    "alldata = np.array([])\n",
    "for day in days:\n",
    "    alldata = np.concatenate([alldata, day])\n",
    "alldata.sort()\n",
    "tmpdf = pd.DataFrame(({'value': alldata}))\n",
    "tmpdf['rank'] = tmpdf.index + 1\n",
    "value2rank = tmpdf.groupby('value').mean().reset_index()\n",
    "value2rank"
   ]
  },
  {
   "cell_type": "code",
   "execution_count": 31,
   "metadata": {},
   "outputs": [
    {
     "name": "stdout",
     "output_type": "stream",
     "text": [
      "T0 = 11698897.5\n",
      "T1 = 6005491.0\n",
      "T2 = 872796.0\n",
      "T3 = 973853.5\n",
      "T4 = 162747.0\n",
      "T5 = 128065.0\n"
     ]
    }
   ],
   "source": [
    "T = []\n",
    "for i, day in enumerate(days):\n",
    "    samp = pd.DataFrame({'value': day})\n",
    "    samp = pd.merge(samp, value2rank)\n",
    "    T.append(samp['rank'].sum())\n",
    "    print(f\"T%s = {T[i]}\"%(i))"
   ]
  },
  {
   "cell_type": "code",
   "execution_count": 32,
   "metadata": {},
   "outputs": [
    {
     "name": "stdout",
     "output_type": "stream",
     "text": [
      "H = 601.2293556897421\n",
      "p-value = 0.0\n"
     ]
    }
   ],
   "source": [
    "n = []\n",
    "columns = ['Weekday', 'Weekend', 'Traditional', 'National', 'Western', 'Fother']\n",
    "for column in columns:\n",
    "    n.append(df1[column].dropna().shape[0])\n",
    "    \n",
    "T = np.array(T)\n",
    "n = np.array(n)\n",
    "x = T ** 2 / n\n",
    "k = 6\n",
    "n = n.sum()\n",
    "H = 12 / (n * (n + 1)) * (x.sum()) - 3 * (n + 1)\n",
    "pvalue = 1 - stats.chi2.cdf(H, k - 1)\n",
    "\n",
    "print(f\"H = {H}\")\n",
    "print(f\"p-value = {pvalue}\")"
   ]
  },
  {
   "cell_type": "markdown",
   "metadata": {},
   "source": [
    "## 假期長度"
   ]
  },
  {
   "cell_type": "markdown",
   "metadata": {},
   "source": [
    "### Parametric - One Way Anova"
   ]
  },
  {
   "cell_type": "code",
   "execution_count": 33,
   "metadata": {},
   "outputs": [],
   "source": [
    "days_len = [[], [], [], [], [], []]"
   ]
  },
  {
   "cell_type": "code",
   "execution_count": 34,
   "metadata": {},
   "outputs": [],
   "source": [
    "year = np.arange(2005, 2023, 1)\n",
    "month = np.arange(1, 13, 1)\n",
    "for y in year:\n",
    "    if(y == 2022):\n",
    "        month = np.arange(1, 4, 1)\n",
    "    for m in month:\n",
    "        for d in np.arange(1, calendar.monthrange(y,m)[1] + 1, 1):\n",
    "            today = datetime(y,m,d)\n",
    "            length = getHolidayLength(today)\n",
    "            if(length > 4):\n",
    "                days_len[5].append(transportCnt[today])\n",
    "            else:\n",
    "                days_len[length].append(transportCnt[today])"
   ]
  },
  {
   "cell_type": "code",
   "execution_count": 35,
   "metadata": {},
   "outputs": [
    {
     "data": {
      "text/html": [
       "<div>\n",
       "<style scoped>\n",
       "    .dataframe tbody tr th:only-of-type {\n",
       "        vertical-align: middle;\n",
       "    }\n",
       "\n",
       "    .dataframe tbody tr th {\n",
       "        vertical-align: top;\n",
       "    }\n",
       "\n",
       "    .dataframe thead th {\n",
       "        text-align: right;\n",
       "    }\n",
       "</style>\n",
       "<table border=\"1\" class=\"dataframe\">\n",
       "  <thead>\n",
       "    <tr style=\"text-align: right;\">\n",
       "      <th></th>\n",
       "      <th>Normal</th>\n",
       "      <th>One</th>\n",
       "      <th>Two</th>\n",
       "      <th>Three</th>\n",
       "      <th>Four</th>\n",
       "      <th>FourPlus</th>\n",
       "    </tr>\n",
       "  </thead>\n",
       "  <tbody>\n",
       "    <tr>\n",
       "      <th>0</th>\n",
       "      <td>298141.0</td>\n",
       "      <td>489161.0</td>\n",
       "      <td>382902.0</td>\n",
       "      <td>478008.0</td>\n",
       "      <td>504462.0</td>\n",
       "      <td>274651.0</td>\n",
       "    </tr>\n",
       "    <tr>\n",
       "      <th>1</th>\n",
       "      <td>252051.0</td>\n",
       "      <td>525979.0</td>\n",
       "      <td>412908.0</td>\n",
       "      <td>489242.0</td>\n",
       "      <td>527932.0</td>\n",
       "      <td>477359.0</td>\n",
       "    </tr>\n",
       "    <tr>\n",
       "      <th>2</th>\n",
       "      <td>263399.0</td>\n",
       "      <td>429652.0</td>\n",
       "      <td>408412.0</td>\n",
       "      <td>518795.0</td>\n",
       "      <td>462249.0</td>\n",
       "      <td>521655.0</td>\n",
       "    </tr>\n",
       "    <tr>\n",
       "      <th>3</th>\n",
       "      <td>280465.0</td>\n",
       "      <td>591644.0</td>\n",
       "      <td>452831.0</td>\n",
       "      <td>568488.0</td>\n",
       "      <td>546841.0</td>\n",
       "      <td>593039.0</td>\n",
       "    </tr>\n",
       "    <tr>\n",
       "      <th>4</th>\n",
       "      <td>403391.0</td>\n",
       "      <td>494849.0</td>\n",
       "      <td>304253.0</td>\n",
       "      <td>451271.0</td>\n",
       "      <td>505465.0</td>\n",
       "      <td>582214.0</td>\n",
       "    </tr>\n",
       "    <tr>\n",
       "      <th>...</th>\n",
       "      <td>...</td>\n",
       "      <td>...</td>\n",
       "      <td>...</td>\n",
       "      <td>...</td>\n",
       "      <td>...</td>\n",
       "      <td>...</td>\n",
       "    </tr>\n",
       "    <tr>\n",
       "      <th>4278</th>\n",
       "      <td>654697.0</td>\n",
       "      <td>NaN</td>\n",
       "      <td>NaN</td>\n",
       "      <td>NaN</td>\n",
       "      <td>NaN</td>\n",
       "      <td>NaN</td>\n",
       "    </tr>\n",
       "    <tr>\n",
       "      <th>4279</th>\n",
       "      <td>487321.0</td>\n",
       "      <td>NaN</td>\n",
       "      <td>NaN</td>\n",
       "      <td>NaN</td>\n",
       "      <td>NaN</td>\n",
       "      <td>NaN</td>\n",
       "    </tr>\n",
       "    <tr>\n",
       "      <th>4280</th>\n",
       "      <td>480399.0</td>\n",
       "      <td>NaN</td>\n",
       "      <td>NaN</td>\n",
       "      <td>NaN</td>\n",
       "      <td>NaN</td>\n",
       "      <td>NaN</td>\n",
       "    </tr>\n",
       "    <tr>\n",
       "      <th>4281</th>\n",
       "      <td>488678.0</td>\n",
       "      <td>NaN</td>\n",
       "      <td>NaN</td>\n",
       "      <td>NaN</td>\n",
       "      <td>NaN</td>\n",
       "      <td>NaN</td>\n",
       "    </tr>\n",
       "    <tr>\n",
       "      <th>4282</th>\n",
       "      <td>532029.0</td>\n",
       "      <td>NaN</td>\n",
       "      <td>NaN</td>\n",
       "      <td>NaN</td>\n",
       "      <td>NaN</td>\n",
       "      <td>NaN</td>\n",
       "    </tr>\n",
       "  </tbody>\n",
       "</table>\n",
       "<p>4283 rows × 6 columns</p>\n",
       "</div>"
      ],
      "text/plain": [
       "        Normal       One       Two     Three      Four  FourPlus\n",
       "0     298141.0  489161.0  382902.0  478008.0  504462.0  274651.0\n",
       "1     252051.0  525979.0  412908.0  489242.0  527932.0  477359.0\n",
       "2     263399.0  429652.0  408412.0  518795.0  462249.0  521655.0\n",
       "3     280465.0  591644.0  452831.0  568488.0  546841.0  593039.0\n",
       "4     403391.0  494849.0  304253.0  451271.0  505465.0  582214.0\n",
       "...        ...       ...       ...       ...       ...       ...\n",
       "4278  654697.0       NaN       NaN       NaN       NaN       NaN\n",
       "4279  487321.0       NaN       NaN       NaN       NaN       NaN\n",
       "4280  480399.0       NaN       NaN       NaN       NaN       NaN\n",
       "4281  488678.0       NaN       NaN       NaN       NaN       NaN\n",
       "4282  532029.0       NaN       NaN       NaN       NaN       NaN\n",
       "\n",
       "[4283 rows x 6 columns]"
      ]
     },
     "execution_count": 35,
     "metadata": {},
     "output_type": "execute_result"
    }
   ],
   "source": [
    "df1 = pd.DataFrame(days_len).T\n",
    "df1.columns = ['Normal', 'One', 'Two', 'Three', 'Four', 'FourPlus']\n",
    "df1"
   ]
  },
  {
   "cell_type": "code",
   "execution_count": 36,
   "metadata": {},
   "outputs": [
    {
     "name": "stdout",
     "output_type": "stream",
     "text": [
      "Head of dataset:\n"
     ]
    },
    {
     "data": {
      "text/html": [
       "<div>\n",
       "<style scoped>\n",
       "    .dataframe tbody tr th:only-of-type {\n",
       "        vertical-align: middle;\n",
       "    }\n",
       "\n",
       "    .dataframe tbody tr th {\n",
       "        vertical-align: top;\n",
       "    }\n",
       "\n",
       "    .dataframe thead th {\n",
       "        text-align: right;\n",
       "    }\n",
       "</style>\n",
       "<table border=\"1\" class=\"dataframe\">\n",
       "  <thead>\n",
       "    <tr style=\"text-align: right;\">\n",
       "      <th></th>\n",
       "      <th>id</th>\n",
       "      <th>Holiday_Type</th>\n",
       "      <th>TPcnt</th>\n",
       "    </tr>\n",
       "  </thead>\n",
       "  <tbody>\n",
       "    <tr>\n",
       "      <th>0</th>\n",
       "      <td>0</td>\n",
       "      <td>normal</td>\n",
       "      <td>298141.0</td>\n",
       "    </tr>\n",
       "    <tr>\n",
       "      <th>1</th>\n",
       "      <td>1</td>\n",
       "      <td>normal</td>\n",
       "      <td>252051.0</td>\n",
       "    </tr>\n",
       "    <tr>\n",
       "      <th>2</th>\n",
       "      <td>2</td>\n",
       "      <td>normal</td>\n",
       "      <td>263399.0</td>\n",
       "    </tr>\n",
       "    <tr>\n",
       "      <th>3</th>\n",
       "      <td>3</td>\n",
       "      <td>normal</td>\n",
       "      <td>280465.0</td>\n",
       "    </tr>\n",
       "    <tr>\n",
       "      <th>4</th>\n",
       "      <td>4</td>\n",
       "      <td>normal</td>\n",
       "      <td>403391.0</td>\n",
       "    </tr>\n",
       "  </tbody>\n",
       "</table>\n",
       "</div>"
      ],
      "text/plain": [
       "   id Holiday_Type     TPcnt\n",
       "0   0       normal  298141.0\n",
       "1   1       normal  252051.0\n",
       "2   2       normal  263399.0\n",
       "3   3       normal  280465.0\n",
       "4   4       normal  403391.0"
      ]
     },
     "metadata": {},
     "output_type": "display_data"
    },
    {
     "name": "stdout",
     "output_type": "stream",
     "text": [
      "Tail of dataset:\n"
     ]
    },
    {
     "data": {
      "text/html": [
       "<div>\n",
       "<style scoped>\n",
       "    .dataframe tbody tr th:only-of-type {\n",
       "        vertical-align: middle;\n",
       "    }\n",
       "\n",
       "    .dataframe tbody tr th {\n",
       "        vertical-align: top;\n",
       "    }\n",
       "\n",
       "    .dataframe thead th {\n",
       "        text-align: right;\n",
       "    }\n",
       "</style>\n",
       "<table border=\"1\" class=\"dataframe\">\n",
       "  <thead>\n",
       "    <tr style=\"text-align: right;\">\n",
       "      <th></th>\n",
       "      <th>id</th>\n",
       "      <th>Holiday_Type</th>\n",
       "      <th>TPcnt</th>\n",
       "    </tr>\n",
       "  </thead>\n",
       "  <tbody>\n",
       "    <tr>\n",
       "      <th>21549</th>\n",
       "      <td>134</td>\n",
       "      <td>fourplus</td>\n",
       "      <td>436579.0</td>\n",
       "    </tr>\n",
       "    <tr>\n",
       "      <th>21550</th>\n",
       "      <td>135</td>\n",
       "      <td>fourplus</td>\n",
       "      <td>417748.0</td>\n",
       "    </tr>\n",
       "    <tr>\n",
       "      <th>21551</th>\n",
       "      <td>136</td>\n",
       "      <td>fourplus</td>\n",
       "      <td>442142.0</td>\n",
       "    </tr>\n",
       "    <tr>\n",
       "      <th>21552</th>\n",
       "      <td>137</td>\n",
       "      <td>fourplus</td>\n",
       "      <td>436386.0</td>\n",
       "    </tr>\n",
       "    <tr>\n",
       "      <th>21553</th>\n",
       "      <td>138</td>\n",
       "      <td>fourplus</td>\n",
       "      <td>436223.0</td>\n",
       "    </tr>\n",
       "  </tbody>\n",
       "</table>\n",
       "</div>"
      ],
      "text/plain": [
       "        id Holiday_Type     TPcnt\n",
       "21549  134     fourplus  436579.0\n",
       "21550  135     fourplus  417748.0\n",
       "21551  136     fourplus  442142.0\n",
       "21552  137     fourplus  436386.0\n",
       "21553  138     fourplus  436223.0"
      ]
     },
     "metadata": {},
     "output_type": "display_data"
    }
   ],
   "source": [
    "# wide_to_long假設同樣資料在不同因素下的名稱有相同的字頭，因此我們要改欄位名稱。\n",
    "df1b = df1.rename(columns={'Normal': 'TPcnt_normal', \"One\": \"TPcnt_one\", \n",
    "                          \"Two\": \"TPcnt_two\", \"Three\": \"TPcnt_three\"\n",
    "                         , \"Four\": \"TPcnt_four\", \"FourPlus\": \"TPcnt_fourplus\"})\n",
    "# 需要一個ID欄位\n",
    "df1b[\"id\"] = df1b.index\n",
    "# 呼叫wide_to_long(); 文件請見: https://pandas.pydata.org/pandas-docs/stable/reference/api/pandas.wide_to_long.html\n",
    "df2 = pd.wide_to_long(df1b, [\"TPcnt\"], sep=\"_\", suffix='\\w+', i=\"id\", j=\"Holiday_Type\").reset_index()\n",
    "df2 = df2.dropna()\n",
    "print(\"Head of dataset:\")\n",
    "display(df2.head())\n",
    "print(\"Tail of dataset:\")\n",
    "display(df2.tail())"
   ]
  },
  {
   "cell_type": "code",
   "execution_count": 37,
   "metadata": {},
   "outputs": [
    {
     "data": {
      "text/html": [
       "<div>\n",
       "<style scoped>\n",
       "    .dataframe tbody tr th:only-of-type {\n",
       "        vertical-align: middle;\n",
       "    }\n",
       "\n",
       "    .dataframe tbody tr th {\n",
       "        vertical-align: top;\n",
       "    }\n",
       "\n",
       "    .dataframe thead th {\n",
       "        text-align: right;\n",
       "    }\n",
       "</style>\n",
       "<table border=\"1\" class=\"dataframe\">\n",
       "  <thead>\n",
       "    <tr style=\"text-align: right;\">\n",
       "      <th></th>\n",
       "      <th>sum_sq</th>\n",
       "      <th>df</th>\n",
       "      <th>F</th>\n",
       "      <th>PR(&gt;F)</th>\n",
       "    </tr>\n",
       "  </thead>\n",
       "  <tbody>\n",
       "    <tr>\n",
       "      <th>C(Holiday_Type)</th>\n",
       "      <td>9.118283e+12</td>\n",
       "      <td>5.0</td>\n",
       "      <td>129.095461</td>\n",
       "      <td>1.401010e-130</td>\n",
       "    </tr>\n",
       "    <tr>\n",
       "      <th>Residual</th>\n",
       "      <td>8.889755e+13</td>\n",
       "      <td>6293.0</td>\n",
       "      <td>NaN</td>\n",
       "      <td>NaN</td>\n",
       "    </tr>\n",
       "  </tbody>\n",
       "</table>\n",
       "</div>"
      ],
      "text/plain": [
       "                       sum_sq      df           F         PR(>F)\n",
       "C(Holiday_Type)  9.118283e+12     5.0  129.095461  1.401010e-130\n",
       "Residual         8.889755e+13  6293.0         NaN            NaN"
      ]
     },
     "execution_count": 37,
     "metadata": {},
     "output_type": "execute_result"
    }
   ],
   "source": [
    "results = smf.ols('TPcnt ~ C(Holiday_Type)', data=df2).fit()\n",
    "# results.summary()\n",
    "aov_table = sms.anova_lm(results, typ=2)\n",
    "aov_table"
   ]
  },
  {
   "cell_type": "code",
   "execution_count": 38,
   "metadata": {},
   "outputs": [
    {
     "name": "stdout",
     "output_type": "stream",
     "text": [
      "         Multiple Comparison of Means - Tukey HSD, FWER=0.05          \n",
      "======================================================================\n",
      " group1   group2    meandiff   p-adj     lower        upper     reject\n",
      "----------------------------------------------------------------------\n",
      "    four fourplus  -66775.1867  0.001 -110463.7216  -23086.6519   True\n",
      "    four   normal -144670.3074  0.001 -177982.2985 -111358.3163   True\n",
      "    four      one -104495.5811  0.001 -177531.3787  -31459.7834   True\n",
      "    four    three  -37827.4729 0.1372  -81723.9904    6069.0446  False\n",
      "    four      two   -72240.133  0.001  -106214.723  -38265.5429   True\n",
      "fourplus   normal  -77895.1207  0.001 -107094.4384  -48695.8031   True\n",
      "fourplus      one  -37720.3944 0.6374 -108974.4408   33533.6521  False\n",
      "fourplus    three   28947.7138 0.3312  -11915.6641   69811.0916  False\n",
      "fourplus      two   -5464.9462    0.9   -35417.979   24488.0865  False\n",
      "  normal      one   40174.7264 0.4977  -25232.7641  105582.2169  False\n",
      "  normal    three  106842.8345  0.001   77333.2374  136352.4316   True\n",
      "  normal      two   72430.1745  0.001    62521.348   82339.0009   True\n",
      "     one    three   66668.1081 0.0833   -4713.6494  138049.8657  False\n",
      "     one      two   32255.4481 0.7013  -33491.9764   98002.8726  False\n",
      "   three      two    -34412.66 0.0151  -64668.2436   -4157.0764   True\n",
      "----------------------------------------------------------------------\n"
     ]
    }
   ],
   "source": [
    "mc = smm.MultiComparison(df2['TPcnt'], df2['Holiday_Type'])\n",
    "print(mc.tukeyhsd().summary())"
   ]
  },
  {
   "cell_type": "code",
   "execution_count": 39,
   "metadata": {},
   "outputs": [
    {
     "name": "stderr",
     "output_type": "stream",
     "text": [
      "D:\\New folder\\lib\\site-packages\\statsmodels\\sandbox\\stats\\multicomp.py:775: UserWarning: FixedFormatter should only be used together with FixedLocator\n",
      "  ax1.set_yticklabels(np.insert(self.groupsunique.astype(str), 0, ''))\n"
     ]
    },
    {
     "data": {
      "image/png": "[encoded data removed]",
      "text/plain": [
       "<Figure size 1500x900 with 1 Axes>"
      ]
     },
     "metadata": {
      "needs_background": "light"
     },
     "output_type": "display_data"
    }
   ],
   "source": [
    "_ = mc.tukeyhsd().plot_simultaneous()"
   ]
  },
  {
   "cell_type": "markdown",
   "metadata": {},
   "source": [
    "### Required Condition"
   ]
  },
  {
   "cell_type": "markdown",
   "metadata": {},
   "source": [
    "#### Check normality assumption - Shapiro Wilk Test"
   ]
  },
  {
   "cell_type": "markdown",
   "metadata": {},
   "source": [
    "$$H_0: \\text{residual of all datapoints are normally distributed}$$  \n",
    "$$H_1: \\text{residual of all datapoints are not normally distributed}$$  "
   ]
  },
  {
   "cell_type": "code",
   "execution_count": 40,
   "metadata": {},
   "outputs": [
    {
     "name": "stdout",
     "output_type": "stream",
     "text": [
      "Statistics=0.9752, p=0.0000\n"
     ]
    },
    {
     "name": "stderr",
     "output_type": "stream",
     "text": [
      "D:\\New folder\\lib\\site-packages\\scipy\\stats\\morestats.py:1681: UserWarning: p-value may not be accurate for N > 5000.\n",
      "  warnings.warn(\"p-value may not be accurate for N > 5000.\")\n"
     ]
    }
   ],
   "source": [
    "stat, p = stats.shapiro(results.resid)\n",
    "print('Statistics=%.4f, p=%.4f' % (stat, p))"
   ]
  },
  {
   "cell_type": "code",
   "execution_count": 41,
   "metadata": {},
   "outputs": [
    {
     "data": {
      "image/png": "[encoded data removed]",
      "text/plain": [
       "<Figure size 900x600 with 1 Axes>"
      ]
     },
     "metadata": {
      "needs_background": "light"
     },
     "output_type": "display_data"
    }
   ],
   "source": [
    "_ = plt.hist(results.resid, bins = \"auto\")"
   ]
  },
  {
   "cell_type": "code",
   "execution_count": 42,
   "metadata": {},
   "outputs": [
    {
     "data": {
      "image/png": "[encoded data removed]",
      "text/plain": [
       "<Figure size 900x600 with 1 Axes>"
      ]
     },
     "metadata": {
      "needs_background": "light"
     },
     "output_type": "display_data"
    }
   ],
   "source": [
    "fig = sm.qqplot(results.resid, stats.norm, fit=True, line='45')\n",
    "plt.show()"
   ]
  },
  {
   "cell_type": "markdown",
   "metadata": {},
   "source": [
    "### Nonparametric - Kruskal"
   ]
  },
  {
   "cell_type": "code",
   "execution_count": 43,
   "metadata": {},
   "outputs": [
    {
     "data": {
      "text/html": [
       "<div>\n",
       "<style scoped>\n",
       "    .dataframe tbody tr th:only-of-type {\n",
       "        vertical-align: middle;\n",
       "    }\n",
       "\n",
       "    .dataframe tbody tr th {\n",
       "        vertical-align: top;\n",
       "    }\n",
       "\n",
       "    .dataframe thead th {\n",
       "        text-align: right;\n",
       "    }\n",
       "</style>\n",
       "<table border=\"1\" class=\"dataframe\">\n",
       "  <thead>\n",
       "    <tr style=\"text-align: right;\">\n",
       "      <th></th>\n",
       "      <th>value</th>\n",
       "      <th>rank</th>\n",
       "    </tr>\n",
       "  </thead>\n",
       "  <tbody>\n",
       "    <tr>\n",
       "      <th>0</th>\n",
       "      <td>6067.0</td>\n",
       "      <td>1.0</td>\n",
       "    </tr>\n",
       "    <tr>\n",
       "      <th>1</th>\n",
       "      <td>11739.0</td>\n",
       "      <td>2.0</td>\n",
       "    </tr>\n",
       "    <tr>\n",
       "      <th>2</th>\n",
       "      <td>36768.0</td>\n",
       "      <td>3.0</td>\n",
       "    </tr>\n",
       "    <tr>\n",
       "      <th>3</th>\n",
       "      <td>48663.0</td>\n",
       "      <td>4.0</td>\n",
       "    </tr>\n",
       "    <tr>\n",
       "      <th>4</th>\n",
       "      <td>53005.0</td>\n",
       "      <td>5.0</td>\n",
       "    </tr>\n",
       "    <tr>\n",
       "      <th>...</th>\n",
       "      <td>...</td>\n",
       "      <td>...</td>\n",
       "    </tr>\n",
       "    <tr>\n",
       "      <th>6246</th>\n",
       "      <td>897224.0</td>\n",
       "      <td>6295.0</td>\n",
       "    </tr>\n",
       "    <tr>\n",
       "      <th>6247</th>\n",
       "      <td>901803.0</td>\n",
       "      <td>6296.0</td>\n",
       "    </tr>\n",
       "    <tr>\n",
       "      <th>6248</th>\n",
       "      <td>902334.0</td>\n",
       "      <td>6297.0</td>\n",
       "    </tr>\n",
       "    <tr>\n",
       "      <th>6249</th>\n",
       "      <td>910724.0</td>\n",
       "      <td>6298.0</td>\n",
       "    </tr>\n",
       "    <tr>\n",
       "      <th>6250</th>\n",
       "      <td>936363.0</td>\n",
       "      <td>6299.0</td>\n",
       "    </tr>\n",
       "  </tbody>\n",
       "</table>\n",
       "<p>6251 rows × 2 columns</p>\n",
       "</div>"
      ],
      "text/plain": [
       "         value    rank\n",
       "0       6067.0     1.0\n",
       "1      11739.0     2.0\n",
       "2      36768.0     3.0\n",
       "3      48663.0     4.0\n",
       "4      53005.0     5.0\n",
       "...        ...     ...\n",
       "6246  897224.0  6295.0\n",
       "6247  901803.0  6296.0\n",
       "6248  902334.0  6297.0\n",
       "6249  910724.0  6298.0\n",
       "6250  936363.0  6299.0\n",
       "\n",
       "[6251 rows x 2 columns]"
      ]
     },
     "execution_count": 43,
     "metadata": {},
     "output_type": "execute_result"
    }
   ],
   "source": [
    "alldata = np.array([])\n",
    "for day in days_len:\n",
    "    alldata = np.concatenate([alldata, day])\n",
    "alldata.sort()\n",
    "tmpdf = pd.DataFrame(({'value': alldata}))\n",
    "tmpdf['rank'] = tmpdf.index + 1\n",
    "value2rank = tmpdf.groupby('value').mean().reset_index()\n",
    "value2rank"
   ]
  },
  {
   "cell_type": "code",
   "execution_count": 44,
   "metadata": {},
   "outputs": [
    {
     "name": "stdout",
     "output_type": "stream",
     "text": [
      "T0 = 11873941.0\n",
      "T1 = 88790.0\n",
      "T2 = 6263799.0\n",
      "T3 = 593204.5\n",
      "T4 = 498025.5\n",
      "T5 = 524090.0\n"
     ]
    }
   ],
   "source": [
    "T = []\n",
    "for i, day in enumerate(days_len):\n",
    "    samp = pd.DataFrame({'value': day})\n",
    "    samp = pd.merge(samp, value2rank)\n",
    "    T.append(samp['rank'].sum())\n",
    "    print(f\"T%s = {T[i]}\"%(i))"
   ]
  },
  {
   "cell_type": "code",
   "execution_count": 45,
   "metadata": {},
   "outputs": [
    {
     "name": "stdout",
     "output_type": "stream",
     "text": [
      "H = 608.458137427675\n",
      "p-value = 0.0\n"
     ]
    }
   ],
   "source": [
    "n = []\n",
    "columns = ['Normal', 'One', 'Two', 'Three', 'Four', 'FourPlus']\n",
    "for column in columns:\n",
    "    n.append(df1[column].dropna().shape[0])\n",
    "# print(n)\n",
    "T = np.array(T)\n",
    "n = np.array(n)\n",
    "x = T ** 2 / n\n",
    "k = 6\n",
    "n = n.sum()\n",
    "H = 12 / (n * (n + 1)) * (x.sum()) - 3 * (n + 1)\n",
    "pvalue = 1 - stats.chi2.cdf(H, k - 1)\n",
    "\n",
    "print(f\"H = {H}\")\n",
    "print(f\"p-value = {pvalue}\")"
   ]
  },
  {
   "cell_type": "markdown",
   "metadata": {},
   "source": [
    "## 情人節"
   ]
  },
  {
   "cell_type": "code",
   "execution_count": 46,
   "metadata": {},
   "outputs": [],
   "source": [
    "valentines = [[] for i in range(12)]"
   ]
  },
  {
   "cell_type": "code",
   "execution_count": 47,
   "metadata": {},
   "outputs": [],
   "source": [
    "year = np.arange(2005, 2023, 1)\n",
    "month = np.arange(1, 13, 1)\n",
    "for y in year:\n",
    "    if(y == 2022):\n",
    "        month = np.arange(1, 4, 1)\n",
    "    for m in month:\n",
    "        valentines[m - 1].append(transportCnt[datetime(y, m, 14)])"
   ]
  },
  {
   "cell_type": "code",
   "execution_count": 48,
   "metadata": {},
   "outputs": [
    {
     "data": {
      "text/html": [
       "<div>\n",
       "<style scoped>\n",
       "    .dataframe tbody tr th:only-of-type {\n",
       "        vertical-align: middle;\n",
       "    }\n",
       "\n",
       "    .dataframe tbody tr th {\n",
       "        vertical-align: top;\n",
       "    }\n",
       "\n",
       "    .dataframe thead th {\n",
       "        text-align: right;\n",
       "    }\n",
       "</style>\n",
       "<table border=\"1\" class=\"dataframe\">\n",
       "  <thead>\n",
       "    <tr style=\"text-align: right;\">\n",
       "      <th></th>\n",
       "      <th>TPcnt_1</th>\n",
       "      <th>TPcnt_2</th>\n",
       "      <th>TPcnt_3</th>\n",
       "      <th>TPcnt_4</th>\n",
       "      <th>TPcnt_5</th>\n",
       "      <th>TPcnt_6</th>\n",
       "      <th>TPcnt_7</th>\n",
       "      <th>TPcnt_8</th>\n",
       "      <th>TPcnt_9</th>\n",
       "      <th>TPcnt_10</th>\n",
       "      <th>TPcnt_11</th>\n",
       "      <th>TPcnt_12</th>\n",
       "    </tr>\n",
       "  </thead>\n",
       "  <tbody>\n",
       "    <tr>\n",
       "      <th>2005</th>\n",
       "      <td>318290.0</td>\n",
       "      <td>450405.0</td>\n",
       "      <td>318814.0</td>\n",
       "      <td>284349.0</td>\n",
       "      <td>409884.0</td>\n",
       "      <td>324829.0</td>\n",
       "      <td>395254.0</td>\n",
       "      <td>531341.0</td>\n",
       "      <td>358410.0</td>\n",
       "      <td>515262.0</td>\n",
       "      <td>398514.0</td>\n",
       "      <td>245290.0</td>\n",
       "    </tr>\n",
       "    <tr>\n",
       "      <th>2006</th>\n",
       "      <td>449150.0</td>\n",
       "      <td>452942.0</td>\n",
       "      <td>400824.0</td>\n",
       "      <td>515705.0</td>\n",
       "      <td>588807.0</td>\n",
       "      <td>399951.0</td>\n",
       "      <td>352437.0</td>\n",
       "      <td>469339.0</td>\n",
       "      <td>407397.0</td>\n",
       "      <td>458128.0</td>\n",
       "      <td>375854.0</td>\n",
       "      <td>389563.0</td>\n",
       "    </tr>\n",
       "    <tr>\n",
       "      <th>2007</th>\n",
       "      <td>461995.0</td>\n",
       "      <td>474573.0</td>\n",
       "      <td>400144.0</td>\n",
       "      <td>479489.0</td>\n",
       "      <td>459170.0</td>\n",
       "      <td>395200.0</td>\n",
       "      <td>468255.0</td>\n",
       "      <td>404362.0</td>\n",
       "      <td>533525.0</td>\n",
       "      <td>577699.0</td>\n",
       "      <td>400046.0</td>\n",
       "      <td>486394.0</td>\n",
       "    </tr>\n",
       "    <tr>\n",
       "      <th>2008</th>\n",
       "      <td>425209.0</td>\n",
       "      <td>440739.0</td>\n",
       "      <td>559180.0</td>\n",
       "      <td>441385.0</td>\n",
       "      <td>429831.0</td>\n",
       "      <td>447319.0</td>\n",
       "      <td>513484.0</td>\n",
       "      <td>494439.0</td>\n",
       "      <td>315094.0</td>\n",
       "      <td>442171.0</td>\n",
       "      <td>602224.0</td>\n",
       "      <td>560965.0</td>\n",
       "    </tr>\n",
       "    <tr>\n",
       "      <th>2009</th>\n",
       "      <td>407928.0</td>\n",
       "      <td>587094.0</td>\n",
       "      <td>514156.0</td>\n",
       "      <td>418894.0</td>\n",
       "      <td>434937.0</td>\n",
       "      <td>487682.0</td>\n",
       "      <td>463845.0</td>\n",
       "      <td>566959.0</td>\n",
       "      <td>454860.0</td>\n",
       "      <td>446615.0</td>\n",
       "      <td>531077.0</td>\n",
       "      <td>486911.0</td>\n",
       "    </tr>\n",
       "    <tr>\n",
       "      <th>2010</th>\n",
       "      <td>438368.0</td>\n",
       "      <td>525868.0</td>\n",
       "      <td>621736.0</td>\n",
       "      <td>439190.0</td>\n",
       "      <td>594804.0</td>\n",
       "      <td>481583.0</td>\n",
       "      <td>502899.0</td>\n",
       "      <td>589628.0</td>\n",
       "      <td>467603.0</td>\n",
       "      <td>471497.0</td>\n",
       "      <td>640914.0</td>\n",
       "      <td>442155.0</td>\n",
       "    </tr>\n",
       "    <tr>\n",
       "      <th>2011</th>\n",
       "      <td>580913.0</td>\n",
       "      <td>512991.0</td>\n",
       "      <td>527480.0</td>\n",
       "      <td>479468.0</td>\n",
       "      <td>535165.0</td>\n",
       "      <td>476302.0</td>\n",
       "      <td>522079.0</td>\n",
       "      <td>598311.0</td>\n",
       "      <td>499761.0</td>\n",
       "      <td>652130.0</td>\n",
       "      <td>547550.0</td>\n",
       "      <td>485504.0</td>\n",
       "    </tr>\n",
       "    <tr>\n",
       "      <th>2012</th>\n",
       "      <td>656178.0</td>\n",
       "      <td>556255.0</td>\n",
       "      <td>500013.0</td>\n",
       "      <td>647461.0</td>\n",
       "      <td>602657.0</td>\n",
       "      <td>493279.0</td>\n",
       "      <td>678877.0</td>\n",
       "      <td>611067.0</td>\n",
       "      <td>675156.0</td>\n",
       "      <td>749914.0</td>\n",
       "      <td>532916.0</td>\n",
       "      <td>741383.0</td>\n",
       "    </tr>\n",
       "    <tr>\n",
       "      <th>2013</th>\n",
       "      <td>561754.0</td>\n",
       "      <td>840697.0</td>\n",
       "      <td>553870.0</td>\n",
       "      <td>664208.0</td>\n",
       "      <td>545777.0</td>\n",
       "      <td>693058.0</td>\n",
       "      <td>627192.0</td>\n",
       "      <td>583750.0</td>\n",
       "      <td>630801.0</td>\n",
       "      <td>597594.0</td>\n",
       "      <td>564056.0</td>\n",
       "      <td>711487.0</td>\n",
       "    </tr>\n",
       "    <tr>\n",
       "      <th>2014</th>\n",
       "      <td>519949.0</td>\n",
       "      <td>707415.0</td>\n",
       "      <td>758990.0</td>\n",
       "      <td>595793.0</td>\n",
       "      <td>562522.0</td>\n",
       "      <td>654366.0</td>\n",
       "      <td>643682.0</td>\n",
       "      <td>608560.0</td>\n",
       "      <td>753128.0</td>\n",
       "      <td>555984.0</td>\n",
       "      <td>744383.0</td>\n",
       "      <td>822566.0</td>\n",
       "    </tr>\n",
       "    <tr>\n",
       "      <th>2015</th>\n",
       "      <td>521046.0</td>\n",
       "      <td>649096.0</td>\n",
       "      <td>802597.0</td>\n",
       "      <td>551249.0</td>\n",
       "      <td>564029.0</td>\n",
       "      <td>773799.0</td>\n",
       "      <td>606589.0</td>\n",
       "      <td>718999.0</td>\n",
       "      <td>595922.0</td>\n",
       "      <td>557118.0</td>\n",
       "      <td>757533.0</td>\n",
       "      <td>619100.0</td>\n",
       "    </tr>\n",
       "    <tr>\n",
       "      <th>2016</th>\n",
       "      <td>564283.0</td>\n",
       "      <td>691804.0</td>\n",
       "      <td>589290.0</td>\n",
       "      <td>526919.0</td>\n",
       "      <td>706895.0</td>\n",
       "      <td>518465.0</td>\n",
       "      <td>609399.0</td>\n",
       "      <td>781925.0</td>\n",
       "      <td>534571.0</td>\n",
       "      <td>719520.0</td>\n",
       "      <td>621885.0</td>\n",
       "      <td>560882.0</td>\n",
       "    </tr>\n",
       "    <tr>\n",
       "      <th>2017</th>\n",
       "      <td>599901.0</td>\n",
       "      <td>610381.0</td>\n",
       "      <td>548958.0</td>\n",
       "      <td>723941.0</td>\n",
       "      <td>782018.0</td>\n",
       "      <td>491308.0</td>\n",
       "      <td>707914.0</td>\n",
       "      <td>638673.0</td>\n",
       "      <td>502774.0</td>\n",
       "      <td>474649.0</td>\n",
       "      <td>554507.0</td>\n",
       "      <td>587006.0</td>\n",
       "    </tr>\n",
       "    <tr>\n",
       "      <th>2018</th>\n",
       "      <td>696110.0</td>\n",
       "      <td>696659.0</td>\n",
       "      <td>574239.0</td>\n",
       "      <td>717258.0</td>\n",
       "      <td>616255.0</td>\n",
       "      <td>555922.0</td>\n",
       "      <td>681637.0</td>\n",
       "      <td>568724.0</td>\n",
       "      <td>683130.0</td>\n",
       "      <td>791132.0</td>\n",
       "      <td>576160.0</td>\n",
       "      <td>769429.0</td>\n",
       "    </tr>\n",
       "    <tr>\n",
       "      <th>2019</th>\n",
       "      <td>605582.0</td>\n",
       "      <td>631181.0</td>\n",
       "      <td>579083.0</td>\n",
       "      <td>800016.0</td>\n",
       "      <td>559073.0</td>\n",
       "      <td>684102.0</td>\n",
       "      <td>761492.0</td>\n",
       "      <td>628916.0</td>\n",
       "      <td>717625.0</td>\n",
       "      <td>655825.0</td>\n",
       "      <td>606127.0</td>\n",
       "      <td>841575.0</td>\n",
       "    </tr>\n",
       "    <tr>\n",
       "      <th>2020</th>\n",
       "      <td>599167.0</td>\n",
       "      <td>592056.0</td>\n",
       "      <td>459045.0</td>\n",
       "      <td>424549.0</td>\n",
       "      <td>476625.0</td>\n",
       "      <td>622417.0</td>\n",
       "      <td>582925.0</td>\n",
       "      <td>695108.0</td>\n",
       "      <td>558458.0</td>\n",
       "      <td>546696.0</td>\n",
       "      <td>682630.0</td>\n",
       "      <td>592265.0</td>\n",
       "    </tr>\n",
       "    <tr>\n",
       "      <th>2021</th>\n",
       "      <td>532069.0</td>\n",
       "      <td>726865.0</td>\n",
       "      <td>699357.0</td>\n",
       "      <td>539546.0</td>\n",
       "      <td>567507.0</td>\n",
       "      <td>115932.0</td>\n",
       "      <td>177674.0</td>\n",
       "      <td>279201.0</td>\n",
       "      <td>373990.0</td>\n",
       "      <td>445765.0</td>\n",
       "      <td>633618.0</td>\n",
       "      <td>493577.0</td>\n",
       "    </tr>\n",
       "    <tr>\n",
       "      <th>2022</th>\n",
       "      <td>580608.0</td>\n",
       "      <td>454237.0</td>\n",
       "      <td>526784.0</td>\n",
       "      <td>NaN</td>\n",
       "      <td>NaN</td>\n",
       "      <td>NaN</td>\n",
       "      <td>NaN</td>\n",
       "      <td>NaN</td>\n",
       "      <td>NaN</td>\n",
       "      <td>NaN</td>\n",
       "      <td>NaN</td>\n",
       "      <td>NaN</td>\n",
       "    </tr>\n",
       "  </tbody>\n",
       "</table>\n",
       "</div>"
      ],
      "text/plain": [
       "       TPcnt_1   TPcnt_2   TPcnt_3   TPcnt_4   TPcnt_5   TPcnt_6   TPcnt_7  \\\n",
       "2005  318290.0  450405.0  318814.0  284349.0  409884.0  324829.0  395254.0   \n",
       "2006  449150.0  452942.0  400824.0  515705.0  588807.0  399951.0  352437.0   \n",
       "2007  461995.0  474573.0  400144.0  479489.0  459170.0  395200.0  468255.0   \n",
       "2008  425209.0  440739.0  559180.0  441385.0  429831.0  447319.0  513484.0   \n",
       "2009  407928.0  587094.0  514156.0  418894.0  434937.0  487682.0  463845.0   \n",
       "2010  438368.0  525868.0  621736.0  439190.0  594804.0  481583.0  502899.0   \n",
       "2011  580913.0  512991.0  527480.0  479468.0  535165.0  476302.0  522079.0   \n",
       "2012  656178.0  556255.0  500013.0  647461.0  602657.0  493279.0  678877.0   \n",
       "2013  561754.0  840697.0  553870.0  664208.0  545777.0  693058.0  627192.0   \n",
       "2014  519949.0  707415.0  758990.0  595793.0  562522.0  654366.0  643682.0   \n",
       "2015  521046.0  649096.0  802597.0  551249.0  564029.0  773799.0  606589.0   \n",
       "2016  564283.0  691804.0  589290.0  526919.0  706895.0  518465.0  609399.0   \n",
       "2017  599901.0  610381.0  548958.0  723941.0  782018.0  491308.0  707914.0   \n",
       "2018  696110.0  696659.0  574239.0  717258.0  616255.0  555922.0  681637.0   \n",
       "2019  605582.0  631181.0  579083.0  800016.0  559073.0  684102.0  761492.0   \n",
       "2020  599167.0  592056.0  459045.0  424549.0  476625.0  622417.0  582925.0   \n",
       "2021  532069.0  726865.0  699357.0  539546.0  567507.0  115932.0  177674.0   \n",
       "2022  580608.0  454237.0  526784.0       NaN       NaN       NaN       NaN   \n",
       "\n",
       "       TPcnt_8   TPcnt_9  TPcnt_10  TPcnt_11  TPcnt_12  \n",
       "2005  531341.0  358410.0  515262.0  398514.0  245290.0  \n",
       "2006  469339.0  407397.0  458128.0  375854.0  389563.0  \n",
       "2007  404362.0  533525.0  577699.0  400046.0  486394.0  \n",
       "2008  494439.0  315094.0  442171.0  602224.0  560965.0  \n",
       "2009  566959.0  454860.0  446615.0  531077.0  486911.0  \n",
       "2010  589628.0  467603.0  471497.0  640914.0  442155.0  \n",
       "2011  598311.0  499761.0  652130.0  547550.0  485504.0  \n",
       "2012  611067.0  675156.0  749914.0  532916.0  741383.0  \n",
       "2013  583750.0  630801.0  597594.0  564056.0  711487.0  \n",
       "2014  608560.0  753128.0  555984.0  744383.0  822566.0  \n",
       "2015  718999.0  595922.0  557118.0  757533.0  619100.0  \n",
       "2016  781925.0  534571.0  719520.0  621885.0  560882.0  \n",
       "2017  638673.0  502774.0  474649.0  554507.0  587006.0  \n",
       "2018  568724.0  683130.0  791132.0  576160.0  769429.0  \n",
       "2019  628916.0  717625.0  655825.0  606127.0  841575.0  \n",
       "2020  695108.0  558458.0  546696.0  682630.0  592265.0  \n",
       "2021  279201.0  373990.0  445765.0  633618.0  493577.0  \n",
       "2022       NaN       NaN       NaN       NaN       NaN  "
      ]
     },
     "execution_count": 48,
     "metadata": {},
     "output_type": "execute_result"
    }
   ],
   "source": [
    "df1 = pd.DataFrame(valentines).T\n",
    "month = np.arange(1, 13, 1)\n",
    "month = [\"TPcnt_\" + str(m) for m in month]\n",
    "df1.columns = month\n",
    "df1.index = year\n",
    "df1"
   ]
  },
  {
   "cell_type": "code",
   "execution_count": 49,
   "metadata": {},
   "outputs": [
    {
     "name": "stdout",
     "output_type": "stream",
     "text": [
      "Head of dataset:\n"
     ]
    },
    {
     "data": {
      "text/html": [
       "<div>\n",
       "<style scoped>\n",
       "    .dataframe tbody tr th:only-of-type {\n",
       "        vertical-align: middle;\n",
       "    }\n",
       "\n",
       "    .dataframe tbody tr th {\n",
       "        vertical-align: top;\n",
       "    }\n",
       "\n",
       "    .dataframe thead th {\n",
       "        text-align: right;\n",
       "    }\n",
       "</style>\n",
       "<table border=\"1\" class=\"dataframe\">\n",
       "  <thead>\n",
       "    <tr style=\"text-align: right;\">\n",
       "      <th></th>\n",
       "      <th>id</th>\n",
       "      <th>Month</th>\n",
       "      <th>TPcnt</th>\n",
       "    </tr>\n",
       "  </thead>\n",
       "  <tbody>\n",
       "    <tr>\n",
       "      <th>0</th>\n",
       "      <td>2005</td>\n",
       "      <td>1</td>\n",
       "      <td>318290.0</td>\n",
       "    </tr>\n",
       "    <tr>\n",
       "      <th>1</th>\n",
       "      <td>2006</td>\n",
       "      <td>1</td>\n",
       "      <td>449150.0</td>\n",
       "    </tr>\n",
       "    <tr>\n",
       "      <th>2</th>\n",
       "      <td>2007</td>\n",
       "      <td>1</td>\n",
       "      <td>461995.0</td>\n",
       "    </tr>\n",
       "    <tr>\n",
       "      <th>3</th>\n",
       "      <td>2008</td>\n",
       "      <td>1</td>\n",
       "      <td>425209.0</td>\n",
       "    </tr>\n",
       "    <tr>\n",
       "      <th>4</th>\n",
       "      <td>2009</td>\n",
       "      <td>1</td>\n",
       "      <td>407928.0</td>\n",
       "    </tr>\n",
       "  </tbody>\n",
       "</table>\n",
       "</div>"
      ],
      "text/plain": [
       "     id  Month     TPcnt\n",
       "0  2005      1  318290.0\n",
       "1  2006      1  449150.0\n",
       "2  2007      1  461995.0\n",
       "3  2008      1  425209.0\n",
       "4  2009      1  407928.0"
      ]
     },
     "metadata": {},
     "output_type": "display_data"
    },
    {
     "name": "stdout",
     "output_type": "stream",
     "text": [
      "Tail of dataset:\n"
     ]
    },
    {
     "data": {
      "text/html": [
       "<div>\n",
       "<style scoped>\n",
       "    .dataframe tbody tr th:only-of-type {\n",
       "        vertical-align: middle;\n",
       "    }\n",
       "\n",
       "    .dataframe tbody tr th {\n",
       "        vertical-align: top;\n",
       "    }\n",
       "\n",
       "    .dataframe thead th {\n",
       "        text-align: right;\n",
       "    }\n",
       "</style>\n",
       "<table border=\"1\" class=\"dataframe\">\n",
       "  <thead>\n",
       "    <tr style=\"text-align: right;\">\n",
       "      <th></th>\n",
       "      <th>id</th>\n",
       "      <th>Month</th>\n",
       "      <th>TPcnt</th>\n",
       "    </tr>\n",
       "  </thead>\n",
       "  <tbody>\n",
       "    <tr>\n",
       "      <th>210</th>\n",
       "      <td>2017</td>\n",
       "      <td>12</td>\n",
       "      <td>587006.0</td>\n",
       "    </tr>\n",
       "    <tr>\n",
       "      <th>211</th>\n",
       "      <td>2018</td>\n",
       "      <td>12</td>\n",
       "      <td>769429.0</td>\n",
       "    </tr>\n",
       "    <tr>\n",
       "      <th>212</th>\n",
       "      <td>2019</td>\n",
       "      <td>12</td>\n",
       "      <td>841575.0</td>\n",
       "    </tr>\n",
       "    <tr>\n",
       "      <th>213</th>\n",
       "      <td>2020</td>\n",
       "      <td>12</td>\n",
       "      <td>592265.0</td>\n",
       "    </tr>\n",
       "    <tr>\n",
       "      <th>214</th>\n",
       "      <td>2021</td>\n",
       "      <td>12</td>\n",
       "      <td>493577.0</td>\n",
       "    </tr>\n",
       "  </tbody>\n",
       "</table>\n",
       "</div>"
      ],
      "text/plain": [
       "       id  Month     TPcnt\n",
       "210  2017     12  587006.0\n",
       "211  2018     12  769429.0\n",
       "212  2019     12  841575.0\n",
       "213  2020     12  592265.0\n",
       "214  2021     12  493577.0"
      ]
     },
     "metadata": {},
     "output_type": "display_data"
    }
   ],
   "source": [
    "# 需要一個ID欄位\n",
    "df1[\"id\"] = df1.index\n",
    "# 呼叫wide_to_long(); 文件請見: https://pandas.pydata.org/pandas-docs/stable/reference/api/pandas.wide_to_long.html\n",
    "df2 = pd.wide_to_long(df1, [\"TPcnt\"], sep=\"_\", suffix='\\w+', i=\"id\", j=\"Month\").reset_index()\n",
    "df2 = df2.dropna()\n",
    "print(\"Head of dataset:\")\n",
    "display(df2.head())\n",
    "print(\"Tail of dataset:\")\n",
    "display(df2.tail())"
   ]
  },
  {
   "cell_type": "code",
   "execution_count": 50,
   "metadata": {},
   "outputs": [
    {
     "data": {
      "text/html": [
       "<div>\n",
       "<style scoped>\n",
       "    .dataframe tbody tr th:only-of-type {\n",
       "        vertical-align: middle;\n",
       "    }\n",
       "\n",
       "    .dataframe tbody tr th {\n",
       "        vertical-align: top;\n",
       "    }\n",
       "\n",
       "    .dataframe thead th {\n",
       "        text-align: right;\n",
       "    }\n",
       "</style>\n",
       "<table border=\"1\" class=\"dataframe\">\n",
       "  <thead>\n",
       "    <tr style=\"text-align: right;\">\n",
       "      <th></th>\n",
       "      <th>sum_sq</th>\n",
       "      <th>df</th>\n",
       "      <th>F</th>\n",
       "      <th>PR(&gt;F)</th>\n",
       "    </tr>\n",
       "  </thead>\n",
       "  <tbody>\n",
       "    <tr>\n",
       "      <th>C(Month)</th>\n",
       "      <td>1.095866e+11</td>\n",
       "      <td>11.0</td>\n",
       "      <td>0.626393</td>\n",
       "      <td>0.805017</td>\n",
       "    </tr>\n",
       "    <tr>\n",
       "      <th>Residual</th>\n",
       "      <td>3.101364e+12</td>\n",
       "      <td>195.0</td>\n",
       "      <td>NaN</td>\n",
       "      <td>NaN</td>\n",
       "    </tr>\n",
       "  </tbody>\n",
       "</table>\n",
       "</div>"
      ],
      "text/plain": [
       "                sum_sq     df         F    PR(>F)\n",
       "C(Month)  1.095866e+11   11.0  0.626393  0.805017\n",
       "Residual  3.101364e+12  195.0       NaN       NaN"
      ]
     },
     "execution_count": 50,
     "metadata": {},
     "output_type": "execute_result"
    }
   ],
   "source": [
    "results = smf.ols('TPcnt ~ C(Month)', data=df2).fit()\n",
    "# results.summary()\n",
    "aov_table = sms.anova_lm(results, typ=2)\n",
    "aov_table"
   ]
  },
  {
   "cell_type": "code",
   "execution_count": 51,
   "metadata": {},
   "outputs": [],
   "source": [
    "mc = smm.MultiComparison(df2['TPcnt'], df2['Month'])\n",
    "# print(mc.tukeyhsd().summary())"
   ]
  },
  {
   "cell_type": "markdown",
   "metadata": {},
   "source": [
    "### Required Condition"
   ]
  },
  {
   "cell_type": "markdown",
   "metadata": {},
   "source": [
    "#### Check normality assumption - Shapiro Wilk Test"
   ]
  },
  {
   "cell_type": "markdown",
   "metadata": {},
   "source": [
    "$$H_0: \\text{residual of all datapoints are normally distributed}$$  \n",
    "$$H_1: \\text{residual of all datapoints are not normally distributed}$$  "
   ]
  },
  {
   "cell_type": "code",
   "execution_count": 52,
   "metadata": {},
   "outputs": [
    {
     "name": "stdout",
     "output_type": "stream",
     "text": [
      "Statistics=0.9887, p=0.1022\n"
     ]
    }
   ],
   "source": [
    "stat, p = stats.shapiro(results.resid)\n",
    "print('Statistics=%.4f, p=%.4f' % (stat, p))"
   ]
  },
  {
   "cell_type": "code",
   "execution_count": 53,
   "metadata": {},
   "outputs": [
    {
     "data": {
      "image/png": "[encoded data removed]",
      "text/plain": [
       "<Figure size 900x600 with 1 Axes>"
      ]
     },
     "metadata": {
      "needs_background": "light"
     },
     "output_type": "display_data"
    }
   ],
   "source": [
    "_ = plt.hist(results.resid, bins = \"auto\")"
   ]
  },
  {
   "cell_type": "code",
   "execution_count": 54,
   "metadata": {},
   "outputs": [
    {
     "data": {
      "image/png": "[encoded data removed]",
      "text/plain": [
       "<Figure size 900x600 with 1 Axes>"
      ]
     },
     "metadata": {
      "needs_background": "light"
     },
     "output_type": "display_data"
    }
   ],
   "source": [
    "fig = sm.qqplot(results.resid, stats.norm, fit=True, line='45')\n",
    "plt.show()"
   ]
  },
  {
   "cell_type": "markdown",
   "metadata": {},
   "source": [
    "#### Check equal variance assumption - Bartlett's Test"
   ]
  },
  {
   "cell_type": "markdown",
   "metadata": {},
   "source": [
    "$$H_0: \\text{Variance of different treatment groups are equal}$$  \n",
    "$$H_1: \\text{At least two treatment groups have different variance}$$"
   ]
  },
  {
   "cell_type": "code",
   "execution_count": 55,
   "metadata": {},
   "outputs": [
    {
     "data": {
      "text/plain": [
       "BartlettResult(statistic=10.02642844719274, pvalue=0.5280114689759352)"
      ]
     },
     "execution_count": 55,
     "metadata": {},
     "output_type": "execute_result"
    }
   ],
   "source": [
    "df2['resid'] = results.resid\n",
    "stats.bartlett(df2['resid'][df2['Month'] == 1],\n",
    "              df2['resid'][df2['Month'] == 2],\n",
    "              df2['resid'][df2['Month'] == 3],\n",
    "                df2['resid'][df2['Month'] == 4],\n",
    "              df2['resid'][df2['Month'] == 5],\n",
    "              df2['resid'][df2['Month'] == 6],\n",
    "              df2['resid'][df2['Month'] == 7],\n",
    "              df2['resid'][df2['Month'] == 8],\n",
    "              df2['resid'][df2['Month'] == 9],\n",
    "              df2['resid'][df2['Month'] == 10],\n",
    "              df2['resid'][df2['Month'] == 11],\n",
    "              df2['resid'][df2['Month'] == 12],\n",
    ")"
   ]
  },
  {
   "cell_type": "markdown",
   "metadata": {},
   "source": [
    "## 日子 - Try"
   ]
  },
  {
   "cell_type": "markdown",
   "metadata": {},
   "source": [
    "### Parametric - One Way Anova"
   ]
  },
  {
   "cell_type": "markdown",
   "metadata": {},
   "source": [
    "$$H_0: \\mu_{平日} = \\mu_{一般假日} = \\mu_{傳統} = \\mu_{國定} = \\mu_{西洋} = \\mu_{X親}$$  \n",
    "$$H_1: \\text{one of the equality in } H_0 \\text{ is not satisfied}$$"
   ]
  },
  {
   "cell_type": "code",
   "execution_count": 56,
   "metadata": {},
   "outputs": [],
   "source": [
    "traditional = ['春節', '端午', '中秋']\n",
    "national = ['雙十', '二二八', '元旦', '清明', '勞動']"
   ]
  },
  {
   "cell_type": "code",
   "execution_count": 57,
   "metadata": {},
   "outputs": [],
   "source": [
    "days = [[]for i in range(2)]"
   ]
  },
  {
   "cell_type": "code",
   "execution_count": 58,
   "metadata": {},
   "outputs": [],
   "source": [
    "year = np.arange(2005, 2023, 1)\n",
    "month = np.arange(1, 13, 1)\n",
    "for y in year:\n",
    "    if(y == 2022):\n",
    "        month = np.arange(1, 4, 1)\n",
    "    for m in month:\n",
    "        for d in np.arange(1, calendar.monthrange(y,m)[1] + 1, 1):\n",
    "            today = datetime(y,m,d)\n",
    "            if(isHoliday(year, traditional, today)[0]):\n",
    "                days[0].append(transportCnt[today])\n",
    "            elif(isHoliday(year, national, today)[0]):\n",
    "                days[1].append(transportCnt[today])\n",
    "#             elif((m == 12 and d == 25) or (m == 2 and d == 14) or (m == 10 and d == 31)):\n",
    "#                 days[4].append(transportCnt[today])\n",
    "#             elif((m == 8 and d == 8) or (m == 5 and d <= 14 and d >= 8 and today.isoweekday() == 7)):\n",
    "#                 days[5].append(transportCnt[today])\n",
    "#             elif(today.isoweekday() == 6 or today.isoweekday() == 7):\n",
    "#                 days[1].append(transportCnt[today])\n",
    "#             else:\n",
    "#                 days[0].append(transportCnt[today])"
   ]
  },
  {
   "cell_type": "code",
   "execution_count": 59,
   "metadata": {},
   "outputs": [
    {
     "data": {
      "text/html": [
       "<div>\n",
       "<style scoped>\n",
       "    .dataframe tbody tr th:only-of-type {\n",
       "        vertical-align: middle;\n",
       "    }\n",
       "\n",
       "    .dataframe tbody tr th {\n",
       "        vertical-align: top;\n",
       "    }\n",
       "\n",
       "    .dataframe thead th {\n",
       "        text-align: right;\n",
       "    }\n",
       "</style>\n",
       "<table border=\"1\" class=\"dataframe\">\n",
       "  <thead>\n",
       "    <tr style=\"text-align: right;\">\n",
       "      <th></th>\n",
       "      <th>Traditional</th>\n",
       "      <th>National</th>\n",
       "    </tr>\n",
       "  </thead>\n",
       "  <tbody>\n",
       "    <tr>\n",
       "      <th>0</th>\n",
       "      <td>274651.0</td>\n",
       "      <td>478008.0</td>\n",
       "    </tr>\n",
       "    <tr>\n",
       "      <th>1</th>\n",
       "      <td>477359.0</td>\n",
       "      <td>489242.0</td>\n",
       "    </tr>\n",
       "    <tr>\n",
       "      <th>2</th>\n",
       "      <td>521655.0</td>\n",
       "      <td>518795.0</td>\n",
       "    </tr>\n",
       "    <tr>\n",
       "      <th>3</th>\n",
       "      <td>593039.0</td>\n",
       "      <td>504462.0</td>\n",
       "    </tr>\n",
       "    <tr>\n",
       "      <th>4</th>\n",
       "      <td>582214.0</td>\n",
       "      <td>527932.0</td>\n",
       "    </tr>\n",
       "    <tr>\n",
       "      <th>...</th>\n",
       "      <td>...</td>\n",
       "      <td>...</td>\n",
       "    </tr>\n",
       "    <tr>\n",
       "      <th>226</th>\n",
       "      <td>436579.0</td>\n",
       "      <td>NaN</td>\n",
       "    </tr>\n",
       "    <tr>\n",
       "      <th>227</th>\n",
       "      <td>417748.0</td>\n",
       "      <td>NaN</td>\n",
       "    </tr>\n",
       "    <tr>\n",
       "      <th>228</th>\n",
       "      <td>442142.0</td>\n",
       "      <td>NaN</td>\n",
       "    </tr>\n",
       "    <tr>\n",
       "      <th>229</th>\n",
       "      <td>436386.0</td>\n",
       "      <td>NaN</td>\n",
       "    </tr>\n",
       "    <tr>\n",
       "      <th>230</th>\n",
       "      <td>436223.0</td>\n",
       "      <td>NaN</td>\n",
       "    </tr>\n",
       "  </tbody>\n",
       "</table>\n",
       "<p>231 rows × 2 columns</p>\n",
       "</div>"
      ],
      "text/plain": [
       "     Traditional  National\n",
       "0       274651.0  478008.0\n",
       "1       477359.0  489242.0\n",
       "2       521655.0  518795.0\n",
       "3       593039.0  504462.0\n",
       "4       582214.0  527932.0\n",
       "..           ...       ...\n",
       "226     436579.0       NaN\n",
       "227     417748.0       NaN\n",
       "228     442142.0       NaN\n",
       "229     436386.0       NaN\n",
       "230     436223.0       NaN\n",
       "\n",
       "[231 rows x 2 columns]"
      ]
     },
     "execution_count": 59,
     "metadata": {},
     "output_type": "execute_result"
    }
   ],
   "source": [
    "df1 = pd.DataFrame(days).T\n",
    "columns = ['Traditional', 'National']\n",
    "df1.columns = columns\n",
    "df1"
   ]
  },
  {
   "cell_type": "code",
   "execution_count": 60,
   "metadata": {},
   "outputs": [
    {
     "name": "stdout",
     "output_type": "stream",
     "text": [
      "[231, 216]\n"
     ]
    }
   ],
   "source": [
    "print([df1[column].dropna().shape[0] for column in columns])"
   ]
  },
  {
   "cell_type": "code",
   "execution_count": 61,
   "metadata": {},
   "outputs": [
    {
     "name": "stdout",
     "output_type": "stream",
     "text": [
      "Head of dataset:\n"
     ]
    },
    {
     "data": {
      "text/html": [
       "<div>\n",
       "<style scoped>\n",
       "    .dataframe tbody tr th:only-of-type {\n",
       "        vertical-align: middle;\n",
       "    }\n",
       "\n",
       "    .dataframe tbody tr th {\n",
       "        vertical-align: top;\n",
       "    }\n",
       "\n",
       "    .dataframe thead th {\n",
       "        text-align: right;\n",
       "    }\n",
       "</style>\n",
       "<table border=\"1\" class=\"dataframe\">\n",
       "  <thead>\n",
       "    <tr style=\"text-align: right;\">\n",
       "      <th></th>\n",
       "      <th>id</th>\n",
       "      <th>Holiday_Type</th>\n",
       "      <th>TPcnt</th>\n",
       "    </tr>\n",
       "  </thead>\n",
       "  <tbody>\n",
       "    <tr>\n",
       "      <th>0</th>\n",
       "      <td>0</td>\n",
       "      <td>Traditional</td>\n",
       "      <td>274651.0</td>\n",
       "    </tr>\n",
       "    <tr>\n",
       "      <th>1</th>\n",
       "      <td>1</td>\n",
       "      <td>Traditional</td>\n",
       "      <td>477359.0</td>\n",
       "    </tr>\n",
       "    <tr>\n",
       "      <th>2</th>\n",
       "      <td>2</td>\n",
       "      <td>Traditional</td>\n",
       "      <td>521655.0</td>\n",
       "    </tr>\n",
       "    <tr>\n",
       "      <th>3</th>\n",
       "      <td>3</td>\n",
       "      <td>Traditional</td>\n",
       "      <td>593039.0</td>\n",
       "    </tr>\n",
       "    <tr>\n",
       "      <th>4</th>\n",
       "      <td>4</td>\n",
       "      <td>Traditional</td>\n",
       "      <td>582214.0</td>\n",
       "    </tr>\n",
       "  </tbody>\n",
       "</table>\n",
       "</div>"
      ],
      "text/plain": [
       "   id Holiday_Type     TPcnt\n",
       "0   0  Traditional  274651.0\n",
       "1   1  Traditional  477359.0\n",
       "2   2  Traditional  521655.0\n",
       "3   3  Traditional  593039.0\n",
       "4   4  Traditional  582214.0"
      ]
     },
     "metadata": {},
     "output_type": "display_data"
    },
    {
     "name": "stdout",
     "output_type": "stream",
     "text": [
      "Tail of dataset:\n"
     ]
    },
    {
     "data": {
      "text/html": [
       "<div>\n",
       "<style scoped>\n",
       "    .dataframe tbody tr th:only-of-type {\n",
       "        vertical-align: middle;\n",
       "    }\n",
       "\n",
       "    .dataframe tbody tr th {\n",
       "        vertical-align: top;\n",
       "    }\n",
       "\n",
       "    .dataframe thead th {\n",
       "        text-align: right;\n",
       "    }\n",
       "</style>\n",
       "<table border=\"1\" class=\"dataframe\">\n",
       "  <thead>\n",
       "    <tr style=\"text-align: right;\">\n",
       "      <th></th>\n",
       "      <th>id</th>\n",
       "      <th>Holiday_Type</th>\n",
       "      <th>TPcnt</th>\n",
       "    </tr>\n",
       "  </thead>\n",
       "  <tbody>\n",
       "    <tr>\n",
       "      <th>442</th>\n",
       "      <td>211</td>\n",
       "      <td>National</td>\n",
       "      <td>551304.0</td>\n",
       "    </tr>\n",
       "    <tr>\n",
       "      <th>443</th>\n",
       "      <td>212</td>\n",
       "      <td>National</td>\n",
       "      <td>540272.0</td>\n",
       "    </tr>\n",
       "    <tr>\n",
       "      <th>444</th>\n",
       "      <td>213</td>\n",
       "      <td>National</td>\n",
       "      <td>578117.0</td>\n",
       "    </tr>\n",
       "    <tr>\n",
       "      <th>445</th>\n",
       "      <td>214</td>\n",
       "      <td>National</td>\n",
       "      <td>576949.0</td>\n",
       "    </tr>\n",
       "    <tr>\n",
       "      <th>446</th>\n",
       "      <td>215</td>\n",
       "      <td>National</td>\n",
       "      <td>639789.0</td>\n",
       "    </tr>\n",
       "  </tbody>\n",
       "</table>\n",
       "</div>"
      ],
      "text/plain": [
       "      id Holiday_Type     TPcnt\n",
       "442  211     National  551304.0\n",
       "443  212     National  540272.0\n",
       "444  213     National  578117.0\n",
       "445  214     National  576949.0\n",
       "446  215     National  639789.0"
      ]
     },
     "metadata": {},
     "output_type": "display_data"
    }
   ],
   "source": [
    "# wide_to_long假設同樣資料在不同因素下的名稱有相同的字頭，因此我們要改欄位名稱。\n",
    "df1b = df1.copy()\n",
    "df1b.columns = [\"TPcnt_\" + str(column) for column in columns]\n",
    "# 需要一個ID欄位\n",
    "df1b[\"id\"] = df1b.index\n",
    "# 呼叫wide_to_long(); 文件請見: https://pandas.pydata.org/pandas-docs/stable/reference/api/pandas.wide_to_long.html\n",
    "df2 = pd.wide_to_long(df1b, [\"TPcnt\"], sep=\"_\", suffix='\\w+', i=\"id\", j=\"Holiday_Type\").reset_index()\n",
    "df2 = df2.dropna().reset_index(drop = True)\n",
    "print(\"Head of dataset:\")\n",
    "display(df2.head())\n",
    "print(\"Tail of dataset:\")\n",
    "display(df2.tail())"
   ]
  },
  {
   "cell_type": "code",
   "execution_count": 62,
   "metadata": {},
   "outputs": [
    {
     "data": {
      "text/html": [
       "<div>\n",
       "<style scoped>\n",
       "    .dataframe tbody tr th:only-of-type {\n",
       "        vertical-align: middle;\n",
       "    }\n",
       "\n",
       "    .dataframe tbody tr th {\n",
       "        vertical-align: top;\n",
       "    }\n",
       "\n",
       "    .dataframe thead th {\n",
       "        text-align: right;\n",
       "    }\n",
       "</style>\n",
       "<table border=\"1\" class=\"dataframe\">\n",
       "  <thead>\n",
       "    <tr style=\"text-align: right;\">\n",
       "      <th></th>\n",
       "      <th>sum_sq</th>\n",
       "      <th>df</th>\n",
       "      <th>F</th>\n",
       "      <th>PR(&gt;F)</th>\n",
       "    </tr>\n",
       "  </thead>\n",
       "  <tbody>\n",
       "    <tr>\n",
       "      <th>C(Holiday_Type)</th>\n",
       "      <td>3.741383e+11</td>\n",
       "      <td>1.0</td>\n",
       "      <td>19.758926</td>\n",
       "      <td>0.000011</td>\n",
       "    </tr>\n",
       "    <tr>\n",
       "      <th>Residual</th>\n",
       "      <td>8.426143e+12</td>\n",
       "      <td>445.0</td>\n",
       "      <td>NaN</td>\n",
       "      <td>NaN</td>\n",
       "    </tr>\n",
       "  </tbody>\n",
       "</table>\n",
       "</div>"
      ],
      "text/plain": [
       "                       sum_sq     df          F    PR(>F)\n",
       "C(Holiday_Type)  3.741383e+11    1.0  19.758926  0.000011\n",
       "Residual         8.426143e+12  445.0        NaN       NaN"
      ]
     },
     "execution_count": 62,
     "metadata": {},
     "output_type": "execute_result"
    }
   ],
   "source": [
    "import statsmodels.stats.outliers_influence as sso\n",
    "\n",
    "results = smf.ols('TPcnt ~ C(Holiday_Type)', data=df2).fit()\n",
    "\n",
    "st1, data1, ss3 = sso.summary_table(results, alpha=0.05)\n",
    "SD = data1[:, 10]\n",
    "\n",
    "# results.summary()\n",
    "aov_table = sms.anova_lm(results, typ=2)\n",
    "aov_table"
   ]
  },
  {
   "cell_type": "code",
   "execution_count": 63,
   "metadata": {},
   "outputs": [
    {
     "name": "stdout",
     "output_type": "stream",
     "text": [
      "Outliers by SD = \n",
      "\n",
      "0     -2.351677\n",
      "47    -3.330222\n",
      "48    -2.057133\n",
      "50    -2.105535\n",
      "117    2.068662\n",
      "129    2.004907\n",
      "169    2.215843\n",
      "183    2.467542\n",
      "215   -3.834873\n",
      "216   -3.965915\n",
      "217   -3.507621\n",
      "224   -2.094509\n",
      "419   -2.018098\n",
      "420   -2.396301\n",
      "Name: SD, dtype: float64\n"
     ]
    }
   ],
   "source": [
    "df1_c = pd.DataFrame(SD,columns = ['SD'])\n",
    "filter = (df1_c['SD'] < -2) | (df1_c['SD'] > 2)\n",
    "print(\"Outliers by SD = \\n\")\n",
    "print(df1_c['SD'].loc[filter])"
   ]
  },
  {
   "cell_type": "code",
   "execution_count": 64,
   "metadata": {},
   "outputs": [
    {
     "name": "stdout",
     "output_type": "stream",
     "text": [
      "[0, 47, 48, 50, 117, 129, 169, 183, 215, 216, 217, 224, 419, 420]\n"
     ]
    }
   ],
   "source": [
    "a = df1_c['SD'].loc[filter].reset_index()\n",
    "outliers = [a['index'][i] for i in range(len(a))]\n",
    "print(outliers)"
   ]
  },
  {
   "cell_type": "code",
   "execution_count": 65,
   "metadata": {},
   "outputs": [],
   "source": [
    "df2 = df2.drop(outliers)"
   ]
  },
  {
   "cell_type": "code",
   "execution_count": 66,
   "metadata": {},
   "outputs": [
    {
     "data": {
      "text/html": [
       "<div>\n",
       "<style scoped>\n",
       "    .dataframe tbody tr th:only-of-type {\n",
       "        vertical-align: middle;\n",
       "    }\n",
       "\n",
       "    .dataframe tbody tr th {\n",
       "        vertical-align: top;\n",
       "    }\n",
       "\n",
       "    .dataframe thead th {\n",
       "        text-align: right;\n",
       "    }\n",
       "</style>\n",
       "<table border=\"1\" class=\"dataframe\">\n",
       "  <thead>\n",
       "    <tr style=\"text-align: right;\">\n",
       "      <th></th>\n",
       "      <th>sum_sq</th>\n",
       "      <th>df</th>\n",
       "      <th>F</th>\n",
       "      <th>PR(&gt;F)</th>\n",
       "    </tr>\n",
       "  </thead>\n",
       "  <tbody>\n",
       "    <tr>\n",
       "      <th>C(Holiday_Type)</th>\n",
       "      <td>2.886445e+11</td>\n",
       "      <td>1.0</td>\n",
       "      <td>19.161867</td>\n",
       "      <td>0.000015</td>\n",
       "    </tr>\n",
       "    <tr>\n",
       "      <th>Residual</th>\n",
       "      <td>6.492363e+12</td>\n",
       "      <td>431.0</td>\n",
       "      <td>NaN</td>\n",
       "      <td>NaN</td>\n",
       "    </tr>\n",
       "  </tbody>\n",
       "</table>\n",
       "</div>"
      ],
      "text/plain": [
       "                       sum_sq     df          F    PR(>F)\n",
       "C(Holiday_Type)  2.886445e+11    1.0  19.161867  0.000015\n",
       "Residual         6.492363e+12  431.0        NaN       NaN"
      ]
     },
     "execution_count": 66,
     "metadata": {},
     "output_type": "execute_result"
    }
   ],
   "source": [
    "import statsmodels.stats.outliers_influence as sso\n",
    "\n",
    "results = smf.ols('TPcnt ~ C(Holiday_Type)', data=df2).fit()\n",
    "\n",
    "st1, data1, ss3 = sso.summary_table(results, alpha=0.05)\n",
    "SD = data1[:, 10]\n",
    "\n",
    "# results.summary()\n",
    "aov_table = sms.anova_lm(results, typ=2)\n",
    "aov_table"
   ]
  },
  {
   "cell_type": "markdown",
   "metadata": {},
   "source": [
    "### Required Condition"
   ]
  },
  {
   "cell_type": "markdown",
   "metadata": {},
   "source": [
    "#### Check normality assumption - Shapiro Wilk Test"
   ]
  },
  {
   "cell_type": "markdown",
   "metadata": {},
   "source": [
    "$$H_0: \\text{residual of all datapoints are normally distributed}$$  \n",
    "$$H_1: \\text{residual of all datapoints are not normally distributed}$$  "
   ]
  },
  {
   "cell_type": "code",
   "execution_count": 67,
   "metadata": {},
   "outputs": [
    {
     "name": "stdout",
     "output_type": "stream",
     "text": [
      "Statistics=0.9803, p=0.0000\n"
     ]
    }
   ],
   "source": [
    "stat, p = stats.shapiro(results.resid)\n",
    "print('Statistics=%.4f, p=%.4f' % (stat, p))"
   ]
  },
  {
   "cell_type": "code",
   "execution_count": 68,
   "metadata": {},
   "outputs": [
    {
     "data": {
      "image/png": "[encoded data removed]",
      "text/plain": [
       "<Figure size 900x600 with 1 Axes>"
      ]
     },
     "metadata": {
      "needs_background": "light"
     },
     "output_type": "display_data"
    }
   ],
   "source": [
    "_ = plt.hist(results.resid, bins = \"auto\")"
   ]
  },
  {
   "cell_type": "code",
   "execution_count": 69,
   "metadata": {},
   "outputs": [
    {
     "data": {
      "image/png": "[encoded data removed]",
      "text/plain": [
       "<Figure size 900x600 with 1 Axes>"
      ]
     },
     "metadata": {
      "needs_background": "light"
     },
     "output_type": "display_data"
    }
   ],
   "source": [
    "fig = sm.qqplot(results.resid, stats.norm, fit=True, line='45')\n",
    "plt.show()"
   ]
  }
 ],
 "metadata": {
  "interpreter": {
   "hash": "356998c43310144b96a2843b6a00592392af50ee3be89b7f2bab29543afc8c0d"
  },
  "kernelspec": {
   "display_name": "Python 3",
   "language": "python",
   "name": "python3"
  },
  "language_info": {
   "codemirror_mode": {
    "name": "ipython",
    "version": 3
   },
   "file_extension": ".py",
   "mimetype": "text/x-python",
   "name": "python",
   "nbconvert_exporter": "python",
   "pygments_lexer": "ipython3",
   "version": "3.8.5"
  }
 },
 "nbformat": 4,
 "nbformat_minor": 4
}
