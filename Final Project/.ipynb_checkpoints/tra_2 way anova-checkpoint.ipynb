{
 "cells": [
  {
   "cell_type": "markdown",
   "metadata": {},
   "source": [
    "# Import Libraries"
   ]
  },
  {
   "cell_type": "code",
   "execution_count": 1,
   "metadata": {},
   "outputs": [],
   "source": [
    "import numpy as np \n",
    "import pandas as pd \n",
    "import datetime as dt \n",
    "from datetime import datetime\n",
    "import copy as cp\n",
    "import calendar"
   ]
  },
  {
   "cell_type": "code",
   "execution_count": 2,
   "metadata": {},
   "outputs": [],
   "source": [
    "# 載入所需函示庫\n",
    "import pandas as pd\n",
    "import numpy as np\n",
    "import scipy.stats as stats\n",
    "import statsmodels.api as sm\n",
    "import statsmodels.stats.api as sms\n",
    "import statsmodels.formula.api as smf\n",
    "import statsmodels.stats.multicomp as smm\n",
    "import statsmodels\n",
    "import statsmodels.stats.libqsturng\n",
    "from matplotlib import pyplot as plt\n",
    "%matplotlib inline\n",
    "# 設定圖形大小; DPI越大圖越大\n",
    "plt.rcParams[\"figure.dpi\"] = 100"
   ]
  },
  {
   "cell_type": "markdown",
   "metadata": {},
   "source": [
    "# Functions "
   ]
  },
  {
   "cell_type": "code",
   "execution_count": 3,
   "metadata": {},
   "outputs": [],
   "source": [
    "def add_transportCnt( date, comeIn) -> None : \n",
    "    # Given two list, one is the date, the other is the people into every train station\n",
    "    # The data type of date should be list of datetime.datetime\n",
    "    # The data type of come into station people should be list of int \n",
    "\n",
    "    # transportCnt is global variable \n",
    "    global transportCnt \n",
    "\n",
    "    # Traverse every data, add comeIn value to that day \n",
    "    for i in range( len( date ) ) :\n",
    "        currentDate = date[i]\n",
    "        try : \n",
    "            transportCnt[currentDate] += comeIn[i]\n",
    "        except : \n",
    "            transportCnt[currentDate] = comeIn[i]"
   ]
  },
  {
   "cell_type": "code",
   "execution_count": 4,
   "metadata": {},
   "outputs": [],
   "source": [
    "def convert_date(datesList):\n",
    "    # Given a list of date, with format : yyyymmdd\n",
    "    # Convert the list into date with type of datetime.datetime\n",
    "\n",
    "    tempDatesList = cp.deepcopy( datesList )\n",
    "\n",
    "    for i in range( len( tempDatesList ) ) : \n",
    "        currentDateStr = str( tempDatesList[i] )\n",
    "        year = int( currentDateStr[:4] )\n",
    "        month = int( currentDateStr[4:6] )\n",
    "        day = int( currentDateStr[6:8] )\n",
    "        tempDatesList[i] = dt.datetime( year, month, day )\n",
    "    return tempDatesList "
   ]
  },
  {
   "cell_type": "markdown",
   "metadata": {},
   "source": [
    "# Main dictionary"
   ]
  },
  {
   "cell_type": "code",
   "execution_count": 5,
   "metadata": {},
   "outputs": [],
   "source": [
    "transportCnt = dict()"
   ]
  },
  {
   "cell_type": "markdown",
   "metadata": {},
   "source": [
    "# Read data"
   ]
  },
  {
   "cell_type": "code",
   "execution_count": 6,
   "metadata": {},
   "outputs": [],
   "source": [
    "df_2005_to_2007 = pd.read_csv( '2005-20190422/2005-2017.csv')\n",
    "df_2018 = pd.read_csv( '2005-20190422/2018.csv')\n",
    "df_2019_1 = pd.read_csv( '2005-20190422/20190422.csv')\n",
    "df_2019_2 = pd.read_csv( '20190423-20211231/20190423-20191231.csv')\n",
    "df_2020 = pd.read_csv( '20190423-20211231/2020.csv')\n",
    "df_2021 = pd.read_csv( '20190423-20211231/2021.csv' )\n",
    "df_2022 = pd.read_csv( '2022.csv' ) "
   ]
  },
  {
   "cell_type": "code",
   "execution_count": 7,
   "metadata": {},
   "outputs": [],
   "source": [
    "date_2005_to_2017 = df_2005_to_2007['BOARD_DATE']\n",
    "comeIn_2005_to_2017 = df_2005_to_2007['進站']\n",
    "\n",
    "date_2018 = df_2018['BOARD_DATE']\n",
    "comeIn_2018 = df_2018['進站']\n",
    "\n",
    "date_2019_1 = df_2019_1['BOARD_DATE']\n",
    "comeIn_2019_1 = df_2019_1['進站']\n",
    "\n",
    "date_2019_2 = df_2019_2['trnOpDate']\n",
    "comeIn_2019_2 = df_2019_2['gateInComingCnt']\n",
    "\n",
    "date_2020 = df_2020['trnOpDate']\n",
    "comeIn_2020 = df_2020['gateInComingCnt']\n",
    "\n",
    "date_2021 = df_2021['trnOpDate']\n",
    "comeIn_2021 = df_2021['gateInComingCnt']\n",
    "\n",
    "date_2022 = df_2022['trnOpDate']\n",
    "comeIn_2022 = df_2022['gateInComingCnt']"
   ]
  },
  {
   "cell_type": "code",
   "execution_count": 8,
   "metadata": {},
   "outputs": [],
   "source": [
    "datesList = list( date_2005_to_2017 ) \n",
    "datesList += list( date_2018 ) \n",
    "datesList += list( date_2019_1 ) \n",
    "datesList += list( date_2019_2 ) \n",
    "datesList += list( date_2020 ) \n",
    "datesList += list( date_2021 ) \n",
    "datesList += list( date_2022 ) "
   ]
  },
  {
   "cell_type": "code",
   "execution_count": 9,
   "metadata": {},
   "outputs": [],
   "source": [
    "comeInsList = list( comeIn_2005_to_2017 )\n",
    "comeInsList += list( comeIn_2018 ) \n",
    "comeInsList += list( comeIn_2019_1 ) \n",
    "comeInsList += list( comeIn_2019_2 ) \n",
    "comeInsList += list( comeIn_2020 ) \n",
    "comeInsList += list( comeIn_2021 ) \n",
    "comeInsList += list( comeIn_2022 ) "
   ]
  },
  {
   "cell_type": "markdown",
   "metadata": {},
   "source": [
    "# Write into main dictionary "
   ]
  },
  {
   "cell_type": "code",
   "execution_count": 10,
   "metadata": {},
   "outputs": [],
   "source": [
    "datesList = convert_date( datesList ) "
   ]
  },
  {
   "cell_type": "code",
   "execution_count": 11,
   "metadata": {},
   "outputs": [],
   "source": [
    "add_transportCnt( datesList, comeInsList )"
   ]
  },
  {
   "cell_type": "code",
   "execution_count": 12,
   "metadata": {},
   "outputs": [
    {
     "data": {
      "text/plain": [
       "6330"
      ]
     },
     "execution_count": 12,
     "metadata": {},
     "output_type": "execute_result"
    }
   ],
   "source": [
    "len( transportCnt )"
   ]
  },
  {
   "cell_type": "code",
   "execution_count": 13,
   "metadata": {},
   "outputs": [
    {
     "data": {
      "text/plain": [
       "491635"
      ]
     },
     "execution_count": 13,
     "metadata": {},
     "output_type": "execute_result"
    }
   ],
   "source": [
    "transportCnt[dt.datetime( 2007, 12,30 )]"
   ]
  },
  {
   "cell_type": "code",
   "execution_count": null,
   "metadata": {},
   "outputs": [],
   "source": []
  },
  {
   "cell_type": "markdown",
   "metadata": {},
   "source": [
    "## Functions"
   ]
  },
  {
   "cell_type": "code",
   "execution_count": 14,
   "metadata": {},
   "outputs": [],
   "source": [
    "# 傳要查的年份、節日陣列，和Kenny的excel (應該只在global用到)\n",
    "# 用來找出節日區間\n",
    "def getHoliday(year, Holiday, df):\n",
    "    name = []\n",
    "    y = year\n",
    "    i = year - 2005\n",
    "    if(type(df[Holiday][i]) == datetime):\n",
    "        name.append(df[Holiday][i])\n",
    "    else:\n",
    "        start, end = df[Holiday][i].split('-')\n",
    "        start = start.split('/')\n",
    "        start = [int(s) for s in start]\n",
    "        end = end.split('/')\n",
    "        end = [int(s) for s in end]\n",
    "\n",
    "        if(start[0] == end[0]):\n",
    "            name += [datetime(y, start[0], x) for x in np.arange(start[1], end[1] + 1, 1)]\n",
    "        else:\n",
    "            lastday = calendar.monthrange(y, start[0])[1]\n",
    "            if(start[0] == 12):\n",
    "                name += [datetime(y - 1, start[0], x) for x in np.arange(start[1], lastday + 1, 1)]\n",
    "                name += [datetime(y, end[0], x) for x in np.arange(1, end[1] + 1, 1)]\n",
    "            else:\n",
    "                name += [datetime(y, start[0], x) for x in np.arange(start[1], lastday + 1, 1)]\n",
    "    return name"
   ]
  },
  {
   "cell_type": "code",
   "execution_count": 15,
   "metadata": {},
   "outputs": [],
   "source": [
    "# 傳入datetime\n",
    "# 用來找出節日放假長度，平日回傳0、假日回傳2\n",
    "def getHolidayLength(date):\n",
    "    holiday, column, i = isHoliday([date.year], h_columns, date)\n",
    "    if(holiday):\n",
    "        return df[column][i]\n",
    "    elif(date.isoweekday() == 6 or date.isoweekday() == 7):\n",
    "        return 2\n",
    "    else:\n",
    "        return 0"
   ]
  },
  {
   "cell_type": "code",
   "execution_count": 16,
   "metadata": {},
   "outputs": [],
   "source": [
    "# 傳要查的年份、節日陣列，和datetime\n",
    "# 回傳是否為節日，以及colomn, index的值\n",
    "def isHoliday(years, columns, date):\n",
    "    for column in columns:\n",
    "        for year in years:\n",
    "            if(date in holiday_rec[column][year - 2005]):\n",
    "                return True, column, year - 2005\n",
    "    return False, -1, -1"
   ]
  },
  {
   "cell_type": "code",
   "execution_count": 17,
   "metadata": {},
   "outputs": [],
   "source": [
    "# 傳入datetime\n",
    "# 回傳假期類別 (可依需求調整)\n",
    "def holiday_type(date):\n",
    "    y = date.year\n",
    "    m = date.month\n",
    "    d = date.day\n",
    "    traditional = ['春節', '端午', '中秋']\n",
    "    national = ['雙十', '二二八', '元旦', '清明', '勞動']\n",
    "    years = np.arange(2015, 2023, 1)\n",
    "    if(isHoliday(years, traditional, date)[0]):\n",
    "        return 'Traditional'\n",
    "    elif(isHoliday(years, national, date)[0]):\n",
    "        return 'National'\n",
    "    elif((m == 12 and d == 25) or (m == 2 and d == 14) or (m == 10 and d == 31)):\n",
    "        return 'Western'\n",
    "    elif((m == 8 and d == 8) or (m == 5 and d <= 14 and d >= 8 and date.isoweekday() == 7)):\n",
    "        return 'Fother'\n",
    "    elif(date.isoweekday() == 6 or date.isoweekday() == 7):\n",
    "        return 'Weekend'\n",
    "    else:\n",
    "        return 'Weekday'"
   ]
  },
  {
   "cell_type": "code",
   "execution_count": 18,
   "metadata": {},
   "outputs": [],
   "source": [
    "# 傳入datetime\n",
    "# 回傳季節\n",
    "def season(date):\n",
    "    s = []\n",
    "    start = 3\n",
    "    for i in range( 4 ) : \n",
    "        s.append( [])\n",
    "        for j in range( 3 ) :\n",
    "            s[i].append( start ) \n",
    "            start = ( start % 12 ) + 1\n",
    "    m = date.month\n",
    "    if(m in s[0]):\n",
    "        return 'Spring'\n",
    "    elif(m in s[1]):\n",
    "        return 'Summer'\n",
    "    elif(m in s[2]):\n",
    "        return 'Fall'\n",
    "    else:\n",
    "        return 'Winter'"
   ]
  },
  {
   "cell_type": "code",
   "execution_count": 19,
   "metadata": {},
   "outputs": [],
   "source": [
    "# 傳入datetime\n",
    "# 回傳是否為颱風天\n",
    "def isTyphoon(date):\n",
    "    if(date in list(df_typhoon['日期'])):\n",
    "        return True\n",
    "    return False"
   ]
  },
  {
   "cell_type": "markdown",
   "metadata": {},
   "source": [
    "## Global"
   ]
  },
  {
   "cell_type": "code",
   "execution_count": 20,
   "metadata": {},
   "outputs": [],
   "source": [
    "df = pd.read_excel('../歷年連假天數.xlsx')\n",
    "df_typhoon = pd.read_excel('../Typhoon_date.xlsx')\n",
    "columns = ['春節.1', '端午.1', '中秋.1', '雙十.1', '二二八.1', '元旦.1', '清明.1', '勞動.1']\n",
    "years = np.arange(2005, 2023, 1)\n",
    "holiday_rec = []\n",
    "for column in columns:\n",
    "    tmp = []\n",
    "    for year in years:\n",
    "        tmp.append(getHoliday(year, column, df))\n",
    "    holiday_rec.append(tmp)\n",
    "holiday_rec = pd.DataFrame(holiday_rec).T\n",
    "h_columns = ['春節', '端午', '中秋', '雙十', '二二八', '元旦', '清明', '勞動']\n",
    "holiday_rec.columns = h_columns"
   ]
  },
  {
   "cell_type": "markdown",
   "metadata": {},
   "source": [
    "## 日子"
   ]
  },
  {
   "cell_type": "markdown",
   "metadata": {},
   "source": [
    "### Two Way Anova (節日、年份)"
   ]
  },
  {
   "cell_type": "markdown",
   "metadata": {},
   "source": [
    "$$H_0: \\mu_{平日} = \\mu_{一般假日} = \\mu_{傳統} = \\mu_{國定} = \\mu_{西洋} = \\mu_{X親}$$  \n",
    "$$H_1: \\text{one of the equality in } H_0 \\text{ is not satisfied}$$"
   ]
  },
  {
   "cell_type": "code",
   "execution_count": 21,
   "metadata": {},
   "outputs": [
    {
     "data": {
      "text/html": [
       "<div>\n",
       "<style scoped>\n",
       "    .dataframe tbody tr th:only-of-type {\n",
       "        vertical-align: middle;\n",
       "    }\n",
       "\n",
       "    .dataframe tbody tr th {\n",
       "        vertical-align: top;\n",
       "    }\n",
       "\n",
       "    .dataframe thead th {\n",
       "        text-align: right;\n",
       "    }\n",
       "</style>\n",
       "<table border=\"1\" class=\"dataframe\">\n",
       "  <thead>\n",
       "    <tr style=\"text-align: right;\">\n",
       "      <th></th>\n",
       "      <th>Date</th>\n",
       "      <th>TPcnt</th>\n",
       "      <th>Holiday_Type</th>\n",
       "      <th>Year</th>\n",
       "    </tr>\n",
       "  </thead>\n",
       "  <tbody>\n",
       "    <tr>\n",
       "      <th>0</th>\n",
       "      <td>2005-01-01</td>\n",
       "      <td>382902</td>\n",
       "      <td>Weekend</td>\n",
       "      <td>2005</td>\n",
       "    </tr>\n",
       "    <tr>\n",
       "      <th>1</th>\n",
       "      <td>2005-01-02</td>\n",
       "      <td>412908</td>\n",
       "      <td>Weekend</td>\n",
       "      <td>2005</td>\n",
       "    </tr>\n",
       "    <tr>\n",
       "      <th>2</th>\n",
       "      <td>2005-01-03</td>\n",
       "      <td>298141</td>\n",
       "      <td>Weekday</td>\n",
       "      <td>2005</td>\n",
       "    </tr>\n",
       "    <tr>\n",
       "      <th>3</th>\n",
       "      <td>2005-01-04</td>\n",
       "      <td>252051</td>\n",
       "      <td>Weekday</td>\n",
       "      <td>2005</td>\n",
       "    </tr>\n",
       "    <tr>\n",
       "      <th>4</th>\n",
       "      <td>2005-01-05</td>\n",
       "      <td>263399</td>\n",
       "      <td>Weekday</td>\n",
       "      <td>2005</td>\n",
       "    </tr>\n",
       "    <tr>\n",
       "      <th>...</th>\n",
       "      <td>...</td>\n",
       "      <td>...</td>\n",
       "      <td>...</td>\n",
       "      <td>...</td>\n",
       "    </tr>\n",
       "    <tr>\n",
       "      <th>5473</th>\n",
       "      <td>2019-12-27</td>\n",
       "      <td>778221</td>\n",
       "      <td>Weekday</td>\n",
       "      <td>2019</td>\n",
       "    </tr>\n",
       "    <tr>\n",
       "      <th>5474</th>\n",
       "      <td>2019-12-28</td>\n",
       "      <td>718527</td>\n",
       "      <td>Weekend</td>\n",
       "      <td>2019</td>\n",
       "    </tr>\n",
       "    <tr>\n",
       "      <th>5475</th>\n",
       "      <td>2019-12-29</td>\n",
       "      <td>632035</td>\n",
       "      <td>Weekend</td>\n",
       "      <td>2019</td>\n",
       "    </tr>\n",
       "    <tr>\n",
       "      <th>5476</th>\n",
       "      <td>2019-12-30</td>\n",
       "      <td>625193</td>\n",
       "      <td>Weekday</td>\n",
       "      <td>2019</td>\n",
       "    </tr>\n",
       "    <tr>\n",
       "      <th>5477</th>\n",
       "      <td>2019-12-31</td>\n",
       "      <td>731173</td>\n",
       "      <td>Weekday</td>\n",
       "      <td>2019</td>\n",
       "    </tr>\n",
       "  </tbody>\n",
       "</table>\n",
       "<p>5478 rows × 4 columns</p>\n",
       "</div>"
      ],
      "text/plain": [
       "           Date   TPcnt Holiday_Type  Year\n",
       "0    2005-01-01  382902      Weekend  2005\n",
       "1    2005-01-02  412908      Weekend  2005\n",
       "2    2005-01-03  298141      Weekday  2005\n",
       "3    2005-01-04  252051      Weekday  2005\n",
       "4    2005-01-05  263399      Weekday  2005\n",
       "...         ...     ...          ...   ...\n",
       "5473 2019-12-27  778221      Weekday  2019\n",
       "5474 2019-12-28  718527      Weekend  2019\n",
       "5475 2019-12-29  632035      Weekend  2019\n",
       "5476 2019-12-30  625193      Weekday  2019\n",
       "5477 2019-12-31  731173      Weekday  2019\n",
       "\n",
       "[5478 rows x 4 columns]"
      ]
     },
     "execution_count": 21,
     "metadata": {},
     "output_type": "execute_result"
    }
   ],
   "source": [
    "df1 = pd.DataFrame(list(transportCnt.items()), columns=['Date', 'TPcnt'])\n",
    "df1['Holiday_Type'] = [holiday_type(day) for day in df1['Date']]\n",
    "df1['Year'] = [day.year for day in df1['Date']]\n",
    "df1 = df1.drop(df1[df1['Year'] >= 2020].index)\n",
    "df1"
   ]
  },
  {
   "cell_type": "code",
   "execution_count": 22,
   "metadata": {},
   "outputs": [
    {
     "data": {
      "text/html": [
       "<div>\n",
       "<style scoped>\n",
       "    .dataframe tbody tr th:only-of-type {\n",
       "        vertical-align: middle;\n",
       "    }\n",
       "\n",
       "    .dataframe tbody tr th {\n",
       "        vertical-align: top;\n",
       "    }\n",
       "\n",
       "    .dataframe thead th {\n",
       "        text-align: right;\n",
       "    }\n",
       "</style>\n",
       "<table border=\"1\" class=\"dataframe\">\n",
       "  <thead>\n",
       "    <tr style=\"text-align: right;\">\n",
       "      <th></th>\n",
       "      <th>Date</th>\n",
       "      <th>TPcnt</th>\n",
       "      <th>Holiday_Type</th>\n",
       "      <th>Year</th>\n",
       "    </tr>\n",
       "  </thead>\n",
       "  <tbody>\n",
       "    <tr>\n",
       "      <th>5477</th>\n",
       "      <td>2019-12-31</td>\n",
       "      <td>731173</td>\n",
       "      <td>Weekday</td>\n",
       "      <td>2019</td>\n",
       "    </tr>\n",
       "  </tbody>\n",
       "</table>\n",
       "</div>"
      ],
      "text/plain": [
       "           Date   TPcnt Holiday_Type  Year\n",
       "5477 2019-12-31  731173      Weekday  2019"
      ]
     },
     "execution_count": 22,
     "metadata": {},
     "output_type": "execute_result"
    }
   ],
   "source": [
    "df1[df1['Date'] == datetime(2019, 12, 31)]"
   ]
  },
  {
   "cell_type": "code",
   "execution_count": 23,
   "metadata": {
    "scrolled": true
   },
   "outputs": [
    {
     "name": "stderr",
     "output_type": "stream",
     "text": [
      "D:\\New folder\\lib\\site-packages\\statsmodels\\base\\model.py:1832: ValueWarning: covariance of constraints does not have full rank. The number of constraints is 70, but rank is 52\n",
      "  warnings.warn('covariance of constraints does not have full '\n"
     ]
    },
    {
     "data": {
      "text/html": [
       "<div>\n",
       "<style scoped>\n",
       "    .dataframe tbody tr th:only-of-type {\n",
       "        vertical-align: middle;\n",
       "    }\n",
       "\n",
       "    .dataframe tbody tr th {\n",
       "        vertical-align: top;\n",
       "    }\n",
       "\n",
       "    .dataframe thead th {\n",
       "        text-align: right;\n",
       "    }\n",
       "</style>\n",
       "<table border=\"1\" class=\"dataframe\">\n",
       "  <thead>\n",
       "    <tr style=\"text-align: right;\">\n",
       "      <th></th>\n",
       "      <th>sum_sq</th>\n",
       "      <th>df</th>\n",
       "      <th>F</th>\n",
       "      <th>PR(&gt;F)</th>\n",
       "    </tr>\n",
       "  </thead>\n",
       "  <tbody>\n",
       "    <tr>\n",
       "      <th>C(Holiday_Type)</th>\n",
       "      <td>7.883893e+12</td>\n",
       "      <td>5.0</td>\n",
       "      <td>294.085953</td>\n",
       "      <td>3.807127e-279</td>\n",
       "    </tr>\n",
       "    <tr>\n",
       "      <th>C(Year)</th>\n",
       "      <td>1.675422e+13</td>\n",
       "      <td>14.0</td>\n",
       "      <td>223.202904</td>\n",
       "      <td>0.000000e+00</td>\n",
       "    </tr>\n",
       "    <tr>\n",
       "      <th>C(Holiday_Type):C(Year)</th>\n",
       "      <td>1.649264e+12</td>\n",
       "      <td>70.0</td>\n",
       "      <td>4.394361</td>\n",
       "      <td>2.315867e-23</td>\n",
       "    </tr>\n",
       "    <tr>\n",
       "      <th>Residual</th>\n",
       "      <td>2.899567e+13</td>\n",
       "      <td>5408.0</td>\n",
       "      <td>NaN</td>\n",
       "      <td>NaN</td>\n",
       "    </tr>\n",
       "  </tbody>\n",
       "</table>\n",
       "</div>"
      ],
      "text/plain": [
       "                               sum_sq      df           F         PR(>F)\n",
       "C(Holiday_Type)          7.883893e+12     5.0  294.085953  3.807127e-279\n",
       "C(Year)                  1.675422e+13    14.0  223.202904   0.000000e+00\n",
       "C(Holiday_Type):C(Year)  1.649264e+12    70.0    4.394361   2.315867e-23\n",
       "Residual                 2.899567e+13  5408.0         NaN            NaN"
      ]
     },
     "execution_count": 23,
     "metadata": {},
     "output_type": "execute_result"
    }
   ],
   "source": [
    "results = smf.ols('TPcnt ~ C(Holiday_Type) + C(Year) + C(Holiday_Type):C(Year)', data=df1).fit()\n",
    "# results.summary()\n",
    "aov = sms.anova_lm(results, typ=2)\n",
    "aov"
   ]
  },
  {
   "cell_type": "code",
   "execution_count": 24,
   "metadata": {},
   "outputs": [
    {
     "name": "stdout",
     "output_type": "stream",
     "text": [
      "Statistics=0.9261, p=0.0000\n"
     ]
    },
    {
     "name": "stderr",
     "output_type": "stream",
     "text": [
      "D:\\New folder\\lib\\site-packages\\scipy\\stats\\morestats.py:1681: UserWarning: p-value may not be accurate for N > 5000.\n",
      "  warnings.warn(\"p-value may not be accurate for N > 5000.\")\n"
     ]
    }
   ],
   "source": [
    "stat, p = stats.shapiro(results.resid)\n",
    "print('Statistics=%.4f, p=%.4f' % (stat, p))"
   ]
  },
  {
   "cell_type": "code",
   "execution_count": 25,
   "metadata": {},
   "outputs": [
    {
     "data": {
      "image/png": "[encoded data removed]",
      "text/plain": [
       "<Figure size 600x400 with 1 Axes>"
      ]
     },
     "metadata": {
      "needs_background": "light"
     },
     "output_type": "display_data"
    }
   ],
   "source": [
    "_ = plt.hist(results.resid, bins = \"auto\")"
   ]
  },
  {
   "cell_type": "code",
   "execution_count": 26,
   "metadata": {},
   "outputs": [
    {
     "data": {
      "image/png": "[encoded data removed]",
      "text/plain": [
       "<Figure size 600x400 with 1 Axes>"
      ]
     },
     "metadata": {
      "needs_background": "light"
     },
     "output_type": "display_data"
    }
   ],
   "source": [
    "fig = sm.qqplot(results.resid, stats.norm, fit=True, line='45')\n",
    "plt.title('Two Way Anova (Holiday v.s. Year)')\n",
    "plt.show()"
   ]
  },
  {
   "cell_type": "code",
   "execution_count": 27,
   "metadata": {},
   "outputs": [
    {
     "data": {
      "image/png": "[encoded data removed]",
      "text/plain": [
       "<Figure size 600x400 with 1 Axes>"
      ]
     },
     "metadata": {
      "needs_background": "light"
     },
     "output_type": "display_data"
    }
   ],
   "source": [
    "plt.plot(df1['Date'], results.resid)\n",
    "plt.xticks(rotation = 90)\n",
    "plt.title('Two Way Anova (Holiday v.s. Year)')\n",
    "plt.show()"
   ]
  },
  {
   "cell_type": "markdown",
   "metadata": {},
   "source": [
    "### Two Way Anova (節日、季節)"
   ]
  },
  {
   "cell_type": "markdown",
   "metadata": {},
   "source": [
    "$$H_0: \\mu_{平日} = \\mu_{一般假日} = \\mu_{傳統} = \\mu_{國定} = \\mu_{西洋} = \\mu_{X親}$$  \n",
    "$$H_1: \\text{one of the equality in } H_0 \\text{ is not satisfied}$$"
   ]
  },
  {
   "cell_type": "code",
   "execution_count": 28,
   "metadata": {},
   "outputs": [
    {
     "data": {
      "text/html": [
       "<div>\n",
       "<style scoped>\n",
       "    .dataframe tbody tr th:only-of-type {\n",
       "        vertical-align: middle;\n",
       "    }\n",
       "\n",
       "    .dataframe tbody tr th {\n",
       "        vertical-align: top;\n",
       "    }\n",
       "\n",
       "    .dataframe thead th {\n",
       "        text-align: right;\n",
       "    }\n",
       "</style>\n",
       "<table border=\"1\" class=\"dataframe\">\n",
       "  <thead>\n",
       "    <tr style=\"text-align: right;\">\n",
       "      <th></th>\n",
       "      <th>Date</th>\n",
       "      <th>TPcnt</th>\n",
       "      <th>Holiday_Type</th>\n",
       "      <th>Year</th>\n",
       "      <th>Season</th>\n",
       "    </tr>\n",
       "  </thead>\n",
       "  <tbody>\n",
       "    <tr>\n",
       "      <th>0</th>\n",
       "      <td>2005-01-01</td>\n",
       "      <td>382902</td>\n",
       "      <td>Weekend</td>\n",
       "      <td>2005</td>\n",
       "      <td>Winter</td>\n",
       "    </tr>\n",
       "    <tr>\n",
       "      <th>1</th>\n",
       "      <td>2005-01-02</td>\n",
       "      <td>412908</td>\n",
       "      <td>Weekend</td>\n",
       "      <td>2005</td>\n",
       "      <td>Winter</td>\n",
       "    </tr>\n",
       "    <tr>\n",
       "      <th>2</th>\n",
       "      <td>2005-01-03</td>\n",
       "      <td>298141</td>\n",
       "      <td>Weekday</td>\n",
       "      <td>2005</td>\n",
       "      <td>Winter</td>\n",
       "    </tr>\n",
       "    <tr>\n",
       "      <th>3</th>\n",
       "      <td>2005-01-04</td>\n",
       "      <td>252051</td>\n",
       "      <td>Weekday</td>\n",
       "      <td>2005</td>\n",
       "      <td>Winter</td>\n",
       "    </tr>\n",
       "    <tr>\n",
       "      <th>4</th>\n",
       "      <td>2005-01-05</td>\n",
       "      <td>263399</td>\n",
       "      <td>Weekday</td>\n",
       "      <td>2005</td>\n",
       "      <td>Winter</td>\n",
       "    </tr>\n",
       "    <tr>\n",
       "      <th>...</th>\n",
       "      <td>...</td>\n",
       "      <td>...</td>\n",
       "      <td>...</td>\n",
       "      <td>...</td>\n",
       "      <td>...</td>\n",
       "    </tr>\n",
       "    <tr>\n",
       "      <th>5473</th>\n",
       "      <td>2019-12-27</td>\n",
       "      <td>778221</td>\n",
       "      <td>Weekday</td>\n",
       "      <td>2019</td>\n",
       "      <td>Winter</td>\n",
       "    </tr>\n",
       "    <tr>\n",
       "      <th>5474</th>\n",
       "      <td>2019-12-28</td>\n",
       "      <td>718527</td>\n",
       "      <td>Weekend</td>\n",
       "      <td>2019</td>\n",
       "      <td>Winter</td>\n",
       "    </tr>\n",
       "    <tr>\n",
       "      <th>5475</th>\n",
       "      <td>2019-12-29</td>\n",
       "      <td>632035</td>\n",
       "      <td>Weekend</td>\n",
       "      <td>2019</td>\n",
       "      <td>Winter</td>\n",
       "    </tr>\n",
       "    <tr>\n",
       "      <th>5476</th>\n",
       "      <td>2019-12-30</td>\n",
       "      <td>625193</td>\n",
       "      <td>Weekday</td>\n",
       "      <td>2019</td>\n",
       "      <td>Winter</td>\n",
       "    </tr>\n",
       "    <tr>\n",
       "      <th>5477</th>\n",
       "      <td>2019-12-31</td>\n",
       "      <td>731173</td>\n",
       "      <td>Weekday</td>\n",
       "      <td>2019</td>\n",
       "      <td>Winter</td>\n",
       "    </tr>\n",
       "  </tbody>\n",
       "</table>\n",
       "<p>5478 rows × 5 columns</p>\n",
       "</div>"
      ],
      "text/plain": [
       "           Date   TPcnt Holiday_Type  Year  Season\n",
       "0    2005-01-01  382902      Weekend  2005  Winter\n",
       "1    2005-01-02  412908      Weekend  2005  Winter\n",
       "2    2005-01-03  298141      Weekday  2005  Winter\n",
       "3    2005-01-04  252051      Weekday  2005  Winter\n",
       "4    2005-01-05  263399      Weekday  2005  Winter\n",
       "...         ...     ...          ...   ...     ...\n",
       "5473 2019-12-27  778221      Weekday  2019  Winter\n",
       "5474 2019-12-28  718527      Weekend  2019  Winter\n",
       "5475 2019-12-29  632035      Weekend  2019  Winter\n",
       "5476 2019-12-30  625193      Weekday  2019  Winter\n",
       "5477 2019-12-31  731173      Weekday  2019  Winter\n",
       "\n",
       "[5478 rows x 5 columns]"
      ]
     },
     "execution_count": 28,
     "metadata": {},
     "output_type": "execute_result"
    }
   ],
   "source": [
    "df2 = pd.DataFrame(list(transportCnt.items()), columns=['Date', 'TPcnt'])\n",
    "df2['Holiday_Type'] = [holiday_type(day) for day in df2['Date']]\n",
    "df2['Year'] = [day.year for day in df2['Date']]\n",
    "df2['Season'] = [season(day) for day in df2['Date']]\n",
    "df2 = df2.drop(df2[df2['Year'] >= 2020].index)\n",
    "df2"
   ]
  },
  {
   "cell_type": "code",
   "execution_count": 29,
   "metadata": {
    "scrolled": true
   },
   "outputs": [
    {
     "name": "stderr",
     "output_type": "stream",
     "text": [
      "D:\\New folder\\lib\\site-packages\\statsmodels\\base\\model.py:1832: ValueWarning: covariance of constraints does not have full rank. The number of constraints is 15, but rank is 1\n",
      "  warnings.warn('covariance of constraints does not have full '\n"
     ]
    },
    {
     "data": {
      "text/html": [
       "<div>\n",
       "<style scoped>\n",
       "    .dataframe tbody tr th:only-of-type {\n",
       "        vertical-align: middle;\n",
       "    }\n",
       "\n",
       "    .dataframe tbody tr th {\n",
       "        vertical-align: top;\n",
       "    }\n",
       "\n",
       "    .dataframe thead th {\n",
       "        text-align: right;\n",
       "    }\n",
       "</style>\n",
       "<table border=\"1\" class=\"dataframe\">\n",
       "  <thead>\n",
       "    <tr style=\"text-align: right;\">\n",
       "      <th></th>\n",
       "      <th>sum_sq</th>\n",
       "      <th>df</th>\n",
       "      <th>F</th>\n",
       "      <th>PR(&gt;F)</th>\n",
       "    </tr>\n",
       "  </thead>\n",
       "  <tbody>\n",
       "    <tr>\n",
       "      <th>C(Holiday_Type)</th>\n",
       "      <td>6.263127e+00</td>\n",
       "      <td>5.0</td>\n",
       "      <td>1.046561e-10</td>\n",
       "      <td>1.00000</td>\n",
       "    </tr>\n",
       "    <tr>\n",
       "      <th>C(Season)</th>\n",
       "      <td>4.930691e+00</td>\n",
       "      <td>3.0</td>\n",
       "      <td>1.373188e-10</td>\n",
       "      <td>1.00000</td>\n",
       "    </tr>\n",
       "    <tr>\n",
       "      <th>C(Holiday_Type):C(Season)</th>\n",
       "      <td>3.957972e+11</td>\n",
       "      <td>15.0</td>\n",
       "      <td>2.204575e+00</td>\n",
       "      <td>0.13766</td>\n",
       "    </tr>\n",
       "    <tr>\n",
       "      <th>Residual</th>\n",
       "      <td>6.533859e+13</td>\n",
       "      <td>5459.0</td>\n",
       "      <td>NaN</td>\n",
       "      <td>NaN</td>\n",
       "    </tr>\n",
       "  </tbody>\n",
       "</table>\n",
       "</div>"
      ],
      "text/plain": [
       "                                 sum_sq      df             F   PR(>F)\n",
       "C(Holiday_Type)            6.263127e+00     5.0  1.046561e-10  1.00000\n",
       "C(Season)                  4.930691e+00     3.0  1.373188e-10  1.00000\n",
       "C(Holiday_Type):C(Season)  3.957972e+11    15.0  2.204575e+00  0.13766\n",
       "Residual                   6.533859e+13  5459.0           NaN      NaN"
      ]
     },
     "execution_count": 29,
     "metadata": {},
     "output_type": "execute_result"
    }
   ],
   "source": [
    "results = smf.ols('TPcnt ~ C(Holiday_Type) + C(Season) + C(Holiday_Type):C(Season)', data=df2).fit()\n",
    "# results.summary()\n",
    "aov = sms.anova_lm(results, typ=2)\n",
    "aov"
   ]
  },
  {
   "cell_type": "code",
   "execution_count": 30,
   "metadata": {},
   "outputs": [
    {
     "name": "stdout",
     "output_type": "stream",
     "text": [
      "Statistics=0.9906, p=0.0000\n"
     ]
    },
    {
     "name": "stderr",
     "output_type": "stream",
     "text": [
      "D:\\New folder\\lib\\site-packages\\scipy\\stats\\morestats.py:1681: UserWarning: p-value may not be accurate for N > 5000.\n",
      "  warnings.warn(\"p-value may not be accurate for N > 5000.\")\n"
     ]
    }
   ],
   "source": [
    "stat, p = stats.shapiro(results.resid)\n",
    "print('Statistics=%.4f, p=%.4f' % (stat, p))"
   ]
  },
  {
   "cell_type": "code",
   "execution_count": 31,
   "metadata": {},
   "outputs": [
    {
     "data": {
      "image/png": "[encoded data removed]",
      "text/plain": [
       "<Figure size 600x400 with 1 Axes>"
      ]
     },
     "metadata": {
      "needs_background": "light"
     },
     "output_type": "display_data"
    }
   ],
   "source": [
    "_ = plt.hist(results.resid, bins = \"auto\")"
   ]
  },
  {
   "cell_type": "code",
   "execution_count": 32,
   "metadata": {},
   "outputs": [
    {
     "data": {
      "image/png": "[encoded data removed]",
      "text/plain": [
       "<Figure size 600x400 with 1 Axes>"
      ]
     },
     "metadata": {
      "needs_background": "light"
     },
     "output_type": "display_data"
    }
   ],
   "source": [
    "fig = sm.qqplot(results.resid, stats.norm, fit=True, line='45')\n",
    "plt.title('Two Way Anova (Holiday v.s. Season)')\n",
    "plt.show()"
   ]
  },
  {
   "cell_type": "code",
   "execution_count": 33,
   "metadata": {},
   "outputs": [
    {
     "data": {
      "image/png": "[encoded data removed]",
      "text/plain": [
       "<Figure size 600x400 with 1 Axes>"
      ]
     },
     "metadata": {
      "needs_background": "light"
     },
     "output_type": "display_data"
    }
   ],
   "source": [
    "plt.plot(df2['Date'], results.resid)\n",
    "plt.xticks(rotation = 90)\n",
    "plt.title('Two Way Anova (Holiday v.s. Season)')\n",
    "plt.show()\n"
   ]
  },
  {
   "cell_type": "code",
   "execution_count": 34,
   "metadata": {},
   "outputs": [
    {
     "name": "stderr",
     "output_type": "stream",
     "text": [
      "D:\\New folder\\lib\\site-packages\\statsmodels\\stats\\outliers_influence.py:1090: RuntimeWarning: invalid value encountered in sqrt\n",
      "  predict_mean_se = np.sqrt(infl.hat_matrix_diag * res.mse_resid)\n",
      "D:\\New folder\\lib\\site-packages\\statsmodels\\sandbox\\regression\\predstd.py:97: RuntimeWarning: invalid value encountered in sqrt\n",
      "  predstd = np.sqrt(predvar)\n"
     ]
    },
    {
     "name": "stdout",
     "output_type": "stream",
     "text": [
      "Outliers by SD = \n",
      "\n"
     ]
    },
    {
     "data": {
      "text/html": [
       "<div>\n",
       "<style scoped>\n",
       "    .dataframe tbody tr th:only-of-type {\n",
       "        vertical-align: middle;\n",
       "    }\n",
       "\n",
       "    .dataframe tbody tr th {\n",
       "        vertical-align: top;\n",
       "    }\n",
       "\n",
       "    .dataframe thead th {\n",
       "        text-align: right;\n",
       "    }\n",
       "</style>\n",
       "<table border=\"1\" class=\"dataframe\">\n",
       "  <thead>\n",
       "    <tr style=\"text-align: right;\">\n",
       "      <th></th>\n",
       "      <th>SD</th>\n",
       "      <th>Date</th>\n",
       "    </tr>\n",
       "  </thead>\n",
       "  <tbody>\n",
       "    <tr>\n",
       "      <th>198</th>\n",
       "      <td>-4.79743</td>\n",
       "      <td>2005-07-18</td>\n",
       "    </tr>\n",
       "    <tr>\n",
       "      <th>243</th>\n",
       "      <td>-4.57707</td>\n",
       "      <td>2005-09-01</td>\n",
       "    </tr>\n",
       "    <tr>\n",
       "      <th>274</th>\n",
       "      <td>-4.24099</td>\n",
       "      <td>2005-10-02</td>\n",
       "    </tr>\n",
       "    <tr>\n",
       "      <th>959</th>\n",
       "      <td>-5.05489</td>\n",
       "      <td>2007-08-18</td>\n",
       "    </tr>\n",
       "    <tr>\n",
       "      <th>1008</th>\n",
       "      <td>-4.85483</td>\n",
       "      <td>2007-10-06</td>\n",
       "    </tr>\n",
       "    <tr>\n",
       "      <th>1304</th>\n",
       "      <td>-4.09966</td>\n",
       "      <td>2008-07-28</td>\n",
       "    </tr>\n",
       "    <tr>\n",
       "      <th>1351</th>\n",
       "      <td>-4.42644</td>\n",
       "      <td>2008-09-13</td>\n",
       "    </tr>\n",
       "    <tr>\n",
       "      <th>1366</th>\n",
       "      <td>-4.42384</td>\n",
       "      <td>2008-09-28</td>\n",
       "    </tr>\n",
       "    <tr>\n",
       "      <th>2087</th>\n",
       "      <td>-4.81306</td>\n",
       "      <td>2010-09-19</td>\n",
       "    </tr>\n",
       "    <tr>\n",
       "      <th>2770</th>\n",
       "      <td>-4.02557</td>\n",
       "      <td>2012-08-02</td>\n",
       "    </tr>\n",
       "    <tr>\n",
       "      <th>3115</th>\n",
       "      <td>-4.23911</td>\n",
       "      <td>2013-07-13</td>\n",
       "    </tr>\n",
       "    <tr>\n",
       "      <th>3871</th>\n",
       "      <td>-4.4783</td>\n",
       "      <td>2015-08-08</td>\n",
       "    </tr>\n",
       "    <tr>\n",
       "      <th>4206</th>\n",
       "      <td>-4.41862</td>\n",
       "      <td>2016-07-08</td>\n",
       "    </tr>\n",
       "    <tr>\n",
       "      <th>4287</th>\n",
       "      <td>-4.38887</td>\n",
       "      <td>2016-09-27</td>\n",
       "    </tr>\n",
       "  </tbody>\n",
       "</table>\n",
       "</div>"
      ],
      "text/plain": [
       "           SD       Date\n",
       "198  -4.79743 2005-07-18\n",
       "243  -4.57707 2005-09-01\n",
       "274  -4.24099 2005-10-02\n",
       "959  -5.05489 2007-08-18\n",
       "1008 -4.85483 2007-10-06\n",
       "1304 -4.09966 2008-07-28\n",
       "1351 -4.42644 2008-09-13\n",
       "1366 -4.42384 2008-09-28\n",
       "2087 -4.81306 2010-09-19\n",
       "2770 -4.02557 2012-08-02\n",
       "3115 -4.23911 2013-07-13\n",
       "3871  -4.4783 2015-08-08\n",
       "4206 -4.41862 2016-07-08\n",
       "4287 -4.38887 2016-09-27"
      ]
     },
     "metadata": {},
     "output_type": "display_data"
    }
   ],
   "source": [
    "import statsmodels.stats.outliers_influence as sso\n",
    "st1, data1, ss3 = sso.summary_table(results, alpha=0.05)\n",
    "SD = data1[:, 10]\n",
    "df1_c = pd.DataFrame([(SD), df2['Date']]).T\n",
    "df1_c.columns = ['SD', 'Date']\n",
    "filte = ((df1_c['SD'] < -4) | (df1_c['SD'] > 4))\n",
    "print(\"Outliers by SD = \\n\")\n",
    "display(df1_c[filte])"
   ]
  },
  {
   "cell_type": "markdown",
   "metadata": {},
   "source": [
    "## Two Way Anova (年份、季節)"
   ]
  },
  {
   "cell_type": "code",
   "execution_count": 35,
   "metadata": {},
   "outputs": [
    {
     "data": {
      "text/html": [
       "<div>\n",
       "<style scoped>\n",
       "    .dataframe tbody tr th:only-of-type {\n",
       "        vertical-align: middle;\n",
       "    }\n",
       "\n",
       "    .dataframe tbody tr th {\n",
       "        vertical-align: top;\n",
       "    }\n",
       "\n",
       "    .dataframe thead th {\n",
       "        text-align: right;\n",
       "    }\n",
       "</style>\n",
       "<table border=\"1\" class=\"dataframe\">\n",
       "  <thead>\n",
       "    <tr style=\"text-align: right;\">\n",
       "      <th></th>\n",
       "      <th>Date</th>\n",
       "      <th>TPcnt</th>\n",
       "      <th>Year</th>\n",
       "      <th>Season</th>\n",
       "    </tr>\n",
       "  </thead>\n",
       "  <tbody>\n",
       "    <tr>\n",
       "      <th>0</th>\n",
       "      <td>2005-01-01</td>\n",
       "      <td>382902</td>\n",
       "      <td>2005</td>\n",
       "      <td>Winter</td>\n",
       "    </tr>\n",
       "    <tr>\n",
       "      <th>1</th>\n",
       "      <td>2005-01-02</td>\n",
       "      <td>412908</td>\n",
       "      <td>2005</td>\n",
       "      <td>Winter</td>\n",
       "    </tr>\n",
       "    <tr>\n",
       "      <th>2</th>\n",
       "      <td>2005-01-03</td>\n",
       "      <td>298141</td>\n",
       "      <td>2005</td>\n",
       "      <td>Winter</td>\n",
       "    </tr>\n",
       "    <tr>\n",
       "      <th>3</th>\n",
       "      <td>2005-01-04</td>\n",
       "      <td>252051</td>\n",
       "      <td>2005</td>\n",
       "      <td>Winter</td>\n",
       "    </tr>\n",
       "    <tr>\n",
       "      <th>4</th>\n",
       "      <td>2005-01-05</td>\n",
       "      <td>263399</td>\n",
       "      <td>2005</td>\n",
       "      <td>Winter</td>\n",
       "    </tr>\n",
       "    <tr>\n",
       "      <th>...</th>\n",
       "      <td>...</td>\n",
       "      <td>...</td>\n",
       "      <td>...</td>\n",
       "      <td>...</td>\n",
       "    </tr>\n",
       "    <tr>\n",
       "      <th>5473</th>\n",
       "      <td>2019-12-27</td>\n",
       "      <td>778221</td>\n",
       "      <td>2019</td>\n",
       "      <td>Winter</td>\n",
       "    </tr>\n",
       "    <tr>\n",
       "      <th>5474</th>\n",
       "      <td>2019-12-28</td>\n",
       "      <td>718527</td>\n",
       "      <td>2019</td>\n",
       "      <td>Winter</td>\n",
       "    </tr>\n",
       "    <tr>\n",
       "      <th>5475</th>\n",
       "      <td>2019-12-29</td>\n",
       "      <td>632035</td>\n",
       "      <td>2019</td>\n",
       "      <td>Winter</td>\n",
       "    </tr>\n",
       "    <tr>\n",
       "      <th>5476</th>\n",
       "      <td>2019-12-30</td>\n",
       "      <td>625193</td>\n",
       "      <td>2019</td>\n",
       "      <td>Winter</td>\n",
       "    </tr>\n",
       "    <tr>\n",
       "      <th>5477</th>\n",
       "      <td>2019-12-31</td>\n",
       "      <td>731173</td>\n",
       "      <td>2019</td>\n",
       "      <td>Winter</td>\n",
       "    </tr>\n",
       "  </tbody>\n",
       "</table>\n",
       "<p>5478 rows × 4 columns</p>\n",
       "</div>"
      ],
      "text/plain": [
       "           Date   TPcnt  Year  Season\n",
       "0    2005-01-01  382902  2005  Winter\n",
       "1    2005-01-02  412908  2005  Winter\n",
       "2    2005-01-03  298141  2005  Winter\n",
       "3    2005-01-04  252051  2005  Winter\n",
       "4    2005-01-05  263399  2005  Winter\n",
       "...         ...     ...   ...     ...\n",
       "5473 2019-12-27  778221  2019  Winter\n",
       "5474 2019-12-28  718527  2019  Winter\n",
       "5475 2019-12-29  632035  2019  Winter\n",
       "5476 2019-12-30  625193  2019  Winter\n",
       "5477 2019-12-31  731173  2019  Winter\n",
       "\n",
       "[5478 rows x 4 columns]"
      ]
     },
     "execution_count": 35,
     "metadata": {},
     "output_type": "execute_result"
    }
   ],
   "source": [
    "df3 = pd.DataFrame(list(transportCnt.items()), columns=['Date', 'TPcnt'])\n",
    "# df['Holiday_Type'] = [holiday_type(day) for day in df['Date']]\n",
    "df3['Year'] = [day.year for day in df3['Date']]\n",
    "df3['Season'] = [season(day) for day in df3['Date']]\n",
    "df3 = df3.drop(df3[df3['Year'] >= 2020].index)\n",
    "# df3 = df3.drop(columns = 'Date')\n",
    "df3"
   ]
  },
  {
   "cell_type": "code",
   "execution_count": 36,
   "metadata": {
    "scrolled": true
   },
   "outputs": [
    {
     "data": {
      "text/html": [
       "<div>\n",
       "<style scoped>\n",
       "    .dataframe tbody tr th:only-of-type {\n",
       "        vertical-align: middle;\n",
       "    }\n",
       "\n",
       "    .dataframe tbody tr th {\n",
       "        vertical-align: top;\n",
       "    }\n",
       "\n",
       "    .dataframe thead th {\n",
       "        text-align: right;\n",
       "    }\n",
       "</style>\n",
       "<table border=\"1\" class=\"dataframe\">\n",
       "  <thead>\n",
       "    <tr style=\"text-align: right;\">\n",
       "      <th></th>\n",
       "      <th>sum_sq</th>\n",
       "      <th>df</th>\n",
       "      <th>F</th>\n",
       "      <th>PR(&gt;F)</th>\n",
       "    </tr>\n",
       "  </thead>\n",
       "  <tbody>\n",
       "    <tr>\n",
       "      <th>C(Year)</th>\n",
       "      <td>3.870821e+13</td>\n",
       "      <td>14.0</td>\n",
       "      <td>397.086364</td>\n",
       "      <td>0.000000</td>\n",
       "    </tr>\n",
       "    <tr>\n",
       "      <th>C(Season)</th>\n",
       "      <td>1.120771e+11</td>\n",
       "      <td>3.0</td>\n",
       "      <td>5.365441</td>\n",
       "      <td>0.001095</td>\n",
       "    </tr>\n",
       "    <tr>\n",
       "      <th>C(Year):C(Season)</th>\n",
       "      <td>3.958167e+11</td>\n",
       "      <td>42.0</td>\n",
       "      <td>1.353489</td>\n",
       "      <td>0.063781</td>\n",
       "    </tr>\n",
       "    <tr>\n",
       "      <th>Residual</th>\n",
       "      <td>3.772499e+13</td>\n",
       "      <td>5418.0</td>\n",
       "      <td>NaN</td>\n",
       "      <td>NaN</td>\n",
       "    </tr>\n",
       "  </tbody>\n",
       "</table>\n",
       "</div>"
      ],
      "text/plain": [
       "                         sum_sq      df           F    PR(>F)\n",
       "C(Year)            3.870821e+13    14.0  397.086364  0.000000\n",
       "C(Season)          1.120771e+11     3.0    5.365441  0.001095\n",
       "C(Year):C(Season)  3.958167e+11    42.0    1.353489  0.063781\n",
       "Residual           3.772499e+13  5418.0         NaN       NaN"
      ]
     },
     "execution_count": 36,
     "metadata": {},
     "output_type": "execute_result"
    }
   ],
   "source": [
    "results = smf.ols('TPcnt ~ C(Year) + C(Season) + C(Year):C(Season)', data=df3).fit()\n",
    "# results.summary()\n",
    "aov = sms.anova_lm(results, typ=2)\n",
    "aov"
   ]
  },
  {
   "cell_type": "code",
   "execution_count": 37,
   "metadata": {},
   "outputs": [
    {
     "name": "stdout",
     "output_type": "stream",
     "text": [
      "Statistics=0.9545, p=0.0000\n"
     ]
    },
    {
     "name": "stderr",
     "output_type": "stream",
     "text": [
      "D:\\New folder\\lib\\site-packages\\scipy\\stats\\morestats.py:1681: UserWarning: p-value may not be accurate for N > 5000.\n",
      "  warnings.warn(\"p-value may not be accurate for N > 5000.\")\n"
     ]
    }
   ],
   "source": [
    "stat, p = stats.shapiro(results.resid)\n",
    "print('Statistics=%.4f, p=%.4f' % (stat, p))"
   ]
  },
  {
   "cell_type": "code",
   "execution_count": 38,
   "metadata": {},
   "outputs": [
    {
     "data": {
      "image/png": "[encoded data removed]",
      "text/plain": [
       "<Figure size 600x400 with 1 Axes>"
      ]
     },
     "metadata": {
      "needs_background": "light"
     },
     "output_type": "display_data"
    }
   ],
   "source": [
    "_ = plt.hist(results.resid, bins = \"auto\")"
   ]
  },
  {
   "cell_type": "code",
   "execution_count": 39,
   "metadata": {},
   "outputs": [
    {
     "data": {
      "image/png": "[encoded data removed]",
      "text/plain": [
       "<Figure size 600x400 with 1 Axes>"
      ]
     },
     "metadata": {
      "needs_background": "light"
     },
     "output_type": "display_data"
    }
   ],
   "source": [
    "fig = sm.qqplot(results.resid, stats.norm, fit=True, line='45')\n",
    "plt.title('Two Way Anova (Year v.s. Season)')\n",
    "plt.show()"
   ]
  },
  {
   "cell_type": "code",
   "execution_count": 40,
   "metadata": {},
   "outputs": [
    {
     "data": {
      "image/png": "[encoded data removed]",
      "text/plain": [
       "<Figure size 600x400 with 1 Axes>"
      ]
     },
     "metadata": {
      "needs_background": "light"
     },
     "output_type": "display_data"
    }
   ],
   "source": [
    "plt.plot(df3['Date'], results.resid)\n",
    "plt.xticks(rotation = 90)\n",
    "plt.title('Two Way Anova (Year v.s. Season)')\n",
    "plt.show()\n"
   ]
  }
 ],
 "metadata": {
  "kernelspec": {
   "display_name": "Python 3",
   "language": "python",
   "name": "python3"
  },
  "language_info": {
   "codemirror_mode": {
    "name": "ipython",
    "version": 3
   },
   "file_extension": ".py",
   "mimetype": "text/x-python",
   "name": "python",
   "nbconvert_exporter": "python",
   "pygments_lexer": "ipython3",
   "version": "3.8.5"
  }
 },
 "nbformat": 4,
 "nbformat_minor": 4
}
